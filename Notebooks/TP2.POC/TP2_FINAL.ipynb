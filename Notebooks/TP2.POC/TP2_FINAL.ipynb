{
 "cells": [
  {
   "cell_type": "markdown",
   "id": "964d4a8a",
   "metadata": {},
   "source": [
    "# Digital House - Data Science a Distancia\n",
    "\n",
    "## Trabajo Práctico 2\n",
    "\n",
    "Prepara el dataset original con las características que se presentan en el [valuador de Properati](https://www.properati.com.ar/tools/valuador-propiedades)\n",
    "\n",
    "### Autores: Daniel Borrino, Ivan Mongi, Jessica Polakoff, Julio Tentor\n",
    "\n",
    "<p style=\"text-align:right;\">Mayo 2022</p>"
   ]
  },
  {
   "cell_type": "markdown",
   "id": "e63c964b",
   "metadata": {},
   "source": [
    "\n",
    "#### Aspectos técnicos\n",
    "La notebook se ejecuta correctamente en una instalación estándar de Anaconda versión 4.11.0 build  3.21.6, Python 3.9.7\n"
   ]
  },
  {
   "cell_type": "markdown",
   "id": "5cdc21aa",
   "metadata": {},
   "source": [
    "<div class=\"alert alert-warning\" role=\"alert\">\n",
    "<b>1) Read: Lectura Data Set</b> \n",
    "</div>"
   ]
  },
  {
   "cell_type": "markdown",
   "id": "ce7958a5",
   "metadata": {},
   "source": [
    "#### Librerías necesarias"
   ]
  },
  {
   "cell_type": "code",
   "execution_count": 4,
   "id": "0901dc94",
   "metadata": {
    "scrolled": true
   },
   "outputs": [],
   "source": [
    "import pandas as pd\n",
    "import numpy as np\n",
    "import seaborn as sns\n",
    "import re\n",
    "import matplotlib.pyplot as plt"
   ]
  },
  {
   "cell_type": "code",
   "execution_count": 5,
   "id": "17a42cd9",
   "metadata": {},
   "outputs": [],
   "source": [
    "from sklearn import linear_model\n",
    "from sklearn.model_selection import train_test_split\n",
    "# from sklearn.preprocessing import StandardScaler\n",
    "from sklearn.metrics import mean_absolute_error, mean_squared_error, r2_score\n",
    "from sklearn.preprocessing import StandardScaler"
   ]
  },
  {
   "cell_type": "code",
   "execution_count": 6,
   "id": "1dee0e95",
   "metadata": {
    "scrolled": true,
    "tags": []
   },
   "outputs": [],
   "source": [
    "data_url = \"../Data/properatti.csv\"\n",
    "data = pd.read_csv(data_url, encoding=\"utf-8\")"
   ]
  },
  {
   "cell_type": "markdown",
   "id": "43f26fdd",
   "metadata": {},
   "source": [
    "<div class=\"alert alert-warning\" role=\"alert\">\n",
    "<b>2)Preprocess: Generación de Dataset final</b> \n",
    "</div>"
   ]
  },
  {
   "cell_type": "markdown",
   "id": "2bdc55b5",
   "metadata": {},
   "source": [
    "#### Eliminamos los valores nulos de la variable Target"
   ]
  },
  {
   "cell_type": "code",
   "execution_count": 7,
   "id": "aa878aa0",
   "metadata": {},
   "outputs": [],
   "source": [
    "data.rename(columns={'property_type' : 'tipo', 'price_aprox_usd' : 'precio','surface_covered_in_m2' : 'sup'}, inplace=True)"
   ]
  },
  {
   "cell_type": "code",
   "execution_count": 8,
   "id": "3eea0b3c",
   "metadata": {
    "scrolled": true
   },
   "outputs": [],
   "source": [
    "#Limpiamos los NaN en el precio\n",
    "data = data.dropna(axis=0, how='any', subset=['precio', 'sup'])\n",
    "data_clean = data"
   ]
  },
  {
   "cell_type": "markdown",
   "id": "9fad3570",
   "metadata": {},
   "source": [
    "#### Seleccionamos solo Capital Federal y Bs.As. zonas Norte, Sur y Oeste"
   ]
  },
  {
   "cell_type": "code",
   "execution_count": 9,
   "id": "8713df14",
   "metadata": {
    "scrolled": true
   },
   "outputs": [],
   "source": [
    "#Seleccionamos solo Capital Federal y Bs.As. zonas Norte, Sur y Oeste\n",
    "# iterar_state = ['Capital Federal',\n",
    "#                 'Bs.As. G.B.A. Zona Norte',\n",
    "#                 'Bs.As. G.B.A. Zona Sur',\n",
    "#                 'Bs.As. G.B.A. Zona Oeste']\n",
    "\n",
    "iterar_state = data_clean['state_name'].value_counts().head(6)\n",
    "iterar_state = iterar_state.index\n",
    "\n",
    "data_clean['state_name'] = [x if x in iterar_state else np.NaN for x in data_clean['state_name']]\n",
    "data_clean = data_clean.dropna(axis=0, how='any', subset=['state_name']).copy()"
   ]
  },
  {
   "cell_type": "markdown",
   "id": "2fbf5301",
   "metadata": {},
   "source": [
    "#### Seleccionamos solo Departamento, Casa y PH"
   ]
  },
  {
   "cell_type": "code",
   "execution_count": 10,
   "id": "c81a32b4",
   "metadata": {
    "scrolled": true
   },
   "outputs": [],
   "source": [
    "#Seleccionamos solo Departamento, Casa y PH\n",
    "iterar_tipo = data_clean['tipo'].value_counts().head(3)\n",
    "iterar_tipo = iterar_tipo.index\n",
    "\n",
    "data_clean['tipo'] = [x if x in iterar_tipo else np.NaN for x in data_clean['tipo']]\n",
    "data_clean = data_clean.dropna(axis=0, how='any', subset=['tipo']).copy()"
   ]
  },
  {
   "cell_type": "code",
   "execution_count": 11,
   "id": "cdb5af76",
   "metadata": {},
   "outputs": [
    {
     "data": {
      "text/plain": [
       "Córdoba            4719\n",
       "Mar del Plata      4226\n",
       "Tigre              2949\n",
       "Nordelta           2785\n",
       "Belgrano           2362\n",
       "                   ... \n",
       "Burzaco             155\n",
       "Valentín Alsina     154\n",
       "El Palomar          152\n",
       "Muñiz               151\n",
       "Ciudadela           148\n",
       "Name: place_name, Length: 100, dtype: int64"
      ]
     },
     "execution_count": 11,
     "metadata": {},
     "output_type": "execute_result"
    }
   ],
   "source": [
    "data_clean['place_name'].value_counts().head(100)"
   ]
  },
  {
   "cell_type": "markdown",
   "id": "2559ba9d",
   "metadata": {},
   "source": [
    "#### Seleccionamos solo Lugares con muchas observaciones"
   ]
  },
  {
   "cell_type": "code",
   "execution_count": 12,
   "id": "4194a72a",
   "metadata": {
    "scrolled": true
   },
   "outputs": [],
   "source": [
    "#Seleccionamos solo Lugares con muchas observaciones\n",
    "iterar_place = data_clean['place_name'].value_counts()[:100]\n",
    "iterar_place = iterar_place.index\n",
    "\n",
    "data_clean['place_name'] = [x if x in iterar_place else 'otro' for x in data_clean['place_name']]\n",
    "data_clean = data_clean.dropna(axis=0, how='any', subset=['place_name']).copy()"
   ]
  },
  {
   "cell_type": "markdown",
   "id": "22c6204d",
   "metadata": {},
   "source": [
    "#### Eliminamos Outliers para las variables que vamos a correlacionar: "
   ]
  },
  {
   "cell_type": "code",
   "execution_count": 13,
   "id": "1cf6360b",
   "metadata": {
    "scrolled": true
   },
   "outputs": [],
   "source": [
    "#funcion para borrar outliers.\n",
    "def borrar_outliers(data, columnas):\n",
    "    u\"\"\"Solo recibe columnas con valores numericos. \n",
    "    Data: dataset a analizar\n",
    "    Columnas: columnas donde borrar outliers.Deben ser una tupla\"\"\"\n",
    "    cols_limpiar = columnas\n",
    "    mask=np.ones(shape=(data.shape[0]), dtype=bool)\n",
    "\n",
    "    for i in cols_limpiar:\n",
    "        \n",
    "        #calculamos cuartiles, y valores de corte\n",
    "        Q1=data[i].quantile(0.25)\n",
    "        Q3=data[i].quantile(0.75)\n",
    "        RSI=Q3-Q1\n",
    "        max_value=Q3+1.5*RSI\n",
    "        min_value=Q1-1.5*RSI\n",
    "        \n",
    "        #ajusto el min value \n",
    "            # No puede ser negativo.\n",
    "            # No puede estar fuera del boxplot para outliers\n",
    "            # Criterio experto se decide dejar desde el 5% hacia adelante en el precio.\n",
    "            # Además, no consideraremos los que tienen menos de 10m2.\n",
    "        if i=='precio':\n",
    "            min_value=max(data[i].quantile(0.05), min_value, 1000)\n",
    "        else: \n",
    "            min_value=max(data[i].quantile(0.05), min_value, 10)\n",
    "        \n",
    "        max_value=(min(data[i].quantile(0.85), max_value, 800000))\n",
    "        \n",
    "        #filtramos por max y min\n",
    "        mask=np.logical_and(mask, np.logical_and(data[i]>=min_value, data[i]<=max_value))\n",
    "    return data[mask]"
   ]
  },
  {
   "cell_type": "code",
   "execution_count": 14,
   "id": "6f9153c2",
   "metadata": {
    "scrolled": true
   },
   "outputs": [],
   "source": [
    "# serie para determinar observaciones sin outliers para precio en dólares y superficie cubierta\n",
    "data_clean['tidy1'] = np.NaN\n",
    "\n",
    "for tipo in iterar_tipo:\n",
    "    for place in iterar_place:\n",
    "        # selecciono por lugar y tipo\n",
    "        mask = np.logical_and(data_clean['place_name']==place, data_clean['tipo']==tipo)\n",
    "        # calcula outliers y los suprime\n",
    "        data_ok = borrar_outliers(data_clean[mask], ('precio', 'sup'))\n",
    "        # determina observaciones válidas\n",
    "        data_clean.loc[data_ok.index, 'tidy1'] = True\n",
    "\n",
    "# probablemente esto se pueda hacer con algún método de pandas pero me resulta más simple pensarlo de este modo"
   ]
  },
  {
   "cell_type": "code",
   "execution_count": 15,
   "id": "47de1f25",
   "metadata": {
    "scrolled": true
   },
   "outputs": [],
   "source": [
    "# suprimo las observaciones que no me sirven\n",
    "data_clean = data_clean.dropna(axis=0, how='any', subset=['tidy1'])"
   ]
  },
  {
   "cell_type": "markdown",
   "id": "42d8635e",
   "metadata": {},
   "source": [
    "---\n",
    "#### Creacion de nuevas variables con valor predictivo:\n"
   ]
  },
  {
   "cell_type": "markdown",
   "id": "30c87c73",
   "metadata": {},
   "source": [
    "##### Analisis para Cantidad de ambientes"
   ]
  },
  {
   "cell_type": "code",
   "execution_count": 16,
   "id": "8ada4b77",
   "metadata": {
    "scrolled": true
   },
   "outputs": [],
   "source": [
    "def regex_to_values(col, reg, not_match=0) :\n",
    "    u\"\"\"Returns a serie with the result of apply the regular expresion to the column\n",
    "    the serie have a float value only when regular expression search() method found a match\n",
    "    \n",
    "    col : column where to apply regular expresion\n",
    "    reg : regular expresion compiled\n",
    "    \"\"\"\n",
    "    \n",
    "    serie = col.apply(lambda x : x if x is np.NaN else reg.search(x))\n",
    "    serie = serie.apply(lambda x : not_match if x is np.NaN or x is None else float(x.group(1)))\n",
    "\n",
    "    return serie"
   ]
  },
  {
   "cell_type": "code",
   "execution_count": 17,
   "id": "ad88081c",
   "metadata": {
    "scrolled": true
   },
   "outputs": [],
   "source": [
    "#Buscamos cantidad de ambientes\n",
    "_pattern = '([1-2][0-9]?)(?= amb)'\n",
    "_express = re.compile(_pattern, flags = re.IGNORECASE)\n",
    "\n",
    "work = regex_to_values(data_clean['description'], _express, 1)\n",
    "\n",
    "data_clean['ambientes'] = work\n"
   ]
  },
  {
   "cell_type": "code",
   "execution_count": 18,
   "id": "a916691e",
   "metadata": {
    "scrolled": true
   },
   "outputs": [],
   "source": [
    "#realizamos la imputacion\n",
    "#data_clean['ambientes_final'] = data_clean['rooms']\n",
    "#mask = data_clean['ambientes_final'].isnull()\n",
    "#data_clean.loc[mask, 'ambientes_final'] = data_clean.loc[mask, 'ambientes']\n",
    "\n",
    "mask = data_clean['rooms'].notnull()\n",
    "data_clean.loc[mask, 'ambientes'] = data_clean.loc[mask, 'rooms']"
   ]
  },
  {
   "cell_type": "markdown",
   "id": "d9092262",
   "metadata": {},
   "source": [
    "##### Analisis para Cantidad de baños"
   ]
  },
  {
   "cell_type": "code",
   "execution_count": 19,
   "id": "cd3b9353",
   "metadata": {},
   "outputs": [],
   "source": [
    "_pattern = '([1-2][0-9]?)(?= baño)'\n",
    "_express = re.compile(_pattern, flags = re.IGNORECASE)\n",
    "\n",
    "work = regex_to_values(data['description'], _express, 1)\n",
    "\n",
    "data_clean['baños'] = work\n"
   ]
  },
  {
   "cell_type": "markdown",
   "id": "eaba9a8e",
   "metadata": {},
   "source": [
    "---\n",
    "##### Nos proponemos encontrar amenities"
   ]
  },
  {
   "cell_type": "code",
   "execution_count": 20,
   "id": "31cfdc36",
   "metadata": {
    "scrolled": true,
    "tags": []
   },
   "outputs": [],
   "source": [
    "def regex_to_tags(col, reg, match, not_match = np.NaN) :\n",
    "    u\"\"\"Returns a series with 'match' values result of apply the regular expresion to the column\n",
    "    the 'match' value will be when the regular expression search() method found a match\n",
    "    the 'not_match' value will be when the regular expression serach() method did not found a match\n",
    "    col : column where to apply regular expresion\n",
    "    reg : regular expresion compiled\n",
    "    \"\"\"\n",
    "    \n",
    "    serie = col.apply(lambda x : x if x is np.NaN else reg.search(x))\n",
    "    serie = serie.apply(lambda x : match if x is not None else not_match)\n",
    "   \n",
    "    return serie"
   ]
  },
  {
   "cell_type": "code",
   "execution_count": 21,
   "id": "f886688f",
   "metadata": {
    "scrolled": true
   },
   "outputs": [],
   "source": [
    "#Buscamos Balcón\n",
    "_pattern = 'balcon|balcón'\n",
    "_express = re.compile(_pattern, flags = re.IGNORECASE)\n",
    "\n",
    "data_clean['balcon'] = regex_to_tags(data_clean['description'], _express, 1, 0)\n"
   ]
  },
  {
   "cell_type": "code",
   "execution_count": 22,
   "id": "23e03525",
   "metadata": {
    "scrolled": true
   },
   "outputs": [],
   "source": [
    "#Buscamos Cocheras\n",
    "_pattern = 'cochera|garage|auto'\n",
    "_express = re.compile(_pattern, flags = re.IGNORECASE)\n",
    "\n",
    "data_clean['cochera'] = regex_to_tags(data_clean['description'], _express, 1, 0)\n"
   ]
  },
  {
   "cell_type": "code",
   "execution_count": 23,
   "id": "ceb569c7",
   "metadata": {
    "scrolled": true
   },
   "outputs": [],
   "source": [
    "#Buscamos Parrillas\n",
    "_pattern = 'parrilla'\n",
    "_express = re.compile(_pattern, flags = re.IGNORECASE)\n",
    "\n",
    "data_clean['parrilla'] = regex_to_tags(data_clean['description'], _express, 1, 0)\n"
   ]
  },
  {
   "cell_type": "code",
   "execution_count": 24,
   "id": "9f92d175",
   "metadata": {
    "scrolled": true
   },
   "outputs": [],
   "source": [
    "#Buscamos Piletas\n",
    "_pattern = 'piscina|pileta'\n",
    "_express = re.compile(_pattern, flags = re.IGNORECASE)\n",
    "\n",
    "data_clean['pileta'] = regex_to_tags(data_clean['description'], _express, 1, 0)\n",
    "\n"
   ]
  },
  {
   "cell_type": "code",
   "execution_count": 25,
   "id": "a7c6273b",
   "metadata": {
    "scrolled": true
   },
   "outputs": [],
   "source": [
    "#Buscamos Amoblado\n",
    "_pattern = 'amoblado'\n",
    "_express = re.compile(_pattern, flags = re.IGNORECASE)\n",
    "\n",
    "data_clean['amoblado'] = regex_to_tags(data_clean['description'], _express, 1, 0)\n"
   ]
  },
  {
   "cell_type": "code",
   "execution_count": 26,
   "id": "4ea849ec",
   "metadata": {
    "scrolled": true
   },
   "outputs": [],
   "source": [
    "#Buscamos Lavadero\n",
    "_pattern = 'lavadero'\n",
    "_express = re.compile(_pattern, flags = re.IGNORECASE)\n",
    "\n",
    "data_clean['lavadero'] = regex_to_tags(data_clean['description'], _express, 1, 0)\n"
   ]
  },
  {
   "cell_type": "code",
   "execution_count": 27,
   "id": "e0716acb",
   "metadata": {
    "scrolled": true
   },
   "outputs": [],
   "source": [
    "#Buscamos Patio\n",
    "_pattern = 'patio'\n",
    "_express = re.compile(_pattern, flags = re.IGNORECASE)\n",
    "\n",
    "data_clean['patio'] = regex_to_tags(data_clean['description'], _express, 1, 0)\n"
   ]
  },
  {
   "cell_type": "code",
   "execution_count": 28,
   "id": "0988371d",
   "metadata": {
    "scrolled": true
   },
   "outputs": [],
   "source": [
    "#Buscamos Terraza\n",
    "_pattern = 'terraza'\n",
    "_express = re.compile(_pattern, flags = re.IGNORECASE)\n",
    "\n",
    "data_clean['terraza'] = regex_to_tags(data_clean['description'], _express, 1, 0)\n"
   ]
  },
  {
   "cell_type": "code",
   "execution_count": 29,
   "id": "6baf72fb",
   "metadata": {
    "scrolled": true
   },
   "outputs": [],
   "source": [
    "#Buscamos Jardin\n",
    "_pattern = 'jardin'\n",
    "_express = re.compile(_pattern, flags = re.IGNORECASE)\n",
    "\n",
    "data_clean['jardin'] = regex_to_tags(data_clean['description'], _express, 1, 0)\n"
   ]
  },
  {
   "cell_type": "code",
   "execution_count": 30,
   "id": "9d0b95a6",
   "metadata": {},
   "outputs": [],
   "source": [
    "data_clean.reset_index(inplace=True)"
   ]
  },
  {
   "cell_type": "code",
   "execution_count": 31,
   "id": "d3270eab",
   "metadata": {},
   "outputs": [],
   "source": [
    "data_clean = data_clean.drop(columns=['index', 'Unnamed: 0','operation', 'place_with_parent_names', \n",
    "                                      'country_name','geonames_id', 'lat-lon', 'lat', 'lon', 'price', 'currency',\n",
    "                                        'price_aprox_local_currency','floor', 'price_usd_per_m2', \n",
    "                                     'price_per_m2', 'rooms', 'expenses', 'properati_url', 'description', 'title', 'image_thumbnail', 'surface_total_in_m2', \n",
    "                                      'tidy1'])"
   ]
  },
  {
   "cell_type": "code",
   "execution_count": 32,
   "id": "6c1026f8",
   "metadata": {},
   "outputs": [
    {
     "data": {
      "text/plain": [
       "Index(['tipo', 'place_name', 'state_name', 'precio', 'sup', 'ambientes',\n",
       "       'baños', 'balcon', 'cochera', 'parrilla', 'pileta', 'amoblado',\n",
       "       'lavadero', 'patio', 'terraza', 'jardin'],\n",
       "      dtype='object')"
      ]
     },
     "execution_count": 32,
     "metadata": {},
     "output_type": "execute_result"
    }
   ],
   "source": [
    "data_clean.columns"
   ]
  },
  {
   "cell_type": "code",
   "execution_count": 33,
   "id": "de98a847",
   "metadata": {},
   "outputs": [
    {
     "data": {
      "text/plain": [
       "Index(['precio', 'sup', 'ambientes', 'baños', 'balcon', 'cochera', 'parrilla',\n",
       "       'pileta', 'amoblado', 'lavadero',\n",
       "       ...\n",
       "       'place_name_Villa Luro', 'place_name_Villa Luzuriaga',\n",
       "       'place_name_Villa Pueyrredón', 'place_name_Villa Urquiza',\n",
       "       'place_name_Villa del Parque', 'state_name_Bs.As. G.B.A. Zona Oeste',\n",
       "       'state_name_Bs.As. G.B.A. Zona Sur',\n",
       "       'state_name_Buenos Aires Costa Atlántica', 'state_name_Capital Federal',\n",
       "       'state_name_Córdoba'],\n",
       "      dtype='object', length=119)"
      ]
     },
     "execution_count": 33,
     "metadata": {},
     "output_type": "execute_result"
    }
   ],
   "source": [
    "data_clean = pd.get_dummies(data=data_clean, columns=['tipo', 'place_name','state_name'], drop_first=True)\n",
    "data_clean.columns"
   ]
  },
  {
   "cell_type": "code",
   "execution_count": 34,
   "id": "329a0a16",
   "metadata": {},
   "outputs": [],
   "source": [
    "data_clean['sup2']=data_clean['sup']**2"
   ]
  },
  {
   "cell_type": "code",
   "execution_count": 35,
   "id": "0502cf68",
   "metadata": {},
   "outputs": [
    {
     "name": "stderr",
     "output_type": "stream",
     "text": [
      "C:\\Users\\Jessica\\anaconda3\\envs\\dhdsblend2021_geopandas\\lib\\site-packages\\ipykernel_launcher.py:18: PerformanceWarning: DataFrame is highly fragmented.  This is usually the result of calling `frame.insert` many times, which has poor performance.  Consider joining all columns at once using pd.concat(axis=1) instead.  To get a de-fragmented frame, use `newframe = frame.copy()`\n"
     ]
    }
   ],
   "source": [
    "# data_clean['supxhouse']=data_clean['sup']*data_clean['tipo_house']\n",
    "# data_clean['supxapartment']=data_clean['sup']*data_clean['tipo_apartment']\n",
    "\n",
    "amenities= ['balcon', 'cochera', 'parrilla', 'pileta', 'amoblado', 'lavadero', 'patio', 'terraza', 'jardin']\n",
    "\n",
    "for a in amenities:\n",
    "    cat1='tipo_house'+'x'+a\n",
    "    data_clean[cat1]=data_clean['tipo_house']*data_clean[a]\n",
    "    \n",
    "    cat2='tipo_apartment'+'x'+a\n",
    "    data_clean[cat2]=data_clean['tipo_apartment']*data_clean[a]\n",
    "\n",
    "if True :    \n",
    "    for b in data_clean.columns:\n",
    "        if b==\"precio\":\n",
    "            continue\n",
    "        cat3='sup'+'x'+b\n",
    "        data_clean[cat3]=data_clean['sup']*data_clean[b]"
   ]
  },
  {
   "cell_type": "code",
   "execution_count": 36,
   "id": "a70ec3fe",
   "metadata": {},
   "outputs": [],
   "source": [
    "data_final=data_clean.copy()"
   ]
  },
  {
   "cell_type": "code",
   "execution_count": 37,
   "id": "a6181267",
   "metadata": {},
   "outputs": [
    {
     "data": {
      "text/plain": [
       "Index(['precio', 'sup', 'ambientes', 'baños', 'balcon', 'cochera', 'parrilla',\n",
       "       'pileta', 'amoblado', 'lavadero',\n",
       "       ...\n",
       "       'supxtipo_housexamoblado', 'supxtipo_apartmentxamoblado',\n",
       "       'supxtipo_housexlavadero', 'supxtipo_apartmentxlavadero',\n",
       "       'supxtipo_housexpatio', 'supxtipo_apartmentxpatio',\n",
       "       'supxtipo_housexterraza', 'supxtipo_apartmentxterraza',\n",
       "       'supxtipo_housexjardin', 'supxtipo_apartmentxjardin'],\n",
       "      dtype='object', length=275)"
      ]
     },
     "execution_count": 37,
     "metadata": {},
     "output_type": "execute_result"
    }
   ],
   "source": [
    "data_final.columns"
   ]
  },
  {
   "cell_type": "code",
   "execution_count": 38,
   "id": "35716bf6",
   "metadata": {},
   "outputs": [],
   "source": [
    "excluir=['precio']\n",
    "features = data_final.columns.difference(excluir)"
   ]
  },
  {
   "cell_type": "code",
   "execution_count": 39,
   "id": "f59ad1b7",
   "metadata": {},
   "outputs": [],
   "source": [
    "scaler = StandardScaler()\n",
    "\n",
    "#data_final[features] = scaler.fit_transform(data_final[features])"
   ]
  },
  {
   "cell_type": "code",
   "execution_count": 40,
   "id": "2063df1f",
   "metadata": {},
   "outputs": [
    {
     "data": {
      "text/html": [
       "<div>\n",
       "<style scoped>\n",
       "    .dataframe tbody tr th:only-of-type {\n",
       "        vertical-align: middle;\n",
       "    }\n",
       "\n",
       "    .dataframe tbody tr th {\n",
       "        vertical-align: top;\n",
       "    }\n",
       "\n",
       "    .dataframe thead th {\n",
       "        text-align: right;\n",
       "    }\n",
       "</style>\n",
       "<table border=\"1\" class=\"dataframe\">\n",
       "  <thead>\n",
       "    <tr style=\"text-align: right;\">\n",
       "      <th></th>\n",
       "      <th>precio</th>\n",
       "      <th>sup</th>\n",
       "      <th>ambientes</th>\n",
       "      <th>baños</th>\n",
       "      <th>balcon</th>\n",
       "      <th>cochera</th>\n",
       "      <th>parrilla</th>\n",
       "      <th>pileta</th>\n",
       "      <th>amoblado</th>\n",
       "      <th>lavadero</th>\n",
       "      <th>...</th>\n",
       "      <th>supxtipo_housexamoblado</th>\n",
       "      <th>supxtipo_apartmentxamoblado</th>\n",
       "      <th>supxtipo_housexlavadero</th>\n",
       "      <th>supxtipo_apartmentxlavadero</th>\n",
       "      <th>supxtipo_housexpatio</th>\n",
       "      <th>supxtipo_apartmentxpatio</th>\n",
       "      <th>supxtipo_housexterraza</th>\n",
       "      <th>supxtipo_apartmentxterraza</th>\n",
       "      <th>supxtipo_housexjardin</th>\n",
       "      <th>supxtipo_apartmentxjardin</th>\n",
       "    </tr>\n",
       "  </thead>\n",
       "  <tbody>\n",
       "    <tr>\n",
       "      <th>0</th>\n",
       "      <td>62000.0</td>\n",
       "      <td>40.0</td>\n",
       "      <td>2.0</td>\n",
       "      <td>1.0</td>\n",
       "      <td>0</td>\n",
       "      <td>0</td>\n",
       "      <td>0</td>\n",
       "      <td>0</td>\n",
       "      <td>0</td>\n",
       "      <td>1</td>\n",
       "      <td>...</td>\n",
       "      <td>0.0</td>\n",
       "      <td>0.0</td>\n",
       "      <td>0.0</td>\n",
       "      <td>0.0</td>\n",
       "      <td>0.0</td>\n",
       "      <td>0.0</td>\n",
       "      <td>0.0</td>\n",
       "      <td>0.0</td>\n",
       "      <td>0.0</td>\n",
       "      <td>0.0</td>\n",
       "    </tr>\n",
       "    <tr>\n",
       "      <th>1</th>\n",
       "      <td>72000.0</td>\n",
       "      <td>55.0</td>\n",
       "      <td>2.0</td>\n",
       "      <td>1.0</td>\n",
       "      <td>0</td>\n",
       "      <td>0</td>\n",
       "      <td>0</td>\n",
       "      <td>0</td>\n",
       "      <td>0</td>\n",
       "      <td>1</td>\n",
       "      <td>...</td>\n",
       "      <td>0.0</td>\n",
       "      <td>0.0</td>\n",
       "      <td>0.0</td>\n",
       "      <td>55.0</td>\n",
       "      <td>0.0</td>\n",
       "      <td>0.0</td>\n",
       "      <td>0.0</td>\n",
       "      <td>0.0</td>\n",
       "      <td>0.0</td>\n",
       "      <td>0.0</td>\n",
       "    </tr>\n",
       "    <tr>\n",
       "      <th>2</th>\n",
       "      <td>64000.0</td>\n",
       "      <td>35.0</td>\n",
       "      <td>1.0</td>\n",
       "      <td>1.0</td>\n",
       "      <td>0</td>\n",
       "      <td>0</td>\n",
       "      <td>0</td>\n",
       "      <td>0</td>\n",
       "      <td>0</td>\n",
       "      <td>0</td>\n",
       "      <td>...</td>\n",
       "      <td>0.0</td>\n",
       "      <td>0.0</td>\n",
       "      <td>0.0</td>\n",
       "      <td>0.0</td>\n",
       "      <td>0.0</td>\n",
       "      <td>0.0</td>\n",
       "      <td>0.0</td>\n",
       "      <td>0.0</td>\n",
       "      <td>0.0</td>\n",
       "      <td>0.0</td>\n",
       "    </tr>\n",
       "    <tr>\n",
       "      <th>3</th>\n",
       "      <td>130000.0</td>\n",
       "      <td>78.0</td>\n",
       "      <td>1.0</td>\n",
       "      <td>1.0</td>\n",
       "      <td>0</td>\n",
       "      <td>0</td>\n",
       "      <td>0</td>\n",
       "      <td>0</td>\n",
       "      <td>0</td>\n",
       "      <td>1</td>\n",
       "      <td>...</td>\n",
       "      <td>0.0</td>\n",
       "      <td>0.0</td>\n",
       "      <td>0.0</td>\n",
       "      <td>0.0</td>\n",
       "      <td>0.0</td>\n",
       "      <td>0.0</td>\n",
       "      <td>0.0</td>\n",
       "      <td>0.0</td>\n",
       "      <td>0.0</td>\n",
       "      <td>0.0</td>\n",
       "    </tr>\n",
       "    <tr>\n",
       "      <th>4</th>\n",
       "      <td>138000.0</td>\n",
       "      <td>40.0</td>\n",
       "      <td>1.0</td>\n",
       "      <td>1.0</td>\n",
       "      <td>0</td>\n",
       "      <td>0</td>\n",
       "      <td>0</td>\n",
       "      <td>1</td>\n",
       "      <td>0</td>\n",
       "      <td>0</td>\n",
       "      <td>...</td>\n",
       "      <td>0.0</td>\n",
       "      <td>0.0</td>\n",
       "      <td>0.0</td>\n",
       "      <td>0.0</td>\n",
       "      <td>0.0</td>\n",
       "      <td>0.0</td>\n",
       "      <td>0.0</td>\n",
       "      <td>0.0</td>\n",
       "      <td>0.0</td>\n",
       "      <td>0.0</td>\n",
       "    </tr>\n",
       "    <tr>\n",
       "      <th>...</th>\n",
       "      <td>...</td>\n",
       "      <td>...</td>\n",
       "      <td>...</td>\n",
       "      <td>...</td>\n",
       "      <td>...</td>\n",
       "      <td>...</td>\n",
       "      <td>...</td>\n",
       "      <td>...</td>\n",
       "      <td>...</td>\n",
       "      <td>...</td>\n",
       "      <td>...</td>\n",
       "      <td>...</td>\n",
       "      <td>...</td>\n",
       "      <td>...</td>\n",
       "      <td>...</td>\n",
       "      <td>...</td>\n",
       "      <td>...</td>\n",
       "      <td>...</td>\n",
       "      <td>...</td>\n",
       "      <td>...</td>\n",
       "      <td>...</td>\n",
       "    </tr>\n",
       "    <tr>\n",
       "      <th>47507</th>\n",
       "      <td>128000.0</td>\n",
       "      <td>35.0</td>\n",
       "      <td>1.0</td>\n",
       "      <td>1.0</td>\n",
       "      <td>0</td>\n",
       "      <td>1</td>\n",
       "      <td>1</td>\n",
       "      <td>1</td>\n",
       "      <td>0</td>\n",
       "      <td>0</td>\n",
       "      <td>...</td>\n",
       "      <td>0.0</td>\n",
       "      <td>0.0</td>\n",
       "      <td>0.0</td>\n",
       "      <td>0.0</td>\n",
       "      <td>0.0</td>\n",
       "      <td>0.0</td>\n",
       "      <td>0.0</td>\n",
       "      <td>35.0</td>\n",
       "      <td>0.0</td>\n",
       "      <td>0.0</td>\n",
       "    </tr>\n",
       "    <tr>\n",
       "      <th>47508</th>\n",
       "      <td>165000.0</td>\n",
       "      <td>39.0</td>\n",
       "      <td>1.0</td>\n",
       "      <td>1.0</td>\n",
       "      <td>1</td>\n",
       "      <td>0</td>\n",
       "      <td>1</td>\n",
       "      <td>0</td>\n",
       "      <td>0</td>\n",
       "      <td>0</td>\n",
       "      <td>...</td>\n",
       "      <td>0.0</td>\n",
       "      <td>0.0</td>\n",
       "      <td>0.0</td>\n",
       "      <td>0.0</td>\n",
       "      <td>0.0</td>\n",
       "      <td>0.0</td>\n",
       "      <td>0.0</td>\n",
       "      <td>0.0</td>\n",
       "      <td>0.0</td>\n",
       "      <td>0.0</td>\n",
       "    </tr>\n",
       "    <tr>\n",
       "      <th>47509</th>\n",
       "      <td>498000.0</td>\n",
       "      <td>360.0</td>\n",
       "      <td>1.0</td>\n",
       "      <td>1.0</td>\n",
       "      <td>0</td>\n",
       "      <td>1</td>\n",
       "      <td>1</td>\n",
       "      <td>1</td>\n",
       "      <td>0</td>\n",
       "      <td>0</td>\n",
       "      <td>...</td>\n",
       "      <td>0.0</td>\n",
       "      <td>0.0</td>\n",
       "      <td>0.0</td>\n",
       "      <td>0.0</td>\n",
       "      <td>0.0</td>\n",
       "      <td>0.0</td>\n",
       "      <td>0.0</td>\n",
       "      <td>0.0</td>\n",
       "      <td>360.0</td>\n",
       "      <td>0.0</td>\n",
       "    </tr>\n",
       "    <tr>\n",
       "      <th>47510</th>\n",
       "      <td>131500.0</td>\n",
       "      <td>39.0</td>\n",
       "      <td>1.0</td>\n",
       "      <td>1.0</td>\n",
       "      <td>1</td>\n",
       "      <td>1</td>\n",
       "      <td>1</td>\n",
       "      <td>0</td>\n",
       "      <td>0</td>\n",
       "      <td>0</td>\n",
       "      <td>...</td>\n",
       "      <td>0.0</td>\n",
       "      <td>0.0</td>\n",
       "      <td>0.0</td>\n",
       "      <td>0.0</td>\n",
       "      <td>0.0</td>\n",
       "      <td>0.0</td>\n",
       "      <td>0.0</td>\n",
       "      <td>39.0</td>\n",
       "      <td>0.0</td>\n",
       "      <td>0.0</td>\n",
       "    </tr>\n",
       "    <tr>\n",
       "      <th>47511</th>\n",
       "      <td>129000.0</td>\n",
       "      <td>77.0</td>\n",
       "      <td>1.0</td>\n",
       "      <td>1.0</td>\n",
       "      <td>0</td>\n",
       "      <td>0</td>\n",
       "      <td>0</td>\n",
       "      <td>0</td>\n",
       "      <td>0</td>\n",
       "      <td>1</td>\n",
       "      <td>...</td>\n",
       "      <td>0.0</td>\n",
       "      <td>0.0</td>\n",
       "      <td>0.0</td>\n",
       "      <td>77.0</td>\n",
       "      <td>0.0</td>\n",
       "      <td>0.0</td>\n",
       "      <td>0.0</td>\n",
       "      <td>0.0</td>\n",
       "      <td>0.0</td>\n",
       "      <td>0.0</td>\n",
       "    </tr>\n",
       "  </tbody>\n",
       "</table>\n",
       "<p>47512 rows × 275 columns</p>\n",
       "</div>"
      ],
      "text/plain": [
       "         precio    sup  ambientes  baños  balcon  cochera  parrilla  pileta  \\\n",
       "0       62000.0   40.0        2.0    1.0       0        0         0       0   \n",
       "1       72000.0   55.0        2.0    1.0       0        0         0       0   \n",
       "2       64000.0   35.0        1.0    1.0       0        0         0       0   \n",
       "3      130000.0   78.0        1.0    1.0       0        0         0       0   \n",
       "4      138000.0   40.0        1.0    1.0       0        0         0       1   \n",
       "...         ...    ...        ...    ...     ...      ...       ...     ...   \n",
       "47507  128000.0   35.0        1.0    1.0       0        1         1       1   \n",
       "47508  165000.0   39.0        1.0    1.0       1        0         1       0   \n",
       "47509  498000.0  360.0        1.0    1.0       0        1         1       1   \n",
       "47510  131500.0   39.0        1.0    1.0       1        1         1       0   \n",
       "47511  129000.0   77.0        1.0    1.0       0        0         0       0   \n",
       "\n",
       "       amoblado  lavadero  ...  supxtipo_housexamoblado  \\\n",
       "0             0         1  ...                      0.0   \n",
       "1             0         1  ...                      0.0   \n",
       "2             0         0  ...                      0.0   \n",
       "3             0         1  ...                      0.0   \n",
       "4             0         0  ...                      0.0   \n",
       "...         ...       ...  ...                      ...   \n",
       "47507         0         0  ...                      0.0   \n",
       "47508         0         0  ...                      0.0   \n",
       "47509         0         0  ...                      0.0   \n",
       "47510         0         0  ...                      0.0   \n",
       "47511         0         1  ...                      0.0   \n",
       "\n",
       "       supxtipo_apartmentxamoblado  supxtipo_housexlavadero  \\\n",
       "0                              0.0                      0.0   \n",
       "1                              0.0                      0.0   \n",
       "2                              0.0                      0.0   \n",
       "3                              0.0                      0.0   \n",
       "4                              0.0                      0.0   \n",
       "...                            ...                      ...   \n",
       "47507                          0.0                      0.0   \n",
       "47508                          0.0                      0.0   \n",
       "47509                          0.0                      0.0   \n",
       "47510                          0.0                      0.0   \n",
       "47511                          0.0                      0.0   \n",
       "\n",
       "       supxtipo_apartmentxlavadero  supxtipo_housexpatio  \\\n",
       "0                              0.0                   0.0   \n",
       "1                             55.0                   0.0   \n",
       "2                              0.0                   0.0   \n",
       "3                              0.0                   0.0   \n",
       "4                              0.0                   0.0   \n",
       "...                            ...                   ...   \n",
       "47507                          0.0                   0.0   \n",
       "47508                          0.0                   0.0   \n",
       "47509                          0.0                   0.0   \n",
       "47510                          0.0                   0.0   \n",
       "47511                         77.0                   0.0   \n",
       "\n",
       "       supxtipo_apartmentxpatio  supxtipo_housexterraza  \\\n",
       "0                           0.0                     0.0   \n",
       "1                           0.0                     0.0   \n",
       "2                           0.0                     0.0   \n",
       "3                           0.0                     0.0   \n",
       "4                           0.0                     0.0   \n",
       "...                         ...                     ...   \n",
       "47507                       0.0                     0.0   \n",
       "47508                       0.0                     0.0   \n",
       "47509                       0.0                     0.0   \n",
       "47510                       0.0                     0.0   \n",
       "47511                       0.0                     0.0   \n",
       "\n",
       "       supxtipo_apartmentxterraza  supxtipo_housexjardin  \\\n",
       "0                             0.0                    0.0   \n",
       "1                             0.0                    0.0   \n",
       "2                             0.0                    0.0   \n",
       "3                             0.0                    0.0   \n",
       "4                             0.0                    0.0   \n",
       "...                           ...                    ...   \n",
       "47507                        35.0                    0.0   \n",
       "47508                         0.0                    0.0   \n",
       "47509                         0.0                  360.0   \n",
       "47510                        39.0                    0.0   \n",
       "47511                         0.0                    0.0   \n",
       "\n",
       "       supxtipo_apartmentxjardin  \n",
       "0                            0.0  \n",
       "1                            0.0  \n",
       "2                            0.0  \n",
       "3                            0.0  \n",
       "4                            0.0  \n",
       "...                          ...  \n",
       "47507                        0.0  \n",
       "47508                        0.0  \n",
       "47509                        0.0  \n",
       "47510                        0.0  \n",
       "47511                        0.0  \n",
       "\n",
       "[47512 rows x 275 columns]"
      ]
     },
     "execution_count": 40,
     "metadata": {},
     "output_type": "execute_result"
    }
   ],
   "source": [
    "data_final"
   ]
  },
  {
   "cell_type": "markdown",
   "id": "f215284e",
   "metadata": {},
   "source": [
    "<div class=\"alert alert-warning\" role=\"alert\">\n",
    "<b>3) Split: Divido la base en data train y data set.</b> \n",
    "</div>"
   ]
  },
  {
   "cell_type": "code",
   "execution_count": 43,
   "id": "b67ae6e3",
   "metadata": {},
   "outputs": [],
   "source": [
    "data_train, data_test = train_test_split(data_final, test_size=0.35, random_state =300)"
   ]
  },
  {
   "cell_type": "code",
   "execution_count": 44,
   "id": "66ae4898",
   "metadata": {},
   "outputs": [],
   "source": [
    "target =data_train.precio\n",
    "\n",
    "X = data_train[features]\n",
    "y = target"
   ]
  },
  {
   "cell_type": "code",
   "execution_count": 45,
   "id": "001ef82e",
   "metadata": {},
   "outputs": [],
   "source": [
    "# model = linear_model.Lasso(alpha=1, normalize=True)\n",
    "# model = linear_model.ElasticNetCV(l1_ratio=[1], alphas=[0.000001], normalize=False, cv=3, max_iter=2000)\n",
    "model = linear_model.LinearRegression()\n",
    "\n",
    "#Probe un monton de combinaciones. No encontre overfit en ninguna. Vamos directamente con LinearRegression"
   ]
  },
  {
   "cell_type": "code",
   "execution_count": 46,
   "id": "1d6f1403",
   "metadata": {},
   "outputs": [],
   "source": [
    "#No entiendo porque, pero si llamo a model.fit varias veces, funciona. Si lo uso una sola vez no funciona (overfitea a morir)"
   ]
  },
  {
   "cell_type": "markdown",
   "id": "382c6855",
   "metadata": {},
   "source": []
  },
  {
   "cell_type": "code",
   "execution_count": 47,
   "id": "9312beed",
   "metadata": {},
   "outputs": [
    {
     "data": {
      "text/plain": [
       "LinearRegression()"
      ]
     },
     "execution_count": 47,
     "metadata": {},
     "output_type": "execute_result"
    }
   ],
   "source": [
    "model.fit(X, y)"
   ]
  },
  {
   "cell_type": "code",
   "execution_count": 48,
   "id": "5dddff76",
   "metadata": {},
   "outputs": [],
   "source": [
    "##Checkeo de modelo"
   ]
  },
  {
   "cell_type": "markdown",
   "id": "49806a59",
   "metadata": {},
   "source": [
    "<div class=\"alert alert-warning\" role=\"alert\">\n",
    "<b>4) Base Train</b> \n",
    "</div>"
   ]
  },
  {
   "cell_type": "code",
   "execution_count": 49,
   "id": "265296af",
   "metadata": {},
   "outputs": [
    {
     "name": "stdout",
     "output_type": "stream",
     "text": [
      "r2_train: 0.8093940357667988 \n",
      "r2_adj_train: 0.8076876929628685 \n",
      "RMSE: 53704.38611554713 \n"
     ]
    }
   ],
   "source": [
    "n_train=data_train.shape[0]\n",
    "r2_train=model.score(X=data_train[features], y = data_train.precio)\n",
    "r2_adj_train = 1-(1-r2_train)*((n_train-1)/(n_train-len(features)-1))\n",
    "precio_est_train=model.predict(data_train[features])\n",
    "RMSE_train= np.sqrt(mean_squared_error(y_true=data_train['precio'], y_pred=precio_est_train))\n",
    "print(f'r2_train: {r2_train} \\nr2_adj_train: {r2_adj_train} \\nRMSE: {RMSE_train} ')"
   ]
  },
  {
   "cell_type": "markdown",
   "id": "01acf2e6",
   "metadata": {},
   "source": [
    "<div class=\"alert alert-warning\" role=\"alert\">\n",
    "<b>5) Base Test: Predict</b> \n",
    "</div>"
   ]
  },
  {
   "cell_type": "code",
   "execution_count": 50,
   "id": "43bb4c2b",
   "metadata": {},
   "outputs": [
    {
     "name": "stdout",
     "output_type": "stream",
     "text": [
      "r2_test: 0.8152654594429392 \n",
      "r2_adj_test: 0.8121705487665323 \n",
      "RMSE: 54096.526032998656 \n"
     ]
    }
   ],
   "source": [
    "n_test=data_test.shape[0]\n",
    "r2_test=model.score(X=data_test[features], y = data_test.precio)\n",
    "r2_adj_test = 1-(1-r2_test)*((n_test-1)/(n_test-len(features)-1))\n",
    "precio_est_test=model.predict(data_test[features])\n",
    "RMSE_test= np.sqrt(mean_squared_error(y_true=data_test['precio'], y_pred=precio_est_test))\n",
    "print(f'r2_test: {r2_test} \\nr2_adj_test: {r2_adj_test} \\nRMSE: {RMSE_test} ')"
   ]
  },
  {
   "cell_type": "code",
   "execution_count": 51,
   "id": "5e762a5e",
   "metadata": {},
   "outputs": [
    {
     "data": {
      "text/plain": [
       "count     30882.000000\n",
       "mean     180249.450816\n",
       "std      123012.301850\n",
       "min       36000.000000\n",
       "25%       95000.000000\n",
       "50%      139000.000000\n",
       "75%      226371.250000\n",
       "max      800000.000000\n",
       "Name: precio, dtype: float64"
      ]
     },
     "execution_count": 51,
     "metadata": {},
     "output_type": "execute_result"
    }
   ],
   "source": [
    "data_train['precio'].describe()"
   ]
  },
  {
   "cell_type": "code",
   "execution_count": 52,
   "id": "3233b19b",
   "metadata": {},
   "outputs": [
    {
     "data": {
      "text/plain": [
       "count     16630.000000\n",
       "mean     181923.851132\n",
       "std      125865.985928\n",
       "min       36000.000000\n",
       "25%       95000.000000\n",
       "50%      140000.000000\n",
       "75%      229000.000000\n",
       "max      800000.000000\n",
       "Name: precio, dtype: float64"
      ]
     },
     "execution_count": 52,
     "metadata": {},
     "output_type": "execute_result"
    }
   ],
   "source": [
    "data_test['precio'].describe()"
   ]
  },
  {
   "cell_type": "markdown",
   "id": "aa060b07",
   "metadata": {},
   "source": [
    "<div class=\"alert alert-info\" role=\"alert\">\n",
    "<b>6) Compare: Principales conclusiones</b> \n",
    "</div>\n",
    "\n",
    "   \n",
    "   - Se desarrolla un modelo de regresión lineal que predice 80% de valores. \n",
    "   \n",
    "   - El modelo tiene un buen r2 ajustado tanto en Train como en Test.\n",
    "   \n",
    "   - Notamos que el RMSE da un valor alto, lo que nos indicaría que deberíamos probar otro tipo de modelo. "
   ]
  }
 ],
 "metadata": {
  "kernelspec": {
   "display_name": "Python 3 (ipykernel)",
   "language": "python",
   "name": "python3"
  },
  "language_info": {
   "codemirror_mode": {
    "name": "ipython",
    "version": 3
   },
   "file_extension": ".py",
   "mimetype": "text/x-python",
   "name": "python",
   "nbconvert_exporter": "python",
   "pygments_lexer": "ipython3",
   "version": "3.9.7"
  }
 },
 "nbformat": 4,
 "nbformat_minor": 5
}
