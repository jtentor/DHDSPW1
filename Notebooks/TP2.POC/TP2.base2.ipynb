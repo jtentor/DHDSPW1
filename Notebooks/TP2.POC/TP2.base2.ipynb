{
 "cells": [
  {
   "cell_type": "markdown",
   "id": "de76e371",
   "metadata": {},
   "source": [
    "# Digital House - Data Science a Distancia\n",
    "\n",
    "## Trabajo Práctico 2\n",
    "\n",
    "\n",
    "\n",
    "### Autores: Nahuel Bonfante, Daniel Borrino, Ivan Mongi, Jessica Polakoff, Julio Tentor\n",
    "\n",
    "<p style=\"text-align:right;\">Abril 2022</p>"
   ]
  },
  {
   "cell_type": "markdown",
   "id": "2b60f6cd",
   "metadata": {},
   "source": [
    "#### Aspectos técnicos\n",
    "La notebook se ejecuta correctamente en una instalación estándar de Anaconda versión 4.11.0 build  3.21.6, Python 3.9.7\n"
   ]
  },
  {
   "cell_type": "markdown",
   "id": "0ce3effb",
   "metadata": {},
   "source": [
    "#### Librerías necesarias"
   ]
  },
  {
   "cell_type": "code",
   "execution_count": 1,
   "id": "8de1996f-1a9a-48b0-abf3-16a7997f13d6",
   "metadata": {
    "scrolled": true
   },
   "outputs": [],
   "source": [
    "import numpy as np\n",
    "import pandas as pd\n",
    "import re"
   ]
  },
  {
   "cell_type": "code",
   "execution_count": 2,
   "id": "54dc354e-7360-4be9-a1a6-61dd63aa3762",
   "metadata": {
    "scrolled": true
   },
   "outputs": [],
   "source": [
    "import seaborn as sns\n",
    "import matplotlib.pyplot as plt"
   ]
  },
  {
   "cell_type": "code",
   "execution_count": 3,
   "id": "965958aa-c9d0-48c1-8567-bd0de962775e",
   "metadata": {},
   "outputs": [],
   "source": [
    "from sklearn.linear_model import LinearRegression\n",
    "from sklearn.model_selection import train_test_split\n",
    "# from sklearn.preprocessing import StandardScaler\n",
    "from sklearn.metrics import mean_absolute_error, mean_squared_error, r2_score"
   ]
  },
  {
   "cell_type": "code",
   "execution_count": 4,
   "id": "c8fd95df-1012-49a0-9068-7b2831440060",
   "metadata": {
    "tags": []
   },
   "outputs": [],
   "source": [
    "import statsmodels.api as sm"
   ]
  },
  {
   "cell_type": "code",
   "execution_count": 5,
   "id": "8a85961e-0025-4e79-b404-84b8f4e6178e",
   "metadata": {},
   "outputs": [],
   "source": [
    "from warnings import simplefilter\n",
    "simplefilter(action='ignore', category=FutureWarning)"
   ]
  },
  {
   "cell_type": "markdown",
   "id": "48b9ea05-158d-48eb-aafe-b29a73530f4d",
   "metadata": {},
   "source": [
    "---\n",
    "### Dataset"
   ]
  },
  {
   "cell_type": "code",
   "execution_count": 6,
   "id": "dd453ce1",
   "metadata": {
    "scrolled": true
   },
   "outputs": [],
   "source": [
    "data_final_url = \"../Data/properatti_final2.csv\"\n",
    "data_final = pd.read_csv(data_final_url, encoding=\"utf-8\")"
   ]
  },
  {
   "cell_type": "code",
   "execution_count": 7,
   "id": "4fc8d309-110a-4db6-8d5e-2b4f8ddfc7a6",
   "metadata": {},
   "outputs": [],
   "source": [
    "mask = data_final['state_name'] == 'Córdoba'\n",
    "\n",
    "mask = np.logical_and(mask, data_final['place_name'] == 'Córdoba')\n",
    "\n",
    "data = data_final[mask].copy()"
   ]
  },
  {
   "cell_type": "markdown",
   "id": "05c8905b-288c-4180-863f-d5861eb56810",
   "metadata": {},
   "source": [
    "---"
   ]
  },
  {
   "cell_type": "code",
   "execution_count": 8,
   "id": "6fe73ab5-af66-49fb-a2e5-f9106945c150",
   "metadata": {},
   "outputs": [],
   "source": [
    "data.reset_index(inplace = True)"
   ]
  },
  {
   "cell_type": "code",
   "execution_count": 9,
   "id": "1b0bc456-ce00-416c-8fa7-e7b72809b35e",
   "metadata": {},
   "outputs": [],
   "source": [
    "dummies = pd.get_dummies(data = data['property_type'])"
   ]
  },
  {
   "cell_type": "code",
   "execution_count": 10,
   "id": "bfe36225-994f-4279-b3be-05f6ac7a4318",
   "metadata": {},
   "outputs": [],
   "source": [
    "data = pd.concat([data, dummies], axis = 1)"
   ]
  },
  {
   "cell_type": "code",
   "execution_count": 11,
   "id": "a8621475-9bf6-40ff-9504-84789290ccde",
   "metadata": {},
   "outputs": [],
   "source": [
    "# Trabajar con precio en miles de dólares\n",
    "data['price_aprox_usd'] = data['price_aprox_usd'] / 1000"
   ]
  },
  {
   "cell_type": "code",
   "execution_count": 12,
   "id": "33f55749-7b6a-4918-a267-18b5bf0c89a9",
   "metadata": {},
   "outputs": [
    {
     "data": {
      "text/plain": [
       "(3662, 17)"
      ]
     },
     "execution_count": 12,
     "metadata": {},
     "output_type": "execute_result"
    }
   ],
   "source": [
    "data.shape"
   ]
  },
  {
   "cell_type": "code",
   "execution_count": 13,
   "id": "e39a68a4-6b6d-489b-a19b-eb42ea783703",
   "metadata": {},
   "outputs": [
    {
     "data": {
      "text/html": [
       "<div>\n",
       "<style scoped>\n",
       "    .dataframe tbody tr th:only-of-type {\n",
       "        vertical-align: middle;\n",
       "    }\n",
       "\n",
       "    .dataframe tbody tr th {\n",
       "        vertical-align: top;\n",
       "    }\n",
       "\n",
       "    .dataframe thead th {\n",
       "        text-align: right;\n",
       "    }\n",
       "</style>\n",
       "<table border=\"1\" class=\"dataframe\">\n",
       "  <thead>\n",
       "    <tr style=\"text-align: right;\">\n",
       "      <th></th>\n",
       "      <th>index</th>\n",
       "      <th>Unnamed: 0</th>\n",
       "      <th>property_type</th>\n",
       "      <th>place_name</th>\n",
       "      <th>state_name</th>\n",
       "      <th>price_aprox_usd</th>\n",
       "      <th>surface_covered_in_m2</th>\n",
       "      <th>cochera</th>\n",
       "      <th>pileta</th>\n",
       "      <th>parrilla</th>\n",
       "      <th>amoblado</th>\n",
       "      <th>patio</th>\n",
       "      <th>terraza</th>\n",
       "      <th>jardin</th>\n",
       "      <th>ambientes_final</th>\n",
       "      <th>apartment</th>\n",
       "      <th>house</th>\n",
       "    </tr>\n",
       "  </thead>\n",
       "  <tbody>\n",
       "    <tr>\n",
       "      <th>0</th>\n",
       "      <td>48</td>\n",
       "      <td>89</td>\n",
       "      <td>apartment</td>\n",
       "      <td>Córdoba</td>\n",
       "      <td>Córdoba</td>\n",
       "      <td>50.00000</td>\n",
       "      <td>53.0</td>\n",
       "      <td>0</td>\n",
       "      <td>0</td>\n",
       "      <td>0</td>\n",
       "      <td>0</td>\n",
       "      <td>0</td>\n",
       "      <td>0</td>\n",
       "      <td>0</td>\n",
       "      <td>1.0</td>\n",
       "      <td>1</td>\n",
       "      <td>0</td>\n",
       "    </tr>\n",
       "    <tr>\n",
       "      <th>1</th>\n",
       "      <td>49</td>\n",
       "      <td>92</td>\n",
       "      <td>apartment</td>\n",
       "      <td>Córdoba</td>\n",
       "      <td>Córdoba</td>\n",
       "      <td>120.00000</td>\n",
       "      <td>73.0</td>\n",
       "      <td>0</td>\n",
       "      <td>0</td>\n",
       "      <td>0</td>\n",
       "      <td>0</td>\n",
       "      <td>0</td>\n",
       "      <td>0</td>\n",
       "      <td>0</td>\n",
       "      <td>2.0</td>\n",
       "      <td>1</td>\n",
       "      <td>0</td>\n",
       "    </tr>\n",
       "    <tr>\n",
       "      <th>2</th>\n",
       "      <td>50</td>\n",
       "      <td>93</td>\n",
       "      <td>house</td>\n",
       "      <td>Córdoba</td>\n",
       "      <td>Córdoba</td>\n",
       "      <td>385.00000</td>\n",
       "      <td>416.0</td>\n",
       "      <td>0</td>\n",
       "      <td>0</td>\n",
       "      <td>0</td>\n",
       "      <td>0</td>\n",
       "      <td>0</td>\n",
       "      <td>0</td>\n",
       "      <td>0</td>\n",
       "      <td>3.0</td>\n",
       "      <td>0</td>\n",
       "      <td>1</td>\n",
       "    </tr>\n",
       "    <tr>\n",
       "      <th>3</th>\n",
       "      <td>53</td>\n",
       "      <td>99</td>\n",
       "      <td>house</td>\n",
       "      <td>Córdoba</td>\n",
       "      <td>Córdoba</td>\n",
       "      <td>47.67112</td>\n",
       "      <td>180.0</td>\n",
       "      <td>1</td>\n",
       "      <td>0</td>\n",
       "      <td>0</td>\n",
       "      <td>0</td>\n",
       "      <td>1</td>\n",
       "      <td>1</td>\n",
       "      <td>0</td>\n",
       "      <td>NaN</td>\n",
       "      <td>0</td>\n",
       "      <td>1</td>\n",
       "    </tr>\n",
       "    <tr>\n",
       "      <th>4</th>\n",
       "      <td>104</td>\n",
       "      <td>191</td>\n",
       "      <td>apartment</td>\n",
       "      <td>Córdoba</td>\n",
       "      <td>Córdoba</td>\n",
       "      <td>145.00000</td>\n",
       "      <td>85.0</td>\n",
       "      <td>0</td>\n",
       "      <td>0</td>\n",
       "      <td>0</td>\n",
       "      <td>0</td>\n",
       "      <td>0</td>\n",
       "      <td>0</td>\n",
       "      <td>0</td>\n",
       "      <td>2.0</td>\n",
       "      <td>1</td>\n",
       "      <td>0</td>\n",
       "    </tr>\n",
       "  </tbody>\n",
       "</table>\n",
       "</div>"
      ],
      "text/plain": [
       "   index  Unnamed: 0 property_type place_name state_name  price_aprox_usd  \\\n",
       "0     48          89     apartment    Córdoba    Córdoba         50.00000   \n",
       "1     49          92     apartment    Córdoba    Córdoba        120.00000   \n",
       "2     50          93         house    Córdoba    Córdoba        385.00000   \n",
       "3     53          99         house    Córdoba    Córdoba         47.67112   \n",
       "4    104         191     apartment    Córdoba    Córdoba        145.00000   \n",
       "\n",
       "   surface_covered_in_m2  cochera  pileta  parrilla  amoblado  patio  terraza  \\\n",
       "0                   53.0        0       0         0         0      0        0   \n",
       "1                   73.0        0       0         0         0      0        0   \n",
       "2                  416.0        0       0         0         0      0        0   \n",
       "3                  180.0        1       0         0         0      1        1   \n",
       "4                   85.0        0       0         0         0      0        0   \n",
       "\n",
       "   jardin  ambientes_final  apartment  house  \n",
       "0       0              1.0          1      0  \n",
       "1       0              2.0          1      0  \n",
       "2       0              3.0          0      1  \n",
       "3       0              NaN          0      1  \n",
       "4       0              2.0          1      0  "
      ]
     },
     "execution_count": 13,
     "metadata": {},
     "output_type": "execute_result"
    }
   ],
   "source": [
    "data.head()"
   ]
  },
  {
   "cell_type": "markdown",
   "id": "4c3a39d6-11b8-405f-95b5-c312defeffff",
   "metadata": {},
   "source": [
    "---\n"
   ]
  },
  {
   "cell_type": "code",
   "execution_count": 14,
   "id": "8e599ef9-da65-43df-a851-ed2a4e0260b3",
   "metadata": {
    "tags": []
   },
   "outputs": [],
   "source": [
    "work = data[['price_aprox_usd', 'surface_covered_in_m2', 'apartment', 'cochera', 'pileta', 'patio', 'terraza']]"
   ]
  },
  {
   "cell_type": "code",
   "execution_count": 15,
   "id": "0a6bafd5-4d8a-4d5e-9be3-b481ff2adcc4",
   "metadata": {},
   "outputs": [
    {
     "data": {
      "image/png": "[encoded data removed]",
      "text/plain": [
       "<Figure size 1152x576 with 2 Axes>"
      ]
     },
     "metadata": {
      "needs_background": "light"
     },
     "output_type": "display_data"
    }
   ],
   "source": [
    "plt.figure(figsize=(16, 8))\n",
    "sns.heatmap(work.corr(), annot = True, vmin = -1, vmax = 1, cmap = 'Oranges')\n",
    "plt.title(\"Relación de características observadas\", fontdict = {'fontsize': 24})\n",
    "plt.show()"
   ]
  },
  {
   "cell_type": "code",
   "execution_count": 16,
   "id": "91b89813-9530-40b2-b85d-33562afea5ee",
   "metadata": {},
   "outputs": [
    {
     "data": {
      "image/png": "[encoded data removed]",
      "text/plain": [
       "<Figure size 1152x288 with 1 Axes>"
      ]
     },
     "metadata": {
      "needs_background": "light"
     },
     "output_type": "display_data"
    }
   ],
   "source": [
    "plt.figure(figsize=(16, 4))\n",
    "sns.regplot(data = work, x = 'surface_covered_in_m2', y = 'price_aprox_usd', ci = None, scatter_kws = {'color':'r', 's':4})\n",
    "plt.title(\"Precio según Superficie Cubierta\", fontdict = {'fontsize': 24})\n",
    "plt.ylabel('Miles de dólares', fontdict = {'fontsize': 16})\n",
    "plt.xlabel(\"Superficie Cubierta\", fontdict = {'fontsize': 16})\n",
    "plt.show()"
   ]
  },
  {
   "cell_type": "code",
   "execution_count": 17,
   "id": "154601b0-a2bd-430b-b991-56bf80d31a53",
   "metadata": {},
   "outputs": [
    {
     "data": {
      "image/png": "[encoded data removed]",
      "text/plain": [
       "<Figure size 1152x288 with 1 Axes>"
      ]
     },
     "metadata": {
      "needs_background": "light"
     },
     "output_type": "display_data"
    }
   ],
   "source": [
    "plt.figure(figsize=(16, 4))\n",
    "sns.stripplot(y = 'property_type', x = \"price_aprox_usd\", data = data, orient= 'h', palette = 'Set1', size = 5)\n",
    "plt.title(\"Precio por Tipo de propiedad\", fontdict = {'fontsize': 24})\n",
    "plt.ylabel('Tipo de propiedad', fontdict = {'fontsize': 16})\n",
    "plt.xlabel(\"Precio en miles de dólares\", fontdict = {'fontsize': 16})\n",
    "plt.show()"
   ]
  },
  {
   "cell_type": "code",
   "execution_count": 18,
   "id": "3a736a25-05cc-4ca7-85de-bce12072cabc",
   "metadata": {},
   "outputs": [
    {
     "data": {
      "image/png": "[encoded data removed]",
      "text/plain": [
       "<Figure size 1152x288 with 1 Axes>"
      ]
     },
     "metadata": {
      "needs_background": "light"
     },
     "output_type": "display_data"
    }
   ],
   "source": [
    "plt.figure(figsize=(16, 4))\n",
    "sns.stripplot(y = 'property_type', x = \"surface_covered_in_m2\", data = data, orient= 'h', palette = 'Set1', size = 5)\n",
    "plt.title(\"Superficie cubierta por Tipo de propiedad\", fontdict = {'fontsize': 24})\n",
    "plt.ylabel('Tipo de propiedad', fontdict = {'fontsize': 16})\n",
    "plt.xlabel(\"Metros cuadrados\", fontdict = {'fontsize': 16})\n",
    "plt.show()"
   ]
  },
  {
   "cell_type": "markdown",
   "id": "94064bdf-554c-4cae-a454-8256fbcf81c7",
   "metadata": {},
   "source": [
    "---\n",
    "\n"
   ]
  },
  {
   "cell_type": "code",
   "execution_count": 19,
   "id": "e30ddc69-c16f-4bab-8d13-0bc4c0ede471",
   "metadata": {},
   "outputs": [],
   "source": [
    "def train_LinearRegression(X, y) :\n",
    "    u\"\"\" Performs an Ordinary Least Squares linear regression from Scikit-Learn linear models\n",
    "    \n",
    "    X array of array of features\n",
    "    y array of target values\n",
    "\n",
    "    Prints the R2 values for training and test values\n",
    "    \n",
    "    \"\"\"\n",
    "    \n",
    "    model = LinearRegression(fit_intercept = True)\n",
    "    Xtrain, Xtest, ytrain, ytest = train_test_split(X, y, random_state = 1)\n",
    "    \n",
    "    model.fit(Xtrain, ytrain)\n",
    "    r2_train = model.score(Xtrain, ytrain).round(3)\n",
    "    \n",
    "    ypred = model.predict(Xtest)\n",
    "    r2_test = r2_score(ytest, ypred).round(3)\n",
    "\n",
    "    __mae = mean_absolute_error(ytest, ypred).round(3)\n",
    "    __mse = mean_squared_error(ytest, ypred).round(3)\n",
    "    __smse = np.sqrt(__mse).round(3)\n",
    "    \n",
    "    df = pd.DataFrame()\n",
    "\n",
    "    df = pd.concat([df, pd.DataFrame(columns = ['Features'], data = [ str(list(X.columns)) ] )], axis = 1)\n",
    "\n",
    "    df = pd.concat([df, pd.DataFrame(columns = ['MAE'], data = [__mae] )], axis = 1)\n",
    "    df = pd.concat([df, pd.DataFrame(columns = ['MSE'], data = [__mse] )], axis = 1)\n",
    "    df = pd.concat([df, pd.DataFrame(columns = ['SMSE'], data = [__smse] )], axis = 1)\n",
    "\n",
    "    df = pd.concat([df, pd.DataFrame(columns = ['R2 train'], data = [r2_train] )], axis = 1)\n",
    "    df = pd.concat([df, pd.DataFrame(columns = ['R2 test'], data = [r2_test] )], axis = 1)\n",
    "    \n",
    "    return model, df, (Xtest, ytest, ypred)\n",
    "\n",
    "    \n"
   ]
  },
  {
   "cell_type": "code",
   "execution_count": 20,
   "id": "dd51cd65-e7fe-47f3-9d57-319208f6941e",
   "metadata": {},
   "outputs": [],
   "source": [
    "def stats_OLS(X, y) :\n",
    "    u\"\"\" Performs an Ordinary Least Squares linear regression from statsmodels\n",
    "    X array of array of features\n",
    "    y array of target values\n",
    "    Returns a RegressionResult object\n",
    "    \"\"\"\n",
    "\n",
    "    __X = sm.add_constant(X)\n",
    "    result = sm.OLS(y, __X).fit()\n",
    "    \n",
    "    return result"
   ]
  },
  {
   "cell_type": "markdown",
   "id": "c14e733b-ab75-45b1-8899-6c38ef56cf5e",
   "metadata": {},
   "source": [
    "---\n",
    "### Train models\n"
   ]
  },
  {
   "cell_type": "code",
   "execution_count": 21,
   "id": "34c43c28-f0ee-4726-856d-a73d68f32bf2",
   "metadata": {},
   "outputs": [],
   "source": [
    "pd.options.display.max_colwidth = 80"
   ]
  },
  {
   "cell_type": "code",
   "execution_count": 22,
   "id": "8033a023-153c-4714-9dad-85359a07da4e",
   "metadata": {},
   "outputs": [
    {
     "data": {
      "text/html": [
       "<div>\n",
       "<style scoped>\n",
       "    .dataframe tbody tr th:only-of-type {\n",
       "        vertical-align: middle;\n",
       "    }\n",
       "\n",
       "    .dataframe tbody tr th {\n",
       "        vertical-align: top;\n",
       "    }\n",
       "\n",
       "    .dataframe thead th {\n",
       "        text-align: right;\n",
       "    }\n",
       "</style>\n",
       "<table border=\"1\" class=\"dataframe\">\n",
       "  <thead>\n",
       "    <tr style=\"text-align: right;\">\n",
       "      <th></th>\n",
       "      <th>Features</th>\n",
       "      <th>MAE</th>\n",
       "      <th>MSE</th>\n",
       "      <th>SMSE</th>\n",
       "      <th>R2 train</th>\n",
       "      <th>R2 test</th>\n",
       "    </tr>\n",
       "  </thead>\n",
       "  <tbody>\n",
       "    <tr>\n",
       "      <th>0</th>\n",
       "      <td>['surface_covered_in_m2']</td>\n",
       "      <td>31.341</td>\n",
       "      <td>2253.111</td>\n",
       "      <td>47.467</td>\n",
       "      <td>0.67</td>\n",
       "      <td>0.712</td>\n",
       "    </tr>\n",
       "  </tbody>\n",
       "</table>\n",
       "</div>"
      ],
      "text/plain": [
       "                    Features     MAE       MSE    SMSE  R2 train  R2 test\n",
       "0  ['surface_covered_in_m2']  31.341  2253.111  47.467      0.67    0.712"
      ]
     },
     "metadata": {},
     "output_type": "display_data"
    },
    {
     "data": {
      "text/html": [
       "<table class=\"simpletable\">\n",
       "<caption>OLS Regression Results</caption>\n",
       "<tr>\n",
       "  <th>Dep. Variable:</th>     <td>price_aprox_usd</td> <th>  R-squared:         </th> <td>   0.681</td> \n",
       "</tr>\n",
       "<tr>\n",
       "  <th>Model:</th>                   <td>OLS</td>       <th>  Adj. R-squared:    </th> <td>   0.681</td> \n",
       "</tr>\n",
       "<tr>\n",
       "  <th>Method:</th>             <td>Least Squares</td>  <th>  F-statistic:       </th> <td>   7815.</td> \n",
       "</tr>\n",
       "<tr>\n",
       "  <th>Date:</th>             <td>Fri, 22 Apr 2022</td> <th>  Prob (F-statistic):</th>  <td>  0.00</td>  \n",
       "</tr>\n",
       "<tr>\n",
       "  <th>Time:</th>                 <td>21:41:08</td>     <th>  Log-Likelihood:    </th> <td> -19424.</td> \n",
       "</tr>\n",
       "<tr>\n",
       "  <th>No. Observations:</th>      <td>  3662</td>      <th>  AIC:               </th> <td>3.885e+04</td>\n",
       "</tr>\n",
       "<tr>\n",
       "  <th>Df Residuals:</th>          <td>  3660</td>      <th>  BIC:               </th> <td>3.886e+04</td>\n",
       "</tr>\n",
       "<tr>\n",
       "  <th>Df Model:</th>              <td>     1</td>      <th>                     </th>     <td> </td>    \n",
       "</tr>\n",
       "<tr>\n",
       "  <th>Covariance Type:</th>      <td>nonrobust</td>    <th>                     </th>     <td> </td>    \n",
       "</tr>\n",
       "</table>\n",
       "<table class=\"simpletable\">\n",
       "<tr>\n",
       "            <td></td>               <th>coef</th>     <th>std err</th>      <th>t</th>      <th>P>|t|</th>  <th>[0.025</th>    <th>0.975]</th>  \n",
       "</tr>\n",
       "<tr>\n",
       "  <th>const</th>                 <td>   38.4180</td> <td>    1.245</td> <td>   30.847</td> <td> 0.000</td> <td>   35.976</td> <td>   40.860</td>\n",
       "</tr>\n",
       "<tr>\n",
       "  <th>surface_covered_in_m2</th> <td>    0.8068</td> <td>    0.009</td> <td>   88.401</td> <td> 0.000</td> <td>    0.789</td> <td>    0.825</td>\n",
       "</tr>\n",
       "</table>\n",
       "<table class=\"simpletable\">\n",
       "<tr>\n",
       "  <th>Omnibus:</th>       <td>595.249</td> <th>  Durbin-Watson:     </th> <td>   1.714</td>\n",
       "</tr>\n",
       "<tr>\n",
       "  <th>Prob(Omnibus):</th> <td> 0.000</td>  <th>  Jarque-Bera (JB):  </th> <td>5771.255</td>\n",
       "</tr>\n",
       "<tr>\n",
       "  <th>Skew:</th>          <td> 0.471</td>  <th>  Prob(JB):          </th> <td>    0.00</td>\n",
       "</tr>\n",
       "<tr>\n",
       "  <th>Kurtosis:</th>      <td> 9.078</td>  <th>  Cond. No.          </th> <td>    211.</td>\n",
       "</tr>\n",
       "</table><br/><br/>Notes:<br/>[1] Standard Errors assume that the covariance matrix of the errors is correctly specified."
      ],
      "text/plain": [
       "<class 'statsmodels.iolib.summary.Summary'>\n",
       "\"\"\"\n",
       "                            OLS Regression Results                            \n",
       "==============================================================================\n",
       "Dep. Variable:        price_aprox_usd   R-squared:                       0.681\n",
       "Model:                            OLS   Adj. R-squared:                  0.681\n",
       "Method:                 Least Squares   F-statistic:                     7815.\n",
       "Date:                Fri, 22 Apr 2022   Prob (F-statistic):               0.00\n",
       "Time:                        21:41:08   Log-Likelihood:                -19424.\n",
       "No. Observations:                3662   AIC:                         3.885e+04\n",
       "Df Residuals:                    3660   BIC:                         3.886e+04\n",
       "Df Model:                           1                                         \n",
       "Covariance Type:            nonrobust                                         \n",
       "=========================================================================================\n",
       "                            coef    std err          t      P>|t|      [0.025      0.975]\n",
       "-----------------------------------------------------------------------------------------\n",
       "const                    38.4180      1.245     30.847      0.000      35.976      40.860\n",
       "surface_covered_in_m2     0.8068      0.009     88.401      0.000       0.789       0.825\n",
       "==============================================================================\n",
       "Omnibus:                      595.249   Durbin-Watson:                   1.714\n",
       "Prob(Omnibus):                  0.000   Jarque-Bera (JB):             5771.255\n",
       "Skew:                           0.471   Prob(JB):                         0.00\n",
       "Kurtosis:                       9.078   Cond. No.                         211.\n",
       "==============================================================================\n",
       "\n",
       "Notes:\n",
       "[1] Standard Errors assume that the covariance matrix of the errors is correctly specified.\n",
       "\"\"\""
      ]
     },
     "execution_count": 22,
     "metadata": {},
     "output_type": "execute_result"
    }
   ],
   "source": [
    "\n",
    "X = data[['surface_covered_in_m2']]\n",
    "y = data['price_aprox_usd']\n",
    "model, result, test = train_LinearRegression(X, y)\n",
    "display(result)\n",
    "stats_OLS(X, y).summary()"
   ]
  },
  {
   "cell_type": "code",
   "execution_count": 23,
   "id": "78d0bb9c-81a7-4869-9d16-13ae44da7dec",
   "metadata": {},
   "outputs": [
    {
     "data": {
      "text/html": [
       "<div>\n",
       "<style scoped>\n",
       "    .dataframe tbody tr th:only-of-type {\n",
       "        vertical-align: middle;\n",
       "    }\n",
       "\n",
       "    .dataframe tbody tr th {\n",
       "        vertical-align: top;\n",
       "    }\n",
       "\n",
       "    .dataframe thead th {\n",
       "        text-align: right;\n",
       "    }\n",
       "</style>\n",
       "<table border=\"1\" class=\"dataframe\">\n",
       "  <thead>\n",
       "    <tr style=\"text-align: right;\">\n",
       "      <th></th>\n",
       "      <th>Features</th>\n",
       "      <th>MAE</th>\n",
       "      <th>MSE</th>\n",
       "      <th>SMSE</th>\n",
       "      <th>R2 train</th>\n",
       "      <th>R2 test</th>\n",
       "    </tr>\n",
       "  </thead>\n",
       "  <tbody>\n",
       "    <tr>\n",
       "      <th>0</th>\n",
       "      <td>['surface_covered_in_m2', 'house']</td>\n",
       "      <td>30.329</td>\n",
       "      <td>2073.59</td>\n",
       "      <td>45.537</td>\n",
       "      <td>0.689</td>\n",
       "      <td>0.735</td>\n",
       "    </tr>\n",
       "  </tbody>\n",
       "</table>\n",
       "</div>"
      ],
      "text/plain": [
       "                             Features     MAE      MSE    SMSE  R2 train  \\\n",
       "0  ['surface_covered_in_m2', 'house']  30.329  2073.59  45.537     0.689   \n",
       "\n",
       "   R2 test  \n",
       "0    0.735  "
      ]
     },
     "metadata": {},
     "output_type": "display_data"
    },
    {
     "data": {
      "text/html": [
       "<table class=\"simpletable\">\n",
       "<caption>OLS Regression Results</caption>\n",
       "<tr>\n",
       "  <th>Dep. Variable:</th>     <td>price_aprox_usd</td> <th>  R-squared:         </th> <td>   0.701</td> \n",
       "</tr>\n",
       "<tr>\n",
       "  <th>Model:</th>                   <td>OLS</td>       <th>  Adj. R-squared:    </th> <td>   0.701</td> \n",
       "</tr>\n",
       "<tr>\n",
       "  <th>Method:</th>             <td>Least Squares</td>  <th>  F-statistic:       </th> <td>   4291.</td> \n",
       "</tr>\n",
       "<tr>\n",
       "  <th>Date:</th>             <td>Fri, 22 Apr 2022</td> <th>  Prob (F-statistic):</th>  <td>  0.00</td>  \n",
       "</tr>\n",
       "<tr>\n",
       "  <th>Time:</th>                 <td>21:41:08</td>     <th>  Log-Likelihood:    </th> <td> -19305.</td> \n",
       "</tr>\n",
       "<tr>\n",
       "  <th>No. Observations:</th>      <td>  3662</td>      <th>  AIC:               </th> <td>3.862e+04</td>\n",
       "</tr>\n",
       "<tr>\n",
       "  <th>Df Residuals:</th>          <td>  3659</td>      <th>  BIC:               </th> <td>3.863e+04</td>\n",
       "</tr>\n",
       "<tr>\n",
       "  <th>Df Model:</th>              <td>     2</td>      <th>                     </th>     <td> </td>    \n",
       "</tr>\n",
       "<tr>\n",
       "  <th>Covariance Type:</th>      <td>nonrobust</td>    <th>                     </th>     <td> </td>    \n",
       "</tr>\n",
       "</table>\n",
       "<table class=\"simpletable\">\n",
       "<tr>\n",
       "            <td></td>               <th>coef</th>     <th>std err</th>      <th>t</th>      <th>P>|t|</th>  <th>[0.025</th>    <th>0.975]</th>  \n",
       "</tr>\n",
       "<tr>\n",
       "  <th>const</th>                 <td>   33.3667</td> <td>    1.248</td> <td>   26.732</td> <td> 0.000</td> <td>   30.919</td> <td>   35.814</td>\n",
       "</tr>\n",
       "<tr>\n",
       "  <th>surface_covered_in_m2</th> <td>    0.9943</td> <td>    0.015</td> <td>   66.837</td> <td> 0.000</td> <td>    0.965</td> <td>    1.023</td>\n",
       "</tr>\n",
       "<tr>\n",
       "  <th>house</th>                 <td>  -43.6373</td> <td>    2.785</td> <td>  -15.666</td> <td> 0.000</td> <td>  -49.098</td> <td>  -38.176</td>\n",
       "</tr>\n",
       "</table>\n",
       "<table class=\"simpletable\">\n",
       "<tr>\n",
       "  <th>Omnibus:</th>       <td>633.797</td> <th>  Durbin-Watson:     </th> <td>   1.765</td>\n",
       "</tr>\n",
       "<tr>\n",
       "  <th>Prob(Omnibus):</th> <td> 0.000</td>  <th>  Jarque-Bera (JB):  </th> <td>8635.081</td>\n",
       "</tr>\n",
       "<tr>\n",
       "  <th>Skew:</th>          <td> 0.398</td>  <th>  Prob(JB):          </th> <td>    0.00</td>\n",
       "</tr>\n",
       "<tr>\n",
       "  <th>Kurtosis:</th>      <td>10.481</td>  <th>  Cond. No.          </th> <td>    492.</td>\n",
       "</tr>\n",
       "</table><br/><br/>Notes:<br/>[1] Standard Errors assume that the covariance matrix of the errors is correctly specified."
      ],
      "text/plain": [
       "<class 'statsmodels.iolib.summary.Summary'>\n",
       "\"\"\"\n",
       "                            OLS Regression Results                            \n",
       "==============================================================================\n",
       "Dep. Variable:        price_aprox_usd   R-squared:                       0.701\n",
       "Model:                            OLS   Adj. R-squared:                  0.701\n",
       "Method:                 Least Squares   F-statistic:                     4291.\n",
       "Date:                Fri, 22 Apr 2022   Prob (F-statistic):               0.00\n",
       "Time:                        21:41:08   Log-Likelihood:                -19305.\n",
       "No. Observations:                3662   AIC:                         3.862e+04\n",
       "Df Residuals:                    3659   BIC:                         3.863e+04\n",
       "Df Model:                           2                                         \n",
       "Covariance Type:            nonrobust                                         \n",
       "=========================================================================================\n",
       "                            coef    std err          t      P>|t|      [0.025      0.975]\n",
       "-----------------------------------------------------------------------------------------\n",
       "const                    33.3667      1.248     26.732      0.000      30.919      35.814\n",
       "surface_covered_in_m2     0.9943      0.015     66.837      0.000       0.965       1.023\n",
       "house                   -43.6373      2.785    -15.666      0.000     -49.098     -38.176\n",
       "==============================================================================\n",
       "Omnibus:                      633.797   Durbin-Watson:                   1.765\n",
       "Prob(Omnibus):                  0.000   Jarque-Bera (JB):             8635.081\n",
       "Skew:                           0.398   Prob(JB):                         0.00\n",
       "Kurtosis:                      10.481   Cond. No.                         492.\n",
       "==============================================================================\n",
       "\n",
       "Notes:\n",
       "[1] Standard Errors assume that the covariance matrix of the errors is correctly specified.\n",
       "\"\"\""
      ]
     },
     "execution_count": 23,
     "metadata": {},
     "output_type": "execute_result"
    }
   ],
   "source": [
    "\n",
    "X = data[['surface_covered_in_m2', 'house']]\n",
    "y = data['price_aprox_usd']\n",
    "model, result, test = train_LinearRegression(X, y)\n",
    "display(result)\n",
    "stats_OLS(X, y).summary()"
   ]
  },
  {
   "cell_type": "code",
   "execution_count": 24,
   "id": "6424a62b-1ab8-4346-9992-eeed2371425e",
   "metadata": {},
   "outputs": [
    {
     "data": {
      "text/html": [
       "<div>\n",
       "<style scoped>\n",
       "    .dataframe tbody tr th:only-of-type {\n",
       "        vertical-align: middle;\n",
       "    }\n",
       "\n",
       "    .dataframe tbody tr th {\n",
       "        vertical-align: top;\n",
       "    }\n",
       "\n",
       "    .dataframe thead th {\n",
       "        text-align: right;\n",
       "    }\n",
       "</style>\n",
       "<table border=\"1\" class=\"dataframe\">\n",
       "  <thead>\n",
       "    <tr style=\"text-align: right;\">\n",
       "      <th></th>\n",
       "      <th>Features</th>\n",
       "      <th>MAE</th>\n",
       "      <th>MSE</th>\n",
       "      <th>SMSE</th>\n",
       "      <th>R2 train</th>\n",
       "      <th>R2 test</th>\n",
       "    </tr>\n",
       "  </thead>\n",
       "  <tbody>\n",
       "    <tr>\n",
       "      <th>0</th>\n",
       "      <td>['surface_covered_in_m2', 'cochera']</td>\n",
       "      <td>31.523</td>\n",
       "      <td>2243.508</td>\n",
       "      <td>47.366</td>\n",
       "      <td>0.672</td>\n",
       "      <td>0.713</td>\n",
       "    </tr>\n",
       "  </tbody>\n",
       "</table>\n",
       "</div>"
      ],
      "text/plain": [
       "                               Features     MAE       MSE    SMSE  R2 train  \\\n",
       "0  ['surface_covered_in_m2', 'cochera']  31.523  2243.508  47.366     0.672   \n",
       "\n",
       "   R2 test  \n",
       "0    0.713  "
      ]
     },
     "metadata": {},
     "output_type": "display_data"
    }
   ],
   "source": [
    "\n",
    "X = data[['surface_covered_in_m2','cochera']]\n",
    "y = data['price_aprox_usd']\n",
    "model, result, test = train_LinearRegression(X, y)\n",
    "display(result)\n",
    "#stats_OLS(X, y).summary()"
   ]
  },
  {
   "cell_type": "code",
   "execution_count": 25,
   "id": "f95ed843-f462-4de1-aeef-ab0a644480aa",
   "metadata": {},
   "outputs": [
    {
     "data": {
      "text/html": [
       "<div>\n",
       "<style scoped>\n",
       "    .dataframe tbody tr th:only-of-type {\n",
       "        vertical-align: middle;\n",
       "    }\n",
       "\n",
       "    .dataframe tbody tr th {\n",
       "        vertical-align: top;\n",
       "    }\n",
       "\n",
       "    .dataframe thead th {\n",
       "        text-align: right;\n",
       "    }\n",
       "</style>\n",
       "<table border=\"1\" class=\"dataframe\">\n",
       "  <thead>\n",
       "    <tr style=\"text-align: right;\">\n",
       "      <th></th>\n",
       "      <th>Features</th>\n",
       "      <th>MAE</th>\n",
       "      <th>MSE</th>\n",
       "      <th>SMSE</th>\n",
       "      <th>R2 train</th>\n",
       "      <th>R2 test</th>\n",
       "    </tr>\n",
       "  </thead>\n",
       "  <tbody>\n",
       "    <tr>\n",
       "      <th>0</th>\n",
       "      <td>['surface_covered_in_m2', 'pileta']</td>\n",
       "      <td>31.08</td>\n",
       "      <td>2204.946</td>\n",
       "      <td>46.957</td>\n",
       "      <td>0.676</td>\n",
       "      <td>0.718</td>\n",
       "    </tr>\n",
       "  </tbody>\n",
       "</table>\n",
       "</div>"
      ],
      "text/plain": [
       "                              Features    MAE       MSE    SMSE  R2 train  \\\n",
       "0  ['surface_covered_in_m2', 'pileta']  31.08  2204.946  46.957     0.676   \n",
       "\n",
       "   R2 test  \n",
       "0    0.718  "
      ]
     },
     "metadata": {},
     "output_type": "display_data"
    }
   ],
   "source": [
    "\n",
    "X = data[['surface_covered_in_m2','pileta']]\n",
    "y = data['price_aprox_usd']\n",
    "model, result, test = train_LinearRegression(X, y)\n",
    "display(result)\n",
    "#stats_OLS(X, y).summary()"
   ]
  },
  {
   "cell_type": "code",
   "execution_count": 26,
   "id": "fef4c2ca-40c6-4563-b6dc-e33f07ce8016",
   "metadata": {},
   "outputs": [
    {
     "data": {
      "text/html": [
       "<div>\n",
       "<style scoped>\n",
       "    .dataframe tbody tr th:only-of-type {\n",
       "        vertical-align: middle;\n",
       "    }\n",
       "\n",
       "    .dataframe tbody tr th {\n",
       "        vertical-align: top;\n",
       "    }\n",
       "\n",
       "    .dataframe thead th {\n",
       "        text-align: right;\n",
       "    }\n",
       "</style>\n",
       "<table border=\"1\" class=\"dataframe\">\n",
       "  <thead>\n",
       "    <tr style=\"text-align: right;\">\n",
       "      <th></th>\n",
       "      <th>Features</th>\n",
       "      <th>MAE</th>\n",
       "      <th>MSE</th>\n",
       "      <th>SMSE</th>\n",
       "      <th>R2 train</th>\n",
       "      <th>R2 test</th>\n",
       "    </tr>\n",
       "  </thead>\n",
       "  <tbody>\n",
       "    <tr>\n",
       "      <th>0</th>\n",
       "      <td>['surface_covered_in_m2', 'patio']</td>\n",
       "      <td>31.318</td>\n",
       "      <td>2175.756</td>\n",
       "      <td>46.645</td>\n",
       "      <td>0.684</td>\n",
       "      <td>0.722</td>\n",
       "    </tr>\n",
       "  </tbody>\n",
       "</table>\n",
       "</div>"
      ],
      "text/plain": [
       "                             Features     MAE       MSE    SMSE  R2 train  \\\n",
       "0  ['surface_covered_in_m2', 'patio']  31.318  2175.756  46.645     0.684   \n",
       "\n",
       "   R2 test  \n",
       "0    0.722  "
      ]
     },
     "metadata": {},
     "output_type": "display_data"
    }
   ],
   "source": [
    "\n",
    "X = data[['surface_covered_in_m2','patio']]\n",
    "y = data['price_aprox_usd']\n",
    "model, result, test = train_LinearRegression(X, y)\n",
    "display(result)\n",
    "#stats_OLS(X, y).summary()"
   ]
  },
  {
   "cell_type": "code",
   "execution_count": 27,
   "id": "1ed8130b-9d3e-4507-8d90-e464c4d3ea8b",
   "metadata": {},
   "outputs": [
    {
     "data": {
      "text/html": [
       "<div>\n",
       "<style scoped>\n",
       "    .dataframe tbody tr th:only-of-type {\n",
       "        vertical-align: middle;\n",
       "    }\n",
       "\n",
       "    .dataframe tbody tr th {\n",
       "        vertical-align: top;\n",
       "    }\n",
       "\n",
       "    .dataframe thead th {\n",
       "        text-align: right;\n",
       "    }\n",
       "</style>\n",
       "<table border=\"1\" class=\"dataframe\">\n",
       "  <thead>\n",
       "    <tr style=\"text-align: right;\">\n",
       "      <th></th>\n",
       "      <th>Features</th>\n",
       "      <th>MAE</th>\n",
       "      <th>MSE</th>\n",
       "      <th>SMSE</th>\n",
       "      <th>R2 train</th>\n",
       "      <th>R2 test</th>\n",
       "    </tr>\n",
       "  </thead>\n",
       "  <tbody>\n",
       "    <tr>\n",
       "      <th>0</th>\n",
       "      <td>['surface_covered_in_m2', 'terraza']</td>\n",
       "      <td>31.349</td>\n",
       "      <td>2253.511</td>\n",
       "      <td>47.471</td>\n",
       "      <td>0.67</td>\n",
       "      <td>0.712</td>\n",
       "    </tr>\n",
       "  </tbody>\n",
       "</table>\n",
       "</div>"
      ],
      "text/plain": [
       "                               Features     MAE       MSE    SMSE  R2 train  \\\n",
       "0  ['surface_covered_in_m2', 'terraza']  31.349  2253.511  47.471      0.67   \n",
       "\n",
       "   R2 test  \n",
       "0    0.712  "
      ]
     },
     "metadata": {},
     "output_type": "display_data"
    }
   ],
   "source": [
    "\n",
    "X = data[['surface_covered_in_m2','terraza']]\n",
    "y = data['price_aprox_usd']\n",
    "model, result, test = train_LinearRegression(X, y)\n",
    "display(result)\n",
    "#stats_OLS(X, y).summary()"
   ]
  },
  {
   "cell_type": "markdown",
   "id": "f207f706-e7cb-4dee-9cfb-7268c4b372db",
   "metadata": {},
   "source": [
    "---"
   ]
  },
  {
   "cell_type": "code",
   "execution_count": 28,
   "id": "c469181a-e1e8-4fe2-90e1-aeb479e1a446",
   "metadata": {},
   "outputs": [
    {
     "data": {
      "text/html": [
       "<div>\n",
       "<style scoped>\n",
       "    .dataframe tbody tr th:only-of-type {\n",
       "        vertical-align: middle;\n",
       "    }\n",
       "\n",
       "    .dataframe tbody tr th {\n",
       "        vertical-align: top;\n",
       "    }\n",
       "\n",
       "    .dataframe thead th {\n",
       "        text-align: right;\n",
       "    }\n",
       "</style>\n",
       "<table border=\"1\" class=\"dataframe\">\n",
       "  <thead>\n",
       "    <tr style=\"text-align: right;\">\n",
       "      <th></th>\n",
       "      <th>Features</th>\n",
       "      <th>MAE</th>\n",
       "      <th>MSE</th>\n",
       "      <th>SMSE</th>\n",
       "      <th>R2 train</th>\n",
       "      <th>R2 test</th>\n",
       "    </tr>\n",
       "  </thead>\n",
       "  <tbody>\n",
       "    <tr>\n",
       "      <th>0</th>\n",
       "      <td>['surface_covered_in_m2', 'house', 'cochera']</td>\n",
       "      <td>30.46</td>\n",
       "      <td>2076.725</td>\n",
       "      <td>45.571</td>\n",
       "      <td>0.689</td>\n",
       "      <td>0.734</td>\n",
       "    </tr>\n",
       "  </tbody>\n",
       "</table>\n",
       "</div>"
      ],
      "text/plain": [
       "                                        Features    MAE       MSE    SMSE  \\\n",
       "0  ['surface_covered_in_m2', 'house', 'cochera']  30.46  2076.725  45.571   \n",
       "\n",
       "   R2 train  R2 test  \n",
       "0     0.689    0.734  "
      ]
     },
     "metadata": {},
     "output_type": "display_data"
    }
   ],
   "source": [
    "\n",
    "X = data[['surface_covered_in_m2', 'house', 'cochera']]\n",
    "y = data['price_aprox_usd']\n",
    "model, result, test = train_LinearRegression(X, y)\n",
    "display(result)\n",
    "#stats_OLS(X, y).summary()"
   ]
  },
  {
   "cell_type": "code",
   "execution_count": 29,
   "id": "117cff0f-2ea7-4f57-9984-cf08a3e764b6",
   "metadata": {},
   "outputs": [
    {
     "data": {
      "text/html": [
       "<div>\n",
       "<style scoped>\n",
       "    .dataframe tbody tr th:only-of-type {\n",
       "        vertical-align: middle;\n",
       "    }\n",
       "\n",
       "    .dataframe tbody tr th {\n",
       "        vertical-align: top;\n",
       "    }\n",
       "\n",
       "    .dataframe thead th {\n",
       "        text-align: right;\n",
       "    }\n",
       "</style>\n",
       "<table border=\"1\" class=\"dataframe\">\n",
       "  <thead>\n",
       "    <tr style=\"text-align: right;\">\n",
       "      <th></th>\n",
       "      <th>Features</th>\n",
       "      <th>MAE</th>\n",
       "      <th>MSE</th>\n",
       "      <th>SMSE</th>\n",
       "      <th>R2 train</th>\n",
       "      <th>R2 test</th>\n",
       "    </tr>\n",
       "  </thead>\n",
       "  <tbody>\n",
       "    <tr>\n",
       "      <th>0</th>\n",
       "      <td>['surface_covered_in_m2', 'house', 'pileta']</td>\n",
       "      <td>30.079</td>\n",
       "      <td>2040.729</td>\n",
       "      <td>45.174</td>\n",
       "      <td>0.693</td>\n",
       "      <td>0.739</td>\n",
       "    </tr>\n",
       "  </tbody>\n",
       "</table>\n",
       "</div>"
      ],
      "text/plain": [
       "                                       Features     MAE       MSE    SMSE  \\\n",
       "0  ['surface_covered_in_m2', 'house', 'pileta']  30.079  2040.729  45.174   \n",
       "\n",
       "   R2 train  R2 test  \n",
       "0     0.693    0.739  "
      ]
     },
     "metadata": {},
     "output_type": "display_data"
    }
   ],
   "source": [
    "\n",
    "X = data[['surface_covered_in_m2', 'house', 'pileta']]\n",
    "y = data['price_aprox_usd']\n",
    "model, result, test = train_LinearRegression(X, y)\n",
    "display(result)\n",
    "#stats_OLS(X, y).summary()"
   ]
  },
  {
   "cell_type": "markdown",
   "id": "802a864f-cc2b-4606-9ca4-639b038c778a",
   "metadata": {},
   "source": [
    "---"
   ]
  },
  {
   "cell_type": "code",
   "execution_count": 30,
   "id": "eddd193d-e5da-4d22-85d4-433ba32dcc2a",
   "metadata": {},
   "outputs": [
    {
     "data": {
      "text/html": [
       "<div>\n",
       "<style scoped>\n",
       "    .dataframe tbody tr th:only-of-type {\n",
       "        vertical-align: middle;\n",
       "    }\n",
       "\n",
       "    .dataframe tbody tr th {\n",
       "        vertical-align: top;\n",
       "    }\n",
       "\n",
       "    .dataframe thead th {\n",
       "        text-align: right;\n",
       "    }\n",
       "</style>\n",
       "<table border=\"1\" class=\"dataframe\">\n",
       "  <thead>\n",
       "    <tr style=\"text-align: right;\">\n",
       "      <th></th>\n",
       "      <th>Features</th>\n",
       "      <th>MAE</th>\n",
       "      <th>MSE</th>\n",
       "      <th>SMSE</th>\n",
       "      <th>R2 train</th>\n",
       "      <th>R2 test</th>\n",
       "    </tr>\n",
       "  </thead>\n",
       "  <tbody>\n",
       "    <tr>\n",
       "      <th>0</th>\n",
       "      <td>['surface_covered_in_m2', 'house', 'cochera', 'pileta']</td>\n",
       "      <td>30.414</td>\n",
       "      <td>2045.281</td>\n",
       "      <td>45.225</td>\n",
       "      <td>0.695</td>\n",
       "      <td>0.738</td>\n",
       "    </tr>\n",
       "  </tbody>\n",
       "</table>\n",
       "</div>"
      ],
      "text/plain": [
       "                                                  Features     MAE       MSE  \\\n",
       "0  ['surface_covered_in_m2', 'house', 'cochera', 'pileta']  30.414  2045.281   \n",
       "\n",
       "     SMSE  R2 train  R2 test  \n",
       "0  45.225     0.695    0.738  "
      ]
     },
     "metadata": {},
     "output_type": "display_data"
    }
   ],
   "source": [
    "\n",
    "X = data[['surface_covered_in_m2', 'house', 'cochera', 'pileta']]\n",
    "y = data['price_aprox_usd']\n",
    "model, result, test = train_LinearRegression(X, y)\n",
    "display(result)\n",
    "#stats_OLS(X, y).summary()"
   ]
  },
  {
   "cell_type": "markdown",
   "id": "cd9f32dc-cbd8-4de7-8f55-573faee78e48",
   "metadata": {},
   "source": [
    "---"
   ]
  },
  {
   "cell_type": "code",
   "execution_count": 31,
   "id": "2be6b164-6f26-438b-8a1d-f39959dcee53",
   "metadata": {},
   "outputs": [
    {
     "data": {
      "text/html": [
       "<div>\n",
       "<style scoped>\n",
       "    .dataframe tbody tr th:only-of-type {\n",
       "        vertical-align: middle;\n",
       "    }\n",
       "\n",
       "    .dataframe tbody tr th {\n",
       "        vertical-align: top;\n",
       "    }\n",
       "\n",
       "    .dataframe thead th {\n",
       "        text-align: right;\n",
       "    }\n",
       "</style>\n",
       "<table border=\"1\" class=\"dataframe\">\n",
       "  <thead>\n",
       "    <tr style=\"text-align: right;\">\n",
       "      <th></th>\n",
       "      <th>Features</th>\n",
       "      <th>MAE</th>\n",
       "      <th>MSE</th>\n",
       "      <th>SMSE</th>\n",
       "      <th>R2 train</th>\n",
       "      <th>R2 test</th>\n",
       "    </tr>\n",
       "  </thead>\n",
       "  <tbody>\n",
       "    <tr>\n",
       "      <th>0</th>\n",
       "      <td>['surface_covered_in_m2', 'house', 'cochera', 'pileta', 'patio', 'terraza']</td>\n",
       "      <td>30.478</td>\n",
       "      <td>2032.034</td>\n",
       "      <td>45.078</td>\n",
       "      <td>0.701</td>\n",
       "      <td>0.74</td>\n",
       "    </tr>\n",
       "  </tbody>\n",
       "</table>\n",
       "</div>"
      ],
      "text/plain": [
       "                                                                      Features  \\\n",
       "0  ['surface_covered_in_m2', 'house', 'cochera', 'pileta', 'patio', 'terraza']   \n",
       "\n",
       "      MAE       MSE    SMSE  R2 train  R2 test  \n",
       "0  30.478  2032.034  45.078     0.701     0.74  "
      ]
     },
     "metadata": {},
     "output_type": "display_data"
    }
   ],
   "source": [
    "X = data[['surface_covered_in_m2', 'house', 'cochera', 'pileta', 'patio', 'terraza']]\n",
    "y = data['price_aprox_usd']\n",
    "model, result, test = train_LinearRegression(X, y)\n",
    "display(result)\n",
    "#stats_OLS(X, y).summary()"
   ]
  },
  {
   "cell_type": "code",
   "execution_count": 32,
   "id": "193339e8-84ed-4bef-9d0e-d592655764ff",
   "metadata": {},
   "outputs": [
    {
     "data": {
      "image/png": "[encoded data removed]",
      "text/plain": [
       "<Figure size 1152x288 with 1 Axes>"
      ]
     },
     "metadata": {
      "needs_background": "light"
     },
     "output_type": "display_data"
    }
   ],
   "source": [
    "plt.figure(figsize=(16, 4))\n",
    "sns.regplot(x = test[0]['surface_covered_in_m2'], y = test[1], fit_reg = False )\n",
    "sns.regplot(x = test[0]['surface_covered_in_m2'], y = test[2], fit_reg = False )\n",
    "\n",
    "plt.title(\"Precios Reales y Predecidos\", fontdict = {'fontsize': 24})\n",
    "plt.ylabel('Miles de dólares', fontdict = {'fontsize': 16})\n",
    "plt.xlabel(\"Superficie Cubierta\", fontdict = {'fontsize': 16})\n",
    "plt.show()"
   ]
  },
  {
   "cell_type": "code",
   "execution_count": 33,
   "id": "3482579f-62e7-4180-844c-dd794ea05780",
   "metadata": {},
   "outputs": [
    {
     "data": {
      "text/plain": [
       "161.5632976058686"
      ]
     },
     "execution_count": 33,
     "metadata": {},
     "output_type": "execute_result"
    }
   ],
   "source": [
    "# casa de 150 m2 cubiertos con cochera y pileta\n",
    "my_X = [[150, 1, 1, 1, 0, 0]]\n",
    "model.predict(my_X)[0]"
   ]
  }
 ],
 "metadata": {
  "kernelspec": {
   "display_name": "Python 3 (ipykernel)",
   "language": "python",
   "name": "python3"
  },
  "language_info": {
   "codemirror_mode": {
    "name": "ipython",
    "version": 3
   },
   "file_extension": ".py",
   "mimetype": "text/x-python",
   "name": "python",
   "nbconvert_exporter": "python",
   "pygments_lexer": "ipython3",
   "version": "3.9.7"
  }
 },
 "nbformat": 4,
 "nbformat_minor": 5
}
