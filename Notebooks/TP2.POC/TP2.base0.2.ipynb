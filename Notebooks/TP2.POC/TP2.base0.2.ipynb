{
 "cells": [
  {
   "cell_type": "markdown",
   "id": "de76e371",
   "metadata": {},
   "source": [
    "# Digital House - Data Science a Distancia\n",
    "\n",
    "## Trabajo Práctico 2\n",
    "\n",
    "Prepara el dataset original con las características que se presentan en el [valuador de Properati](https://www.properati.com.ar/tools/valuador-propiedades)\n",
    "\n",
    "### Autores: Daniel Borrino, Ivan Mongi, Jessica Polakoff, Julio Tentor\n",
    "\n",
    "<p style=\"text-align:right;\">Mayo 2022</p>"
   ]
  },
  {
   "cell_type": "markdown",
   "id": "2b60f6cd",
   "metadata": {},
   "source": [
    "#### Aspectos técnicos\n",
    "La notebook se ejecuta correctamente en una instalación estándar de Anaconda versión 4.11.0 build  3.21.6, Python 3.9.7\n"
   ]
  },
  {
   "cell_type": "markdown",
   "id": "0ce3effb",
   "metadata": {},
   "source": [
    "#### Librerías necesarias"
   ]
  },
  {
   "cell_type": "code",
   "execution_count": 1,
   "id": "43664799",
   "metadata": {
    "scrolled": true
   },
   "outputs": [],
   "source": [
    "import pandas as pd\n",
    "import numpy as np\n",
    "import seaborn as sns\n",
    "import re\n",
    "import matplotlib.pyplot as plt"
   ]
  },
  {
   "cell_type": "code",
   "execution_count": 2,
   "id": "dd453ce1",
   "metadata": {
    "scrolled": true,
    "tags": []
   },
   "outputs": [],
   "source": [
    "data_url = \"../Data/properatti.csv\"\n",
    "data = pd.read_csv(data_url, encoding=\"utf-8\")"
   ]
  },
  {
   "cell_type": "markdown",
   "id": "8b5d2ba8-9a90-48a4-ad30-221315e20db1",
   "metadata": {},
   "source": [
    "---\n",
    "### Generación del dataset final"
   ]
  },
  {
   "cell_type": "markdown",
   "id": "16bdd10c",
   "metadata": {},
   "source": [
    "#### Eliminamos los valores nulos de la variable Target"
   ]
  },
  {
   "cell_type": "code",
   "execution_count": 3,
   "id": "7240b928",
   "metadata": {
    "scrolled": true
   },
   "outputs": [],
   "source": [
    "#Limpiamos los NaN en el precio\n",
    "data = data.dropna(axis=0, how='any', subset=['price_aprox_usd'])\n",
    "data_clean = data"
   ]
  },
  {
   "cell_type": "markdown",
   "id": "15aef6e2-9561-4635-a0c0-c88fdf34f0d4",
   "metadata": {},
   "source": [
    "#### Seleccionamos solo Capital Federal y Bs.As. zonas Norte, Sur y Oeste"
   ]
  },
  {
   "cell_type": "code",
   "execution_count": 4,
   "id": "5a10b20a-56a6-4ff3-878f-ac7e7421acb7",
   "metadata": {
    "scrolled": true
   },
   "outputs": [],
   "source": [
    "#Seleccionamos solo Capital Federal y Bs.As. zonas Norte, Sur y Oeste\n",
    "iterar_state = ['Capital Federal',\n",
    "                'Bs.As. G.B.A. Zona Norte',\n",
    "                'Bs.As. G.B.A. Zona Sur',\n",
    "                'Bs.As. G.B.A. Zona Oeste']\n",
    "\n",
    "data_clean['state_name'] = [x if x in iterar_state else np.NaN for x in data_clean['state_name']]\n",
    "data_clean = data_clean.dropna(axis=0, how='any', subset=['state_name']).copy()"
   ]
  },
  {
   "cell_type": "markdown",
   "id": "de35f0c0-403a-4ddc-b4c3-423db795ad7e",
   "metadata": {},
   "source": [
    "#### Seleccionamos solo Departamento, Casa y PH"
   ]
  },
  {
   "cell_type": "code",
   "execution_count": 5,
   "id": "2322729d-42ea-4c3c-9bfb-0cfc6bfc1f1e",
   "metadata": {
    "scrolled": true
   },
   "outputs": [],
   "source": [
    "#Seleccionamos solo Departamento, Casa y PH\n",
    "iterar_tipo = data_clean['property_type'].value_counts().head(3)\n",
    "iterar_tipo = iterar_tipo.index\n",
    "\n",
    "data_clean['property_type'] = [x if x in iterar_tipo else np.NaN for x in data_clean['property_type']]\n",
    "data_clean = data_clean.dropna(axis=0, how='any', subset=['property_type']).copy()"
   ]
  },
  {
   "cell_type": "code",
   "execution_count": 6,
   "id": "20511096-6667-4b02-ad70-83fbc2d68273",
   "metadata": {},
   "outputs": [
    {
     "data": {
      "text/plain": [
       "Tigre                3024\n",
       "Nordelta             2879\n",
       "Belgrano             2481\n",
       "Palermo              2425\n",
       "Caballito            2022\n",
       "                     ... \n",
       "San Nicolás           157\n",
       "Villa Bosch           154\n",
       "Paternal              154\n",
       "Lomas del Mirador     146\n",
       "Villa Sarmiento       140\n",
       "Name: place_name, Length: 100, dtype: int64"
      ]
     },
     "execution_count": 6,
     "metadata": {},
     "output_type": "execute_result"
    }
   ],
   "source": [
    "data_clean['place_name'].value_counts().head(100)"
   ]
  },
  {
   "cell_type": "markdown",
   "id": "ebb3fa4e-c76c-47e0-b059-d229b1465ee4",
   "metadata": {},
   "source": [
    "#### Seleccionamos solo Lugares con muchas observaciones"
   ]
  },
  {
   "cell_type": "code",
   "execution_count": 7,
   "id": "98f551be-11a8-4a56-8793-99425ef0467b",
   "metadata": {
    "scrolled": true
   },
   "outputs": [],
   "source": [
    "#Seleccionamos solo Lugares con muchas observaciones\n",
    "iterar_place = data_clean['place_name'].value_counts()[:100]\n",
    "iterar_place = iterar_place.index\n",
    "\n",
    "data_clean['place_name'] = [x if x in iterar_place else np.NaN for x in data_clean['place_name']]\n",
    "data_clean = data_clean.dropna(axis=0, how='any', subset=['place_name']).copy()"
   ]
  },
  {
   "cell_type": "markdown",
   "id": "6c0b53ad",
   "metadata": {},
   "source": [
    "#### Eliminamos Outliers para las variables que vamos a correlacionar: "
   ]
  },
  {
   "cell_type": "code",
   "execution_count": 8,
   "id": "315d9d48",
   "metadata": {
    "scrolled": true
   },
   "outputs": [],
   "source": [
    "#funcion para borrar outliers.\n",
    "def borrar_outliers(data, columnas):\n",
    "    u\"\"\"Solo recibe columnas con valores numericos. \n",
    "    Data: dataset a analizar\n",
    "    Columnas: columnas donde borrar outliers.Deben ser una tupla\"\"\"\n",
    "    cols_limpiar = columnas\n",
    "    mask=np.ones(shape=(data.shape[0]), dtype=bool)\n",
    "\n",
    "    for i in cols_limpiar:\n",
    "        \n",
    "        #calculamos cuartiles, y valores de corte\n",
    "        Q1=data[i].quantile(0.25)\n",
    "        Q3=data[i].quantile(0.75)\n",
    "        RSI=Q3-Q1\n",
    "        max_value=Q3+1.5*RSI\n",
    "        min_value=Q1-1.5*RSI\n",
    "        \n",
    "        #ajusto el min value \n",
    "            # No puede ser negativo.\n",
    "            # No puede estar fuera del boxplot para outliers\n",
    "            # Criterio experto se decide dejar desde el 5% hacia adelante en el precio.\n",
    "            # Además, no consideraremos los que tienen menos de 10m2.\n",
    "            \n",
    "        min_value=max(data[i].quantile(0.05), min_value, 10)\n",
    "        \n",
    "        #filtramos por max y min\n",
    "        mask=np.logical_and(mask, np.logical_and(data[i]>=min_value, data[i]<=max_value))\n",
    "    return data[mask]"
   ]
  },
  {
   "cell_type": "code",
   "execution_count": 9,
   "id": "f2de7894",
   "metadata": {
    "scrolled": true
   },
   "outputs": [],
   "source": [
    "# serie para determinar observaciones sin outliers para precio en dólares y superficie cubierta\n",
    "data_clean['tidy1'] = np.NaN\n",
    "\n",
    "for tipo in iterar_tipo:\n",
    "    for place in iterar_place:\n",
    "        # selecciono por lugar y tipo\n",
    "        mask = np.logical_and(data_clean['place_name']==place, data_clean['property_type']==tipo)\n",
    "        # calcula outliers y los suprime\n",
    "        data_ok = borrar_outliers(data_clean[mask], ('price_aprox_usd', 'surface_covered_in_m2'))\n",
    "        # determina observaciones válidas\n",
    "        data_clean.loc[data_ok.index, 'tidy1'] = True\n"
   ]
  },
  {
   "cell_type": "code",
   "execution_count": 10,
   "id": "8caae013",
   "metadata": {
    "scrolled": true,
    "tags": []
   },
   "outputs": [],
   "source": [
    "# suprimo las observaciones que no me sirven\n",
    "data_clean = data_clean.dropna(axis=0, how='any', subset=['tidy1']).copy()"
   ]
  },
  {
   "cell_type": "markdown",
   "id": "62d51dc5",
   "metadata": {},
   "source": [
    "---\n",
    "#### Creacion de nuevas variables con valor predictivo:\n"
   ]
  },
  {
   "cell_type": "markdown",
   "id": "99ea015c-6799-48a1-8f23-165484a1c961",
   "metadata": {},
   "source": [
    "##### Analisis para Cantidad de ambientes"
   ]
  },
  {
   "cell_type": "code",
   "execution_count": 11,
   "id": "bd2348f3",
   "metadata": {
    "scrolled": true
   },
   "outputs": [],
   "source": [
    "def regex_to_values(col, reg, not_match=0) :\n",
    "    u\"\"\"Returns a serie with the result of apply the regular expresion to the column\n",
    "    the serie have a float value only when regular expression search() method found a match\n",
    "    \n",
    "    col : column where to apply regular expresion\n",
    "    reg : regular expresion compiled\n",
    "    \"\"\"\n",
    "    \n",
    "    serie = col.apply(lambda x : x if x is np.NaN else reg.search(x))\n",
    "    serie = serie.apply(lambda x : not_match if x is np.NaN or x is None else float(x.group(1)))\n",
    "\n",
    "    return serie"
   ]
  },
  {
   "cell_type": "code",
   "execution_count": 12,
   "id": "8e87e6be",
   "metadata": {
    "scrolled": true
   },
   "outputs": [],
   "source": [
    "#Buscamos cantidad de ambientes\n",
    "_pattern = '([1-2][0-9]?)(?= amb)'\n",
    "_express = re.compile(_pattern, flags = re.IGNORECASE)\n",
    "\n",
    "work = regex_to_values(data_clean['description'], _express, 1)\n",
    "\n",
    "data_clean['ambientes'] = work\n"
   ]
  },
  {
   "cell_type": "code",
   "execution_count": 13,
   "id": "ec5da741",
   "metadata": {
    "scrolled": true
   },
   "outputs": [],
   "source": [
    "#realizamos la imputacion\n",
    "#data_clean['ambientes_final'] = data_clean['rooms']\n",
    "#mask = data_clean['ambientes_final'].isnull()\n",
    "#data_clean.loc[mask, 'ambientes_final'] = data_clean.loc[mask, 'ambientes']\n",
    "\n",
    "mask = data_clean['rooms'].notnull()\n",
    "data_clean.loc[mask, 'ambientes'] = data_clean.loc[mask, 'rooms']"
   ]
  },
  {
   "cell_type": "markdown",
   "id": "74befab1-dae7-4f26-bff6-9ded08403cfa",
   "metadata": {},
   "source": [
    "##### Analisis para Cantidad de baños"
   ]
  },
  {
   "cell_type": "code",
   "execution_count": 14,
   "id": "c39dc5a3-9eec-46dc-b73d-0c4dfa6c3d2d",
   "metadata": {},
   "outputs": [],
   "source": [
    "_pattern = '([1-2][0-9]?)(?= baño)'\n",
    "_express = re.compile(_pattern, flags = re.IGNORECASE)\n",
    "\n",
    "work = regex_to_values(data['description'], _express, 1)\n",
    "\n",
    "data_clean['baños'] = work\n"
   ]
  },
  {
   "cell_type": "markdown",
   "id": "137f79c7",
   "metadata": {},
   "source": [
    "---\n",
    "##### Nos proponemos encontrar amenities"
   ]
  },
  {
   "cell_type": "code",
   "execution_count": 15,
   "id": "f421c545",
   "metadata": {
    "scrolled": true,
    "tags": []
   },
   "outputs": [],
   "source": [
    "def regex_to_tags(col, reg, match, not_match = np.NaN) :\n",
    "    u\"\"\"Returns a series with 'match' values result of apply the regular expresion to the column\n",
    "    the 'match' value will be when the regular expression search() method found a match\n",
    "    the 'not_match' value will be when the regular expression serach() method did not found a match\n",
    "    col : column where to apply regular expresion\n",
    "    reg : regular expresion compiled\n",
    "    \"\"\"\n",
    "    \n",
    "    serie = col.apply(lambda x : x if x is np.NaN else reg.search(x))\n",
    "    serie = serie.apply(lambda x : match if x is not None else not_match)\n",
    "   \n",
    "    return serie"
   ]
  },
  {
   "cell_type": "code",
   "execution_count": 16,
   "id": "d4efba6e",
   "metadata": {
    "scrolled": true
   },
   "outputs": [],
   "source": [
    "#Buscamos Balcón\n",
    "_pattern = 'balcon|balcón'\n",
    "_express = re.compile(_pattern, flags = re.IGNORECASE)\n",
    "\n",
    "data_clean['balcón'] = regex_to_tags(data_clean['description'], _express, 1, 0)\n"
   ]
  },
  {
   "cell_type": "code",
   "execution_count": 17,
   "id": "b56a4c70-b82a-4736-af34-e053219e7934",
   "metadata": {
    "scrolled": true
   },
   "outputs": [],
   "source": [
    "#Buscamos Cocheras\n",
    "_pattern = 'cochera|garage|auto'\n",
    "_express = re.compile(_pattern, flags = re.IGNORECASE)\n",
    "\n",
    "data_clean['cochera'] = regex_to_tags(data_clean['description'], _express, 1, 0)\n"
   ]
  },
  {
   "cell_type": "code",
   "execution_count": 18,
   "id": "0b8348cf",
   "metadata": {
    "scrolled": true
   },
   "outputs": [],
   "source": [
    "#Buscamos Parrillas\n",
    "_pattern = 'parrilla'\n",
    "_express = re.compile(_pattern, flags = re.IGNORECASE)\n",
    "\n",
    "data_clean['parrilla'] = regex_to_tags(data_clean['description'], _express, 1, 0)\n"
   ]
  },
  {
   "cell_type": "code",
   "execution_count": 19,
   "id": "b96f022b",
   "metadata": {
    "scrolled": true
   },
   "outputs": [],
   "source": [
    "#Buscamos Piletas\n",
    "_pattern = 'piscina|pileta'\n",
    "_express = re.compile(_pattern, flags = re.IGNORECASE)\n",
    "\n",
    "data_clean['pileta'] = regex_to_tags(data_clean['description'], _express, 1, 0)\n"
   ]
  },
  {
   "cell_type": "code",
   "execution_count": 20,
   "id": "39c84c58-81d8-4f4a-8014-d83b624ba516",
   "metadata": {
    "scrolled": true
   },
   "outputs": [],
   "source": [
    "#Buscamos Amoblado\n",
    "_pattern = 'amoblado'\n",
    "_express = re.compile(_pattern, flags = re.IGNORECASE)\n",
    "\n",
    "data_clean['amoblado'] = regex_to_tags(data_clean['description'], _express, 1, 0)\n"
   ]
  },
  {
   "cell_type": "code",
   "execution_count": 21,
   "id": "7827f99a-4691-4eea-a6ae-0ecfc92a717c",
   "metadata": {
    "scrolled": true
   },
   "outputs": [],
   "source": [
    "#Buscamos Lavadero\n",
    "_pattern = 'lavadero'\n",
    "_express = re.compile(_pattern, flags = re.IGNORECASE)\n",
    "\n",
    "data_clean['lavadero'] = regex_to_tags(data_clean['description'], _express, 1, 0)\n"
   ]
  },
  {
   "cell_type": "code",
   "execution_count": 22,
   "id": "d8817eec-bf22-4287-9eed-2dff447f1f95",
   "metadata": {
    "scrolled": true
   },
   "outputs": [],
   "source": [
    "#Buscamos Patio\n",
    "_pattern = 'patio'\n",
    "_express = re.compile(_pattern, flags = re.IGNORECASE)\n",
    "\n",
    "data_clean['patio'] = regex_to_tags(data_clean['description'], _express, 1, 0)\n"
   ]
  },
  {
   "cell_type": "code",
   "execution_count": 23,
   "id": "cb0bf5e0-8a16-425b-9052-57df0ee56b01",
   "metadata": {
    "scrolled": true
   },
   "outputs": [],
   "source": [
    "#Buscamos Terraza\n",
    "_pattern = 'terraza'\n",
    "_express = re.compile(_pattern, flags = re.IGNORECASE)\n",
    "\n",
    "data_clean['terraza'] = regex_to_tags(data_clean['description'], _express, 1, 0)\n"
   ]
  },
  {
   "cell_type": "code",
   "execution_count": 24,
   "id": "7a8c1fdf-f76c-41b8-ad86-a4d8533e5c81",
   "metadata": {
    "scrolled": true
   },
   "outputs": [],
   "source": [
    "#Buscamos Jardin\n",
    "_pattern = 'jardin'\n",
    "_express = re.compile(_pattern, flags = re.IGNORECASE)\n",
    "\n",
    "data_clean['jardin'] = regex_to_tags(data_clean['description'], _express, 1, 0)\n"
   ]
  },
  {
   "cell_type": "code",
   "execution_count": 26,
   "id": "ca57a466-8667-4a5d-b175-72ace00df9da",
   "metadata": {},
   "outputs": [],
   "source": [
    "data_clean.reset_index(inplace=True)"
   ]
  },
  {
   "cell_type": "code",
   "execution_count": 27,
   "id": "f895fe97-6766-4c6f-951f-96df2cb59ca7",
   "metadata": {},
   "outputs": [],
   "source": [
    "data_final = data_clean.drop(columns=['index', 'Unnamed: 0','operation', 'place_with_parent_names', \n",
    "                                      'country_name','geonames_id', 'lat-lon', 'lat', 'lon', 'price', 'currency',\n",
    "                                        'price_aprox_local_currency','floor', 'surface_total_in_m2', 'price_usd_per_m2', \n",
    "                                     'price_per_m2', 'rooms', 'expenses', 'properati_url', 'description', 'title', 'image_thumbnail', 'tidy1'])"
   ]
  },
  {
   "cell_type": "code",
   "execution_count": 28,
   "id": "657133e9",
   "metadata": {},
   "outputs": [
    {
     "data": {
      "text/html": [
       "<div>\n",
       "<style scoped>\n",
       "    .dataframe tbody tr th:only-of-type {\n",
       "        vertical-align: middle;\n",
       "    }\n",
       "\n",
       "    .dataframe tbody tr th {\n",
       "        vertical-align: top;\n",
       "    }\n",
       "\n",
       "    .dataframe thead th {\n",
       "        text-align: right;\n",
       "    }\n",
       "</style>\n",
       "<table border=\"1\" class=\"dataframe\">\n",
       "  <thead>\n",
       "    <tr style=\"text-align: right;\">\n",
       "      <th></th>\n",
       "      <th>property_type</th>\n",
       "      <th>place_name</th>\n",
       "      <th>state_name</th>\n",
       "      <th>price_aprox_usd</th>\n",
       "      <th>surface_covered_in_m2</th>\n",
       "      <th>ambientes</th>\n",
       "      <th>baños</th>\n",
       "      <th>balcón</th>\n",
       "      <th>cochera</th>\n",
       "      <th>parrilla</th>\n",
       "      <th>pileta</th>\n",
       "      <th>amoblado</th>\n",
       "      <th>lavadero</th>\n",
       "      <th>patio</th>\n",
       "      <th>terraza</th>\n",
       "      <th>jardin</th>\n",
       "    </tr>\n",
       "  </thead>\n",
       "  <tbody>\n",
       "    <tr>\n",
       "      <th>0</th>\n",
       "      <td>apartment</td>\n",
       "      <td>Mataderos</td>\n",
       "      <td>Capital Federal</td>\n",
       "      <td>72000.0</td>\n",
       "      <td>55.0</td>\n",
       "      <td>2.0</td>\n",
       "      <td>1.0</td>\n",
       "      <td>0</td>\n",
       "      <td>0</td>\n",
       "      <td>0</td>\n",
       "      <td>0</td>\n",
       "      <td>0</td>\n",
       "      <td>1</td>\n",
       "      <td>0</td>\n",
       "      <td>0</td>\n",
       "      <td>0</td>\n",
       "    </tr>\n",
       "    <tr>\n",
       "      <th>1</th>\n",
       "      <td>PH</td>\n",
       "      <td>Munro</td>\n",
       "      <td>Bs.As. G.B.A. Zona Norte</td>\n",
       "      <td>130000.0</td>\n",
       "      <td>78.0</td>\n",
       "      <td>1.0</td>\n",
       "      <td>1.0</td>\n",
       "      <td>0</td>\n",
       "      <td>0</td>\n",
       "      <td>0</td>\n",
       "      <td>0</td>\n",
       "      <td>0</td>\n",
       "      <td>1</td>\n",
       "      <td>1</td>\n",
       "      <td>0</td>\n",
       "      <td>0</td>\n",
       "    </tr>\n",
       "    <tr>\n",
       "      <th>2</th>\n",
       "      <td>apartment</td>\n",
       "      <td>Belgrano</td>\n",
       "      <td>Capital Federal</td>\n",
       "      <td>138000.0</td>\n",
       "      <td>40.0</td>\n",
       "      <td>1.0</td>\n",
       "      <td>1.0</td>\n",
       "      <td>0</td>\n",
       "      <td>0</td>\n",
       "      <td>0</td>\n",
       "      <td>1</td>\n",
       "      <td>0</td>\n",
       "      <td>0</td>\n",
       "      <td>0</td>\n",
       "      <td>0</td>\n",
       "      <td>0</td>\n",
       "    </tr>\n",
       "    <tr>\n",
       "      <th>3</th>\n",
       "      <td>apartment</td>\n",
       "      <td>Belgrano</td>\n",
       "      <td>Capital Federal</td>\n",
       "      <td>195000.0</td>\n",
       "      <td>60.0</td>\n",
       "      <td>1.0</td>\n",
       "      <td>1.0</td>\n",
       "      <td>0</td>\n",
       "      <td>0</td>\n",
       "      <td>0</td>\n",
       "      <td>1</td>\n",
       "      <td>0</td>\n",
       "      <td>0</td>\n",
       "      <td>0</td>\n",
       "      <td>0</td>\n",
       "      <td>0</td>\n",
       "    </tr>\n",
       "    <tr>\n",
       "      <th>4</th>\n",
       "      <td>apartment</td>\n",
       "      <td>Palermo Soho</td>\n",
       "      <td>Capital Federal</td>\n",
       "      <td>111700.0</td>\n",
       "      <td>30.0</td>\n",
       "      <td>1.0</td>\n",
       "      <td>1.0</td>\n",
       "      <td>1</td>\n",
       "      <td>0</td>\n",
       "      <td>0</td>\n",
       "      <td>1</td>\n",
       "      <td>0</td>\n",
       "      <td>0</td>\n",
       "      <td>0</td>\n",
       "      <td>1</td>\n",
       "      <td>0</td>\n",
       "    </tr>\n",
       "    <tr>\n",
       "      <th>...</th>\n",
       "      <td>...</td>\n",
       "      <td>...</td>\n",
       "      <td>...</td>\n",
       "      <td>...</td>\n",
       "      <td>...</td>\n",
       "      <td>...</td>\n",
       "      <td>...</td>\n",
       "      <td>...</td>\n",
       "      <td>...</td>\n",
       "      <td>...</td>\n",
       "      <td>...</td>\n",
       "      <td>...</td>\n",
       "      <td>...</td>\n",
       "      <td>...</td>\n",
       "      <td>...</td>\n",
       "      <td>...</td>\n",
       "    </tr>\n",
       "    <tr>\n",
       "      <th>47032</th>\n",
       "      <td>apartment</td>\n",
       "      <td>Belgrano</td>\n",
       "      <td>Capital Federal</td>\n",
       "      <td>128000.0</td>\n",
       "      <td>35.0</td>\n",
       "      <td>1.0</td>\n",
       "      <td>1.0</td>\n",
       "      <td>0</td>\n",
       "      <td>1</td>\n",
       "      <td>1</td>\n",
       "      <td>1</td>\n",
       "      <td>0</td>\n",
       "      <td>0</td>\n",
       "      <td>0</td>\n",
       "      <td>1</td>\n",
       "      <td>0</td>\n",
       "    </tr>\n",
       "    <tr>\n",
       "      <th>47033</th>\n",
       "      <td>apartment</td>\n",
       "      <td>Recoleta</td>\n",
       "      <td>Capital Federal</td>\n",
       "      <td>165000.0</td>\n",
       "      <td>39.0</td>\n",
       "      <td>1.0</td>\n",
       "      <td>1.0</td>\n",
       "      <td>1</td>\n",
       "      <td>0</td>\n",
       "      <td>1</td>\n",
       "      <td>0</td>\n",
       "      <td>0</td>\n",
       "      <td>0</td>\n",
       "      <td>0</td>\n",
       "      <td>0</td>\n",
       "      <td>0</td>\n",
       "    </tr>\n",
       "    <tr>\n",
       "      <th>47034</th>\n",
       "      <td>house</td>\n",
       "      <td>Beccar</td>\n",
       "      <td>Bs.As. G.B.A. Zona Norte</td>\n",
       "      <td>498000.0</td>\n",
       "      <td>360.0</td>\n",
       "      <td>1.0</td>\n",
       "      <td>1.0</td>\n",
       "      <td>0</td>\n",
       "      <td>1</td>\n",
       "      <td>1</td>\n",
       "      <td>1</td>\n",
       "      <td>0</td>\n",
       "      <td>0</td>\n",
       "      <td>0</td>\n",
       "      <td>0</td>\n",
       "      <td>1</td>\n",
       "    </tr>\n",
       "    <tr>\n",
       "      <th>47035</th>\n",
       "      <td>apartment</td>\n",
       "      <td>Villa Urquiza</td>\n",
       "      <td>Capital Federal</td>\n",
       "      <td>131500.0</td>\n",
       "      <td>39.0</td>\n",
       "      <td>1.0</td>\n",
       "      <td>1.0</td>\n",
       "      <td>1</td>\n",
       "      <td>1</td>\n",
       "      <td>1</td>\n",
       "      <td>0</td>\n",
       "      <td>0</td>\n",
       "      <td>0</td>\n",
       "      <td>0</td>\n",
       "      <td>1</td>\n",
       "      <td>0</td>\n",
       "    </tr>\n",
       "    <tr>\n",
       "      <th>47036</th>\n",
       "      <td>apartment</td>\n",
       "      <td>Capital Federal</td>\n",
       "      <td>Capital Federal</td>\n",
       "      <td>129000.0</td>\n",
       "      <td>77.0</td>\n",
       "      <td>1.0</td>\n",
       "      <td>1.0</td>\n",
       "      <td>0</td>\n",
       "      <td>0</td>\n",
       "      <td>0</td>\n",
       "      <td>0</td>\n",
       "      <td>0</td>\n",
       "      <td>1</td>\n",
       "      <td>0</td>\n",
       "      <td>0</td>\n",
       "      <td>0</td>\n",
       "    </tr>\n",
       "  </tbody>\n",
       "</table>\n",
       "<p>47037 rows × 16 columns</p>\n",
       "</div>"
      ],
      "text/plain": [
       "      property_type       place_name                state_name  \\\n",
       "0         apartment        Mataderos           Capital Federal   \n",
       "1                PH            Munro  Bs.As. G.B.A. Zona Norte   \n",
       "2         apartment         Belgrano           Capital Federal   \n",
       "3         apartment         Belgrano           Capital Federal   \n",
       "4         apartment     Palermo Soho           Capital Federal   \n",
       "...             ...              ...                       ...   \n",
       "47032     apartment         Belgrano           Capital Federal   \n",
       "47033     apartment         Recoleta           Capital Federal   \n",
       "47034         house           Beccar  Bs.As. G.B.A. Zona Norte   \n",
       "47035     apartment    Villa Urquiza           Capital Federal   \n",
       "47036     apartment  Capital Federal           Capital Federal   \n",
       "\n",
       "       price_aprox_usd  surface_covered_in_m2  ambientes  baños  balcón  \\\n",
       "0              72000.0                   55.0        2.0    1.0       0   \n",
       "1             130000.0                   78.0        1.0    1.0       0   \n",
       "2             138000.0                   40.0        1.0    1.0       0   \n",
       "3             195000.0                   60.0        1.0    1.0       0   \n",
       "4             111700.0                   30.0        1.0    1.0       1   \n",
       "...                ...                    ...        ...    ...     ...   \n",
       "47032         128000.0                   35.0        1.0    1.0       0   \n",
       "47033         165000.0                   39.0        1.0    1.0       1   \n",
       "47034         498000.0                  360.0        1.0    1.0       0   \n",
       "47035         131500.0                   39.0        1.0    1.0       1   \n",
       "47036         129000.0                   77.0        1.0    1.0       0   \n",
       "\n",
       "       cochera  parrilla  pileta  amoblado  lavadero  patio  terraza  jardin  \n",
       "0            0         0       0         0         1      0        0       0  \n",
       "1            0         0       0         0         1      1        0       0  \n",
       "2            0         0       1         0         0      0        0       0  \n",
       "3            0         0       1         0         0      0        0       0  \n",
       "4            0         0       1         0         0      0        1       0  \n",
       "...        ...       ...     ...       ...       ...    ...      ...     ...  \n",
       "47032        1         1       1         0         0      0        1       0  \n",
       "47033        0         1       0         0         0      0        0       0  \n",
       "47034        1         1       1         0         0      0        0       1  \n",
       "47035        1         1       0         0         0      0        1       0  \n",
       "47036        0         0       0         0         1      0        0       0  \n",
       "\n",
       "[47037 rows x 16 columns]"
      ]
     },
     "execution_count": 28,
     "metadata": {},
     "output_type": "execute_result"
    }
   ],
   "source": [
    "data_final"
   ]
  },
  {
   "cell_type": "code",
   "execution_count": 29,
   "id": "935ffa13-c597-4268-8a04-dd118ade3030",
   "metadata": {},
   "outputs": [
    {
     "data": {
      "text/plain": [
       "(47037, 16)"
      ]
     },
     "execution_count": 29,
     "metadata": {},
     "output_type": "execute_result"
    }
   ],
   "source": [
    "data_final.shape"
   ]
  },
  {
   "cell_type": "markdown",
   "id": "d0cbf29f",
   "metadata": {},
   "source": [
    "---\n",
    "#### Sanity checks"
   ]
  },
  {
   "cell_type": "code",
   "execution_count": 30,
   "id": "9e9ef273",
   "metadata": {},
   "outputs": [
    {
     "data": {
      "text/plain": [
       "property_type            0\n",
       "place_name               0\n",
       "state_name               0\n",
       "price_aprox_usd          0\n",
       "surface_covered_in_m2    0\n",
       "ambientes                0\n",
       "baños                    0\n",
       "balcón                   0\n",
       "cochera                  0\n",
       "parrilla                 0\n",
       "pileta                   0\n",
       "amoblado                 0\n",
       "lavadero                 0\n",
       "patio                    0\n",
       "terraza                  0\n",
       "jardin                   0\n",
       "dtype: int64"
      ]
     },
     "execution_count": 30,
     "metadata": {},
     "output_type": "execute_result"
    }
   ],
   "source": [
    "data_final.isnull().sum()"
   ]
  },
  {
   "cell_type": "code",
   "execution_count": 31,
   "id": "f7e390eb-b81e-480c-8874-3b717ade2f20",
   "metadata": {},
   "outputs": [],
   "source": [
    "data_final_url = \"../Data/properatti_final5.csv\"\n",
    "data_final.to_csv(data_final_url)"
   ]
  },
  {
   "cell_type": "code",
   "execution_count": null,
   "id": "ad440ed3-c394-48d1-bad0-e6d60f7fc1a1",
   "metadata": {},
   "outputs": [],
   "source": []
  }
 ],
 "metadata": {
  "kernelspec": {
   "display_name": "Python 3 (ipykernel)",
   "language": "python",
   "name": "python3"
  },
  "language_info": {
   "codemirror_mode": {
    "name": "ipython",
    "version": 3
   },
   "file_extension": ".py",
   "mimetype": "text/x-python",
   "name": "python",
   "nbconvert_exporter": "python",
   "pygments_lexer": "ipython3",
   "version": "3.9.7"
  }
 },
 "nbformat": 4,
 "nbformat_minor": 5
}
