{
 "cells": [
  {
   "cell_type": "markdown",
   "id": "de76e371",
   "metadata": {},
   "source": [
    "# Digital House - Data Science a Distancia\n",
    "\n",
    "## Trabajo Práctico 2\n",
    "\n",
    "\n",
    "\n",
    "### Autores: Nahuel Bonfante, Daniel Borrino, Ivan Mongi, Jessica Polakoff, Julio Tentor\n",
    "\n",
    "<p style=\"text-align:right;\">Abril 2022</p>"
   ]
  },
  {
   "cell_type": "markdown",
   "id": "2b60f6cd",
   "metadata": {},
   "source": [
    "#### Aspectos técnicos\n",
    "La notebook se ejecuta correctamente en una instalación estándar de Anaconda versión 4.11.0 build  3.21.6, Python 3.9.7\n"
   ]
  },
  {
   "cell_type": "markdown",
   "id": "0ce3effb",
   "metadata": {},
   "source": [
    "#### Librerías necesarias"
   ]
  },
  {
   "cell_type": "code",
   "execution_count": 1,
   "id": "43664799",
   "metadata": {
    "scrolled": true
   },
   "outputs": [],
   "source": [
    "import pandas as pd\n",
    "import numpy as np\n",
    "import seaborn as sns\n",
    "import re\n",
    "import matplotlib.pyplot as plt"
   ]
  },
  {
   "cell_type": "code",
   "execution_count": 2,
   "id": "dd453ce1",
   "metadata": {
    "scrolled": true
   },
   "outputs": [],
   "source": [
    "data_final_url = \"../Data/properatti_final.csv\"\n",
    "data_final = pd.read_csv(data_final_url, encoding=\"utf-8\")"
   ]
  },
  {
   "cell_type": "code",
   "execution_count": 3,
   "id": "28177889",
   "metadata": {},
   "outputs": [
    {
     "data": {
      "text/plain": [
       "(67268, 10)"
      ]
     },
     "execution_count": 3,
     "metadata": {},
     "output_type": "execute_result"
    }
   ],
   "source": [
    "data_final.shape"
   ]
  },
  {
   "cell_type": "code",
   "execution_count": 4,
   "id": "8f6725bb-5438-449d-9da2-06ccdfba66b6",
   "metadata": {},
   "outputs": [
    {
     "data": {
      "text/plain": [
       "Unnamed: 0                 int64\n",
       "property_type             object\n",
       "place_name                object\n",
       "state_name                object\n",
       "price_aprox_usd          float64\n",
       "surface_covered_in_m2    float64\n",
       "cochera                    int64\n",
       "pileta                     int64\n",
       "parrilla                   int64\n",
       "ambientes_final          float64\n",
       "dtype: object"
      ]
     },
     "execution_count": 4,
     "metadata": {},
     "output_type": "execute_result"
    }
   ],
   "source": [
    "data_final.dtypes"
   ]
  },
  {
   "cell_type": "code",
   "execution_count": 5,
   "id": "cdb657e0-b2e8-41f3-b63e-f3fdf821d5c0",
   "metadata": {},
   "outputs": [
    {
     "data": {
      "text/html": [
       "<div>\n",
       "<style scoped>\n",
       "    .dataframe tbody tr th:only-of-type {\n",
       "        vertical-align: middle;\n",
       "    }\n",
       "\n",
       "    .dataframe tbody tr th {\n",
       "        vertical-align: top;\n",
       "    }\n",
       "\n",
       "    .dataframe thead th {\n",
       "        text-align: right;\n",
       "    }\n",
       "</style>\n",
       "<table border=\"1\" class=\"dataframe\">\n",
       "  <thead>\n",
       "    <tr style=\"text-align: right;\">\n",
       "      <th></th>\n",
       "      <th>Unnamed: 0</th>\n",
       "      <th>property_type</th>\n",
       "      <th>place_name</th>\n",
       "      <th>state_name</th>\n",
       "      <th>price_aprox_usd</th>\n",
       "      <th>surface_covered_in_m2</th>\n",
       "      <th>cochera</th>\n",
       "      <th>pileta</th>\n",
       "      <th>parrilla</th>\n",
       "      <th>ambientes_final</th>\n",
       "    </tr>\n",
       "  </thead>\n",
       "  <tbody>\n",
       "    <tr>\n",
       "      <th>0</th>\n",
       "      <td>2</td>\n",
       "      <td>apartment</td>\n",
       "      <td>Mataderos</td>\n",
       "      <td>Capital Federal</td>\n",
       "      <td>72000.0</td>\n",
       "      <td>55.0</td>\n",
       "      <td>0</td>\n",
       "      <td>0</td>\n",
       "      <td>0</td>\n",
       "      <td>2.0</td>\n",
       "    </tr>\n",
       "    <tr>\n",
       "      <th>1</th>\n",
       "      <td>4</td>\n",
       "      <td>apartment</td>\n",
       "      <td>Centro</td>\n",
       "      <td>Buenos Aires Costa Atlántica</td>\n",
       "      <td>64000.0</td>\n",
       "      <td>35.0</td>\n",
       "      <td>0</td>\n",
       "      <td>0</td>\n",
       "      <td>0</td>\n",
       "      <td>NaN</td>\n",
       "    </tr>\n",
       "    <tr>\n",
       "      <th>2</th>\n",
       "      <td>7</td>\n",
       "      <td>apartment</td>\n",
       "      <td>Belgrano</td>\n",
       "      <td>Capital Federal</td>\n",
       "      <td>138000.0</td>\n",
       "      <td>40.0</td>\n",
       "      <td>0</td>\n",
       "      <td>1</td>\n",
       "      <td>0</td>\n",
       "      <td>NaN</td>\n",
       "    </tr>\n",
       "    <tr>\n",
       "      <th>3</th>\n",
       "      <td>8</td>\n",
       "      <td>apartment</td>\n",
       "      <td>Belgrano</td>\n",
       "      <td>Capital Federal</td>\n",
       "      <td>195000.0</td>\n",
       "      <td>60.0</td>\n",
       "      <td>0</td>\n",
       "      <td>1</td>\n",
       "      <td>0</td>\n",
       "      <td>NaN</td>\n",
       "    </tr>\n",
       "    <tr>\n",
       "      <th>4</th>\n",
       "      <td>13</td>\n",
       "      <td>apartment</td>\n",
       "      <td>Palermo Soho</td>\n",
       "      <td>Capital Federal</td>\n",
       "      <td>111700.0</td>\n",
       "      <td>30.0</td>\n",
       "      <td>0</td>\n",
       "      <td>1</td>\n",
       "      <td>0</td>\n",
       "      <td>1.0</td>\n",
       "    </tr>\n",
       "  </tbody>\n",
       "</table>\n",
       "</div>"
      ],
      "text/plain": [
       "   Unnamed: 0 property_type    place_name                    state_name  \\\n",
       "0           2     apartment     Mataderos               Capital Federal   \n",
       "1           4     apartment        Centro  Buenos Aires Costa Atlántica   \n",
       "2           7     apartment      Belgrano               Capital Federal   \n",
       "3           8     apartment      Belgrano               Capital Federal   \n",
       "4          13     apartment  Palermo Soho               Capital Federal   \n",
       "\n",
       "   price_aprox_usd  surface_covered_in_m2  cochera  pileta  parrilla  \\\n",
       "0          72000.0                   55.0        0       0         0   \n",
       "1          64000.0                   35.0        0       0         0   \n",
       "2         138000.0                   40.0        0       1         0   \n",
       "3         195000.0                   60.0        0       1         0   \n",
       "4         111700.0                   30.0        0       1         0   \n",
       "\n",
       "   ambientes_final  \n",
       "0              2.0  \n",
       "1              NaN  \n",
       "2              NaN  \n",
       "3              NaN  \n",
       "4              1.0  "
      ]
     },
     "execution_count": 5,
     "metadata": {},
     "output_type": "execute_result"
    }
   ],
   "source": [
    "data_final.head()"
   ]
  },
  {
   "cell_type": "code",
   "execution_count": 6,
   "id": "1b0ed1ae-b231-4688-8517-8df8a280ab2d",
   "metadata": {},
   "outputs": [
    {
     "data": {
      "text/html": [
       "<div>\n",
       "<style scoped>\n",
       "    .dataframe tbody tr th:only-of-type {\n",
       "        vertical-align: middle;\n",
       "    }\n",
       "\n",
       "    .dataframe tbody tr th {\n",
       "        vertical-align: top;\n",
       "    }\n",
       "\n",
       "    .dataframe thead th {\n",
       "        text-align: right;\n",
       "    }\n",
       "</style>\n",
       "<table border=\"1\" class=\"dataframe\">\n",
       "  <thead>\n",
       "    <tr style=\"text-align: right;\">\n",
       "      <th></th>\n",
       "      <th>price_aprox_usd</th>\n",
       "      <th>surface_covered_in_m2</th>\n",
       "    </tr>\n",
       "  </thead>\n",
       "  <tbody>\n",
       "    <tr>\n",
       "      <th>price_aprox_usd</th>\n",
       "      <td>1.000000</td>\n",
       "      <td>0.686467</td>\n",
       "    </tr>\n",
       "    <tr>\n",
       "      <th>surface_covered_in_m2</th>\n",
       "      <td>0.686467</td>\n",
       "      <td>1.000000</td>\n",
       "    </tr>\n",
       "  </tbody>\n",
       "</table>\n",
       "</div>"
      ],
      "text/plain": [
       "                       price_aprox_usd  surface_covered_in_m2\n",
       "price_aprox_usd               1.000000               0.686467\n",
       "surface_covered_in_m2         0.686467               1.000000"
      ]
     },
     "execution_count": 6,
     "metadata": {},
     "output_type": "execute_result"
    }
   ],
   "source": [
    "data_final[['price_aprox_usd', 'surface_covered_in_m2']].corr()"
   ]
  },
  {
   "cell_type": "markdown",
   "id": "94064bdf-554c-4cae-a454-8256fbcf81c7",
   "metadata": {},
   "source": [
    "---\n",
    "\n"
   ]
  },
  {
   "cell_type": "code",
   "execution_count": 7,
   "id": "b6674b00-8c1a-4c2a-a6e4-5d922a0e40f8",
   "metadata": {},
   "outputs": [],
   "source": [
    "from sklearn.linear_model import LinearRegression\n",
    "from sklearn.model_selection import train_test_split\n",
    "# from sklearn.preprocessing import StandardScaler\n",
    "from sklearn.metrics import mean_absolute_error, mean_squared_error, r2_score"
   ]
  },
  {
   "cell_type": "code",
   "execution_count": 8,
   "id": "e30ddc69-c16f-4bab-8d13-0bc4c0ede471",
   "metadata": {},
   "outputs": [],
   "source": [
    "def train_LinearRegression(X, y) :\n",
    "    u\"\"\" Performs an Ordinary Least Squares linear regression from Scikit-Learn linear models\n",
    "    \n",
    "    X array of array of features\n",
    "    y array of target values\n",
    "\n",
    "    Prints the R2 values for training and test values\n",
    "    \n",
    "    \"\"\"\n",
    "    \n",
    "    model = LinearRegression(fit_intercept = True)\n",
    "    \n",
    "    Xtrain, Xtest, ytrain, ytest = train_test_split(X, y, random_state = 1)\n",
    "    \n",
    "    model.fit(Xtrain, ytrain)\n",
    "    \n",
    "    ymodel = model.predict(Xtrain)\n",
    "    ypred = model.predict(Xtest)\n",
    "    \n",
    "    r2_train = r2_score(ytrain, ymodel).round(3)\n",
    "    r2_test = r2_score(ytest, ypred).round(3)\n",
    "\n",
    "    print(\"LinearRegression R2 values\")\n",
    "    print ('R2 train:', r2_train)\n",
    "    print ('R2 test :', r2_test)\n"
   ]
  },
  {
   "cell_type": "code",
   "execution_count": 9,
   "id": "c762c5c7-e60c-42b2-81b5-695ea49d8db0",
   "metadata": {
    "tags": []
   },
   "outputs": [],
   "source": [
    "import statsmodels.api as sm"
   ]
  },
  {
   "cell_type": "code",
   "execution_count": 10,
   "id": "feca2344-d2c9-4c82-91db-b3e5a8228fc2",
   "metadata": {},
   "outputs": [],
   "source": [
    "from warnings import simplefilter\n",
    "simplefilter(action='ignore', category=FutureWarning)"
   ]
  },
  {
   "cell_type": "code",
   "execution_count": 11,
   "id": "dd51cd65-e7fe-47f3-9d57-319208f6941e",
   "metadata": {},
   "outputs": [],
   "source": [
    "def stats_OLS(X, y) :\n",
    "    u\"\"\" Performs an Ordinary Least Squares linear regression from statsmodels\n",
    "    \n",
    "    X array of array of features\n",
    "    y array of target values\n",
    "\n",
    "    Prints the p-values associated with each feature\n",
    "\n",
    "    \"\"\"\n",
    "    X = sm.add_constant(X)\n",
    "    result = sm.OLS(y, X).fit()\n",
    "    \n",
    "    print(\"statsmodels OLS pvalues\")\n",
    "    print(result.pvalues)\n"
   ]
  },
  {
   "cell_type": "code",
   "execution_count": 12,
   "id": "8033a023-153c-4714-9dad-85359a07da4e",
   "metadata": {},
   "outputs": [
    {
     "name": "stdout",
     "output_type": "stream",
     "text": [
      "statsmodels OLS pvalues\n",
      "const                    0.0\n",
      "surface_covered_in_m2    0.0\n",
      "dtype: float64\n",
      "LinearRegression R2 values\n",
      "R2 train: 0.467\n",
      "R2 test : 0.483\n"
     ]
    }
   ],
   "source": [
    "X = data_final[['surface_covered_in_m2']]\n",
    "y = data_final['price_aprox_usd']\n",
    "\n",
    "stats_OLS(X, y)\n",
    "\n",
    "train_LinearRegression(X, y)\n"
   ]
  },
  {
   "cell_type": "code",
   "execution_count": 13,
   "id": "6424a62b-1ab8-4346-9992-eeed2371425e",
   "metadata": {},
   "outputs": [
    {
     "name": "stdout",
     "output_type": "stream",
     "text": [
      "statsmodels OLS pvalues\n",
      "const                    0.000000e+00\n",
      "surface_covered_in_m2    0.000000e+00\n",
      "cochera                  3.014272e-13\n",
      "dtype: float64\n",
      "LinearRegression R2 values\n",
      "R2 train: 0.468\n",
      "R2 test : 0.484\n"
     ]
    }
   ],
   "source": [
    "\n",
    "X = data_final[['surface_covered_in_m2','cochera']]\n",
    "y = data_final['price_aprox_usd']\n",
    "\n",
    "stats_OLS(X, y)\n",
    "\n",
    "train_LinearRegression(X, y)\n"
   ]
  },
  {
   "cell_type": "code",
   "execution_count": 14,
   "id": "f95ed843-f462-4de1-aeef-ab0a644480aa",
   "metadata": {},
   "outputs": [
    {
     "name": "stdout",
     "output_type": "stream",
     "text": [
      "statsmodels OLS pvalues\n",
      "const                    0.0\n",
      "surface_covered_in_m2    0.0\n",
      "pileta                   0.0\n",
      "dtype: float64\n",
      "LinearRegression R2 values\n",
      "R2 train: 0.48\n",
      "R2 test : 0.495\n"
     ]
    }
   ],
   "source": [
    "\n",
    "X = data_final[['surface_covered_in_m2','pileta']]\n",
    "y = data_final['price_aprox_usd']\n",
    "\n",
    "stats_OLS(X, y)\n",
    "\n",
    "train_LinearRegression(X, y)\n"
   ]
  },
  {
   "cell_type": "code",
   "execution_count": 15,
   "id": "fef4c2ca-40c6-4563-b6dc-e33f07ce8016",
   "metadata": {},
   "outputs": [
    {
     "name": "stdout",
     "output_type": "stream",
     "text": [
      "statsmodels OLS pvalues\n",
      "const                     0.000000e+00\n",
      "surface_covered_in_m2     0.000000e+00\n",
      "parrilla                 6.711728e-225\n",
      "dtype: float64\n",
      "LinearRegression R2 values\n",
      "R2 train: 0.475\n",
      "R2 test : 0.492\n"
     ]
    }
   ],
   "source": [
    "\n",
    "X = data_final[['surface_covered_in_m2','parrilla']]\n",
    "y = data_final['price_aprox_usd']\n",
    "\n",
    "stats_OLS(X, y)\n",
    "\n",
    "train_LinearRegression(X, y)\n"
   ]
  },
  {
   "cell_type": "code",
   "execution_count": 16,
   "id": "60efee56-2c66-49b0-a3c4-870b725338e1",
   "metadata": {},
   "outputs": [],
   "source": [
    "property_type_dummies = pd.get_dummies(data = data_final['property_type'], prefix = 'property_type_', drop_first = True)"
   ]
  },
  {
   "cell_type": "code",
   "execution_count": 17,
   "id": "023f2194-d248-44f5-8ea1-9094c50f759e",
   "metadata": {},
   "outputs": [
    {
     "data": {
      "text/html": [
       "<div>\n",
       "<style scoped>\n",
       "    .dataframe tbody tr th:only-of-type {\n",
       "        vertical-align: middle;\n",
       "    }\n",
       "\n",
       "    .dataframe tbody tr th {\n",
       "        vertical-align: top;\n",
       "    }\n",
       "\n",
       "    .dataframe thead th {\n",
       "        text-align: right;\n",
       "    }\n",
       "</style>\n",
       "<table border=\"1\" class=\"dataframe\">\n",
       "  <thead>\n",
       "    <tr style=\"text-align: right;\">\n",
       "      <th></th>\n",
       "      <th>property_type__house</th>\n",
       "    </tr>\n",
       "  </thead>\n",
       "  <tbody>\n",
       "    <tr>\n",
       "      <th>0</th>\n",
       "      <td>0</td>\n",
       "    </tr>\n",
       "    <tr>\n",
       "      <th>1</th>\n",
       "      <td>0</td>\n",
       "    </tr>\n",
       "    <tr>\n",
       "      <th>2</th>\n",
       "      <td>0</td>\n",
       "    </tr>\n",
       "    <tr>\n",
       "      <th>3</th>\n",
       "      <td>0</td>\n",
       "    </tr>\n",
       "    <tr>\n",
       "      <th>4</th>\n",
       "      <td>0</td>\n",
       "    </tr>\n",
       "  </tbody>\n",
       "</table>\n",
       "</div>"
      ],
      "text/plain": [
       "   property_type__house\n",
       "0                     0\n",
       "1                     0\n",
       "2                     0\n",
       "3                     0\n",
       "4                     0"
      ]
     },
     "execution_count": 17,
     "metadata": {},
     "output_type": "execute_result"
    }
   ],
   "source": [
    "property_type_dummies.head()"
   ]
  },
  {
   "cell_type": "code",
   "execution_count": 18,
   "id": "f23f6c1d-3d81-445d-97d4-2d4a3857d0d1",
   "metadata": {},
   "outputs": [],
   "source": [
    "data_final['property_type_dummies'] = property_type_dummies"
   ]
  },
  {
   "cell_type": "code",
   "execution_count": 19,
   "id": "92a26707-e0ac-4ee6-8953-90921868ef39",
   "metadata": {},
   "outputs": [
    {
     "name": "stdout",
     "output_type": "stream",
     "text": [
      "statsmodels OLS pvalues\n",
      "const                     0.000000e+00\n",
      "surface_covered_in_m2     0.000000e+00\n",
      "property_type_dummies     0.000000e+00\n",
      "pileta                   6.046476e-302\n",
      "dtype: float64\n",
      "LinearRegression R2 values\n",
      "R2 train: 0.53\n",
      "R2 test : 0.548\n"
     ]
    }
   ],
   "source": [
    "\n",
    "X = data_final[['surface_covered_in_m2','property_type_dummies', 'pileta']]\n",
    "y = data_final['price_aprox_usd']\n",
    "\n",
    "stats_OLS(X, y)\n",
    "\n",
    "train_LinearRegression(X, y)\n"
   ]
  },
  {
   "cell_type": "code",
   "execution_count": 20,
   "id": "253c19a2-4543-44b1-8536-4058734052d3",
   "metadata": {},
   "outputs": [
    {
     "data": {
      "text/plain": [
       "Capital Federal                 20763\n",
       "Bs.As. G.B.A. Zona Norte        17831\n",
       "Bs.As. G.B.A. Zona Sur           7428\n",
       "Buenos Aires Costa Atlántica     5444\n",
       "Córdoba                          4899\n",
       "Bs.As. G.B.A. Zona Oeste         4496\n",
       "Santa Fe                         3710\n",
       "Buenos Aires Interior            1127\n",
       "Mendoza                           348\n",
       "Corrientes                        303\n",
       "Río Negro                         166\n",
       "Misiones                          159\n",
       "Neuquén                           151\n",
       "San Luis                          118\n",
       "Tucumán                            75\n",
       "Entre Ríos                         73\n",
       "Salta                              56\n",
       "Chubut                             32\n",
       "Chaco                              24\n",
       "Tierra Del Fuego                   24\n",
       "La Pampa                           13\n",
       "Santa Cruz                          8\n",
       "Catamarca                           8\n",
       "Jujuy                               6\n",
       "La Rioja                            2\n",
       "Santiago Del Estero                 2\n",
       "San Juan                            2\n",
       "Name: state_name, dtype: int64"
      ]
     },
     "execution_count": 20,
     "metadata": {},
     "output_type": "execute_result"
    }
   ],
   "source": [
    "# ESTE ES EL PROBLEMA !!!\n",
    "data_final['state_name'].value_counts()"
   ]
  },
  {
   "cell_type": "code",
   "execution_count": 21,
   "id": "bd40d839-d7a4-4f20-83a8-dab0b2fec5c1",
   "metadata": {},
   "outputs": [
    {
     "data": {
      "text/plain": [
       "0.9766605220907415"
      ]
     },
     "execution_count": 21,
     "metadata": {},
     "output_type": "execute_result"
    }
   ],
   "source": [
    "# determino el \"peso\" de los primeros estados, más del 90% de los datos\n",
    "rows = 8\n",
    "sum(data_final['state_name'].value_counts()[ :rows ])/data_final.shape[0]"
   ]
  },
  {
   "cell_type": "code",
   "execution_count": 22,
   "id": "7b10493c-ba8d-4ba8-a7b5-f5856b0c1f2d",
   "metadata": {},
   "outputs": [],
   "source": [
    "# necesito una lista con los primeros estados\n",
    "states = data_final['state_name'].value_counts().index[ :rows ]"
   ]
  },
  {
   "cell_type": "code",
   "execution_count": 23,
   "id": "7eeb3691-58ec-401e-a959-4789b0a830a9",
   "metadata": {},
   "outputs": [],
   "source": [
    "# imputo np:NaN a todos los estados que no están en la lista de los primeros estados\n",
    "data_final['state_name'] = data_final['state_name'].apply( lambda x : x if x in states else np.NaN )"
   ]
  },
  {
   "cell_type": "code",
   "execution_count": 24,
   "id": "d934e786-73f0-4c9e-99b4-ab0d2fe195dc",
   "metadata": {},
   "outputs": [],
   "source": [
    "# suprimo las observaciones que no me sirven\n",
    "data_final = data_final.dropna(axis=0, how='any', subset=['state_name'])"
   ]
  },
  {
   "cell_type": "code",
   "execution_count": 25,
   "id": "29f24485-bb11-4a86-b493-9b4e322cbfe0",
   "metadata": {
    "tags": []
   },
   "outputs": [
    {
     "data": {
      "text/plain": [
       "(65698, 11)"
      ]
     },
     "execution_count": 25,
     "metadata": {},
     "output_type": "execute_result"
    }
   ],
   "source": [
    "data_final.shape"
   ]
  },
  {
   "cell_type": "code",
   "execution_count": 26,
   "id": "4c2c9959-9844-4f5a-845b-5f00af93418c",
   "metadata": {},
   "outputs": [
    {
     "data": {
      "text/html": [
       "<div>\n",
       "<style scoped>\n",
       "    .dataframe tbody tr th:only-of-type {\n",
       "        vertical-align: middle;\n",
       "    }\n",
       "\n",
       "    .dataframe tbody tr th {\n",
       "        vertical-align: top;\n",
       "    }\n",
       "\n",
       "    .dataframe thead th {\n",
       "        text-align: right;\n",
       "    }\n",
       "</style>\n",
       "<table border=\"1\" class=\"dataframe\">\n",
       "  <thead>\n",
       "    <tr style=\"text-align: right;\">\n",
       "      <th></th>\n",
       "      <th>price_aprox_usd</th>\n",
       "      <th>surface_covered_in_m2</th>\n",
       "    </tr>\n",
       "  </thead>\n",
       "  <tbody>\n",
       "    <tr>\n",
       "      <th>price_aprox_usd</th>\n",
       "      <td>1.000000</td>\n",
       "      <td>0.688263</td>\n",
       "    </tr>\n",
       "    <tr>\n",
       "      <th>surface_covered_in_m2</th>\n",
       "      <td>0.688263</td>\n",
       "      <td>1.000000</td>\n",
       "    </tr>\n",
       "  </tbody>\n",
       "</table>\n",
       "</div>"
      ],
      "text/plain": [
       "                       price_aprox_usd  surface_covered_in_m2\n",
       "price_aprox_usd               1.000000               0.688263\n",
       "surface_covered_in_m2         0.688263               1.000000"
      ]
     },
     "execution_count": 26,
     "metadata": {},
     "output_type": "execute_result"
    }
   ],
   "source": [
    "data_final[['price_aprox_usd', 'surface_covered_in_m2']].corr()"
   ]
  },
  {
   "cell_type": "code",
   "execution_count": 27,
   "id": "237890a2-7797-4ee7-8cbf-1da378db8e9d",
   "metadata": {},
   "outputs": [
    {
     "name": "stdout",
     "output_type": "stream",
     "text": [
      "statsmodels OLS pvalues\n",
      "const                     0.000000e+00\n",
      "surface_covered_in_m2     0.000000e+00\n",
      "property_type_dummies     0.000000e+00\n",
      "pileta                   4.935401e-288\n",
      "dtype: float64\n",
      "LinearRegression R2 values\n",
      "R2 train: 0.533\n",
      "R2 test : 0.551\n"
     ]
    }
   ],
   "source": [
    "X = data_final[['surface_covered_in_m2','property_type_dummies', 'pileta']]\n",
    "y = data_final['price_aprox_usd']\n",
    "\n",
    "stats_OLS(X, y)\n",
    "\n",
    "train_LinearRegression(X, y)"
   ]
  },
  {
   "cell_type": "code",
   "execution_count": 28,
   "id": "fbaecd3c-f9af-4662-8e1d-ac47740721c8",
   "metadata": {},
   "outputs": [
    {
     "data": {
      "text/plain": [
       "Capital Federal                 20763\n",
       "Bs.As. G.B.A. Zona Norte        17831\n",
       "Bs.As. G.B.A. Zona Sur           7428\n",
       "Buenos Aires Costa Atlántica     5444\n",
       "Córdoba                          4899\n",
       "Bs.As. G.B.A. Zona Oeste         4496\n",
       "Santa Fe                         3710\n",
       "Buenos Aires Interior            1127\n",
       "Name: state_name, dtype: int64"
      ]
     },
     "execution_count": 28,
     "metadata": {},
     "output_type": "execute_result"
    }
   ],
   "source": [
    "data_final['state_name'].value_counts()"
   ]
  },
  {
   "cell_type": "code",
   "execution_count": 29,
   "id": "74c03596-9638-4d1f-ac66-81744f61698a",
   "metadata": {},
   "outputs": [],
   "source": [
    "state_name_dummies = pd.get_dummies(data = data_final['state_name'], prefix = 'state_', drop_first = True)"
   ]
  },
  {
   "cell_type": "code",
   "execution_count": 30,
   "id": "1830f77e-87c6-43cf-b89e-585fd1a16c5b",
   "metadata": {},
   "outputs": [
    {
     "data": {
      "text/html": [
       "<div>\n",
       "<style scoped>\n",
       "    .dataframe tbody tr th:only-of-type {\n",
       "        vertical-align: middle;\n",
       "    }\n",
       "\n",
       "    .dataframe tbody tr th {\n",
       "        vertical-align: top;\n",
       "    }\n",
       "\n",
       "    .dataframe thead th {\n",
       "        text-align: right;\n",
       "    }\n",
       "</style>\n",
       "<table border=\"1\" class=\"dataframe\">\n",
       "  <thead>\n",
       "    <tr style=\"text-align: right;\">\n",
       "      <th></th>\n",
       "      <th>state__Bs.As. G.B.A. Zona Oeste</th>\n",
       "      <th>state__Bs.As. G.B.A. Zona Sur</th>\n",
       "      <th>state__Buenos Aires Costa Atlántica</th>\n",
       "      <th>state__Buenos Aires Interior</th>\n",
       "      <th>state__Capital Federal</th>\n",
       "      <th>state__Córdoba</th>\n",
       "      <th>state__Santa Fe</th>\n",
       "    </tr>\n",
       "  </thead>\n",
       "  <tbody>\n",
       "    <tr>\n",
       "      <th>0</th>\n",
       "      <td>0</td>\n",
       "      <td>0</td>\n",
       "      <td>0</td>\n",
       "      <td>0</td>\n",
       "      <td>1</td>\n",
       "      <td>0</td>\n",
       "      <td>0</td>\n",
       "    </tr>\n",
       "    <tr>\n",
       "      <th>1</th>\n",
       "      <td>0</td>\n",
       "      <td>0</td>\n",
       "      <td>1</td>\n",
       "      <td>0</td>\n",
       "      <td>0</td>\n",
       "      <td>0</td>\n",
       "      <td>0</td>\n",
       "    </tr>\n",
       "    <tr>\n",
       "      <th>2</th>\n",
       "      <td>0</td>\n",
       "      <td>0</td>\n",
       "      <td>0</td>\n",
       "      <td>0</td>\n",
       "      <td>1</td>\n",
       "      <td>0</td>\n",
       "      <td>0</td>\n",
       "    </tr>\n",
       "    <tr>\n",
       "      <th>3</th>\n",
       "      <td>0</td>\n",
       "      <td>0</td>\n",
       "      <td>0</td>\n",
       "      <td>0</td>\n",
       "      <td>1</td>\n",
       "      <td>0</td>\n",
       "      <td>0</td>\n",
       "    </tr>\n",
       "    <tr>\n",
       "      <th>4</th>\n",
       "      <td>0</td>\n",
       "      <td>0</td>\n",
       "      <td>0</td>\n",
       "      <td>0</td>\n",
       "      <td>1</td>\n",
       "      <td>0</td>\n",
       "      <td>0</td>\n",
       "    </tr>\n",
       "  </tbody>\n",
       "</table>\n",
       "</div>"
      ],
      "text/plain": [
       "   state__Bs.As. G.B.A. Zona Oeste  state__Bs.As. G.B.A. Zona Sur  \\\n",
       "0                                0                              0   \n",
       "1                                0                              0   \n",
       "2                                0                              0   \n",
       "3                                0                              0   \n",
       "4                                0                              0   \n",
       "\n",
       "   state__Buenos Aires Costa Atlántica  state__Buenos Aires Interior  \\\n",
       "0                                    0                             0   \n",
       "1                                    1                             0   \n",
       "2                                    0                             0   \n",
       "3                                    0                             0   \n",
       "4                                    0                             0   \n",
       "\n",
       "   state__Capital Federal  state__Córdoba  state__Santa Fe  \n",
       "0                       1               0                0  \n",
       "1                       0               0                0  \n",
       "2                       1               0                0  \n",
       "3                       1               0                0  \n",
       "4                       1               0                0  "
      ]
     },
     "execution_count": 30,
     "metadata": {},
     "output_type": "execute_result"
    }
   ],
   "source": [
    "state_name_dummies.head()"
   ]
  },
  {
   "cell_type": "code",
   "execution_count": 31,
   "id": "bacc9bbe-ea0d-4e34-8875-b196f8942c25",
   "metadata": {},
   "outputs": [
    {
     "data": {
      "text/plain": [
       "Int64Index([    0,     1,     2,     3,     4,     5,     6,     7,     8,\n",
       "                9,\n",
       "            ...\n",
       "            67258, 67259, 67260, 67261, 67262, 67263, 67264, 67265, 67266,\n",
       "            67267],\n",
       "           dtype='int64', length=65698)"
      ]
     },
     "execution_count": 31,
     "metadata": {},
     "output_type": "execute_result"
    }
   ],
   "source": [
    "state_name_dummies.index"
   ]
  },
  {
   "cell_type": "code",
   "execution_count": 32,
   "id": "dc76d7f7-49e2-4fd2-b6a2-60dada2b6676",
   "metadata": {},
   "outputs": [
    {
     "data": {
      "text/plain": [
       "Int64Index([    0,     1,     2,     3,     4,     5,     6,     7,     8,\n",
       "                9,\n",
       "            ...\n",
       "            67258, 67259, 67260, 67261, 67262, 67263, 67264, 67265, 67266,\n",
       "            67267],\n",
       "           dtype='int64', length=65698)"
      ]
     },
     "execution_count": 32,
     "metadata": {},
     "output_type": "execute_result"
    }
   ],
   "source": [
    "data_final.index"
   ]
  },
  {
   "cell_type": "code",
   "execution_count": 33,
   "id": "ba8941bd-c78e-4aa4-8734-acccabcd0b4a",
   "metadata": {},
   "outputs": [],
   "source": [
    "data_final = pd.concat([data_final, state_name_dummies], axis = 1)"
   ]
  },
  {
   "cell_type": "code",
   "execution_count": 34,
   "id": "3281a18d-1a5a-4872-a0ca-0edf07aa1dae",
   "metadata": {},
   "outputs": [
    {
     "data": {
      "text/plain": [
       "['state__Bs.As. G.B.A. Zona Oeste',\n",
       " 'state__Bs.As. G.B.A. Zona Sur',\n",
       " 'state__Buenos Aires Costa Atlántica',\n",
       " 'state__Buenos Aires Interior',\n",
       " 'state__Capital Federal',\n",
       " 'state__Córdoba',\n",
       " 'state__Santa Fe']"
      ]
     },
     "execution_count": 34,
     "metadata": {},
     "output_type": "execute_result"
    }
   ],
   "source": [
    "list(state_name_dummies.columns)"
   ]
  },
  {
   "cell_type": "code",
   "execution_count": 35,
   "id": "cd17c82b-b5dd-4f7b-af7b-519bf42a332a",
   "metadata": {},
   "outputs": [
    {
     "name": "stdout",
     "output_type": "stream",
     "text": [
      "statsmodels OLS pvalues\n",
      "const                                   0.000000e+00\n",
      "surface_covered_in_m2                   0.000000e+00\n",
      "state__Bs.As. G.B.A. Zona Oeste        4.778843e-136\n",
      "state__Bs.As. G.B.A. Zona Sur          2.169872e-157\n",
      "state__Buenos Aires Costa Atlántica    5.404275e-135\n",
      "state__Buenos Aires Interior            9.702410e-62\n",
      "state__Capital Federal                 7.725530e-185\n",
      "state__Córdoba                          0.000000e+00\n",
      "state__Santa Fe                        8.443000e-137\n",
      "property_type_dummies                   0.000000e+00\n",
      "pileta                                 1.322718e-178\n",
      "dtype: float64\n",
      "LinearRegression R2 values\n",
      "R2 train: 0.582\n",
      "R2 test : 0.599\n"
     ]
    }
   ],
   "source": [
    "X = data_final[['surface_covered_in_m2'] + list(state_name_dummies.columns) + ['property_type_dummies', 'pileta']]\n",
    "y = data_final['price_aprox_usd']\n",
    "\n",
    "stats_OLS(X, y)\n",
    "\n",
    "train_LinearRegression(X, y)"
   ]
  },
  {
   "cell_type": "code",
   "execution_count": 36,
   "id": "a2992948-de6d-47da-9a05-eec0c454a104",
   "metadata": {},
   "outputs": [
    {
     "data": {
      "text/plain": [
       "Córdoba                         3662\n",
       "Mar del Plata                   3339\n",
       "Rosario                         3216\n",
       "Tigre                           2425\n",
       "Nordelta                        2397\n",
       "                                ... \n",
       "Villa Lynch                        9\n",
       "Villa Real                         9\n",
       "Mar del Tuyú                       7\n",
       "Buenos Aires Costa Atlántica       6\n",
       "San Roque                          1\n",
       "Name: place_name, Length: 278, dtype: int64"
      ]
     },
     "execution_count": 36,
     "metadata": {},
     "output_type": "execute_result"
    }
   ],
   "source": [
    "data_final['place_name'].value_counts()"
   ]
  },
  {
   "cell_type": "code",
   "execution_count": 39,
   "id": "7512a7e2-432e-4ef9-96fa-a95a0699888a",
   "metadata": {},
   "outputs": [
    {
     "data": {
      "text/plain": [
       "0.9112910590885567"
      ]
     },
     "execution_count": 39,
     "metadata": {},
     "output_type": "execute_result"
    }
   ],
   "source": [
    "# determino el \"peso\" de los primeros \"lugares\" o \"zonas\", más del 90% de los datos\n",
    "rows = 120\n",
    "sum(data_final['place_name'].value_counts()[ :rows ])/data_final.shape[0]"
   ]
  },
  {
   "cell_type": "code",
   "execution_count": 41,
   "id": "473e99db-1d31-4de0-9062-d30218892206",
   "metadata": {},
   "outputs": [],
   "source": [
    "# necesito una lista con los primeros lugares\n",
    "places = data_final['place_name'].value_counts().index[ :rows ]"
   ]
  },
  {
   "cell_type": "code",
   "execution_count": 42,
   "id": "a6123abe-69af-46ba-bbc8-f4409551db92",
   "metadata": {},
   "outputs": [],
   "source": [
    "# imputo np:NaN a todos los lugares que no están en la lista de los primeros lugares\n",
    "data_final['place_name'] = data_final['place_name'].apply( lambda x : x if x in places else np.NaN )"
   ]
  },
  {
   "cell_type": "code",
   "execution_count": 43,
   "id": "f8babcc6-9c92-44c2-b64c-c01c8dcadd70",
   "metadata": {},
   "outputs": [],
   "source": [
    "# suprimo las observaciones que no me sirven\n",
    "data_final = data_final.dropna(axis=0, how='any', subset=['place_name'])"
   ]
  },
  {
   "cell_type": "code",
   "execution_count": 44,
   "id": "f631d5fb-f03a-4588-9bfb-e437f54846fb",
   "metadata": {},
   "outputs": [
    {
     "data": {
      "text/plain": [
       "(59870, 18)"
      ]
     },
     "execution_count": 44,
     "metadata": {},
     "output_type": "execute_result"
    }
   ],
   "source": [
    "# me queda un dataset con ...\n",
    "data_final.shape"
   ]
  },
  {
   "cell_type": "code",
   "execution_count": 45,
   "id": "d6438ae1-21bd-42ea-bede-f2e307dbb093",
   "metadata": {},
   "outputs": [
    {
     "data": {
      "text/plain": [
       "Córdoba             3662\n",
       "Mar del Plata       3339\n",
       "Rosario             3216\n",
       "Tigre               2425\n",
       "Nordelta            2397\n",
       "                    ... \n",
       "San Andres            88\n",
       "Wilde                 88\n",
       "Jose Marmol           88\n",
       "Parque Chacabuco      87\n",
       "Plaza Mitre           86\n",
       "Name: place_name, Length: 120, dtype: int64"
      ]
     },
     "execution_count": 45,
     "metadata": {},
     "output_type": "execute_result"
    }
   ],
   "source": [
    "data_final['place_name'].value_counts()"
   ]
  },
  {
   "cell_type": "code",
   "execution_count": 47,
   "id": "2add7d19-501c-4bd4-85b8-1a3335fd267b",
   "metadata": {},
   "outputs": [],
   "source": [
    "place_name_dummies = pd.get_dummies(data = data_final['place_name'], prefix = 'place_', drop_first = True)"
   ]
  },
  {
   "cell_type": "code",
   "execution_count": 48,
   "id": "bff2ff95-ceb8-42fd-89f3-577ce3889ce6",
   "metadata": {},
   "outputs": [],
   "source": [
    "data_final = pd.concat([data_final, place_name_dummies], axis = 1)"
   ]
  },
  {
   "cell_type": "code",
   "execution_count": 49,
   "id": "46501c92-1660-4213-a8c7-8a324804fba9",
   "metadata": {},
   "outputs": [
    {
     "name": "stdout",
     "output_type": "stream",
     "text": [
      "statsmodels OLS pvalues\n",
      "const                       3.802665e-47\n",
      "surface_covered_in_m2       0.000000e+00\n",
      "place__Adrogué              1.289020e-18\n",
      "place__Almagro              1.035971e-17\n",
      "place__Avellaneda           1.512875e-32\n",
      "                               ...      \n",
      "place__Villa del Parque     3.881589e-10\n",
      "place__Wilde                5.927151e-17\n",
      "place__otro_place           1.085807e-57\n",
      "property_type_dummies      8.235075e-291\n",
      "pileta                      3.336109e-71\n",
      "Length: 123, dtype: float64\n",
      "LinearRegression R2 values\n",
      "R2 train: 0.724\n",
      "R2 test : 0.715\n"
     ]
    }
   ],
   "source": [
    "X = data_final[['surface_covered_in_m2'] + list(place_name_dummies.columns) + ['property_type_dummies', 'pileta']]\n",
    "y = data_final['price_aprox_usd']\n",
    "\n",
    "stats_OLS(X, y)\n",
    "\n",
    "train_LinearRegression(X, y)"
   ]
  }
 ],
 "metadata": {
  "kernelspec": {
   "display_name": "Python 3 (ipykernel)",
   "language": "python",
   "name": "python3"
  },
  "language_info": {
   "codemirror_mode": {
    "name": "ipython",
    "version": 3
   },
   "file_extension": ".py",
   "mimetype": "text/x-python",
   "name": "python",
   "nbconvert_exporter": "python",
   "pygments_lexer": "ipython3",
   "version": "3.9.7"
  }
 },
 "nbformat": 4,
 "nbformat_minor": 5
}
