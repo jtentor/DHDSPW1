{
 "cells": [
  {
   "cell_type": "markdown",
   "id": "eb44300e",
   "metadata": {},
   "source": [
    "Hace falta algo que indique con qué entorno vamos a trabajar"
   ]
  },
  {
   "cell_type": "markdown",
   "id": "a88bff1c",
   "metadata": {},
   "source": [
    "Importar lo que hace falta"
   ]
  },
  {
   "cell_type": "code",
   "execution_count": 1,
   "id": "9f2af6c7",
   "metadata": {},
   "outputs": [],
   "source": [
    "import pandas as pd"
   ]
  },
  {
   "cell_type": "code",
   "execution_count": 2,
   "id": "92fc2313",
   "metadata": {},
   "outputs": [],
   "source": [
    "data_url = \"../Data/properatti.csv\""
   ]
  },
  {
   "cell_type": "code",
   "execution_count": 3,
   "id": "725311ef",
   "metadata": {},
   "outputs": [],
   "source": [
    "data = pd.read_csv(data_url, encoding=\"utf-8\")"
   ]
  },
  {
   "cell_type": "code",
   "execution_count": 4,
   "id": "b072793a",
   "metadata": {},
   "outputs": [
    {
     "data": {
      "text/plain": [
       "(121220, 26)"
      ]
     },
     "execution_count": 4,
     "metadata": {},
     "output_type": "execute_result"
    }
   ],
   "source": [
    "data.shape"
   ]
  },
  {
   "cell_type": "markdown",
   "id": "532afe9c",
   "metadata": {},
   "source": [
    "Confirmar los valores de la serie 'currency'"
   ]
  },
  {
   "cell_type": "code",
   "execution_count": 5,
   "id": "ef36c613",
   "metadata": {},
   "outputs": [
    {
     "data": {
      "text/plain": [
       "USD    87587\n",
       "ARS    13219\n",
       "PEN        2\n",
       "UYU        1\n",
       "Name: currency, dtype: int64"
      ]
     },
     "execution_count": 5,
     "metadata": {},
     "output_type": "execute_result"
    }
   ],
   "source": [
    "data['currency'].value_counts()"
   ]
  },
  {
   "cell_type": "markdown",
   "id": "031e50ec",
   "metadata": {},
   "source": [
    "Retenemos sólo las observaciones que correspondan a 'USD'"
   ]
  },
  {
   "cell_type": "code",
   "execution_count": 6,
   "id": "e0b3df02",
   "metadata": {},
   "outputs": [],
   "source": [
    "data = data[data['currency'] == 'USD']"
   ]
  },
  {
   "cell_type": "code",
   "execution_count": 7,
   "id": "8855643a",
   "metadata": {},
   "outputs": [
    {
     "data": {
      "text/plain": [
       "(87587, 26)"
      ]
     },
     "execution_count": 7,
     "metadata": {},
     "output_type": "execute_result"
    }
   ],
   "source": [
    "data.shape"
   ]
  },
  {
   "cell_type": "markdown",
   "id": "f6080b15",
   "metadata": {},
   "source": [
    "Determinar si la serie 'price' es igual que 'price_aprox_usd'\n",
    "La suma de valores True debe ser igual a la cantidad de observaciones"
   ]
  },
  {
   "cell_type": "code",
   "execution_count": 8,
   "id": "f570cb46",
   "metadata": {},
   "outputs": [
    {
     "data": {
      "text/plain": [
       "87587"
      ]
     },
     "execution_count": 8,
     "metadata": {},
     "output_type": "execute_result"
    }
   ],
   "source": [
    "sum(data['price'] == data['price_aprox_usd'])"
   ]
  },
  {
   "cell_type": "markdown",
   "id": "f3fcc265",
   "metadata": {},
   "source": [
    "No hacen falta las series currency, price_aprox_local_currency y price_aprox_usd"
   ]
  },
  {
   "cell_type": "code",
   "execution_count": 9,
   "id": "54cd2790",
   "metadata": {},
   "outputs": [],
   "source": [
    "data = data.drop(['currency', 'price_aprox_local_currency', 'price_aprox_usd'], axis='columns')"
   ]
  },
  {
   "cell_type": "code",
   "execution_count": 10,
   "id": "eb06350f",
   "metadata": {},
   "outputs": [
    {
     "data": {
      "text/plain": [
       "(87587, 23)"
      ]
     },
     "execution_count": 10,
     "metadata": {},
     "output_type": "execute_result"
    }
   ],
   "source": [
    "data.shape"
   ]
  },
  {
   "cell_type": "code",
   "execution_count": 11,
   "id": "48822b9d",
   "metadata": {},
   "outputs": [
    {
     "data": {
      "text/plain": [
       "Unnamed: 0                     0\n",
       "operation                      0\n",
       "property_type                  0\n",
       "place_name                    23\n",
       "place_with_parent_names        0\n",
       "country_name                   0\n",
       "state_name                     0\n",
       "geonames_id                16141\n",
       "lat-lon                    35051\n",
       "lat                        35051\n",
       "lon                        35051\n",
       "price                          0\n",
       "surface_total_in_m2        27267\n",
       "surface_covered_in_m2      10355\n",
       "price_usd_per_m2           27454\n",
       "price_per_m2               10357\n",
       "floor                      81278\n",
       "rooms                      51573\n",
       "expenses                   74935\n",
       "properati_url                  0\n",
       "description                    1\n",
       "title                          0\n",
       "image_thumbnail             1542\n",
       "dtype: int64"
      ]
     },
     "execution_count": 11,
     "metadata": {},
     "output_type": "execute_result"
    }
   ],
   "source": [
    "data.isnull().sum()"
   ]
  },
  {
   "cell_type": "markdown",
   "id": "e03fd310",
   "metadata": {},
   "source": [
    "Determinar que ocurre con price y surface"
   ]
  },
  {
   "cell_type": "markdown",
   "id": "311e16f7",
   "metadata": {
    "jp-MarkdownHeadingCollapsed": true,
    "tags": []
   },
   "source": [
    "---\n",
    "\n",
    "Hasta aquí se copia de TP1.01\n",
    "\n",
    "---"
   ]
  }
 ],
 "metadata": {
  "kernelspec": {
   "display_name": "Python 3 (ipykernel)",
   "language": "python",
   "name": "python3"
  },
  "language_info": {
   "codemirror_mode": {
    "name": "ipython",
    "version": 3
   },
   "file_extension": ".py",
   "mimetype": "text/x-python",
   "name": "python",
   "nbconvert_exporter": "python",
   "pygments_lexer": "ipython3",
   "version": "3.8.12"
  }
 },
 "nbformat": 4,
 "nbformat_minor": 5
}
