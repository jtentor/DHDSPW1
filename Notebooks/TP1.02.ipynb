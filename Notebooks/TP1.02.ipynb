{
 "cells": [
  {
   "cell_type": "markdown",
   "id": "abf80713-0051-49af-9c67-5824c647821e",
   "metadata": {},
   "source": [
    "Hace falta algo que indique con qué entorno vamos a trabajar"
   ]
  },
  {
   "cell_type": "markdown",
   "id": "ce58e9e7-3b11-4c99-abd8-aec29c41cfaa",
   "metadata": {},
   "source": [
    "Importar lo que hace falta"
   ]
  },
  {
   "cell_type": "code",
   "execution_count": 1,
   "id": "c5147db2",
   "metadata": {},
   "outputs": [],
   "source": [
    "import pandas as pd"
   ]
  },
  {
   "cell_type": "code",
   "execution_count": 2,
   "id": "fa6da1f6-7aec-48b4-ae07-d053958e9f05",
   "metadata": {},
   "outputs": [],
   "source": [
    "data_url = \"../Data/properatti.csv\""
   ]
  },
  {
   "cell_type": "code",
   "execution_count": 3,
   "id": "fb06edb1-b22e-4a2b-a91c-bafb79c43e1b",
   "metadata": {},
   "outputs": [],
   "source": [
    "data = pd.read_csv(data_url, encoding=\"utf-8\")"
   ]
  },
  {
   "cell_type": "code",
   "execution_count": 4,
   "id": "67e92812",
   "metadata": {},
   "outputs": [
    {
     "data": {
      "text/plain": [
       "(121220, 26)"
      ]
     },
     "execution_count": 4,
     "metadata": {},
     "output_type": "execute_result"
    }
   ],
   "source": [
    "data.shape"
   ]
  },
  {
   "cell_type": "markdown",
   "id": "eacaedb2-b4dc-4817-ac6b-ffee2164ee8e",
   "metadata": {},
   "source": [
    "Confirmar los valores de la serie 'currency'"
   ]
  },
  {
   "cell_type": "code",
   "execution_count": 5,
   "id": "2fcc316a",
   "metadata": {},
   "outputs": [
    {
     "data": {
      "text/plain": [
       "USD    87587\n",
       "ARS    13219\n",
       "PEN        2\n",
       "UYU        1\n",
       "Name: currency, dtype: int64"
      ]
     },
     "execution_count": 5,
     "metadata": {},
     "output_type": "execute_result"
    }
   ],
   "source": [
    "data['currency'].value_counts()"
   ]
  },
  {
   "cell_type": "markdown",
   "id": "4e74b1c4",
   "metadata": {},
   "source": [
    "Retenemos sólo las observaciones que correspondan a 'USD'"
   ]
  },
  {
   "cell_type": "code",
   "execution_count": 6,
   "id": "f480b895",
   "metadata": {},
   "outputs": [],
   "source": [
    "data = data[data['currency'] == 'USD']"
   ]
  },
  {
   "cell_type": "code",
   "execution_count": 7,
   "id": "1d2efe24",
   "metadata": {},
   "outputs": [
    {
     "data": {
      "text/plain": [
       "(87587, 26)"
      ]
     },
     "execution_count": 7,
     "metadata": {},
     "output_type": "execute_result"
    }
   ],
   "source": [
    "data.shape"
   ]
  },
  {
   "cell_type": "markdown",
   "id": "66f3393f",
   "metadata": {},
   "source": [
    "Determinar si la serie 'price' es igual que 'price_aprox_usd'\n",
    "La suma de valores True debe ser igual a la cantidad de observaciones"
   ]
  },
  {
   "cell_type": "code",
   "execution_count": 8,
   "id": "756cb285",
   "metadata": {},
   "outputs": [
    {
     "data": {
      "text/plain": [
       "87587"
      ]
     },
     "execution_count": 8,
     "metadata": {},
     "output_type": "execute_result"
    }
   ],
   "source": [
    "sum(data['price'] == data['price_aprox_usd'])"
   ]
  },
  {
   "cell_type": "markdown",
   "id": "3bf1f54f",
   "metadata": {},
   "source": [
    "No hacen falta las series currency, price_aprox_local_currency y price_aprox_usd"
   ]
  },
  {
   "cell_type": "code",
   "execution_count": 9,
   "id": "ef9f0b00",
   "metadata": {},
   "outputs": [],
   "source": [
    "data = data.drop(['currency', 'price_aprox_local_currency', 'price_aprox_usd'], axis='columns')"
   ]
  },
  {
   "cell_type": "code",
   "execution_count": 10,
   "id": "e3f30875",
   "metadata": {},
   "outputs": [
    {
     "data": {
      "text/plain": [
       "(87587, 23)"
      ]
     },
     "execution_count": 10,
     "metadata": {},
     "output_type": "execute_result"
    }
   ],
   "source": [
    "data.shape"
   ]
  },
  {
   "cell_type": "code",
   "execution_count": 11,
   "id": "2030417a",
   "metadata": {},
   "outputs": [
    {
     "data": {
      "text/plain": [
       "Unnamed: 0                     0\n",
       "operation                      0\n",
       "property_type                  0\n",
       "place_name                    23\n",
       "place_with_parent_names        0\n",
       "country_name                   0\n",
       "state_name                     0\n",
       "geonames_id                16141\n",
       "lat-lon                    35051\n",
       "lat                        35051\n",
       "lon                        35051\n",
       "price                          0\n",
       "surface_total_in_m2        27267\n",
       "surface_covered_in_m2      10355\n",
       "price_usd_per_m2           27454\n",
       "price_per_m2               10357\n",
       "floor                      81278\n",
       "rooms                      51573\n",
       "expenses                   74935\n",
       "properati_url                  0\n",
       "description                    1\n",
       "title                          0\n",
       "image_thumbnail             1542\n",
       "dtype: int64"
      ]
     },
     "execution_count": 11,
     "metadata": {},
     "output_type": "execute_result"
    }
   ],
   "source": [
    "data.isnull().sum()"
   ]
  },
  {
   "cell_type": "markdown",
   "id": "3ee34323-191c-4066-990b-0842da620872",
   "metadata": {},
   "source": [
    "Determinar que ocurre con price y surface"
   ]
  },
  {
   "cell_type": "markdown",
   "id": "d6236ad7-47c8-418c-af88-82d2f17ea35f",
   "metadata": {
    "jp-MarkdownHeadingCollapsed": true,
    "tags": []
   },
   "source": [
    "---\n",
    "\n",
    "Hasta aquí se copia de TP1.01\n",
    "\n",
    "---"
   ]
  },
  {
   "cell_type": "code",
   "execution_count": 12,
   "id": "ec01554d-53ba-470c-ae30-1aebbab38ec0",
   "metadata": {
    "tags": []
   },
   "outputs": [],
   "source": [
    "work1 = data[data['surface_total_in_m2'].notnull() & (data['surface_total_in_m2'] > 0)]"
   ]
  },
  {
   "cell_type": "code",
   "execution_count": 13,
   "id": "4e5c74ad-3b77-48c5-8ffb-ddabc0703201",
   "metadata": {},
   "outputs": [
    {
     "data": {
      "text/plain": [
       "(60133, 23)"
      ]
     },
     "execution_count": 13,
     "metadata": {},
     "output_type": "execute_result"
    }
   ],
   "source": [
    "work1.shape"
   ]
  },
  {
   "cell_type": "code",
   "execution_count": 14,
   "id": "6c5fd3aa-a281-4809-8926-8c302984d206",
   "metadata": {},
   "outputs": [
    {
     "data": {
      "text/plain": [
       "0"
      ]
     },
     "execution_count": 14,
     "metadata": {},
     "output_type": "execute_result"
    }
   ],
   "source": [
    "sum(round(work1['price_usd_per_m2'],2) != round(work1['price'] / work1['surface_total_in_m2'],2))"
   ]
  },
  {
   "cell_type": "markdown",
   "id": "eb484043-3116-43e6-9d89-60f376e77511",
   "metadata": {},
   "source": [
    "Hasta aquí determinamos que hay valores de superficie menores o iguales a cero \n",
    "\n",
    "Determinamos que el price_usd_per_m2 está calculado de los otros valores válidos\n",
    "\n",
    "Hay que hacer lo mismo con los valores para metros cubiertos ..."
   ]
  }
 ],
 "metadata": {
  "kernelspec": {
   "display_name": "Python 3 (ipykernel)",
   "language": "python",
   "name": "python3"
  },
  "language_info": {
   "codemirror_mode": {
    "name": "ipython",
    "version": 3
   },
   "file_extension": ".py",
   "mimetype": "text/x-python",
   "name": "python",
   "nbconvert_exporter": "python",
   "pygments_lexer": "ipython3",
   "version": "3.9.7"
  }
 },
 "nbformat": 4,
 "nbformat_minor": 5
}
