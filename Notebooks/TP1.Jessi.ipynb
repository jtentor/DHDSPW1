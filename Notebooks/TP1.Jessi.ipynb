{
 "cells": [
  {
   "cell_type": "markdown",
   "id": "861e5482",
   "metadata": {},
   "source": [
    "### Notas y Analisis para incorporar "
   ]
  },
  {
   "cell_type": "code",
   "execution_count": 19,
   "id": "a05a0727",
   "metadata": {},
   "outputs": [
    {
     "name": "stdout",
     "output_type": "stream",
     "text": [
      "cantidad de filas: 121220\n",
      "cantidad de columnas: 26\n"
     ]
    }
   ],
   "source": [
    "import pandas as pd\n",
    "import numpy as np\n",
    "import matplotlib.pyplot as plt\n",
    "\n",
    "data_url = \"../Data/properatti.csv\"\n",
    "data = pd.read_csv(data_url, encoding=\"utf-8\")\n",
    "print(\"cantidad de filas: \" + str(data.shape[0]))\n",
    "print(\"cantidad de columnas: \" + str(data.shape[1]))"
   ]
  },
  {
   "cell_type": "markdown",
   "id": "ea1eef9d",
   "metadata": {},
   "source": [
    "Vemos cuantos nulos tene"
   ]
  },
  {
   "cell_type": "code",
   "execution_count": 20,
   "id": "66182ac8",
   "metadata": {},
   "outputs": [
    {
     "data": {
      "text/plain": [
       "Unnamed: 0                         0\n",
       "operation                          0\n",
       "property_type                      0\n",
       "place_name                        23\n",
       "place_with_parent_names            0\n",
       "country_name                       0\n",
       "state_name                         0\n",
       "geonames_id                    18717\n",
       "lat-lon                        51550\n",
       "lat                            51550\n",
       "lon                            51550\n",
       "price                          20410\n",
       "currency                       20411\n",
       "price_aprox_local_currency     20410\n",
       "price_aprox_usd                20410\n",
       "surface_total_in_m2            39328\n",
       "surface_covered_in_m2          19907\n",
       "price_usd_per_m2               52603\n",
       "price_per_m2                   33562\n",
       "floor                         113321\n",
       "rooms                          73830\n",
       "expenses                      106958\n",
       "properati_url                      0\n",
       "description                        2\n",
       "title                              0\n",
       "image_thumbnail                 3112\n",
       "dtype: int64"
      ]
     },
     "execution_count": 20,
     "metadata": {},
     "output_type": "execute_result"
    }
   ],
   "source": [
    "data.isnull().sum()"
   ]
  },
  {
   "cell_type": "markdown",
   "id": "a872ddaf",
   "metadata": {},
   "source": [
    "#### Vemos el % de nulos que hay "
   ]
  },
  {
   "cell_type": "code",
   "execution_count": 15,
   "id": "bd7f0287",
   "metadata": {},
   "outputs": [
    {
     "data": {
      "text/plain": [
       "Unnamed: 0                 0.000000\n",
       "operation                  0.000000\n",
       "property_type              0.000000\n",
       "place_name                 0.000228\n",
       "place_with_parent_names    0.000000\n",
       "country_name               0.000000\n",
       "state_name                 0.000000\n",
       "geonames_id                0.168158\n",
       "lat-lon                    0.419224\n",
       "lat                        0.419224\n",
       "lon                        0.419224\n",
       "price_aprox_usd            0.000000\n",
       "surface_total_in_m2        0.316873\n",
       "surface_covered_in_m2      0.130443\n",
       "price_usd_per_m2           0.319343\n",
       "price_per_m2               0.130463\n",
       "floor                      0.931396\n",
       "rooms                      0.607390\n",
       "expenses                   0.868604\n",
       "properati_url              0.000000\n",
       "description                0.000020\n",
       "title                      0.000000\n",
       "image_thumbnail            0.022319\n",
       "dtype: float64"
      ]
     },
     "execution_count": 15,
     "metadata": {},
     "output_type": "execute_result"
    }
   ],
   "source": [
    "data.isnull().sum() / data.shape[0]"
   ]
  },
  {
   "cell_type": "markdown",
   "id": "46c8b298",
   "metadata": {},
   "source": [
    "##### La variable target para el modelo es \"price_aprox_usd\", se eliminan los 20410 nulos: "
   ]
  },
  {
   "cell_type": "code",
   "execution_count": 21,
   "id": "c7d5b0ff",
   "metadata": {},
   "outputs": [
    {
     "data": {
      "text/plain": [
       "(100810, 26)"
      ]
     },
     "execution_count": 21,
     "metadata": {},
     "output_type": "execute_result"
    }
   ],
   "source": [
    "data = data[data['price_aprox_usd'].notnull()]\n",
    "data.shape\n",
    "\n",
    "#otra opcion \n",
    "#limpiamos los que NaN en el precio\n",
    "data_clean = data.dropna(axis=0, how='any', subset=['price_aprox_usd'])"
   ]
  },
  {
   "cell_type": "code",
   "execution_count": 23,
   "id": "314b9be1",
   "metadata": {},
   "outputs": [
    {
     "data": {
      "text/plain": [
       "Unnamed: 0                    0.000000\n",
       "operation                     0.000000\n",
       "property_type                 0.000000\n",
       "place_name                    0.000228\n",
       "place_with_parent_names       0.000000\n",
       "country_name                  0.000000\n",
       "state_name                    0.000000\n",
       "geonames_id                   0.168158\n",
       "lat-lon                       0.419224\n",
       "lat                           0.419224\n",
       "lon                           0.419224\n",
       "price                         0.000000\n",
       "currency                      0.000010\n",
       "price_aprox_local_currency    0.000000\n",
       "price_aprox_usd               0.000000\n",
       "surface_total_in_m2           0.316873\n",
       "surface_covered_in_m2         0.130443\n",
       "price_usd_per_m2              0.319343\n",
       "price_per_m2                  0.130463\n",
       "floor                         0.931396\n",
       "rooms                         0.607390\n",
       "expenses                      0.868604\n",
       "properati_url                 0.000000\n",
       "description                   0.000020\n",
       "title                         0.000000\n",
       "image_thumbnail               0.022319\n",
       "dtype: float64"
      ]
     },
     "execution_count": 23,
     "metadata": {},
     "output_type": "execute_result"
    }
   ],
   "source": [
    "data.isnull().sum() / data.shape[0]\n",
    "#chequeamos que ya tenemos limpio el precio"
   ]
  },
  {
   "cell_type": "code",
   "execution_count": 22,
   "id": "5c3db899",
   "metadata": {},
   "outputs": [
    {
     "data": {
      "text/plain": [
       "Unnamed: 0                    100810\n",
       "operation                          1\n",
       "property_type                      4\n",
       "place_name                       974\n",
       "place_with_parent_names         1063\n",
       "country_name                       1\n",
       "state_name                        28\n",
       "geonames_id                      569\n",
       "lat-lon                        39739\n",
       "lat                            39129\n",
       "lon                            39152\n",
       "price                           9746\n",
       "currency                           4\n",
       "price_aprox_local_currency     10364\n",
       "price_aprox_usd                10364\n",
       "surface_total_in_m2             1538\n",
       "surface_covered_in_m2            916\n",
       "price_usd_per_m2               25566\n",
       "price_per_m2                   25185\n",
       "floor                            174\n",
       "rooms                             28\n",
       "expenses                         949\n",
       "properati_url                 100810\n",
       "description                    88392\n",
       "title                          62765\n",
       "image_thumbnail                95992\n",
       "dtype: int64"
      ]
     },
     "execution_count": 22,
     "metadata": {},
     "output_type": "execute_result"
    }
   ],
   "source": [
    "#Vemos cuantas categorías tenemos por variable \n",
    "data.nunique()"
   ]
  },
  {
   "cell_type": "code",
   "execution_count": 24,
   "id": "cec57889",
   "metadata": {},
   "outputs": [
    {
     "data": {
      "text/plain": [
       "USD    87587\n",
       "ARS    13219\n",
       "PEN        2\n",
       "UYU        1\n",
       "Name: currency, dtype: int64"
      ]
     },
     "execution_count": 24,
     "metadata": {},
     "output_type": "execute_result"
    }
   ],
   "source": [
    "data['currency'].value_counts()\n",
    "#tenemos distintas monedas pero todas convertidas a usd "
   ]
  },
  {
   "cell_type": "markdown",
   "id": "8cf8fd4a",
   "metadata": {},
   "source": [
    "#### Analisis de distribución de DataFrame "
   ]
  },
  {
   "cell_type": "code",
   "execution_count": 141,
   "id": "d9f65139",
   "metadata": {},
   "outputs": [
    {
     "data": {
      "text/plain": [
       "Capital Federal                 0.287848\n",
       "Bs.As. G.B.A. Zona Norte        0.238647\n",
       "Bs.As. G.B.A. Zona Sur          0.119879\n",
       "Buenos Aires Costa Atlántica    0.089862\n",
       "Córdoba                         0.089654\n",
       "Bs.As. G.B.A. Zona Oeste        0.072741\n",
       "Name: state_name, dtype: float64"
      ]
     },
     "execution_count": 141,
     "metadata": {},
     "output_type": "execute_result"
    }
   ],
   "source": [
    "#Por provincia \n",
    "vc_prov = data.state_name.value_counts() / data.shape[0] \n",
    "vc_prov.head(6)\n",
    "#el 80% del data set está distribuido entre cap fed, bs as gba zona norte, zona sur y costa atlantica y cordoba. "
   ]
  },
  {
   "cell_type": "code",
   "execution_count": 142,
   "id": "06a179f1",
   "metadata": {},
   "outputs": [
    {
     "data": {
      "text/plain": [
       "<AxesSubplot:>"
      ]
     },
     "execution_count": 142,
     "metadata": {},
     "output_type": "execute_result"
    },
    {
     "data": {
      "image/png": "[encoded data removed]",
      "text/plain": [
       "<Figure size 432x288 with 1 Axes>"
      ]
     },
     "metadata": {},
     "output_type": "display_data"
    }
   ],
   "source": [
    "vc_prov.head(6).plot(kind = 'barh', color='pink')"
   ]
  },
  {
   "cell_type": "code",
   "execution_count": 133,
   "id": "3de949f6",
   "metadata": {},
   "outputs": [
    {
     "data": {
      "text/plain": [
       "apartment    0.591370\n",
       "house        0.324521\n",
       "PH           0.051781\n",
       "store        0.032328\n",
       "Name: property_type, dtype: float64"
      ]
     },
     "execution_count": 133,
     "metadata": {},
     "output_type": "execute_result"
    }
   ],
   "source": [
    "df = data.property_type.value_counts() / data.shape[0] \n",
    "#el 59% de las propiedades son del tipo depto .\n",
    "df"
   ]
  },
  {
   "cell_type": "code",
   "execution_count": 138,
   "id": "1e95ae60",
   "metadata": {},
   "outputs": [
    {
     "data": {
      "text/plain": [
       "<AxesSubplot:>"
      ]
     },
     "execution_count": 138,
     "metadata": {},
     "output_type": "execute_result"
    },
    {
     "data": {
      "image/png": "[encoded data removed]",
      "text/plain": [
       "<Figure size 432x288 with 1 Axes>"
      ]
     },
     "metadata": {},
     "output_type": "display_data"
    }
   ],
   "source": [
    "df.plot(kind = 'barh', color='pink')"
   ]
  },
  {
   "cell_type": "markdown",
   "id": "a0e19d4e",
   "metadata": {},
   "source": [
    "#### Eliminamos las variables de precio que no utilizaremos "
   ]
  },
  {
   "cell_type": "code",
   "execution_count": 25,
   "id": "fba2354f",
   "metadata": {},
   "outputs": [],
   "source": [
    "data = data.drop(['price','currency', 'price_aprox_local_currency'], axis='columns')"
   ]
  },
  {
   "cell_type": "markdown",
   "id": "8abe557c",
   "metadata": {},
   "source": [
    "#### Vemos un describe del precio a ver como esta distribuido para entender los outliers"
   ]
  },
  {
   "cell_type": "code",
   "execution_count": 33,
   "id": "daad5dba",
   "metadata": {},
   "outputs": [
    {
     "data": {
      "text/plain": [
       "count    1.008100e+05\n",
       "mean     2.397006e+05\n",
       "std      3.913239e+05\n",
       "min      0.000000e+00\n",
       "25%      8.973388e+04\n",
       "50%      1.450000e+05\n",
       "75%      2.650000e+05\n",
       "max      4.654544e+07\n",
       "Name: price_aprox_usd, dtype: float64"
      ]
     },
     "execution_count": 33,
     "metadata": {},
     "output_type": "execute_result"
    }
   ],
   "source": [
    "data.price_aprox_usd.describe()\n"
   ]
  },
  {
   "cell_type": "markdown",
   "id": "fcda7c36",
   "metadata": {},
   "source": [
    "##### Eliminamos Outliers dentro de Precio, que es la variable target"
   ]
  },
  {
   "cell_type": "code",
   "execution_count": 27,
   "id": "38e0caaa",
   "metadata": {},
   "outputs": [
    {
     "name": "stdout",
     "output_type": "stream",
     "text": [
      "527899.1799999999 -173165.3\n"
     ]
    }
   ],
   "source": [
    "#utilizamos rango intercuarticilo para definirlo \n",
    "RSI=data['price_aprox_usd'].describe()[\"75%\"]-data['price_aprox_usd'].describe()[\"25%\"]\n",
    "max_value=data['price_aprox_usd'].describe()[\"75%\"]+1.5*RSI\n",
    "min_value=data['price_aprox_usd'].describe()[\"25%\"]-1.5*RSI\n",
    "print(max_value, min_value)"
   ]
  },
  {
   "cell_type": "code",
   "execution_count": 42,
   "id": "259745a7",
   "metadata": {},
   "outputs": [],
   "source": [
    "mask=np.logical_and(data['price_aprox_usd']>0, data['price_aprox_usd']<=max_value)\n",
    "data_filtrado=data[mask]\n",
    "\n",
    "#le puse mayor a cero porque el min value es negativo, pero aun así me queda una propiedad de 4600 usd, ver! "
   ]
  },
  {
   "cell_type": "code",
   "execution_count": 43,
   "id": "3a5a5b73",
   "metadata": {},
   "outputs": [
    {
     "data": {
      "text/plain": [
       "(92444, 23)"
      ]
     },
     "execution_count": 43,
     "metadata": {},
     "output_type": "execute_result"
    }
   ],
   "source": [
    "data_filtrado.shape"
   ]
  },
  {
   "cell_type": "code",
   "execution_count": 44,
   "id": "4fb89877",
   "metadata": {},
   "outputs": [
    {
     "data": {
      "text/plain": [
       "count     92444.000000\n",
       "mean     168861.487869\n",
       "std      109800.170307\n",
       "min        4666.620000\n",
       "25%       85017.242500\n",
       "50%      134900.000000\n",
       "75%      225000.000000\n",
       "max      526957.000000\n",
       "Name: price_aprox_usd, dtype: float64"
      ]
     },
     "execution_count": 44,
     "metadata": {},
     "output_type": "execute_result"
    }
   ],
   "source": [
    "data_filtrado.price_aprox_usd.describe()\n",
    "\n",
    "# la mediana del precio es de 135.000 usd "
   ]
  },
  {
   "cell_type": "markdown",
   "id": "1ce5eb18",
   "metadata": {},
   "source": [
    "### Hasta acá tenemos el precio limpio sin outliers. "
   ]
  },
  {
   "cell_type": "markdown",
   "id": "f297f83b",
   "metadata": {},
   "source": [
    "# Funcion para sacar Outliers y CORR IVAN ! Ver decision de sup cubierta !!! (TP4 Y 5)"
   ]
  },
  {
   "cell_type": "code",
   "execution_count": 55,
   "id": "b46a0724",
   "metadata": {},
   "outputs": [
    {
     "data": {
      "text/html": [
       "<div>\n",
       "<style scoped>\n",
       "    .dataframe tbody tr th:only-of-type {\n",
       "        vertical-align: middle;\n",
       "    }\n",
       "\n",
       "    .dataframe tbody tr th {\n",
       "        vertical-align: top;\n",
       "    }\n",
       "\n",
       "    .dataframe thead th {\n",
       "        text-align: right;\n",
       "    }\n",
       "</style>\n",
       "<table border=\"1\" class=\"dataframe\">\n",
       "  <thead>\n",
       "    <tr style=\"text-align: right;\">\n",
       "      <th></th>\n",
       "      <th>price_aprox_usd</th>\n",
       "      <th>surface_total_in_m2</th>\n",
       "    </tr>\n",
       "  </thead>\n",
       "  <tbody>\n",
       "    <tr>\n",
       "      <th>price_aprox_usd</th>\n",
       "      <td>1.000000</td>\n",
       "      <td>0.070568</td>\n",
       "    </tr>\n",
       "    <tr>\n",
       "      <th>surface_total_in_m2</th>\n",
       "      <td>0.070568</td>\n",
       "      <td>1.000000</td>\n",
       "    </tr>\n",
       "  </tbody>\n",
       "</table>\n",
       "</div>"
      ],
      "text/plain": [
       "                     price_aprox_usd  surface_total_in_m2\n",
       "price_aprox_usd             1.000000             0.070568\n",
       "surface_total_in_m2         0.070568             1.000000"
      ]
     },
     "execution_count": 55,
     "metadata": {},
     "output_type": "execute_result"
    }
   ],
   "source": [
    "data_filtrado[['price_aprox_usd', 'surface_total_in_m2']].corr()\n",
    "\n",
    "#no sirve verlo así \n",
    "# ver porque en tp 3 nos daba una correlacion de 48% con esto mismo "
   ]
  },
  {
   "cell_type": "code",
   "execution_count": 56,
   "id": "3833130a",
   "metadata": {},
   "outputs": [
    {
     "data": {
      "text/plain": [
       "apartment    56477\n",
       "house        28232\n",
       "PH            5166\n",
       "store         2569\n",
       "Name: property_type, dtype: int64"
      ]
     },
     "execution_count": 56,
     "metadata": {},
     "output_type": "execute_result"
    }
   ],
   "source": [
    "data_filtrado[\"property_type\"].value_counts()"
   ]
  },
  {
   "cell_type": "code",
   "execution_count": 57,
   "id": "5202c5f5",
   "metadata": {},
   "outputs": [
    {
     "data": {
      "text/plain": [
       "0          (4666.619, 63000.0]\n",
       "1         (134900.0, 160000.0]\n",
       "2           (63000.0, 79500.0]\n",
       "3          (94300.0, 114850.0]\n",
       "4           (63000.0, 79500.0]\n",
       "                  ...         \n",
       "121209    (345000.0, 526957.0]\n",
       "121216    (345000.0, 526957.0]\n",
       "121217    (114850.0, 134900.0]\n",
       "121218     (94300.0, 114850.0]\n",
       "121219    (114850.0, 134900.0]\n",
       "Name: price_aprox_usd, Length: 92444, dtype: category\n",
       "Categories (10, interval[float64, right]): [(4666.619, 63000.0] < (63000.0, 79500.0] < (79500.0, 94300.0] < (94300.0, 114850.0] ... (160000.0, 197000.0] < (197000.0, 250000.0] < (250000.0, 345000.0] < (345000.0, 526957.0]]"
      ]
     },
     "execution_count": 57,
     "metadata": {},
     "output_type": "execute_result"
    }
   ],
   "source": [
    "pd.qcut(data_filtrado['price_aprox_usd'], q=10)\n",
    "\n",
    "#estoy agrupando en precio en 10 rangos. \n",
    "###ver que hacer, en que clase vimos cut y qcut? ver! "
   ]
  },
  {
   "cell_type": "markdown",
   "id": "fdf7fb3c",
   "metadata": {},
   "source": [
    "### Relacion entre precio y superficie "
   ]
  },
  {
   "cell_type": "code",
   "execution_count": 64,
   "id": "9b9e3ace",
   "metadata": {},
   "outputs": [
    {
     "data": {
      "text/plain": [
       "<AxesSubplot:title={'center':'price_aprox_usd'}, xlabel='property_type'>"
      ]
     },
     "execution_count": 64,
     "metadata": {},
     "output_type": "execute_result"
    },
    {
     "data": {
      "image/png": "[encoded data removed]",
      "text/plain": [
       "<Figure size 720x576 with 1 Axes>"
      ]
     },
     "metadata": {},
     "output_type": "display_data"
    }
   ],
   "source": [
    "import matplotlib.pyplot as plt\n",
    "\n",
    "fig, ax = plt.subplots(figsize=(10,8))\n",
    "plt.suptitle('')\n",
    "data_filtrado.boxplot(column=['price_aprox_usd'], by='property_type', ax=ax, )"
   ]
  },
  {
   "cell_type": "code",
   "execution_count": 66,
   "id": "fa2b1489",
   "metadata": {},
   "outputs": [
    {
     "data": {
      "text/plain": [
       "<AxesSubplot:title={'center':'surface_total_in_m2'}, xlabel='property_type'>"
      ]
     },
     "execution_count": 66,
     "metadata": {},
     "output_type": "execute_result"
    },
    {
     "data": {
      "image/png": "[encoded data removed]",
      "text/plain": [
       "<Figure size 720x576 with 1 Axes>"
      ]
     },
     "metadata": {},
     "output_type": "display_data"
    }
   ],
   "source": [
    "fig, ax = plt.subplots(figsize=(10,8))\n",
    "plt.suptitle('')\n",
    "data_filtrado.boxplot(column=['surface_total_in_m2'], by='property_type', ax=ax, showfliers = False )"
   ]
  },
  {
   "cell_type": "markdown",
   "id": "ee26f510",
   "metadata": {},
   "source": [
    "Vamos a reemplazar los valores nulos por la mediana en estos casos, para que nos quede bien el DF \n"
   ]
  },
  {
   "cell_type": "code",
   "execution_count": 68,
   "id": "30076401",
   "metadata": {},
   "outputs": [
    {
     "data": {
      "text/plain": [
       "Unnamed: 0                     0\n",
       "operation                      0\n",
       "property_type                  0\n",
       "place_name                     8\n",
       "place_with_parent_names        0\n",
       "country_name                   0\n",
       "state_name                     0\n",
       "geonames_id                15065\n",
       "lat-lon                    38326\n",
       "lat                        38326\n",
       "lon                        38326\n",
       "price_aprox_usd                8\n",
       "surface_total_in_m2        29815\n",
       "surface_covered_in_m2      12534\n",
       "price_usd_per_m2           30062\n",
       "price_per_m2               12536\n",
       "floor                      86016\n",
       "rooms                      55882\n",
       "expenses                   80332\n",
       "properati_url                  0\n",
       "description                    2\n",
       "title                          0\n",
       "image_thumbnail             2101\n",
       "dtype: int64"
      ]
     },
     "execution_count": 68,
     "metadata": {},
     "output_type": "execute_result"
    }
   ],
   "source": [
    "data_filtrado.isnull().sum()"
   ]
  },
  {
   "cell_type": "code",
   "execution_count": null,
   "id": "bd1bb437",
   "metadata": {},
   "outputs": [],
   "source": [
    "## tratar los valores nulos y tomar decisiones de reemplazar por la media "
   ]
  },
  {
   "cell_type": "code",
   "execution_count": null,
   "id": "91fc65c5",
   "metadata": {},
   "outputs": [],
   "source": []
  },
  {
   "cell_type": "markdown",
   "id": "e6dc8778",
   "metadata": {},
   "source": [
    "#### Analisis para tipo de propiedad y habitaciones "
   ]
  },
  {
   "cell_type": "code",
   "execution_count": 69,
   "id": "a0710273",
   "metadata": {},
   "outputs": [
    {
     "data": {
      "text/plain": [
       "apartment    56477\n",
       "house        28232\n",
       "PH            5166\n",
       "store         2569\n",
       "Name: property_type, dtype: int64"
      ]
     },
     "execution_count": 69,
     "metadata": {},
     "output_type": "execute_result"
    }
   ],
   "source": [
    "data_filtrado[\"property_type\"].value_counts()"
   ]
  },
  {
   "cell_type": "code",
   "execution_count": 70,
   "id": "aaf73ca7",
   "metadata": {},
   "outputs": [
    {
     "data": {
      "text/html": [
       "<div>\n",
       "<style scoped>\n",
       "    .dataframe tbody tr th:only-of-type {\n",
       "        vertical-align: middle;\n",
       "    }\n",
       "\n",
       "    .dataframe tbody tr th {\n",
       "        vertical-align: top;\n",
       "    }\n",
       "\n",
       "    .dataframe thead tr th {\n",
       "        text-align: left;\n",
       "    }\n",
       "\n",
       "    .dataframe thead tr:last-of-type th {\n",
       "        text-align: right;\n",
       "    }\n",
       "</style>\n",
       "<table border=\"1\" class=\"dataframe\">\n",
       "  <thead>\n",
       "    <tr>\n",
       "      <th></th>\n",
       "      <th colspan=\"8\" halign=\"left\">rooms</th>\n",
       "    </tr>\n",
       "    <tr>\n",
       "      <th></th>\n",
       "      <th>count</th>\n",
       "      <th>mean</th>\n",
       "      <th>std</th>\n",
       "      <th>min</th>\n",
       "      <th>25%</th>\n",
       "      <th>50%</th>\n",
       "      <th>75%</th>\n",
       "      <th>max</th>\n",
       "    </tr>\n",
       "    <tr>\n",
       "      <th>property_type</th>\n",
       "      <th></th>\n",
       "      <th></th>\n",
       "      <th></th>\n",
       "      <th></th>\n",
       "      <th></th>\n",
       "      <th></th>\n",
       "      <th></th>\n",
       "      <th></th>\n",
       "    </tr>\n",
       "  </thead>\n",
       "  <tbody>\n",
       "    <tr>\n",
       "      <th>PH</th>\n",
       "      <td>2804.0</td>\n",
       "      <td>3.242511</td>\n",
       "      <td>1.177305</td>\n",
       "      <td>1.0</td>\n",
       "      <td>3.0</td>\n",
       "      <td>3.0</td>\n",
       "      <td>4.0</td>\n",
       "      <td>11.0</td>\n",
       "    </tr>\n",
       "    <tr>\n",
       "      <th>apartment</th>\n",
       "      <td>25726.0</td>\n",
       "      <td>2.430848</td>\n",
       "      <td>1.219098</td>\n",
       "      <td>1.0</td>\n",
       "      <td>2.0</td>\n",
       "      <td>2.0</td>\n",
       "      <td>3.0</td>\n",
       "      <td>32.0</td>\n",
       "    </tr>\n",
       "    <tr>\n",
       "      <th>house</th>\n",
       "      <td>7964.0</td>\n",
       "      <td>4.485937</td>\n",
       "      <td>2.074992</td>\n",
       "      <td>1.0</td>\n",
       "      <td>3.0</td>\n",
       "      <td>4.0</td>\n",
       "      <td>5.0</td>\n",
       "      <td>30.0</td>\n",
       "    </tr>\n",
       "    <tr>\n",
       "      <th>store</th>\n",
       "      <td>68.0</td>\n",
       "      <td>2.338235</td>\n",
       "      <td>2.250110</td>\n",
       "      <td>1.0</td>\n",
       "      <td>1.0</td>\n",
       "      <td>1.0</td>\n",
       "      <td>3.0</td>\n",
       "      <td>10.0</td>\n",
       "    </tr>\n",
       "  </tbody>\n",
       "</table>\n",
       "</div>"
      ],
      "text/plain": [
       "                 rooms                                              \n",
       "                 count      mean       std  min  25%  50%  75%   max\n",
       "property_type                                                       \n",
       "PH              2804.0  3.242511  1.177305  1.0  3.0  3.0  4.0  11.0\n",
       "apartment      25726.0  2.430848  1.219098  1.0  2.0  2.0  3.0  32.0\n",
       "house           7964.0  4.485937  2.074992  1.0  3.0  4.0  5.0  30.0\n",
       "store             68.0  2.338235  2.250110  1.0  1.0  1.0  3.0  10.0"
      ]
     },
     "execution_count": 70,
     "metadata": {},
     "output_type": "execute_result"
    }
   ],
   "source": [
    "data_filtrado.loc[:, ['property_type', 'rooms']].groupby('property_type').describe()"
   ]
  },
  {
   "cell_type": "code",
   "execution_count": 75,
   "id": "4c0288f0",
   "metadata": {},
   "outputs": [
    {
     "data": {
      "text/plain": [
       "<AxesSubplot:xlabel='property_type', ylabel='rooms'>"
      ]
     },
     "execution_count": 75,
     "metadata": {},
     "output_type": "execute_result"
    },
    {
     "data": {
      "image/png": "[encoded data removed]",
      "text/plain": [
       "<Figure size 432x288 with 1 Axes>"
      ]
     },
     "metadata": {},
     "output_type": "display_data"
    }
   ],
   "source": [
    "palette_suburb =  [\"lightblue\", \"pink\", \"yellow\", \"green\", \"orange\"]\n",
    "sns.boxplot(x = \"property_type\", y = \"rooms\", data=data_filtrado, palette = palette_suburb)"
   ]
  }
 ],
 "metadata": {
  "kernelspec": {
   "display_name": "Python 3 (ipykernel)",
   "language": "python",
   "name": "python3"
  },
  "language_info": {
   "codemirror_mode": {
    "name": "ipython",
    "version": 3
   },
   "file_extension": ".py",
   "mimetype": "text/x-python",
   "name": "python",
   "nbconvert_exporter": "python",
   "pygments_lexer": "ipython3",
   "version": "3.9.7"
  }
 },
 "nbformat": 4,
 "nbformat_minor": 5
}
