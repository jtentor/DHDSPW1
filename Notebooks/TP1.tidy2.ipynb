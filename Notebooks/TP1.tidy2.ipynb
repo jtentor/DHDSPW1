{
 "cells": [
  {
   "cell_type": "markdown",
   "id": "57e3118b",
   "metadata": {},
   "source": [
    "Hace falta algo que indique con qué entorno vamos a trabajar"
   ]
  },
  {
   "cell_type": "markdown",
   "id": "5d576bdd",
   "metadata": {},
   "source": [
    "Importar lo que hace falta"
   ]
  },
  {
   "cell_type": "code",
   "execution_count": 1,
   "id": "6fb54871",
   "metadata": {},
   "outputs": [],
   "source": [
    "import pandas as pd\n",
    "import numpy as np\n",
    "import seaborn as sns\n",
    "import matplotlib.pyplot as plt\n",
    "import re "
   ]
  },
  {
   "cell_type": "code",
   "execution_count": 2,
   "id": "6d3a6793",
   "metadata": {},
   "outputs": [],
   "source": [
    "data_url = \"../Data/properatti.csv\""
   ]
  },
  {
   "cell_type": "code",
   "execution_count": 3,
   "id": "77b392af",
   "metadata": {},
   "outputs": [],
   "source": [
    "data = pd.read_csv(data_url, encoding=\"utf-8\")"
   ]
  },
  {
   "cell_type": "code",
   "execution_count": 4,
   "id": "089a03bb",
   "metadata": {},
   "outputs": [],
   "source": [
    "# suprimo las observaciones que no tiene precio en dólares\n",
    "data = data.dropna(axis=0, how='any', subset=['price_aprox_usd'])"
   ]
  },
  {
   "cell_type": "markdown",
   "id": "672e920a-a883-4eb8-9156-4ee0977b7bf8",
   "metadata": {},
   "source": [
    "---\n",
    "\n",
    "Limpieza del dataset\n",
    "\n",
    "---"
   ]
  },
  {
   "cell_type": "code",
   "execution_count": 5,
   "id": "de3f3cd2",
   "metadata": {
    "tags": []
   },
   "outputs": [
    {
     "data": {
      "text/plain": [
       "Capital Federal                 29018\n",
       "Bs.As. G.B.A. Zona Norte        24058\n",
       "Bs.As. G.B.A. Zona Sur          12085\n",
       "Buenos Aires Costa Atlántica     9059\n",
       "Córdoba                          9038\n",
       "Bs.As. G.B.A. Zona Oeste         7333\n",
       "Santa Fe                         5413\n",
       "Buenos Aires Interior            1814\n",
       "Mendoza                           476\n",
       "Corrientes                        470\n",
       "Río Negro                         361\n",
       "Misiones                          348\n",
       "Neuquén                           324\n",
       "Tucumán                           213\n",
       "San Luis                          208\n",
       "Chubut                            164\n",
       "Entre Ríos                        130\n",
       "Salta                             102\n",
       "Chaco                              36\n",
       "La Pampa                           36\n",
       "Tierra Del Fuego                   31\n",
       "Formosa                            29\n",
       "Catamarca                          26\n",
       "Santa Cruz                         19\n",
       "Jujuy                              10\n",
       "San Juan                            4\n",
       "Santiago Del Estero                 3\n",
       "La Rioja                            2\n",
       "Name: state_name, dtype: int64"
      ]
     },
     "execution_count": 5,
     "metadata": {},
     "output_type": "execute_result"
    }
   ],
   "source": [
    "data['state_name'].value_counts()"
   ]
  },
  {
   "cell_type": "code",
   "execution_count": 6,
   "id": "21ba62f4",
   "metadata": {},
   "outputs": [
    {
     "data": {
      "text/plain": [
       "0.9703204047217538"
      ]
     },
     "execution_count": 6,
     "metadata": {},
     "output_type": "execute_result"
    }
   ],
   "source": [
    "# determino el \"peso\" de los primeros estados, más del 90% de los datos\n",
    "rows = 8\n",
    "sum(data['state_name'].value_counts()[ :rows ])/data.shape[0]"
   ]
  },
  {
   "cell_type": "code",
   "execution_count": 7,
   "id": "aad9aa4a",
   "metadata": {},
   "outputs": [],
   "source": [
    "# necesito una lista con los primeros estados\n",
    "states = data['state_name'].value_counts().index[ :rows ]"
   ]
  },
  {
   "cell_type": "code",
   "execution_count": 8,
   "id": "dc1621ae",
   "metadata": {},
   "outputs": [
    {
     "data": {
      "text/plain": [
       "Index(['Capital Federal', 'Bs.As. G.B.A. Zona Norte', 'Bs.As. G.B.A. Zona Sur',\n",
       "       'Buenos Aires Costa Atlántica', 'Córdoba', 'Bs.As. G.B.A. Zona Oeste',\n",
       "       'Santa Fe', 'Buenos Aires Interior'],\n",
       "      dtype='object')"
      ]
     },
     "execution_count": 8,
     "metadata": {},
     "output_type": "execute_result"
    }
   ],
   "source": [
    "states"
   ]
  },
  {
   "cell_type": "code",
   "execution_count": 9,
   "id": "193bce8c",
   "metadata": {},
   "outputs": [],
   "source": [
    "# imputo np:NaN a todos los estados que no están en la lista de los primeros estados\n",
    "data['state_name'] = data['state_name'].apply( lambda x : x if x in states else np.NaN )"
   ]
  },
  {
   "cell_type": "code",
   "execution_count": 10,
   "id": "b04927f6",
   "metadata": {},
   "outputs": [],
   "source": [
    "# no necesito estas variables\n",
    "del states\n",
    "del rows"
   ]
  },
  {
   "cell_type": "code",
   "execution_count": 11,
   "id": "1f311405",
   "metadata": {},
   "outputs": [],
   "source": [
    "# suprimo las observaciones que no me sirven\n",
    "data = data.dropna(axis=0, how='any', subset=['state_name'])"
   ]
  },
  {
   "cell_type": "code",
   "execution_count": 12,
   "id": "93b04bf0",
   "metadata": {},
   "outputs": [
    {
     "data": {
      "text/plain": [
       "(97818, 26)"
      ]
     },
     "execution_count": 12,
     "metadata": {},
     "output_type": "execute_result"
    }
   ],
   "source": [
    "# me queda un dataset con ...\n",
    "data.shape"
   ]
  },
  {
   "cell_type": "markdown",
   "id": "d3dcda23-6469-4726-8c6b-47d234eb4ee0",
   "metadata": {},
   "source": [
    "---"
   ]
  },
  {
   "cell_type": "code",
   "execution_count": 13,
   "id": "2bb1c984-378b-427d-ac7b-2e3284fa7e95",
   "metadata": {},
   "outputs": [
    {
     "data": {
      "text/plain": [
       "Córdoba                    6916\n",
       "Mar del Plata              5966\n",
       "Rosario                    4735\n",
       "Tigre                      3038\n",
       "Nordelta                   2885\n",
       "                           ... \n",
       "Suipacha                      1\n",
       "Country Golf El Sosiego       1\n",
       "Río Segundo                   1\n",
       "El Canton Barrio Norte        1\n",
       "Altos de Hudson I             1\n",
       "Name: place_name, Length: 829, dtype: int64"
      ]
     },
     "execution_count": 13,
     "metadata": {},
     "output_type": "execute_result"
    }
   ],
   "source": [
    "data['place_name'].value_counts()"
   ]
  },
  {
   "cell_type": "code",
   "execution_count": 14,
   "id": "1bc201d8",
   "metadata": {},
   "outputs": [
    {
     "data": {
      "text/plain": [
       "0.9431495225827558"
      ]
     },
     "execution_count": 14,
     "metadata": {},
     "output_type": "execute_result"
    }
   ],
   "source": [
    "# determino el \"peso\" de los primeros \"lugares\" o \"zonas\", más del 90% de los datos\n",
    "rows = 200\n",
    "sum(data['place_name'].value_counts()[ :rows ])/data.shape[0]"
   ]
  },
  {
   "cell_type": "code",
   "execution_count": 15,
   "id": "66228523",
   "metadata": {},
   "outputs": [],
   "source": [
    "# necesito una lista con los primeros lugares\n",
    "places = data['place_name'].value_counts().index[ :rows ]"
   ]
  },
  {
   "cell_type": "code",
   "execution_count": 16,
   "id": "fadb0cde",
   "metadata": {},
   "outputs": [
    {
     "data": {
      "text/plain": [
       "Index(['Córdoba', 'Mar del Plata', 'Rosario', 'Tigre', 'Nordelta', 'Belgrano',\n",
       "       'Palermo', 'Caballito', 'Pilar', 'La Plata',\n",
       "       ...\n",
       "       'Francisco Alvarez', 'Parque Leloir', 'Mendiolaza', 'Versalles',\n",
       "       'Plaza Colón', 'Valeria del Mar', 'Florida Oeste', 'Loma Verde',\n",
       "       'Mar de las Pampas', 'Villa General Mitre'],\n",
       "      dtype='object', length=200)"
      ]
     },
     "execution_count": 16,
     "metadata": {},
     "output_type": "execute_result"
    }
   ],
   "source": [
    "places"
   ]
  },
  {
   "cell_type": "code",
   "execution_count": 17,
   "id": "8bcd1f4d",
   "metadata": {},
   "outputs": [],
   "source": [
    "# imputo np:NaN a todos los lugares que no están en la lista de los primeros lugares\n",
    "data['place_name'] = data['place_name'].apply( lambda x : x if x in places else np.NaN )"
   ]
  },
  {
   "cell_type": "code",
   "execution_count": 18,
   "id": "ef44d2e1",
   "metadata": {},
   "outputs": [],
   "source": [
    "# no necesito estas variables\n",
    "del places\n",
    "del rows"
   ]
  },
  {
   "cell_type": "code",
   "execution_count": 19,
   "id": "59d81a96",
   "metadata": {},
   "outputs": [],
   "source": [
    "# suprimo las observaciones que no me sirven\n",
    "data = data.dropna(axis=0, how='any', subset=['place_name'])"
   ]
  },
  {
   "cell_type": "code",
   "execution_count": 20,
   "id": "59d9dcf1",
   "metadata": {},
   "outputs": [
    {
     "data": {
      "text/plain": [
       "(92257, 26)"
      ]
     },
     "execution_count": 20,
     "metadata": {},
     "output_type": "execute_result"
    }
   ],
   "source": [
    "# me queda un dataset con ...\n",
    "data.shape"
   ]
  },
  {
   "cell_type": "markdown",
   "id": "a4b477d0",
   "metadata": {},
   "source": [
    "---"
   ]
  },
  {
   "cell_type": "code",
   "execution_count": 21,
   "id": "46942ab4",
   "metadata": {},
   "outputs": [],
   "source": [
    "#funcion para borrar outliers.\n",
    "def borrar_outliers(data, columnas):\n",
    "    \"\"\"Solo recibo columnas con valores numericos. \n",
    "    Las columns van en forma de tupla\"\"\"\n",
    "    cols_limpiar = columnas\n",
    "    mask=np.ones(shape=(data.shape[0]), dtype=bool)\n",
    "\n",
    "    for i in cols_limpiar:\n",
    "        \n",
    "        #calculamos cuartiles, y valores de corte\n",
    "        Q1=data[i].quantile(0.25)\n",
    "        Q3=data[i].quantile(0.75)\n",
    "        RSI=Q3-Q1\n",
    "        max_value=Q3+1.5*RSI\n",
    "        min_value=Q1-1.5*RSI\n",
    "        \n",
    "        #ajusto el min value a mano... no puede ser negativo.\n",
    "        min_value=max(min_value, data[i].quantile(0.05))\n",
    "        \n",
    "        #filtramos por max y min\n",
    "        mask=np.logical_and(mask, np.logical_and(data[i]>=min_value, data[i]<=max_value))\n",
    "    return data[mask]"
   ]
  },
  {
   "cell_type": "code",
   "execution_count": 22,
   "id": "f82a1b26",
   "metadata": {},
   "outputs": [],
   "source": [
    "#hacemos las iteraciones para place y para tipo.\n",
    "iterar_place = data['place_name'].value_counts()\n",
    "iterar_place = iterar_place.index\n",
    "\n",
    "iterar_tipo = data['property_type'].value_counts()\n",
    "iterar_tipo = iterar_tipo.index"
   ]
  },
  {
   "cell_type": "code",
   "execution_count": 23,
   "id": "9fd30c90",
   "metadata": {},
   "outputs": [],
   "source": [
    "# serie para determinar observaciones sin outliers para precio en dólares y superficie cubierta\n",
    "data['tidy1'] = np.NaN\n",
    "\n",
    "for tipo in iterar_tipo:\n",
    "    for place in iterar_place:\n",
    "        # selecciono por lugar y tipo\n",
    "        mask = np.logical_and(data['place_name']==place, data['property_type']==tipo)\n",
    "        # calcula outliers y los suprime\n",
    "        data_ok = borrar_outliers(data[mask], ('price_aprox_usd', 'surface_covered_in_m2'))\n",
    "        # determina observaciones válidas\n",
    "        data.loc[data_ok.index, 'tidy1'] = True\n",
    "\n",
    "# probablemente esto se pueda hacer con algún método de pandas pero me resulta más simple pensarlo de este modo\n"
   ]
  },
  {
   "cell_type": "code",
   "execution_count": 24,
   "id": "ab757e30",
   "metadata": {},
   "outputs": [],
   "source": [
    "# suprimo las observaciones que no me sirven\n",
    "data = data.dropna(axis=0, how='any', subset=['tidy1'])"
   ]
  },
  {
   "cell_type": "code",
   "execution_count": 25,
   "id": "cbabd935",
   "metadata": {},
   "outputs": [
    {
     "data": {
      "text/plain": [
       "(67467, 27)"
      ]
     },
     "execution_count": 25,
     "metadata": {},
     "output_type": "execute_result"
    }
   ],
   "source": [
    "# me queda un dataset con ...\n",
    "data.shape"
   ]
  },
  {
   "cell_type": "code",
   "execution_count": 27,
   "id": "35cd5c0d-1198-4056-a420-bed5b6a14fe2",
   "metadata": {},
   "outputs": [
    {
     "data": {
      "text/plain": [
       "Unnamed: 0                        0\n",
       "operation                         0\n",
       "property_type                     0\n",
       "place_name                        0\n",
       "place_with_parent_names           0\n",
       "country_name                      0\n",
       "state_name                        0\n",
       "geonames_id                   10461\n",
       "lat-lon                       29077\n",
       "lat                           29077\n",
       "lon                           29077\n",
       "price                             0\n",
       "currency                          0\n",
       "price_aprox_local_currency        0\n",
       "price_aprox_usd                   0\n",
       "surface_total_in_m2           17865\n",
       "surface_covered_in_m2             0\n",
       "price_usd_per_m2              17865\n",
       "price_per_m2                      0\n",
       "floor                         62412\n",
       "rooms                         40368\n",
       "expenses                      57860\n",
       "properati_url                     0\n",
       "description                       1\n",
       "title                             0\n",
       "image_thumbnail                1275\n",
       "tidy1                             0\n",
       "dtype: int64"
      ]
     },
     "execution_count": 27,
     "metadata": {},
     "output_type": "execute_result"
    }
   ],
   "source": [
    "data.isnull().sum()"
   ]
  },
  {
   "cell_type": "code",
   "execution_count": null,
   "id": "e80f7d62-dbeb-451c-bcc3-641df023423f",
   "metadata": {},
   "outputs": [],
   "source": []
  }
 ],
 "metadata": {
  "kernelspec": {
   "display_name": "Python 3 (ipykernel)",
   "language": "python",
   "name": "python3"
  },
  "language_info": {
   "codemirror_mode": {
    "name": "ipython",
    "version": 3
   },
   "file_extension": ".py",
   "mimetype": "text/x-python",
   "name": "python",
   "nbconvert_exporter": "python",
   "pygments_lexer": "ipython3",
   "version": "3.9.7"
  }
 },
 "nbformat": 4,
 "nbformat_minor": 5
}
