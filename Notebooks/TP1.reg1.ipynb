{
 "cells": [
  {
   "cell_type": "markdown",
   "id": "a677fb51",
   "metadata": {},
   "source": [
    "Hace falta algo que indique con qué entorno vamos a trabajar"
   ]
  },
  {
   "cell_type": "markdown",
   "id": "d51f4d7a",
   "metadata": {},
   "source": [
    "Importar lo que hace falta"
   ]
  },
  {
   "cell_type": "code",
   "execution_count": 1,
   "id": "766b287a",
   "metadata": {},
   "outputs": [],
   "source": [
    "import pandas as pd\n",
    "import numpy as np\n",
    "import seaborn as sns\n",
    "import re"
   ]
  },
  {
   "cell_type": "code",
   "execution_count": 2,
   "id": "5c52fc18",
   "metadata": {},
   "outputs": [],
   "source": [
    "data_url = \"../Data/properatti.csv\""
   ]
  },
  {
   "cell_type": "code",
   "execution_count": 3,
   "id": "2ffbdf46",
   "metadata": {},
   "outputs": [],
   "source": [
    "data = pd.read_csv(data_url, encoding=\"utf-8\")"
   ]
  },
  {
   "cell_type": "code",
   "execution_count": 4,
   "id": "e817b8c6",
   "metadata": {},
   "outputs": [],
   "source": [
    "#limpiamos los que NaN en el precio\n",
    "data_clean = data.dropna(axis=0, how='any', subset=['price_aprox_usd'])"
   ]
  },
  {
   "cell_type": "code",
   "execution_count": 5,
   "id": "9b86625c",
   "metadata": {},
   "outputs": [],
   "source": [
    "_pattern = 'parrilla'\n",
    "_express = re.compile(_pattern, flags = re.IGNORECASE)"
   ]
  },
  {
   "cell_type": "code",
   "execution_count": 6,
   "id": "03bcfaf3",
   "metadata": {},
   "outputs": [],
   "source": [
    "def demo(col, reg) :\n",
    "    u\"\"\"Returns a series with boolean mask result of apply the regular expresion to the column\n",
    "    col : column where to apply regular expresion\n",
    "    reg : regular expresion compiled\n",
    "    \"\"\"\n",
    "    \n",
    "    serie = col.apply(lambda x : x if x is np.NaN else reg.search(x))\n",
    "    serie = serie.apply(lambda x : x is not None)\n",
    "   \n",
    "    return serie"
   ]
  },
  {
   "cell_type": "code",
   "execution_count": 7,
   "id": "509427f9",
   "metadata": {},
   "outputs": [
    {
     "name": "stdout",
     "output_type": "stream",
     "text": [
      "False    70804\n",
      "True     30006\n",
      "Name: description, dtype: int64\n"
     ]
    },
    {
     "data": {
      "text/plain": [
       "16        Ventas Mataderos al frente Duplex 4 amb.- Planta Baja: Entrada de auto-Living Comedor- toilete, Cocina Comedor-diario- parque (4m x 10m) con parri...\n",
       "17        Excelente 3 ambientes en un 6 piso y con terraza propia en el 7 pisoEn la planta principal: Dormitorio principal en suite y Living comedor con vis...\n",
       "22        Edificada en 2 plantas. PB. amplio living con salida al parque, cocina con salida a la galería, todos los ambientes de pb con pisos de porcelanato...\n",
       "24        EXCLUSIVO  DEPARTAMENTO DE EXCELENTE CATEGORIA EN VENTA EN CASTELAR160 MTS2  Cubiertos.  4 ambientes con balcón terraza, parrilla y cochera. Entre...\n",
       "25        EXCLUSIVO  DEPARTAMENTO DE EXCELENTE CATEGORÍA EN VENTA EN CASTELAR160 MTS2  Cubiertos.  4 ambientes con balcón terraza, parrilla y cochera. Entre...\n",
       "                                                                                  ...                                                                          \n",
       "121157    Torre de 16º pisos ubicado en pleno centro comercial de Belgrano, sobre un lote con 23m de frenteUnidades de entre 40m2 y 130m2 con flexibilidad p...\n",
       "121158    Excelente Ubicación - Avenida Pueyrredon y Las Heras - Ideal como inversiónMonoambiente 45 m2 con cocina americana, piso de madera, baño completo ...\n",
       "121215    TORRE FORUM ALCORTA - MÁXIMA CATEGORÍA.Impecable Departamento.Living comedor, toilette de recepción, con salida a un Balcón aterrazado con parrill...\n",
       "121216    Excelente e impecable casa en Venta en Las Lomas de San Isidro.Construida por el Arq. Turienzo.12m de frente en una excelente manzana con mucha ve...\n",
       "121217    VENTA DEPARTAMENTO AMBIENTE DIVISIBLE A ESTRENAR BALCON AMENITIES.ENTREGA INMEDIATA* DEPARTAMENTO: Excelente monoambiente de (43,00m2) divisible, ...\n",
       "Name: description, Length: 30006, dtype: object"
      ]
     },
     "execution_count": 7,
     "metadata": {},
     "output_type": "execute_result"
    }
   ],
   "source": [
    "work = demo(data_clean['description'], _express)\n",
    "\n",
    "print(work.value_counts())\n",
    "pd.options.display.max_colwidth = 150 # que viva google ...\n",
    "data_clean[work]['description']"
   ]
  }
 ],
 "metadata": {
  "kernelspec": {
   "display_name": "Python 3 (ipykernel)",
   "language": "python",
   "name": "python3"
  },
  "language_info": {
   "codemirror_mode": {
    "name": "ipython",
    "version": 3
   },
   "file_extension": ".py",
   "mimetype": "text/x-python",
   "name": "python",
   "nbconvert_exporter": "python",
   "pygments_lexer": "ipython3",
   "version": "3.8.12"
  }
 },
 "nbformat": 4,
 "nbformat_minor": 5
}
