{
 "cells": [
  {
   "cell_type": "code",
   "execution_count": 1,
   "metadata": {},
   "outputs": [],
   "source": [
    "# initial setup\n",
    "#%run \"../../../common/0_notebooks_base_setup.py\"\n"
   ]
  },
  {
   "cell_type": "markdown",
   "metadata": {},
   "source": [
    "---\n",
    "\n",
    "<img src='../../../common/logo_DH.png' align='left' width=35%/>"
   ]
  },
  {
   "cell_type": "markdown",
   "metadata": {
    "colab_type": "text",
    "id": "pZ39pfwzi7bE"
   },
   "source": [
    "# LAB: Estimando hiperparámetros con `GridSearchCV` para Regresión Logística y KNN"
   ]
  },
  {
   "cell_type": "markdown",
   "metadata": {
    "colab_type": "text",
    "id": "1SA5rbqBi7bG"
   },
   "source": [
    "## Introducción"
   ]
  },
  {
   "cell_type": "markdown",
   "metadata": {
    "colab_type": "text",
    "id": "-MUV2CrCi7bH"
   },
   "source": [
    "El objetivo de esta práctica es que puedan comenzar a tunear hiperparámetros usando Cross Validation. Para eso, usaremos `GridSearchCV`.\n",
    "\n",
    "Utilizaremos un dataset sobre cáncer de mama. Contiene información de estudios clínicos y celulares. El objetivo es predecir el carácter benigno ($class_t=0$) maligno ($class_t=1$) del cáncer en función de una serie de predictores a nivel celular.\n",
    "\n",
    "    + class_t es la variable target\n",
    "    + el resto son variables con valores normalizados de 1 a 10\n",
    "\n",
    "[Aquí](https://archive.ics.uci.edu/ml/machine-learning-databases/breast-cancer-wisconsin/breast-cancer-wisconsin.names) pueden encontrar más información sobre el dataset.\n",
    "\n",
    "**Nota:** se eliminaron del dataset original 16 casos con valores perdidos en algunos campos."
   ]
  },
  {
   "cell_type": "markdown",
   "metadata": {
    "colab_type": "text",
    "id": "08w2000-i7bI"
   },
   "source": [
    "## Tareas"
   ]
  },
  {
   "cell_type": "markdown",
   "metadata": {
    "colab_type": "text",
    "id": "1NIKafjGi7bK"
   },
   "source": [
    "Para esta práctica deberá \n",
    "\n",
    "1. Construir dos clasificadores: Regresión Logística y K-Vecinos más Cercanos (KNN)\n",
    "2. Estimar los hiperpáremetros del modelo\n",
    "    \n",
    "    - 2.1 **LogReg:** deberá tunear un modelo con solver 'saga', C's = 1, 10, 100, 1000, y regularización L1 y L2\n",
    "    - 2.2 **KNN:** deberá tunear tanto el parámetro k, como la medida del peso dado a los K vecinos (uniforme o distancia). También podría probar con el parámetro p que define el tipo de distancia con el que se calculan los vecinos más cercanos.\n",
    "      \n",
    "      \n",
    "3. Estimar los modelos finales\n",
    "4. Evaluar cuál de los dos performa mejor\n",
    "\n",
    "**Importante:** recuerde que deberá diseñar cuidadosamente las diferentes estrategias de validación de las diferentes etapas de estimación del modelo."
   ]
  },
  {
   "cell_type": "markdown",
   "metadata": {
    "colab_type": "text",
    "id": "UEaemDQDi7bL"
   },
   "source": [
    "Importamos los paquetes necesarios\n"
   ]
  },
  {
   "cell_type": "code",
   "execution_count": 2,
   "metadata": {
    "colab": {},
    "colab_type": "code",
    "id": "-jGiJ0FTi7bM"
   },
   "outputs": [],
   "source": [
    "from sklearn.linear_model import LogisticRegression\n",
    "from sklearn.neighbors import KNeighborsClassifier\n",
    "from sklearn.model_selection import GridSearchCV, train_test_split\n",
    "from sklearn.metrics import classification_report, confusion_matrix\n",
    "import pandas as pd\n",
    "import numpy as np\n",
    "import seaborn as sns\n",
    "from sklearn import datasets\n",
    "from sklearn.preprocessing import normalize"
   ]
  },
  {
   "cell_type": "markdown",
   "metadata": {
    "colab_type": "text",
    "id": "ym3Q25YJi7bS"
   },
   "source": [
    "Importamos el dataset"
   ]
  },
  {
   "cell_type": "code",
   "execution_count": 3,
   "metadata": {
    "colab": {},
    "colab_type": "code",
    "id": "hhUFtsYri7bU"
   },
   "outputs": [],
   "source": [
    "df = pd.read_csv('../Data/breast-cancer.csv', header = None)\n",
    "df.columns = ['ID', 'clump_Thickness', 'unif_cell_size', 'unif_cell_shape', 'adhesion', 'epith_cell_Size', 'bare_nuclei',\n",
    "              'bland_chromatin ','norm_nucleoli', 'mitoses', 'class_t']"
   ]
  },
  {
   "cell_type": "code",
   "execution_count": 4,
   "metadata": {},
   "outputs": [
    {
     "data": {
      "text/plain": [
       "(683, 11)"
      ]
     },
     "execution_count": 4,
     "metadata": {},
     "output_type": "execute_result"
    }
   ],
   "source": [
    "df.shape"
   ]
  },
  {
   "cell_type": "code",
   "execution_count": 5,
   "metadata": {},
   "outputs": [
    {
     "data": {
      "text/html": [
       "<div>\n",
       "<style scoped>\n",
       "    .dataframe tbody tr th:only-of-type {\n",
       "        vertical-align: middle;\n",
       "    }\n",
       "\n",
       "    .dataframe tbody tr th {\n",
       "        vertical-align: top;\n",
       "    }\n",
       "\n",
       "    .dataframe thead th {\n",
       "        text-align: right;\n",
       "    }\n",
       "</style>\n",
       "<table border=\"1\" class=\"dataframe\">\n",
       "  <thead>\n",
       "    <tr style=\"text-align: right;\">\n",
       "      <th></th>\n",
       "      <th>ID</th>\n",
       "      <th>clump_Thickness</th>\n",
       "      <th>unif_cell_size</th>\n",
       "      <th>unif_cell_shape</th>\n",
       "      <th>adhesion</th>\n",
       "      <th>epith_cell_Size</th>\n",
       "      <th>bare_nuclei</th>\n",
       "      <th>bland_chromatin</th>\n",
       "      <th>norm_nucleoli</th>\n",
       "      <th>mitoses</th>\n",
       "      <th>class_t</th>\n",
       "    </tr>\n",
       "  </thead>\n",
       "  <tbody>\n",
       "    <tr>\n",
       "      <th>0</th>\n",
       "      <td>1000025</td>\n",
       "      <td>5</td>\n",
       "      <td>1</td>\n",
       "      <td>1</td>\n",
       "      <td>1</td>\n",
       "      <td>2</td>\n",
       "      <td>1</td>\n",
       "      <td>3</td>\n",
       "      <td>1</td>\n",
       "      <td>1</td>\n",
       "      <td>2</td>\n",
       "    </tr>\n",
       "    <tr>\n",
       "      <th>1</th>\n",
       "      <td>1002945</td>\n",
       "      <td>5</td>\n",
       "      <td>4</td>\n",
       "      <td>4</td>\n",
       "      <td>5</td>\n",
       "      <td>7</td>\n",
       "      <td>10</td>\n",
       "      <td>3</td>\n",
       "      <td>2</td>\n",
       "      <td>1</td>\n",
       "      <td>2</td>\n",
       "    </tr>\n",
       "    <tr>\n",
       "      <th>2</th>\n",
       "      <td>1015425</td>\n",
       "      <td>3</td>\n",
       "      <td>1</td>\n",
       "      <td>1</td>\n",
       "      <td>1</td>\n",
       "      <td>2</td>\n",
       "      <td>2</td>\n",
       "      <td>3</td>\n",
       "      <td>1</td>\n",
       "      <td>1</td>\n",
       "      <td>2</td>\n",
       "    </tr>\n",
       "    <tr>\n",
       "      <th>3</th>\n",
       "      <td>1016277</td>\n",
       "      <td>6</td>\n",
       "      <td>8</td>\n",
       "      <td>8</td>\n",
       "      <td>1</td>\n",
       "      <td>3</td>\n",
       "      <td>4</td>\n",
       "      <td>3</td>\n",
       "      <td>7</td>\n",
       "      <td>1</td>\n",
       "      <td>2</td>\n",
       "    </tr>\n",
       "    <tr>\n",
       "      <th>4</th>\n",
       "      <td>1017023</td>\n",
       "      <td>4</td>\n",
       "      <td>1</td>\n",
       "      <td>1</td>\n",
       "      <td>3</td>\n",
       "      <td>2</td>\n",
       "      <td>1</td>\n",
       "      <td>3</td>\n",
       "      <td>1</td>\n",
       "      <td>1</td>\n",
       "      <td>2</td>\n",
       "    </tr>\n",
       "  </tbody>\n",
       "</table>\n",
       "</div>"
      ],
      "text/plain": [
       "        ID  clump_Thickness  unif_cell_size  unif_cell_shape  adhesion  \\\n",
       "0  1000025                5               1                1         1   \n",
       "1  1002945                5               4                4         5   \n",
       "2  1015425                3               1                1         1   \n",
       "3  1016277                6               8                8         1   \n",
       "4  1017023                4               1                1         3   \n",
       "\n",
       "   epith_cell_Size  bare_nuclei  bland_chromatin   norm_nucleoli  mitoses  \\\n",
       "0                2            1                 3              1        1   \n",
       "1                7           10                 3              2        1   \n",
       "2                2            2                 3              1        1   \n",
       "3                3            4                 3              7        1   \n",
       "4                2            1                 3              1        1   \n",
       "\n",
       "   class_t  \n",
       "0        2  \n",
       "1        2  \n",
       "2        2  \n",
       "3        2  \n",
       "4        2  "
      ]
     },
     "execution_count": 5,
     "metadata": {},
     "output_type": "execute_result"
    }
   ],
   "source": [
    "df.head()"
   ]
  },
  {
   "cell_type": "markdown",
   "metadata": {
    "colab_type": "text",
    "id": "DjJAgHOHi7bY"
   },
   "source": [
    "Recodificamos las clases en \"0\" y \"1\""
   ]
  },
  {
   "cell_type": "code",
   "execution_count": 6,
   "metadata": {
    "colab": {},
    "colab_type": "code",
    "id": "4XgcbUXoi7bZ"
   },
   "outputs": [],
   "source": [
    "df.class_t[df['class_t'] == 2] = 0\n",
    "df.class_t[df['class_t'] == 4] = 1"
   ]
  },
  {
   "cell_type": "code",
   "execution_count": 7,
   "metadata": {},
   "outputs": [
    {
     "data": {
      "text/plain": [
       "0    0.650073\n",
       "1    0.349927\n",
       "Name: class_t, dtype: float64"
      ]
     },
     "execution_count": 7,
     "metadata": {},
     "output_type": "execute_result"
    }
   ],
   "source": [
    "df['class_t'].value_counts(normalize=True)"
   ]
  },
  {
   "cell_type": "markdown",
   "metadata": {
    "colab_type": "text",
    "id": "2zDZSjswi7bd"
   },
   "source": [
    "Hacemos el split entre target y features"
   ]
  },
  {
   "cell_type": "code",
   "execution_count": 8,
   "metadata": {
    "colab": {},
    "colab_type": "code",
    "id": "Q8Q0qCiki7bf"
   },
   "outputs": [],
   "source": [
    "X = df.iloc[:,1:9]\n",
    "y = df['class_t']\n",
    "X_train, X_test, y_train, y_test = train_test_split(X, y, test_size=0.4,stratify=df['class_t'])"
   ]
  },
  {
   "cell_type": "markdown",
   "metadata": {
    "colab_type": "text",
    "id": "MtPQ63XUjSyZ"
   },
   "source": [
    "¿Hace falta estandarizar en este caso?"
   ]
  },
  {
   "cell_type": "code",
   "execution_count": 9,
   "metadata": {
    "colab": {},
    "colab_type": "code",
    "id": "1SeRThqsjP29"
   },
   "outputs": [],
   "source": [
    "# Utilizamos sklearn para estandarizar la matriz de Features\n",
    "from sklearn.preprocessing import StandardScaler\n",
    "scaler = StandardScaler()\n",
    "X_train = scaler.fit_transform(X_train)"
   ]
  },
  {
   "cell_type": "markdown",
   "metadata": {
    "colab_type": "text",
    "id": "f2niF7b7i7bk"
   },
   "source": [
    "**Pista 1:** Conviene realizar dos listas, una con los estimadores de los modelos y otra con la grid de parámetros a estimar en cada modelo.\n",
    "\n",
    "**Pista 2:** Conviene iterar sobre esas listas para estimar los hiperparámetros de los modelos"
   ]
  },
  {
   "cell_type": "code",
   "execution_count": 10,
   "metadata": {
    "colab": {},
    "colab_type": "code",
    "id": "IYwM0lY7i7bl"
   },
   "outputs": [],
   "source": [
    "models = [LogisticRegression(),\n",
    "          KNeighborsClassifier()]"
   ]
  },
  {
   "cell_type": "code",
   "execution_count": 11,
   "metadata": {
    "colab": {},
    "colab_type": "code",
    "id": "2tvslAf2i7br"
   },
   "outputs": [],
   "source": [
    "params = [\n",
    "    {'C': [1, 10, 100, 1000],\n",
    "     'penalty': ['l1', 'l2',],\n",
    "     'solver': ['saga']},\n",
    "    {'n_neighbors': range(1,200),\n",
    "     'weights' : ['uniform', 'distance'],\n",
    "     'p' : [1, 2, 3]}\n",
    "]"
   ]
  },
  {
   "cell_type": "code",
   "execution_count": 12,
   "metadata": {},
   "outputs": [],
   "source": [
    "from sklearn.model_selection import StratifiedKFold\n",
    "folds=StratifiedKFold(n_splits=10, random_state=19, shuffle=True)"
   ]
  },
  {
   "cell_type": "code",
   "execution_count": 13,
   "metadata": {
    "colab": {},
    "colab_type": "code",
    "id": "uNl5MZjTi7bw",
    "outputId": "f8872f61-1e6a-4c18-9864-41edeeb3afd1"
   },
   "outputs": [
    {
     "name": "stdout",
     "output_type": "stream",
     "text": [
      "GridSearchCV(cv=StratifiedKFold(n_splits=10, random_state=19, shuffle=True),\n",
      "             estimator=LogisticRegression(), n_jobs=4,\n",
      "             param_grid={'C': [1, 10, 100, 1000], 'penalty': ['l1', 'l2'],\n",
      "                         'solver': ['saga']},\n",
      "             scoring='accuracy')\n",
      "GridSearchCV(cv=StratifiedKFold(n_splits=10, random_state=19, shuffle=True),\n",
      "             estimator=KNeighborsClassifier(), n_jobs=4,\n",
      "             param_grid={'n_neighbors': range(1, 200), 'p': [1, 2, 3],\n",
      "                         'weights': ['uniform', 'distance']},\n",
      "             scoring='accuracy')\n"
     ]
    }
   ],
   "source": [
    "grids = []\n",
    "for i in range(len(models)):\n",
    "    gs = GridSearchCV(estimator=models[i], param_grid=params[i], scoring='accuracy', cv=folds, n_jobs=4)\n",
    "    print (gs)\n",
    "    fit = gs.fit(X_train, y_train)\n",
    "    grids.append(fit)"
   ]
  },
  {
   "cell_type": "code",
   "execution_count": 14,
   "metadata": {
    "colab": {},
    "colab_type": "code",
    "id": "vom0rblai7b5",
    "outputId": "be692f25-58f8-417c-fbca-83a402290e02"
   },
   "outputs": [
    {
     "name": "stdout",
     "output_type": "stream",
     "text": [
      "0.9534756097560976\n",
      "LogisticRegression(C=10, penalty='l1', solver='saga')\n",
      "{'C': 10, 'penalty': 'l1', 'solver': 'saga'}\n",
      "0.965731707317073\n",
      "KNeighborsClassifier(n_neighbors=12, p=1, weights='distance')\n",
      "{'n_neighbors': 12, 'p': 1, 'weights': 'distance'}\n"
     ]
    }
   ],
   "source": [
    "for i in grids:\n",
    "    print (i.best_score_)\n",
    "    print (i.best_estimator_)\n",
    "    print (i.best_params_)"
   ]
  },
  {
   "cell_type": "markdown",
   "metadata": {},
   "source": [
    "0.965731707317073\n",
    "\n",
    "LogisticRegression(C=1, solver='saga')\n",
    "\n",
    "{'C': 1, 'penalty': 'l2', 'solver': 'saga'}\n",
    "\n",
    "0.9779268292682926\n",
    "\n",
    "KNeighborsClassifier(n_neighbors=6, p=3, weights='distance')\n",
    "\n",
    "{'n_neighbors': 6, 'p': 3, 'weights': 'distance'}"
   ]
  },
  {
   "cell_type": "code",
   "execution_count": 15,
   "metadata": {
    "colab": {},
    "colab_type": "code",
    "id": "ZkbyFngPi7b-",
    "outputId": "9630d0e2-98a2-4e44-b025-e0ee3b09ce8d",
    "scrolled": true
   },
   "outputs": [
    {
     "data": {
      "text/html": [
       "<div>\n",
       "<style scoped>\n",
       "    .dataframe tbody tr th:only-of-type {\n",
       "        vertical-align: middle;\n",
       "    }\n",
       "\n",
       "    .dataframe tbody tr th {\n",
       "        vertical-align: top;\n",
       "    }\n",
       "\n",
       "    .dataframe thead th {\n",
       "        text-align: right;\n",
       "    }\n",
       "</style>\n",
       "<table border=\"1\" class=\"dataframe\">\n",
       "  <thead>\n",
       "    <tr style=\"text-align: right;\">\n",
       "      <th></th>\n",
       "      <th>mean_fit_time</th>\n",
       "      <th>std_fit_time</th>\n",
       "      <th>mean_score_time</th>\n",
       "      <th>std_score_time</th>\n",
       "      <th>param_C</th>\n",
       "      <th>param_penalty</th>\n",
       "      <th>param_solver</th>\n",
       "      <th>params</th>\n",
       "      <th>split0_test_score</th>\n",
       "      <th>split1_test_score</th>\n",
       "      <th>...</th>\n",
       "      <th>split3_test_score</th>\n",
       "      <th>split4_test_score</th>\n",
       "      <th>split5_test_score</th>\n",
       "      <th>split6_test_score</th>\n",
       "      <th>split7_test_score</th>\n",
       "      <th>split8_test_score</th>\n",
       "      <th>split9_test_score</th>\n",
       "      <th>mean_test_score</th>\n",
       "      <th>std_test_score</th>\n",
       "      <th>rank_test_score</th>\n",
       "    </tr>\n",
       "  </thead>\n",
       "  <tbody>\n",
       "    <tr>\n",
       "      <th>0</th>\n",
       "      <td>0.009375</td>\n",
       "      <td>0.001018</td>\n",
       "      <td>0.002094</td>\n",
       "      <td>0.000299</td>\n",
       "      <td>1</td>\n",
       "      <td>l1</td>\n",
       "      <td>saga</td>\n",
       "      <td>{'C': 1, 'penalty': 'l1', 'solver': 'saga'}</td>\n",
       "      <td>0.97561</td>\n",
       "      <td>1.0</td>\n",
       "      <td>...</td>\n",
       "      <td>0.97561</td>\n",
       "      <td>0.926829</td>\n",
       "      <td>0.878049</td>\n",
       "      <td>0.97561</td>\n",
       "      <td>1.00000</td>\n",
       "      <td>1.0</td>\n",
       "      <td>0.925</td>\n",
       "      <td>0.965671</td>\n",
       "      <td>0.039813</td>\n",
       "      <td>2</td>\n",
       "    </tr>\n",
       "    <tr>\n",
       "      <th>1</th>\n",
       "      <td>0.010672</td>\n",
       "      <td>0.002445</td>\n",
       "      <td>0.001695</td>\n",
       "      <td>0.000457</td>\n",
       "      <td>1</td>\n",
       "      <td>l2</td>\n",
       "      <td>saga</td>\n",
       "      <td>{'C': 1, 'penalty': 'l2', 'solver': 'saga'}</td>\n",
       "      <td>0.97561</td>\n",
       "      <td>1.0</td>\n",
       "      <td>...</td>\n",
       "      <td>0.97561</td>\n",
       "      <td>0.926829</td>\n",
       "      <td>0.853659</td>\n",
       "      <td>0.97561</td>\n",
       "      <td>1.00000</td>\n",
       "      <td>1.0</td>\n",
       "      <td>0.950</td>\n",
       "      <td>0.965732</td>\n",
       "      <td>0.043945</td>\n",
       "      <td>1</td>\n",
       "    </tr>\n",
       "    <tr>\n",
       "      <th>2</th>\n",
       "      <td>0.012965</td>\n",
       "      <td>0.004348</td>\n",
       "      <td>0.001895</td>\n",
       "      <td>0.000299</td>\n",
       "      <td>10</td>\n",
       "      <td>l1</td>\n",
       "      <td>saga</td>\n",
       "      <td>{'C': 10, 'penalty': 'l1', 'solver': 'saga'}</td>\n",
       "      <td>0.97561</td>\n",
       "      <td>1.0</td>\n",
       "      <td>...</td>\n",
       "      <td>0.97561</td>\n",
       "      <td>0.926829</td>\n",
       "      <td>0.853659</td>\n",
       "      <td>0.97561</td>\n",
       "      <td>0.97561</td>\n",
       "      <td>1.0</td>\n",
       "      <td>0.950</td>\n",
       "      <td>0.963293</td>\n",
       "      <td>0.042632</td>\n",
       "      <td>3</td>\n",
       "    </tr>\n",
       "    <tr>\n",
       "      <th>3</th>\n",
       "      <td>0.007978</td>\n",
       "      <td>0.001261</td>\n",
       "      <td>0.001795</td>\n",
       "      <td>0.000399</td>\n",
       "      <td>10</td>\n",
       "      <td>l2</td>\n",
       "      <td>saga</td>\n",
       "      <td>{'C': 10, 'penalty': 'l2', 'solver': 'saga'}</td>\n",
       "      <td>0.97561</td>\n",
       "      <td>1.0</td>\n",
       "      <td>...</td>\n",
       "      <td>0.97561</td>\n",
       "      <td>0.926829</td>\n",
       "      <td>0.853659</td>\n",
       "      <td>0.97561</td>\n",
       "      <td>0.97561</td>\n",
       "      <td>1.0</td>\n",
       "      <td>0.950</td>\n",
       "      <td>0.963293</td>\n",
       "      <td>0.042632</td>\n",
       "      <td>3</td>\n",
       "    </tr>\n",
       "    <tr>\n",
       "      <th>4</th>\n",
       "      <td>0.008278</td>\n",
       "      <td>0.000457</td>\n",
       "      <td>0.001695</td>\n",
       "      <td>0.000457</td>\n",
       "      <td>100</td>\n",
       "      <td>l1</td>\n",
       "      <td>saga</td>\n",
       "      <td>{'C': 100, 'penalty': 'l1', 'solver': 'saga'}</td>\n",
       "      <td>0.97561</td>\n",
       "      <td>1.0</td>\n",
       "      <td>...</td>\n",
       "      <td>0.97561</td>\n",
       "      <td>0.926829</td>\n",
       "      <td>0.853659</td>\n",
       "      <td>0.97561</td>\n",
       "      <td>0.97561</td>\n",
       "      <td>1.0</td>\n",
       "      <td>0.950</td>\n",
       "      <td>0.963293</td>\n",
       "      <td>0.042632</td>\n",
       "      <td>3</td>\n",
       "    </tr>\n",
       "    <tr>\n",
       "      <th>5</th>\n",
       "      <td>0.007081</td>\n",
       "      <td>0.000537</td>\n",
       "      <td>0.001396</td>\n",
       "      <td>0.000488</td>\n",
       "      <td>100</td>\n",
       "      <td>l2</td>\n",
       "      <td>saga</td>\n",
       "      <td>{'C': 100, 'penalty': 'l2', 'solver': 'saga'}</td>\n",
       "      <td>0.97561</td>\n",
       "      <td>1.0</td>\n",
       "      <td>...</td>\n",
       "      <td>0.97561</td>\n",
       "      <td>0.926829</td>\n",
       "      <td>0.853659</td>\n",
       "      <td>0.97561</td>\n",
       "      <td>0.97561</td>\n",
       "      <td>1.0</td>\n",
       "      <td>0.950</td>\n",
       "      <td>0.963293</td>\n",
       "      <td>0.042632</td>\n",
       "      <td>3</td>\n",
       "    </tr>\n",
       "    <tr>\n",
       "      <th>6</th>\n",
       "      <td>0.008277</td>\n",
       "      <td>0.000457</td>\n",
       "      <td>0.001496</td>\n",
       "      <td>0.000499</td>\n",
       "      <td>1000</td>\n",
       "      <td>l1</td>\n",
       "      <td>saga</td>\n",
       "      <td>{'C': 1000, 'penalty': 'l1', 'solver': 'saga'}</td>\n",
       "      <td>0.97561</td>\n",
       "      <td>1.0</td>\n",
       "      <td>...</td>\n",
       "      <td>0.97561</td>\n",
       "      <td>0.926829</td>\n",
       "      <td>0.853659</td>\n",
       "      <td>0.97561</td>\n",
       "      <td>0.97561</td>\n",
       "      <td>1.0</td>\n",
       "      <td>0.950</td>\n",
       "      <td>0.963293</td>\n",
       "      <td>0.042632</td>\n",
       "      <td>3</td>\n",
       "    </tr>\n",
       "    <tr>\n",
       "      <th>7</th>\n",
       "      <td>0.006881</td>\n",
       "      <td>0.000299</td>\n",
       "      <td>0.001396</td>\n",
       "      <td>0.000489</td>\n",
       "      <td>1000</td>\n",
       "      <td>l2</td>\n",
       "      <td>saga</td>\n",
       "      <td>{'C': 1000, 'penalty': 'l2', 'solver': 'saga'}</td>\n",
       "      <td>0.97561</td>\n",
       "      <td>1.0</td>\n",
       "      <td>...</td>\n",
       "      <td>0.97561</td>\n",
       "      <td>0.926829</td>\n",
       "      <td>0.853659</td>\n",
       "      <td>0.97561</td>\n",
       "      <td>0.97561</td>\n",
       "      <td>1.0</td>\n",
       "      <td>0.950</td>\n",
       "      <td>0.963293</td>\n",
       "      <td>0.042632</td>\n",
       "      <td>3</td>\n",
       "    </tr>\n",
       "  </tbody>\n",
       "</table>\n",
       "<p>8 rows × 21 columns</p>\n",
       "</div>"
      ],
      "text/plain": [
       "   mean_fit_time  std_fit_time  mean_score_time  std_score_time param_C  \\\n",
       "0       0.009375      0.001018         0.002094        0.000299       1   \n",
       "1       0.010672      0.002445         0.001695        0.000457       1   \n",
       "2       0.012965      0.004348         0.001895        0.000299      10   \n",
       "3       0.007978      0.001261         0.001795        0.000399      10   \n",
       "4       0.008278      0.000457         0.001695        0.000457     100   \n",
       "5       0.007081      0.000537         0.001396        0.000488     100   \n",
       "6       0.008277      0.000457         0.001496        0.000499    1000   \n",
       "7       0.006881      0.000299         0.001396        0.000489    1000   \n",
       "\n",
       "  param_penalty param_solver                                          params  \\\n",
       "0            l1         saga     {'C': 1, 'penalty': 'l1', 'solver': 'saga'}   \n",
       "1            l2         saga     {'C': 1, 'penalty': 'l2', 'solver': 'saga'}   \n",
       "2            l1         saga    {'C': 10, 'penalty': 'l1', 'solver': 'saga'}   \n",
       "3            l2         saga    {'C': 10, 'penalty': 'l2', 'solver': 'saga'}   \n",
       "4            l1         saga   {'C': 100, 'penalty': 'l1', 'solver': 'saga'}   \n",
       "5            l2         saga   {'C': 100, 'penalty': 'l2', 'solver': 'saga'}   \n",
       "6            l1         saga  {'C': 1000, 'penalty': 'l1', 'solver': 'saga'}   \n",
       "7            l2         saga  {'C': 1000, 'penalty': 'l2', 'solver': 'saga'}   \n",
       "\n",
       "   split0_test_score  split1_test_score  ...  split3_test_score  \\\n",
       "0            0.97561                1.0  ...            0.97561   \n",
       "1            0.97561                1.0  ...            0.97561   \n",
       "2            0.97561                1.0  ...            0.97561   \n",
       "3            0.97561                1.0  ...            0.97561   \n",
       "4            0.97561                1.0  ...            0.97561   \n",
       "5            0.97561                1.0  ...            0.97561   \n",
       "6            0.97561                1.0  ...            0.97561   \n",
       "7            0.97561                1.0  ...            0.97561   \n",
       "\n",
       "   split4_test_score  split5_test_score  split6_test_score  split7_test_score  \\\n",
       "0           0.926829           0.878049            0.97561            1.00000   \n",
       "1           0.926829           0.853659            0.97561            1.00000   \n",
       "2           0.926829           0.853659            0.97561            0.97561   \n",
       "3           0.926829           0.853659            0.97561            0.97561   \n",
       "4           0.926829           0.853659            0.97561            0.97561   \n",
       "5           0.926829           0.853659            0.97561            0.97561   \n",
       "6           0.926829           0.853659            0.97561            0.97561   \n",
       "7           0.926829           0.853659            0.97561            0.97561   \n",
       "\n",
       "   split8_test_score  split9_test_score  mean_test_score  std_test_score  \\\n",
       "0                1.0              0.925         0.965671        0.039813   \n",
       "1                1.0              0.950         0.965732        0.043945   \n",
       "2                1.0              0.950         0.963293        0.042632   \n",
       "3                1.0              0.950         0.963293        0.042632   \n",
       "4                1.0              0.950         0.963293        0.042632   \n",
       "5                1.0              0.950         0.963293        0.042632   \n",
       "6                1.0              0.950         0.963293        0.042632   \n",
       "7                1.0              0.950         0.963293        0.042632   \n",
       "\n",
       "   rank_test_score  \n",
       "0                2  \n",
       "1                1  \n",
       "2                3  \n",
       "3                3  \n",
       "4                3  \n",
       "5                3  \n",
       "6                3  \n",
       "7                3  \n",
       "\n",
       "[8 rows x 21 columns]"
      ]
     },
     "execution_count": 15,
     "metadata": {},
     "output_type": "execute_result"
    }
   ],
   "source": [
    "pd.DataFrame(grids[0].cv_results_)"
   ]
  },
  {
   "cell_type": "code",
   "execution_count": 16,
   "metadata": {
    "colab": {},
    "colab_type": "code",
    "id": "frm5SjDDi7cC",
    "outputId": "f7530a0e-023c-4c81-c3b9-1dc0cd32e057"
   },
   "outputs": [
    {
     "data": {
      "text/html": [
       "<div>\n",
       "<style scoped>\n",
       "    .dataframe tbody tr th:only-of-type {\n",
       "        vertical-align: middle;\n",
       "    }\n",
       "\n",
       "    .dataframe tbody tr th {\n",
       "        vertical-align: top;\n",
       "    }\n",
       "\n",
       "    .dataframe thead th {\n",
       "        text-align: right;\n",
       "    }\n",
       "</style>\n",
       "<table border=\"1\" class=\"dataframe\">\n",
       "  <thead>\n",
       "    <tr style=\"text-align: right;\">\n",
       "      <th></th>\n",
       "      <th>mean_fit_time</th>\n",
       "      <th>std_fit_time</th>\n",
       "      <th>mean_score_time</th>\n",
       "      <th>std_score_time</th>\n",
       "      <th>param_n_neighbors</th>\n",
       "      <th>param_p</th>\n",
       "      <th>param_weights</th>\n",
       "      <th>params</th>\n",
       "      <th>split0_test_score</th>\n",
       "      <th>split1_test_score</th>\n",
       "      <th>...</th>\n",
       "      <th>split3_test_score</th>\n",
       "      <th>split4_test_score</th>\n",
       "      <th>split5_test_score</th>\n",
       "      <th>split6_test_score</th>\n",
       "      <th>split7_test_score</th>\n",
       "      <th>split8_test_score</th>\n",
       "      <th>split9_test_score</th>\n",
       "      <th>mean_test_score</th>\n",
       "      <th>std_test_score</th>\n",
       "      <th>rank_test_score</th>\n",
       "    </tr>\n",
       "  </thead>\n",
       "  <tbody>\n",
       "    <tr>\n",
       "      <th>0</th>\n",
       "      <td>0.006000</td>\n",
       "      <td>0.002582</td>\n",
       "      <td>0.008478</td>\n",
       "      <td>0.001684</td>\n",
       "      <td>1</td>\n",
       "      <td>1</td>\n",
       "      <td>uniform</td>\n",
       "      <td>{'n_neighbors': 1, 'p': 1, 'weights': 'uniform'}</td>\n",
       "      <td>1.000000</td>\n",
       "      <td>0.975610</td>\n",
       "      <td>...</td>\n",
       "      <td>1.000000</td>\n",
       "      <td>0.975610</td>\n",
       "      <td>0.975610</td>\n",
       "      <td>1.000000</td>\n",
       "      <td>0.951220</td>\n",
       "      <td>1.000000</td>\n",
       "      <td>1.000</td>\n",
       "      <td>0.985366</td>\n",
       "      <td>0.016179</td>\n",
       "      <td>4</td>\n",
       "    </tr>\n",
       "    <tr>\n",
       "      <th>1</th>\n",
       "      <td>0.002393</td>\n",
       "      <td>0.000488</td>\n",
       "      <td>0.002194</td>\n",
       "      <td>0.000399</td>\n",
       "      <td>1</td>\n",
       "      <td>1</td>\n",
       "      <td>distance</td>\n",
       "      <td>{'n_neighbors': 1, 'p': 1, 'weights': 'distance'}</td>\n",
       "      <td>1.000000</td>\n",
       "      <td>0.975610</td>\n",
       "      <td>...</td>\n",
       "      <td>1.000000</td>\n",
       "      <td>0.975610</td>\n",
       "      <td>0.975610</td>\n",
       "      <td>1.000000</td>\n",
       "      <td>0.951220</td>\n",
       "      <td>1.000000</td>\n",
       "      <td>1.000</td>\n",
       "      <td>0.985366</td>\n",
       "      <td>0.016179</td>\n",
       "      <td>4</td>\n",
       "    </tr>\n",
       "    <tr>\n",
       "      <th>2</th>\n",
       "      <td>0.001496</td>\n",
       "      <td>0.000498</td>\n",
       "      <td>0.002992</td>\n",
       "      <td>0.000446</td>\n",
       "      <td>1</td>\n",
       "      <td>2</td>\n",
       "      <td>uniform</td>\n",
       "      <td>{'n_neighbors': 1, 'p': 2, 'weights': 'uniform'}</td>\n",
       "      <td>1.000000</td>\n",
       "      <td>0.975610</td>\n",
       "      <td>...</td>\n",
       "      <td>1.000000</td>\n",
       "      <td>0.951220</td>\n",
       "      <td>0.926829</td>\n",
       "      <td>1.000000</td>\n",
       "      <td>0.951220</td>\n",
       "      <td>1.000000</td>\n",
       "      <td>1.000</td>\n",
       "      <td>0.980488</td>\n",
       "      <td>0.026269</td>\n",
       "      <td>12</td>\n",
       "    </tr>\n",
       "    <tr>\n",
       "      <th>3</th>\n",
       "      <td>0.001296</td>\n",
       "      <td>0.000457</td>\n",
       "      <td>0.001197</td>\n",
       "      <td>0.000399</td>\n",
       "      <td>1</td>\n",
       "      <td>2</td>\n",
       "      <td>distance</td>\n",
       "      <td>{'n_neighbors': 1, 'p': 2, 'weights': 'distance'}</td>\n",
       "      <td>1.000000</td>\n",
       "      <td>0.975610</td>\n",
       "      <td>...</td>\n",
       "      <td>1.000000</td>\n",
       "      <td>0.951220</td>\n",
       "      <td>0.926829</td>\n",
       "      <td>1.000000</td>\n",
       "      <td>0.951220</td>\n",
       "      <td>1.000000</td>\n",
       "      <td>1.000</td>\n",
       "      <td>0.980488</td>\n",
       "      <td>0.026269</td>\n",
       "      <td>12</td>\n",
       "    </tr>\n",
       "    <tr>\n",
       "      <th>4</th>\n",
       "      <td>0.001097</td>\n",
       "      <td>0.000299</td>\n",
       "      <td>0.003291</td>\n",
       "      <td>0.000457</td>\n",
       "      <td>1</td>\n",
       "      <td>3</td>\n",
       "      <td>uniform</td>\n",
       "      <td>{'n_neighbors': 1, 'p': 3, 'weights': 'uniform'}</td>\n",
       "      <td>0.975610</td>\n",
       "      <td>0.951220</td>\n",
       "      <td>...</td>\n",
       "      <td>1.000000</td>\n",
       "      <td>0.951220</td>\n",
       "      <td>0.926829</td>\n",
       "      <td>1.000000</td>\n",
       "      <td>0.926829</td>\n",
       "      <td>1.000000</td>\n",
       "      <td>1.000</td>\n",
       "      <td>0.968293</td>\n",
       "      <td>0.028962</td>\n",
       "      <td>207</td>\n",
       "    </tr>\n",
       "    <tr>\n",
       "      <th>...</th>\n",
       "      <td>...</td>\n",
       "      <td>...</td>\n",
       "      <td>...</td>\n",
       "      <td>...</td>\n",
       "      <td>...</td>\n",
       "      <td>...</td>\n",
       "      <td>...</td>\n",
       "      <td>...</td>\n",
       "      <td>...</td>\n",
       "      <td>...</td>\n",
       "      <td>...</td>\n",
       "      <td>...</td>\n",
       "      <td>...</td>\n",
       "      <td>...</td>\n",
       "      <td>...</td>\n",
       "      <td>...</td>\n",
       "      <td>...</td>\n",
       "      <td>...</td>\n",
       "      <td>...</td>\n",
       "      <td>...</td>\n",
       "      <td>...</td>\n",
       "    </tr>\n",
       "    <tr>\n",
       "      <th>1189</th>\n",
       "      <td>0.000296</td>\n",
       "      <td>0.000453</td>\n",
       "      <td>0.001696</td>\n",
       "      <td>0.000457</td>\n",
       "      <td>199</td>\n",
       "      <td>1</td>\n",
       "      <td>distance</td>\n",
       "      <td>{'n_neighbors': 199, 'p': 1, 'weights': 'dista...</td>\n",
       "      <td>0.878049</td>\n",
       "      <td>0.853659</td>\n",
       "      <td>...</td>\n",
       "      <td>1.000000</td>\n",
       "      <td>0.878049</td>\n",
       "      <td>0.926829</td>\n",
       "      <td>0.902439</td>\n",
       "      <td>0.926829</td>\n",
       "      <td>0.951220</td>\n",
       "      <td>0.950</td>\n",
       "      <td>0.924268</td>\n",
       "      <td>0.044167</td>\n",
       "      <td>1044</td>\n",
       "    </tr>\n",
       "    <tr>\n",
       "      <th>1190</th>\n",
       "      <td>0.000599</td>\n",
       "      <td>0.000489</td>\n",
       "      <td>0.002792</td>\n",
       "      <td>0.000598</td>\n",
       "      <td>199</td>\n",
       "      <td>2</td>\n",
       "      <td>uniform</td>\n",
       "      <td>{'n_neighbors': 199, 'p': 2, 'weights': 'unifo...</td>\n",
       "      <td>0.853659</td>\n",
       "      <td>0.878049</td>\n",
       "      <td>...</td>\n",
       "      <td>0.926829</td>\n",
       "      <td>0.878049</td>\n",
       "      <td>0.902439</td>\n",
       "      <td>0.853659</td>\n",
       "      <td>0.902439</td>\n",
       "      <td>0.926829</td>\n",
       "      <td>0.925</td>\n",
       "      <td>0.897378</td>\n",
       "      <td>0.028260</td>\n",
       "      <td>1185</td>\n",
       "    </tr>\n",
       "    <tr>\n",
       "      <th>1191</th>\n",
       "      <td>0.000499</td>\n",
       "      <td>0.000499</td>\n",
       "      <td>0.001496</td>\n",
       "      <td>0.000499</td>\n",
       "      <td>199</td>\n",
       "      <td>2</td>\n",
       "      <td>distance</td>\n",
       "      <td>{'n_neighbors': 199, 'p': 2, 'weights': 'dista...</td>\n",
       "      <td>0.878049</td>\n",
       "      <td>0.878049</td>\n",
       "      <td>...</td>\n",
       "      <td>1.000000</td>\n",
       "      <td>0.902439</td>\n",
       "      <td>0.926829</td>\n",
       "      <td>0.902439</td>\n",
       "      <td>0.926829</td>\n",
       "      <td>0.951220</td>\n",
       "      <td>0.950</td>\n",
       "      <td>0.924268</td>\n",
       "      <td>0.035170</td>\n",
       "      <td>1044</td>\n",
       "    </tr>\n",
       "    <tr>\n",
       "      <th>1192</th>\n",
       "      <td>0.000801</td>\n",
       "      <td>0.000599</td>\n",
       "      <td>0.005790</td>\n",
       "      <td>0.000396</td>\n",
       "      <td>199</td>\n",
       "      <td>3</td>\n",
       "      <td>uniform</td>\n",
       "      <td>{'n_neighbors': 199, 'p': 3, 'weights': 'unifo...</td>\n",
       "      <td>0.853659</td>\n",
       "      <td>0.878049</td>\n",
       "      <td>...</td>\n",
       "      <td>0.902439</td>\n",
       "      <td>0.878049</td>\n",
       "      <td>0.878049</td>\n",
       "      <td>0.853659</td>\n",
       "      <td>0.902439</td>\n",
       "      <td>0.951220</td>\n",
       "      <td>0.925</td>\n",
       "      <td>0.892500</td>\n",
       "      <td>0.029059</td>\n",
       "      <td>1193</td>\n",
       "    </tr>\n",
       "    <tr>\n",
       "      <th>1193</th>\n",
       "      <td>0.000496</td>\n",
       "      <td>0.000496</td>\n",
       "      <td>0.005094</td>\n",
       "      <td>0.000298</td>\n",
       "      <td>199</td>\n",
       "      <td>3</td>\n",
       "      <td>distance</td>\n",
       "      <td>{'n_neighbors': 199, 'p': 3, 'weights': 'dista...</td>\n",
       "      <td>0.878049</td>\n",
       "      <td>0.878049</td>\n",
       "      <td>...</td>\n",
       "      <td>0.951220</td>\n",
       "      <td>0.902439</td>\n",
       "      <td>0.926829</td>\n",
       "      <td>0.878049</td>\n",
       "      <td>0.926829</td>\n",
       "      <td>0.951220</td>\n",
       "      <td>0.950</td>\n",
       "      <td>0.916951</td>\n",
       "      <td>0.029128</td>\n",
       "      <td>1108</td>\n",
       "    </tr>\n",
       "  </tbody>\n",
       "</table>\n",
       "<p>1194 rows × 21 columns</p>\n",
       "</div>"
      ],
      "text/plain": [
       "      mean_fit_time  std_fit_time  mean_score_time  std_score_time  \\\n",
       "0          0.006000      0.002582         0.008478        0.001684   \n",
       "1          0.002393      0.000488         0.002194        0.000399   \n",
       "2          0.001496      0.000498         0.002992        0.000446   \n",
       "3          0.001296      0.000457         0.001197        0.000399   \n",
       "4          0.001097      0.000299         0.003291        0.000457   \n",
       "...             ...           ...              ...             ...   \n",
       "1189       0.000296      0.000453         0.001696        0.000457   \n",
       "1190       0.000599      0.000489         0.002792        0.000598   \n",
       "1191       0.000499      0.000499         0.001496        0.000499   \n",
       "1192       0.000801      0.000599         0.005790        0.000396   \n",
       "1193       0.000496      0.000496         0.005094        0.000298   \n",
       "\n",
       "     param_n_neighbors param_p param_weights  \\\n",
       "0                    1       1       uniform   \n",
       "1                    1       1      distance   \n",
       "2                    1       2       uniform   \n",
       "3                    1       2      distance   \n",
       "4                    1       3       uniform   \n",
       "...                ...     ...           ...   \n",
       "1189               199       1      distance   \n",
       "1190               199       2       uniform   \n",
       "1191               199       2      distance   \n",
       "1192               199       3       uniform   \n",
       "1193               199       3      distance   \n",
       "\n",
       "                                                 params  split0_test_score  \\\n",
       "0      {'n_neighbors': 1, 'p': 1, 'weights': 'uniform'}           1.000000   \n",
       "1     {'n_neighbors': 1, 'p': 1, 'weights': 'distance'}           1.000000   \n",
       "2      {'n_neighbors': 1, 'p': 2, 'weights': 'uniform'}           1.000000   \n",
       "3     {'n_neighbors': 1, 'p': 2, 'weights': 'distance'}           1.000000   \n",
       "4      {'n_neighbors': 1, 'p': 3, 'weights': 'uniform'}           0.975610   \n",
       "...                                                 ...                ...   \n",
       "1189  {'n_neighbors': 199, 'p': 1, 'weights': 'dista...           0.878049   \n",
       "1190  {'n_neighbors': 199, 'p': 2, 'weights': 'unifo...           0.853659   \n",
       "1191  {'n_neighbors': 199, 'p': 2, 'weights': 'dista...           0.878049   \n",
       "1192  {'n_neighbors': 199, 'p': 3, 'weights': 'unifo...           0.853659   \n",
       "1193  {'n_neighbors': 199, 'p': 3, 'weights': 'dista...           0.878049   \n",
       "\n",
       "      split1_test_score  ...  split3_test_score  split4_test_score  \\\n",
       "0              0.975610  ...           1.000000           0.975610   \n",
       "1              0.975610  ...           1.000000           0.975610   \n",
       "2              0.975610  ...           1.000000           0.951220   \n",
       "3              0.975610  ...           1.000000           0.951220   \n",
       "4              0.951220  ...           1.000000           0.951220   \n",
       "...                 ...  ...                ...                ...   \n",
       "1189           0.853659  ...           1.000000           0.878049   \n",
       "1190           0.878049  ...           0.926829           0.878049   \n",
       "1191           0.878049  ...           1.000000           0.902439   \n",
       "1192           0.878049  ...           0.902439           0.878049   \n",
       "1193           0.878049  ...           0.951220           0.902439   \n",
       "\n",
       "      split5_test_score  split6_test_score  split7_test_score  \\\n",
       "0              0.975610           1.000000           0.951220   \n",
       "1              0.975610           1.000000           0.951220   \n",
       "2              0.926829           1.000000           0.951220   \n",
       "3              0.926829           1.000000           0.951220   \n",
       "4              0.926829           1.000000           0.926829   \n",
       "...                 ...                ...                ...   \n",
       "1189           0.926829           0.902439           0.926829   \n",
       "1190           0.902439           0.853659           0.902439   \n",
       "1191           0.926829           0.902439           0.926829   \n",
       "1192           0.878049           0.853659           0.902439   \n",
       "1193           0.926829           0.878049           0.926829   \n",
       "\n",
       "      split8_test_score  split9_test_score  mean_test_score  std_test_score  \\\n",
       "0              1.000000              1.000         0.985366        0.016179   \n",
       "1              1.000000              1.000         0.985366        0.016179   \n",
       "2              1.000000              1.000         0.980488        0.026269   \n",
       "3              1.000000              1.000         0.980488        0.026269   \n",
       "4              1.000000              1.000         0.968293        0.028962   \n",
       "...                 ...                ...              ...             ...   \n",
       "1189           0.951220              0.950         0.924268        0.044167   \n",
       "1190           0.926829              0.925         0.897378        0.028260   \n",
       "1191           0.951220              0.950         0.924268        0.035170   \n",
       "1192           0.951220              0.925         0.892500        0.029059   \n",
       "1193           0.951220              0.950         0.916951        0.029128   \n",
       "\n",
       "      rank_test_score  \n",
       "0                   4  \n",
       "1                   4  \n",
       "2                  12  \n",
       "3                  12  \n",
       "4                 207  \n",
       "...               ...  \n",
       "1189             1044  \n",
       "1190             1185  \n",
       "1191             1044  \n",
       "1192             1193  \n",
       "1193             1108  \n",
       "\n",
       "[1194 rows x 21 columns]"
      ]
     },
     "execution_count": 16,
     "metadata": {},
     "output_type": "execute_result"
    }
   ],
   "source": [
    "pd.DataFrame(grids[1].cv_results_)"
   ]
  },
  {
   "cell_type": "code",
   "execution_count": 17,
   "metadata": {
    "colab": {},
    "colab_type": "code",
    "id": "WIesMPjsjbZH"
   },
   "outputs": [],
   "source": [
    "X_test = scaler.transform(X_test)"
   ]
  },
  {
   "cell_type": "code",
   "execution_count": 18,
   "metadata": {
    "colab": {},
    "colab_type": "code",
    "id": "XjIXrBGEi7cJ"
   },
   "outputs": [],
   "source": [
    "y_preds_log = grids[0].predict(X_test)\n",
    "y_preds_knn = grids[1].predict(X_test)"
   ]
  },
  {
   "cell_type": "code",
   "execution_count": 21,
   "metadata": {
    "colab": {},
    "colab_type": "code",
    "id": "r-X3IbTJi7cM",
    "outputId": "c0099cd3-fe60-44f4-99d0-ec69cef89c75"
   },
   "outputs": [
    {
     "name": "stdout",
     "output_type": "stream",
     "text": [
      "              precision    recall  f1-score   support\n",
      "\n",
      "           0       0.99      0.94      0.97       178\n",
      "           1       0.90      0.99      0.95        96\n",
      "\n",
      "    accuracy                           0.96       274\n",
      "   macro avg       0.95      0.97      0.96       274\n",
      "weighted avg       0.96      0.96      0.96       274\n",
      "\n"
     ]
    }
   ],
   "source": [
    "print (classification_report(y_test, y_preds_log))"
   ]
  },
  {
   "cell_type": "code",
   "execution_count": 23,
   "metadata": {},
   "outputs": [
    {
     "data": {
      "text/plain": [
       "array([[168,  10],\n",
       "       [  1,  95]], dtype=int64)"
      ]
     },
     "execution_count": 23,
     "metadata": {},
     "output_type": "execute_result"
    }
   ],
   "source": [
    "confusion_matrix(y_test, y_preds_log)"
   ]
  },
  {
   "cell_type": "code",
   "execution_count": 25,
   "metadata": {
    "colab": {},
    "colab_type": "code",
    "id": "JNLjDXGbi7cS",
    "outputId": "c18e0cf1-d365-4a78-cf01-567fe8298b59"
   },
   "outputs": [
    {
     "name": "stdout",
     "output_type": "stream",
     "text": [
      "              precision    recall  f1-score   support\n",
      "\n",
      "           0       0.98      0.95      0.97       178\n",
      "           1       0.91      0.97      0.94        96\n",
      "\n",
      "    accuracy                           0.96       274\n",
      "   macro avg       0.95      0.96      0.95       274\n",
      "weighted avg       0.96      0.96      0.96       274\n",
      "\n"
     ]
    }
   ],
   "source": [
    "print (classification_report(y_test, y_preds_knn))"
   ]
  },
  {
   "cell_type": "code",
   "execution_count": 26,
   "metadata": {},
   "outputs": [
    {
     "data": {
      "text/plain": [
       "array([[169,   9],\n",
       "       [  3,  93]], dtype=int64)"
      ]
     },
     "execution_count": 26,
     "metadata": {},
     "output_type": "execute_result"
    }
   ],
   "source": [
    "confusion_matrix(y_test, y_preds_knn)"
   ]
  },
  {
   "cell_type": "markdown",
   "metadata": {
    "colab_type": "text",
    "id": "yVZuwGxBi7cc"
   },
   "source": [
    "## Diferencia de performance entre Random Search y Gridsearch\n",
    "\n",
    "Dado el siguiente conjunto de parámetros:\n",
    "\n",
    "        param_dist = {\n",
    "                    'n_neighbors': range(1,200),\n",
    "                    'weights' : ['uniform', 'distance'],\n",
    "                    'p' : [1, 2, 3]\n",
    "                    }\n",
    "\n",
    "Implementar una búsqueda del conjunto óptimo de hiperparámetros tanto con GridSearchCV como con RandomSearchCV.\n",
    "Verificar la diferencia en cada caso de:\n",
    "    \n",
    "    1. El tiempo de ejecución (utilizando la biblioteca time)\n",
    "    2. La combinación óptima de parámetros\n",
    "    3. La performance del mejor modelo en cada caso sobre los datos del test set que separamos anteriormente en términos de accuracy\n"
   ]
  },
  {
   "cell_type": "code",
   "execution_count": null,
   "metadata": {
    "colab": {},
    "colab_type": "code",
    "id": "R4pw4fWNi7cd"
   },
   "outputs": [],
   "source": [
    "from sklearn.model_selection import RandomizedSearchCV"
   ]
  },
  {
   "cell_type": "code",
   "execution_count": null,
   "metadata": {
    "colab": {},
    "colab_type": "code",
    "id": "we23TyU6i7cg"
   },
   "outputs": [],
   "source": [
    "def busquedaGridsearch(params_):\n",
    "    folds=StratifiedKFold(n_splits=10, random_state=19, shuffle=True)\n",
    "    gs = GridSearchCV(estimator=KNeighborsClassifier(), param_grid=params_, scoring='accuracy', cv=folds, n_jobs=4)\n",
    "    fit = gs.fit(X_train, y_train)\n",
    "    return gs    "
   ]
  },
  {
   "cell_type": "code",
   "execution_count": null,
   "metadata": {
    "colab": {},
    "colab_type": "code",
    "id": "KDKnMaGCi7cj"
   },
   "outputs": [],
   "source": [
    "def busquedaRandomSearch(params_,iter_):\n",
    "    folds=StratifiedKFold(n_splits=10, random_state=19, shuffle=True)\n",
    "    gs = RandomizedSearchCV(estimator=KNeighborsClassifier(), param_distributions=params_, scoring='accuracy', cv=folds, n_jobs=4, n_iter = iter_ )\n",
    "    fit = gs.fit(X_train, y_train)\n",
    "    return gs    "
   ]
  },
  {
   "cell_type": "code",
   "execution_count": null,
   "metadata": {
    "colab": {},
    "colab_type": "code",
    "id": "w8BJrzMsi7cp"
   },
   "outputs": [],
   "source": [
    "param_dist = {\n",
    "    'n_neighbors': range(1,200),\n",
    "    'weights' : ['uniform', 'distance'],\n",
    "    'p' : [1, 2, 3]\n",
    "}\n"
   ]
  },
  {
   "cell_type": "code",
   "execution_count": null,
   "metadata": {},
   "outputs": [],
   "source": [
    "import time"
   ]
  },
  {
   "cell_type": "code",
   "execution_count": null,
   "metadata": {
    "colab": {},
    "colab_type": "code",
    "id": "6omwoiDbi7ct",
    "outputId": "9ec1ccf6-a5be-4ff5-920d-ac515cba0220"
   },
   "outputs": [],
   "source": [
    "tic = time.time()\n",
    "gs_random_search = busquedaRandomSearch(param_dist,100)        \n",
    "toc = time.time()\n",
    "print(str(toc-tic) + ' Segundos')"
   ]
  },
  {
   "cell_type": "code",
   "execution_count": null,
   "metadata": {
    "colab": {},
    "colab_type": "code",
    "id": "BmrRXn6pi7cy",
    "outputId": "28327cd6-1531-4739-a512-f91a3e8c6959"
   },
   "outputs": [],
   "source": [
    "tic = time.time()\n",
    "gs_grid_search = busquedaGridsearch(param_dist)   \n",
    "toc = time.time()\n",
    "print(str(toc-tic) + ' Segundos')"
   ]
  },
  {
   "cell_type": "code",
   "execution_count": null,
   "metadata": {
    "colab": {},
    "colab_type": "code",
    "id": "dCJG6tOyi7c2",
    "outputId": "4eabe941-9a19-499b-b682-f05e1187370f"
   },
   "outputs": [],
   "source": [
    "gs_random_search.best_params_"
   ]
  },
  {
   "cell_type": "code",
   "execution_count": null,
   "metadata": {
    "colab": {},
    "colab_type": "code",
    "id": "xEKkjU9zi7c6",
    "outputId": "1494cabb-f019-4a75-fc4e-84f5ed45a950"
   },
   "outputs": [],
   "source": [
    "gs_grid_search.best_params_"
   ]
  },
  {
   "cell_type": "code",
   "execution_count": null,
   "metadata": {
    "colab": {},
    "colab_type": "code",
    "id": "cTeXExFoi7c-"
   },
   "outputs": [],
   "source": [
    "from sklearn.metrics import accuracy_score\n",
    "\n",
    "def obtener_performance(estimator):\n",
    "    y_pred = estimator.predict(X_test)\n",
    "    return accuracy_score(y_pred,y_test, normalize = True)"
   ]
  },
  {
   "cell_type": "code",
   "execution_count": null,
   "metadata": {
    "colab": {},
    "colab_type": "code",
    "id": "w-SB4bNsi7dE",
    "outputId": "5e124432-19bf-451d-cd1f-966fccab506f"
   },
   "outputs": [],
   "source": [
    "obtener_performance(gs_grid_search.best_estimator_)"
   ]
  },
  {
   "cell_type": "code",
   "execution_count": null,
   "metadata": {
    "colab": {},
    "colab_type": "code",
    "id": "dLfREtVdi7dK",
    "outputId": "987e4c18-5d1f-44af-b4d3-c7f1c0d10e65"
   },
   "outputs": [],
   "source": [
    "obtener_performance(gs_random_search.best_estimator_)"
   ]
  },
  {
   "cell_type": "code",
   "execution_count": null,
   "metadata": {},
   "outputs": [],
   "source": []
  }
 ],
 "metadata": {
  "colab": {
   "collapsed_sections": [],
   "name": "Solution_LAB_Introducción_Grid_Search.ipynb",
   "provenance": [],
   "version": "0.3.2"
  },
  "kernelspec": {
   "display_name": "Python 3 (ipykernel)",
   "language": "python",
   "name": "python3"
  },
  "language_info": {
   "codemirror_mode": {
    "name": "ipython",
    "version": 3
   },
   "file_extension": ".py",
   "mimetype": "text/x-python",
   "name": "python",
   "nbconvert_exporter": "python",
   "pygments_lexer": "ipython3",
   "version": "3.9.7"
  }
 },
 "nbformat": 4,
 "nbformat_minor": 4
}
