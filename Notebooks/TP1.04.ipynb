{
 "cells": [
  {
   "cell_type": "markdown",
   "id": "203bc12d",
   "metadata": {},
   "source": [
    "Hace falta algo que indique con qué entorno vamos a trabajar"
   ]
  },
  {
   "cell_type": "markdown",
   "id": "3dd5d459",
   "metadata": {},
   "source": [
    "Importar lo que hace falta"
   ]
  },
  {
   "cell_type": "code",
   "execution_count": 1,
   "id": "958a0f6b",
   "metadata": {},
   "outputs": [],
   "source": [
    "import pandas as pd\n",
    "import numpy as np\n",
    "import seaborn as sns"
   ]
  },
  {
   "cell_type": "code",
   "execution_count": 2,
   "id": "cbdf17dc",
   "metadata": {},
   "outputs": [],
   "source": [
    "data_url = \"../Data/properatti.csv\""
   ]
  },
  {
   "cell_type": "code",
   "execution_count": 3,
   "id": "7fb0e0cc",
   "metadata": {},
   "outputs": [],
   "source": [
    "data = pd.read_csv(data_url, encoding=\"utf-8\")"
   ]
  },
  {
   "cell_type": "code",
   "execution_count": 4,
   "id": "03e482ea",
   "metadata": {},
   "outputs": [],
   "source": [
    "#limpiamos los que NaN en el precio\n",
    "data_clean = data.dropna(axis=0, how='any', subset=['price_aprox_usd'])"
   ]
  },
  {
   "cell_type": "code",
   "execution_count": 5,
   "id": "26c732de",
   "metadata": {},
   "outputs": [],
   "source": [
    "#funcion para borrar outliers.\n",
    "def borrar_outliers(data, columnas):\n",
    "    \"\"\"Solo recibo columnas con valores numericos. \n",
    "    Las columns van en forma de tupla\"\"\"\n",
    "    cols_limpiar = columnas\n",
    "    mask=np.ones(shape=(data.shape[0]), dtype=bool)\n",
    "\n",
    "    for i in cols_limpiar:\n",
    "        \n",
    "        #calculamos cuartiles, y valores de corte\n",
    "        Q1=data[i].quantile(0.25)\n",
    "        Q3=data[i].quantile(0.75)\n",
    "        RSI=Q3-Q1\n",
    "        max_value=Q3+1.5*RSI\n",
    "        min_value=Q1-1.5*RSI\n",
    "        \n",
    "        #filtramos por max y min\n",
    "        mask=np.logical_and(mask, np.logical_and(data[i]>=min_value, data[i]<=max_value))\n",
    "    return data[mask]"
   ]
  },
  {
   "cell_type": "code",
   "execution_count": 6,
   "id": "02905d42",
   "metadata": {},
   "outputs": [],
   "source": [
    "def check_corr(data, place, tipo, outliers):\n",
    "    \"\"\"place indica filtro por lugar para ver correlacion\n",
    "    tipo indica filtro por tipo de propierdad para ver la correlacion\n",
    "    *outliers muestra las variables donde vamos a limpiar valores extremos (es una tupla)\"\"\"\n",
    "    \n",
    "    data_place = data[data.place_name==place]\n",
    "    data_tipo = data_place[data_place.property_type==tipo]\n",
    "\n",
    "    data_outliers = borrar_outliers(data_tipo, outliers)\n",
    "    \n",
    "    \n",
    "    #sns.scatterplot(x=data_outliers['surface_total_in_m2'], y=data_outliers['price_aprox_usd'])\n",
    "    \n",
    "    corr = data_outliers[[outliers[0], outliers[1]]].corr()\n",
    "    return corr.iloc[0,1]\n",
    "    \n",
    "    \n"
   ]
  },
  {
   "cell_type": "code",
   "execution_count": 7,
   "id": "178ca39a",
   "metadata": {},
   "outputs": [],
   "source": [
    "#hacemos las iteraciones para place y para tipo. Elijo arbitrariamente cuanto quiero mostrar. \n",
    "#elijo los que tienen mas valores, y despues les paso un index para que solo me muestre el nombre del lugar\n",
    "iterar_place=data_clean['place_name'].value_counts().head(20)\n",
    "iterar_place = iterar_place.index\n",
    "\n",
    "iterar_tipo=data_clean['property_type'].value_counts().head(2)\n",
    "iterar_tipo = iterar_tipo.index"
   ]
  },
  {
   "cell_type": "code",
   "execution_count": 8,
   "id": "7922381a",
   "metadata": {},
   "outputs": [
    {
     "name": "stdout",
     "output_type": "stream",
     "text": [
      " Lugar: Córdoba           \t // Tipo: apartment \t \t //corr: 0.66 \t // conteo: 4758\n",
      " Lugar: Mar del Plata     \t // Tipo: apartment \t \t //corr: 0.76 \t // conteo: 4181\n",
      " Lugar: Rosario           \t // Tipo: apartment \t \t //corr: 0.64 \t // conteo: 4140\n",
      " Lugar: Tigre             \t // Tipo: apartment \t \t //corr: 0.73 \t // conteo: 1322\n",
      " Lugar: Nordelta          \t // Tipo: apartment \t \t //corr: 0.69 \t // conteo: 1858\n",
      " Lugar: Belgrano          \t // Tipo: apartment \t \t //corr: 0.89 \t // conteo: 2338\n",
      " Lugar: Palermo           \t // Tipo: apartment \t \t //corr: 0.83 \t // conteo: 2258\n",
      " Lugar: Caballito         \t // Tipo: apartment \t \t //corr: 0.88 \t // conteo: 1886\n",
      " Lugar: Pilar             \t // Tipo: apartment \t \t //corr: 0.57 \t // conteo: 746\n",
      " Lugar: La Plata          \t // Tipo: apartment \t \t //corr: 0.75 \t // conteo: 1041\n",
      " Lugar: Olivos            \t // Tipo: apartment \t \t //corr: 0.81 \t // conteo: 1010\n",
      " Lugar: Lomas de Zamora   \t // Tipo: apartment \t \t //corr: 0.75 \t // conteo: 778\n",
      " Lugar: Recoleta          \t // Tipo: apartment \t \t //corr: 0.87 \t // conteo: 1329\n",
      " Lugar: Villa Urquiza     \t // Tipo: apartment \t \t //corr: 0.88 \t // conteo: 1196\n",
      " Lugar: Flores            \t // Tipo: apartment \t \t //corr: 0.82 \t // conteo: 1031\n",
      " Lugar: Villa Crespo      \t // Tipo: apartment \t \t //corr: 0.85 \t // conteo: 993\n",
      " Lugar: San Telmo         \t // Tipo: apartment \t \t //corr: 0.75 \t // conteo: 1069\n",
      " Lugar: Ramos Mejía       \t // Tipo: apartment \t \t //corr: 0.72 \t // conteo: 573\n",
      " Lugar: Lanús             \t // Tipo: apartment \t \t //corr: 0.42 \t // conteo: 456\n",
      " Lugar: Martínez          \t // Tipo: apartment \t \t //corr: 0.82 \t // conteo: 390\n",
      " Lugar: Córdoba           \t // Tipo: house \t \t //corr: 0.51 \t // conteo: 1827\n",
      " Lugar: Mar del Plata     \t // Tipo: house \t \t //corr: 0.29 \t // conteo: 1180\n",
      " Lugar: Rosario           \t // Tipo: house \t \t //corr: 0.43 \t // conteo: 496\n",
      " Lugar: Tigre             \t // Tipo: house \t \t //corr: 0.59 \t // conteo: 1696\n",
      " Lugar: Nordelta          \t // Tipo: house \t \t //corr: 0.49 \t // conteo: 1019\n",
      " Lugar: Belgrano          \t // Tipo: house \t \t //corr: 0.75 \t // conteo: 100\n",
      " Lugar: Palermo           \t // Tipo: house \t \t //corr: 0.77 \t // conteo: 63\n",
      " Lugar: Caballito         \t // Tipo: house \t \t //corr: 0.65 \t // conteo: 64\n",
      " Lugar: Pilar             \t // Tipo: house \t \t //corr: 0.29 \t // conteo: 1262\n",
      " Lugar: La Plata          \t // Tipo: house \t \t //corr: 0.25 \t // conteo: 470\n",
      " Lugar: Olivos            \t // Tipo: house \t \t //corr: 0.8 \t // conteo: 429\n",
      " Lugar: Lomas de Zamora   \t // Tipo: house \t \t //corr: 0.39 \t // conteo: 551\n",
      " Lugar: Recoleta          \t // Tipo: house \t \t //corr: 1.0 \t // conteo: 3\n",
      " Lugar: Villa Urquiza     \t // Tipo: house \t \t //corr: 0.68 \t // conteo: 61\n",
      " Lugar: Flores            \t // Tipo: house \t \t //corr: 0.68 \t // conteo: 91\n",
      " Lugar: Villa Crespo      \t // Tipo: house \t \t //corr: 0.81 \t // conteo: 30\n",
      " Lugar: San Telmo         \t // Tipo: house \t \t //corr: -0.02 \t // conteo: 13\n",
      " Lugar: Ramos Mejía       \t // Tipo: house \t \t //corr: 0.73 \t // conteo: 332\n",
      " Lugar: Lanús             \t // Tipo: house \t \t //corr: 0.39 \t // conteo: 350\n",
      " Lugar: Martínez          \t // Tipo: house \t \t //corr: 0.77 \t // conteo: 552\n"
     ]
    }
   ],
   "source": [
    "#Hago un ciclo for: basicamente aplico la funcion CHECK_CORR para cada dato. Todo lo demas es para que quede legible\n",
    "corr_surf_total=[]\n",
    "for tipo in iterar_tipo:\n",
    "    for place in iterar_place:\n",
    "        \n",
    "        #Formato para que sea legible (no aporta mucho al calculo)\n",
    "        spaces= \" \"*(16-len(place))\n",
    "        mask_conteo = np.logical_and(data_clean['place_name']==place, data_clean['property_type']==tipo)\n",
    "        conteo= data_clean[ mask_conteo].shape[0]\n",
    "        \n",
    "        #Esta es la importante\n",
    "        correlacion = round(check_corr(data_clean, place, tipo, ('price_aprox_usd', 'surface_total_in_m2')), 2)\n",
    "        \n",
    "        #mMostrar resultado\n",
    "        print(f' Lugar: {place} {spaces} \\t // Tipo: {tipo} \\t \\t //corr: {correlacion} \\t // conteo: {conteo}')\n",
    "        \n",
    "        if conteo > 100:\n",
    "            corr_surf_total.append(correlacion)\n",
    "        "
   ]
  },
  {
   "cell_type": "code",
   "execution_count": 9,
   "id": "8e3c5fe1",
   "metadata": {},
   "outputs": [],
   "source": [
    "#--------------------------------------------------------------------#"
   ]
  },
  {
   "cell_type": "code",
   "execution_count": 10,
   "id": "8845a94b",
   "metadata": {},
   "outputs": [
    {
     "name": "stdout",
     "output_type": "stream",
     "text": [
      " Lugar: Córdoba           \t // Tipo: apartment \t \t //corr: 0.62 \t // conteo: 4758\n",
      " Lugar: Mar del Plata     \t // Tipo: apartment \t \t //corr: 0.75 \t // conteo: 4181\n",
      " Lugar: Rosario           \t // Tipo: apartment \t \t //corr: 0.68 \t // conteo: 4140\n",
      " Lugar: Tigre             \t // Tipo: apartment \t \t //corr: 0.71 \t // conteo: 1322\n",
      " Lugar: Nordelta          \t // Tipo: apartment \t \t //corr: 0.71 \t // conteo: 1858\n",
      " Lugar: Belgrano          \t // Tipo: apartment \t \t //corr: 0.87 \t // conteo: 2338\n",
      " Lugar: Palermo           \t // Tipo: apartment \t \t //corr: 0.84 \t // conteo: 2258\n",
      " Lugar: Caballito         \t // Tipo: apartment \t \t //corr: 0.88 \t // conteo: 1886\n",
      " Lugar: Pilar             \t // Tipo: apartment \t \t //corr: 0.54 \t // conteo: 746\n",
      " Lugar: La Plata          \t // Tipo: apartment \t \t //corr: 0.75 \t // conteo: 1041\n",
      " Lugar: Olivos            \t // Tipo: apartment \t \t //corr: 0.73 \t // conteo: 1010\n",
      " Lugar: Lomas de Zamora   \t // Tipo: apartment \t \t //corr: 0.77 \t // conteo: 778\n",
      " Lugar: Recoleta          \t // Tipo: apartment \t \t //corr: 0.88 \t // conteo: 1329\n",
      " Lugar: Villa Urquiza     \t // Tipo: apartment \t \t //corr: 0.85 \t // conteo: 1196\n",
      " Lugar: Flores            \t // Tipo: apartment \t \t //corr: 0.84 \t // conteo: 1031\n",
      " Lugar: Villa Crespo      \t // Tipo: apartment \t \t //corr: 0.8 \t // conteo: 993\n",
      " Lugar: San Telmo         \t // Tipo: apartment \t \t //corr: 0.76 \t // conteo: 1069\n",
      " Lugar: Ramos Mejía       \t // Tipo: apartment \t \t //corr: 0.74 \t // conteo: 573\n",
      " Lugar: Lanús             \t // Tipo: apartment \t \t //corr: 0.31 \t // conteo: 456\n",
      " Lugar: Martínez          \t // Tipo: apartment \t \t //corr: 0.74 \t // conteo: 390\n",
      " Lugar: Córdoba           \t // Tipo: house \t \t //corr: 0.76 \t // conteo: 1827\n",
      " Lugar: Mar del Plata     \t // Tipo: house \t \t //corr: 0.72 \t // conteo: 1180\n",
      " Lugar: Rosario           \t // Tipo: house \t \t //corr: 0.69 \t // conteo: 496\n",
      " Lugar: Tigre             \t // Tipo: house \t \t //corr: 0.78 \t // conteo: 1696\n",
      " Lugar: Nordelta          \t // Tipo: house \t \t //corr: 0.89 \t // conteo: 1019\n",
      " Lugar: Belgrano          \t // Tipo: house \t \t //corr: 0.77 \t // conteo: 100\n",
      " Lugar: Palermo           \t // Tipo: house \t \t //corr: 0.79 \t // conteo: 63\n",
      " Lugar: Caballito         \t // Tipo: house \t \t //corr: 0.5 \t // conteo: 64\n",
      " Lugar: Pilar             \t // Tipo: house \t \t //corr: 0.76 \t // conteo: 1262\n",
      " Lugar: La Plata          \t // Tipo: house \t \t //corr: 0.76 \t // conteo: 470\n",
      " Lugar: Olivos            \t // Tipo: house \t \t //corr: 0.79 \t // conteo: 429\n",
      " Lugar: Lomas de Zamora   \t // Tipo: house \t \t //corr: 0.66 \t // conteo: 551\n",
      " Lugar: Recoleta          \t // Tipo: house \t \t //corr: 1.0 \t // conteo: 3\n",
      " Lugar: Villa Urquiza     \t // Tipo: house \t \t //corr: 0.61 \t // conteo: 61\n",
      " Lugar: Flores            \t // Tipo: house \t \t //corr: 0.61 \t // conteo: 91\n",
      " Lugar: Villa Crespo      \t // Tipo: house \t \t //corr: 0.74 \t // conteo: 30\n",
      " Lugar: San Telmo         \t // Tipo: house \t \t //corr: 0.21 \t // conteo: 13\n",
      " Lugar: Ramos Mejía       \t // Tipo: house \t \t //corr: 0.81 \t // conteo: 332\n",
      " Lugar: Lanús             \t // Tipo: house \t \t //corr: 0.47 \t // conteo: 350\n",
      " Lugar: Martínez          \t // Tipo: house \t \t //corr: 0.83 \t // conteo: 552\n"
     ]
    }
   ],
   "source": [
    "corr_surf_covered=[]\n",
    "for tipo in iterar_tipo:\n",
    "    for place in iterar_place:\n",
    "        \n",
    "        #Formato para que sea legible (no aporta mucho al calculo)\n",
    "        spaces= \" \"*(16-len(place))\n",
    "        mask_conteo = np.logical_and(data_clean['place_name']==place, data_clean['property_type']==tipo)\n",
    "        conteo= data_clean[ mask_conteo].shape[0]\n",
    "        \n",
    "        #Esta es la importante\n",
    "        correlacion = round(check_corr(data_clean, place, tipo, ('price_aprox_usd', 'surface_covered_in_m2')), 2)\n",
    "        \n",
    "        #mMostrar resultado\n",
    "        print(f' Lugar: {place} {spaces} \\t // Tipo: {tipo} \\t \\t //corr: {correlacion} \\t // conteo: {conteo}')\n",
    "        \n",
    "        if conteo > 100:\n",
    "            corr_surf_covered.append(correlacion)"
   ]
  },
  {
   "cell_type": "code",
   "execution_count": 11,
   "id": "f8584547",
   "metadata": {},
   "outputs": [
    {
     "data": {
      "text/plain": [
       "0.6568750000000001"
      ]
     },
     "execution_count": 11,
     "metadata": {},
     "output_type": "execute_result"
    }
   ],
   "source": [
    "pd.Series(corr_surf_total).mean()"
   ]
  },
  {
   "cell_type": "code",
   "execution_count": 12,
   "id": "08dd5048",
   "metadata": {},
   "outputs": [
    {
     "data": {
      "text/plain": [
       "0.7403125"
      ]
     },
     "execution_count": 12,
     "metadata": {},
     "output_type": "execute_result"
    }
   ],
   "source": [
    "pd.Series(corr_surf_covered).mean()"
   ]
  },
  {
   "cell_type": "code",
   "execution_count": 13,
   "id": "73b9e2f6",
   "metadata": {},
   "outputs": [],
   "source": [
    "#conviene usar la superficie cubierta!!!"
   ]
  }
 ],
 "metadata": {
  "kernelspec": {
   "display_name": "Python 3 (ipykernel)",
   "language": "python",
   "name": "python3"
  },
  "language_info": {
   "codemirror_mode": {
    "name": "ipython",
    "version": 3
   },
   "file_extension": ".py",
   "mimetype": "text/x-python",
   "name": "python",
   "nbconvert_exporter": "python",
   "pygments_lexer": "ipython3",
   "version": "3.8.12"
  }
 },
 "nbformat": 4,
 "nbformat_minor": 5
}
