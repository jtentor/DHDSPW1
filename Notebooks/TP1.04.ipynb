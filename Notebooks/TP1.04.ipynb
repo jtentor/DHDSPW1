{
 "cells": [
  {
   "cell_type": "markdown",
   "id": "c35dc0ed",
   "metadata": {},
   "source": [
    "Hace falta algo que indique con qué entorno vamos a trabajar\n",
    "\n",
    "**por ahora lo mejor es activar el entonrno que utilizamos en clases**\n"
   ]
  },
  {
   "cell_type": "markdown",
   "id": "b5b1689c",
   "metadata": {},
   "source": [
    "Importar lo que hace falta"
   ]
  },
  {
   "cell_type": "code",
   "execution_count": 1,
   "id": "420b1cca",
   "metadata": {},
   "outputs": [],
   "source": [
    "import pandas as pd\n",
    "import numpy as np\n",
    "import seaborn as sns"
   ]
  },
  {
   "cell_type": "code",
   "execution_count": 2,
   "id": "1cce4209",
   "metadata": {},
   "outputs": [],
   "source": [
    "data_url = \"../Data/properatti.csv\""
   ]
  },
  {
   "cell_type": "code",
   "execution_count": 3,
   "id": "96843d2a",
   "metadata": {},
   "outputs": [],
   "source": [
    "data = pd.read_csv(data_url, encoding=\"utf-8\")"
   ]
  },
  {
   "cell_type": "code",
   "execution_count": 4,
   "id": "95d00011",
   "metadata": {},
   "outputs": [
    {
     "data": {
      "text/plain": [
       "(121220, 26)"
      ]
     },
     "execution_count": 4,
     "metadata": {},
     "output_type": "execute_result"
    }
   ],
   "source": [
    "data.shape"
   ]
  },
  {
   "cell_type": "markdown",
   "id": "d40e9421",
   "metadata": {},
   "source": [
    "Confirmar los valores de la serie 'currency'"
   ]
  },
  {
   "cell_type": "code",
   "execution_count": 5,
   "id": "69358ea5",
   "metadata": {},
   "outputs": [
    {
     "data": {
      "text/plain": [
       "USD    87587\n",
       "ARS    13219\n",
       "PEN        2\n",
       "UYU        1\n",
       "Name: currency, dtype: int64"
      ]
     },
     "execution_count": 5,
     "metadata": {},
     "output_type": "execute_result"
    }
   ],
   "source": [
    "data['currency'].value_counts()"
   ]
  },
  {
   "cell_type": "markdown",
   "id": "d7d1de8f",
   "metadata": {},
   "source": [
    "Retenemos sólo las observaciones que correspondan a 'USD'"
   ]
  },
  {
   "cell_type": "code",
   "execution_count": 6,
   "id": "2582f241",
   "metadata": {},
   "outputs": [],
   "source": [
    "data = data[data['currency'] == 'USD']"
   ]
  },
  {
   "cell_type": "code",
   "execution_count": 7,
   "id": "f8592c0f",
   "metadata": {},
   "outputs": [
    {
     "data": {
      "text/plain": [
       "(87587, 26)"
      ]
     },
     "execution_count": 7,
     "metadata": {},
     "output_type": "execute_result"
    }
   ],
   "source": [
    "data.shape"
   ]
  },
  {
   "cell_type": "markdown",
   "id": "d7a5b5be",
   "metadata": {},
   "source": [
    "Determinar si la serie 'price' es igual que 'price_aprox_usd'\n",
    "La suma de valores True debe ser igual a la cantidad de observaciones"
   ]
  },
  {
   "cell_type": "code",
   "execution_count": 8,
   "id": "599587d4",
   "metadata": {},
   "outputs": [
    {
     "data": {
      "text/plain": [
       "87587"
      ]
     },
     "execution_count": 8,
     "metadata": {},
     "output_type": "execute_result"
    }
   ],
   "source": [
    "sum(data['price'] == data['price_aprox_usd'])"
   ]
  },
  {
   "cell_type": "markdown",
   "id": "229a2663",
   "metadata": {},
   "source": [
    "No hacen falta las series currency, price_aprox_local_currency y price_aprox_usd"
   ]
  },
  {
   "cell_type": "code",
   "execution_count": 9,
   "id": "896fd727",
   "metadata": {},
   "outputs": [],
   "source": [
    "data = data.drop(['currency', 'price_aprox_local_currency', 'price_aprox_usd'], axis='columns')"
   ]
  },
  {
   "cell_type": "code",
   "execution_count": 10,
   "id": "9df415b9",
   "metadata": {},
   "outputs": [
    {
     "data": {
      "text/plain": [
       "(87587, 23)"
      ]
     },
     "execution_count": 10,
     "metadata": {},
     "output_type": "execute_result"
    }
   ],
   "source": [
    "data.shape"
   ]
  },
  {
   "cell_type": "code",
   "execution_count": 11,
   "id": "42b0848b",
   "metadata": {},
   "outputs": [
    {
     "data": {
      "text/plain": [
       "Unnamed: 0                     0\n",
       "operation                      0\n",
       "property_type                  0\n",
       "place_name                    23\n",
       "place_with_parent_names        0\n",
       "country_name                   0\n",
       "state_name                     0\n",
       "geonames_id                16141\n",
       "lat-lon                    35051\n",
       "lat                        35051\n",
       "lon                        35051\n",
       "price                          0\n",
       "surface_total_in_m2        27267\n",
       "surface_covered_in_m2      10355\n",
       "price_usd_per_m2           27454\n",
       "price_per_m2               10357\n",
       "floor                      81278\n",
       "rooms                      51573\n",
       "expenses                   74935\n",
       "properati_url                  0\n",
       "description                    1\n",
       "title                          0\n",
       "image_thumbnail             1542\n",
       "dtype: int64"
      ]
     },
     "execution_count": 11,
     "metadata": {},
     "output_type": "execute_result"
    }
   ],
   "source": [
    "data.isnull().sum()"
   ]
  },
  {
   "cell_type": "markdown",
   "id": "d9bcf5d4",
   "metadata": {},
   "source": [
    "Determinar que ocurre con price y surface"
   ]
  },
  {
   "cell_type": "markdown",
   "id": "e90e3266",
   "metadata": {
    "jp-MarkdownHeadingCollapsed": true,
    "tags": []
   },
   "source": [
    "---\n",
    "\n",
    "Hasta aquí se copia de TP1.01\n",
    "\n",
    "---"
   ]
  },
  {
   "cell_type": "markdown",
   "id": "42efa0eb",
   "metadata": {},
   "source": [
    "**Por ahora** se elimina outliers en la serie price"
   ]
  },
  {
   "cell_type": "code",
   "execution_count": 12,
   "id": "8b677c85",
   "metadata": {},
   "outputs": [
    {
     "data": {
      "text/plain": [
       "count    8.758700e+04\n",
       "mean     2.603735e+05\n",
       "std      4.063580e+05\n",
       "min      5.000000e+03\n",
       "25%      1.000000e+05\n",
       "50%      1.600000e+05\n",
       "75%      2.900000e+05\n",
       "max      4.654544e+07\n",
       "Name: price, dtype: float64"
      ]
     },
     "execution_count": 12,
     "metadata": {},
     "output_type": "execute_result"
    }
   ],
   "source": [
    "data['price'].describe()"
   ]
  },
  {
   "cell_type": "markdown",
   "id": "ad0c16c5",
   "metadata": {},
   "source": [
    "Tenemos un mínimo en el órden de 4e+05 (4.000) USD que es bajo pero aceptable \n",
    "\n",
    "Tenemos un máximo de 4e+07 (40.000.000) USD que complica el primer análisis"
   ]
  },
  {
   "cell_type": "code",
   "execution_count": 13,
   "id": "90dff1cf",
   "metadata": {},
   "outputs": [
    {
     "data": {
      "text/plain": [
       "(12,)"
      ]
     },
     "execution_count": 13,
     "metadata": {},
     "output_type": "execute_result"
    }
   ],
   "source": [
    "data[data['price']>1e+07]['price'].shape"
   ]
  },
  {
   "cell_type": "code",
   "execution_count": 14,
   "id": "ad9e329a",
   "metadata": {},
   "outputs": [
    {
     "data": {
      "text/plain": [
       "(2379,)"
      ]
     },
     "execution_count": 14,
     "metadata": {},
     "output_type": "execute_result"
    }
   ],
   "source": [
    "data[data['price']>1e+06]['price'].shape"
   ]
  },
  {
   "cell_type": "code",
   "execution_count": 15,
   "id": "41416cd7",
   "metadata": {},
   "outputs": [
    {
     "data": {
      "text/plain": [
       "(85125,)"
      ]
     },
     "execution_count": 15,
     "metadata": {},
     "output_type": "execute_result"
    }
   ],
   "source": [
    "data[data['price']<1e+06]['price'].shape"
   ]
  },
  {
   "cell_type": "markdown",
   "id": "26561b10",
   "metadata": {},
   "source": [
    "Para el prototipo nos quedamos con los valores menores a 1e+06 (1.000.000) USD"
   ]
  },
  {
   "cell_type": "code",
   "execution_count": 16,
   "id": "a7f488c5",
   "metadata": {},
   "outputs": [
    {
     "data": {
      "text/plain": [
       "count     85125.000000\n",
       "mean     216743.304317\n",
       "std      173693.915239\n",
       "min        5000.000000\n",
       "25%       98421.000000\n",
       "50%      155000.000000\n",
       "75%      270500.000000\n",
       "max      999999.000000\n",
       "Name: price, dtype: float64"
      ]
     },
     "execution_count": 16,
     "metadata": {},
     "output_type": "execute_result"
    }
   ],
   "source": [
    "data[data['price']<1e+06]['price'].describe()"
   ]
  },
  {
   "cell_type": "code",
   "execution_count": 17,
   "id": "93bf2c5f",
   "metadata": {},
   "outputs": [],
   "source": [
    "data = data[data['price']<1e+06]"
   ]
  },
  {
   "cell_type": "code",
   "execution_count": 18,
   "id": "91de1d79",
   "metadata": {},
   "outputs": [
    {
     "data": {
      "text/plain": [
       "(85125, 23)"
      ]
     },
     "execution_count": 18,
     "metadata": {},
     "output_type": "execute_result"
    }
   ],
   "source": [
    "data.shape"
   ]
  },
  {
   "cell_type": "code",
   "execution_count": 19,
   "id": "65528d58",
   "metadata": {},
   "outputs": [
    {
     "data": {
      "text/plain": [
       "count     85125.000000\n",
       "mean     216743.304317\n",
       "std      173693.915239\n",
       "min        5000.000000\n",
       "25%       98421.000000\n",
       "50%      155000.000000\n",
       "75%      270500.000000\n",
       "max      999999.000000\n",
       "Name: price, dtype: float64"
      ]
     },
     "execution_count": 19,
     "metadata": {},
     "output_type": "execute_result"
    }
   ],
   "source": [
    "data['price'].describe()"
   ]
  },
  {
   "cell_type": "code",
   "execution_count": 20,
   "id": "73d37095",
   "metadata": {},
   "outputs": [
    {
     "data": {
      "text/plain": [
       "<AxesSubplot:xlabel='price', ylabel='Count'>"
      ]
     },
     "execution_count": 20,
     "metadata": {},
     "output_type": "execute_result"
    },
    {
     "data": {
      "image/png": "[encoded data removed]",
      "text/plain": [
       "<Figure size 432x288 with 1 Axes>"
      ]
     },
     "metadata": {
      "needs_background": "light"
     },
     "output_type": "display_data"
    }
   ],
   "source": [
    "sns.histplot(data=data, x='price')"
   ]
  },
  {
   "cell_type": "code",
   "execution_count": 21,
   "id": "0395b290",
   "metadata": {},
   "outputs": [
    {
     "data": {
      "text/plain": [
       "<AxesSubplot:xlabel='surface_total_in_m2', ylabel='price'>"
      ]
     },
     "execution_count": 21,
     "metadata": {},
     "output_type": "execute_result"
    },
    {
     "data": {
      "image/png": "[encoded data removed]",
      "text/plain": [
       "<Figure size 432x288 with 1 Axes>"
      ]
     },
     "metadata": {
      "needs_background": "light"
     },
     "output_type": "display_data"
    }
   ],
   "source": [
    "sns.scatterplot(x=data['surface_total_in_m2'], y=data['price'])"
   ]
  },
  {
   "cell_type": "markdown",
   "id": "f06eb3e0",
   "metadata": {},
   "source": [
    "Para mejorar el prototipo hay que revisar los outliers en otras series"
   ]
  },
  {
   "cell_type": "code",
   "execution_count": 22,
   "id": "4a4e7ec5",
   "metadata": {},
   "outputs": [
    {
     "data": {
      "text/plain": [
       "count     75004.000000\n",
       "mean        123.322209\n",
       "std         760.587887\n",
       "min           0.000000\n",
       "25%          46.000000\n",
       "50%          76.000000\n",
       "75%         151.000000\n",
       "max      187000.000000\n",
       "Name: surface_covered_in_m2, dtype: float64"
      ]
     },
     "execution_count": 22,
     "metadata": {},
     "output_type": "execute_result"
    }
   ],
   "source": [
    "data['surface_covered_in_m2'].describe()"
   ]
  },
  {
   "cell_type": "markdown",
   "id": "75540187",
   "metadata": {},
   "source": [
    "---\n",
    "\n",
    "Hasta aquí se copia de TP1.03-Alt\n",
    "\n",
    "---"
   ]
  },
  {
   "cell_type": "code",
   "execution_count": 23,
   "id": "a03eddd7",
   "metadata": {},
   "outputs": [
    {
     "data": {
      "text/plain": [
       "apartment    48329\n",
       "house        29136\n",
       "PH            4998\n",
       "store         2662\n",
       "Name: property_type, dtype: int64"
      ]
     },
     "execution_count": 23,
     "metadata": {},
     "output_type": "execute_result"
    }
   ],
   "source": [
    "data['property_type'].value_counts()"
   ]
  },
  {
   "cell_type": "markdown",
   "id": "1f7b8443",
   "metadata": {},
   "source": [
    "**Para el prototipo nos quedamos solo con 'apartment' y 'house'**"
   ]
  },
  {
   "cell_type": "code",
   "execution_count": 24,
   "id": "676eaae1",
   "metadata": {},
   "outputs": [],
   "source": [
    "mask1 = data['property_type'] == 'apartment'\n",
    "mask2 = data['property_type'] == 'house'"
   ]
  },
  {
   "cell_type": "code",
   "execution_count": 25,
   "id": "6b5d28f3",
   "metadata": {},
   "outputs": [],
   "source": [
    "data = data[mask1 | mask2]"
   ]
  },
  {
   "cell_type": "code",
   "execution_count": 26,
   "id": "f5a99ea4",
   "metadata": {},
   "outputs": [
    {
     "data": {
      "text/plain": [
       "<AxesSubplot:xlabel='price', ylabel='Count'>"
      ]
     },
     "execution_count": 26,
     "metadata": {},
     "output_type": "execute_result"
    },
    {
     "data": {
      "image/png": "[encoded data removed]",
      "text/plain": [
       "<Figure size 432x288 with 1 Axes>"
      ]
     },
     "metadata": {
      "needs_background": "light"
     },
     "output_type": "display_data"
    }
   ],
   "source": [
    "sns.histplot(data=data, x='price')"
   ]
  },
  {
   "cell_type": "code",
   "execution_count": 27,
   "id": "2ac7f2c1",
   "metadata": {},
   "outputs": [
    {
     "data": {
      "text/plain": [
       "<AxesSubplot:xlabel='surface_total_in_m2', ylabel='price'>"
      ]
     },
     "execution_count": 27,
     "metadata": {},
     "output_type": "execute_result"
    },
    {
     "data": {
      "image/png": "[encoded data removed]",
      "text/plain": [
       "<Figure size 432x288 with 1 Axes>"
      ]
     },
     "metadata": {
      "needs_background": "light"
     },
     "output_type": "display_data"
    }
   ],
   "source": [
    "sns.scatterplot(x=data['surface_total_in_m2'], y=data['price'])"
   ]
  },
  {
   "cell_type": "code",
   "execution_count": 28,
   "id": "4cd81ccb",
   "metadata": {},
   "outputs": [
    {
     "data": {
      "text/plain": [
       "Capital Federal                 24146\n",
       "Bs.As. G.B.A. Zona Norte        20590\n",
       "Bs.As. G.B.A. Zona Sur          10378\n",
       "Buenos Aires Costa Atlántica     7945\n",
       "Bs.As. G.B.A. Zona Oeste         6133\n",
       "Córdoba                          3806\n",
       "Buenos Aires Interior            1496\n",
       "Santa Fe                         1469\n",
       "Corrientes                        393\n",
       "Mendoza                           298\n",
       "Río Negro                         242\n",
       "San Luis                          134\n",
       "Neuquén                           128\n",
       "Chubut                            123\n",
       "Misiones                           51\n",
       "Entre Ríos                         50\n",
       "Salta                              19\n",
       "Tucumán                            12\n",
       "Catamarca                          12\n",
       "La Pampa                           10\n",
       "Chaco                               8\n",
       "Tierra Del Fuego                    8\n",
       "Santa Cruz                          7\n",
       "Jujuy                               3\n",
       "Santiago Del Estero                 2\n",
       "La Rioja                            1\n",
       "San Juan                            1\n",
       "Name: state_name, dtype: int64"
      ]
     },
     "execution_count": 28,
     "metadata": {},
     "output_type": "execute_result"
    }
   ],
   "source": [
    "data['state_name'].value_counts()"
   ]
  },
  {
   "cell_type": "markdown",
   "id": "778155ba",
   "metadata": {},
   "source": [
    "**Para el prototipo nos quedamos con las cinco primeras**"
   ]
  },
  {
   "cell_type": "code",
   "execution_count": 29,
   "id": "66ebf04e",
   "metadata": {},
   "outputs": [],
   "source": [
    "mask1 = data['state_name'] == 'Capital Federal'\n",
    "mask2 = data['state_name'] == 'Bs.As. G.B.A. Zona Norte'\n",
    "mask3 = data['state_name'] == 'Bs.As. G.B.A. Zona Sur'\n",
    "mask4 = data['state_name'] == 'Buenos Aires Costa Atlántica'\n",
    "mask5 = data['state_name'] == 'Bs.As. G.B.A. Zona Oeste'"
   ]
  },
  {
   "cell_type": "code",
   "execution_count": 30,
   "id": "28969fd1",
   "metadata": {},
   "outputs": [],
   "source": [
    "data = data[mask1 | mask2 | mask3 | mask4 | mask5]"
   ]
  },
  {
   "cell_type": "code",
   "execution_count": 31,
   "id": "324faeef",
   "metadata": {},
   "outputs": [
    {
     "data": {
      "text/plain": [
       "<AxesSubplot:xlabel='price', ylabel='Count'>"
      ]
     },
     "execution_count": 31,
     "metadata": {},
     "output_type": "execute_result"
    },
    {
     "data": {
      "image/png": "[encoded data removed]",
      "text/plain": [
       "<Figure size 432x288 with 1 Axes>"
      ]
     },
     "metadata": {
      "needs_background": "light"
     },
     "output_type": "display_data"
    }
   ],
   "source": [
    "sns.histplot(data=data, x='price')"
   ]
  },
  {
   "cell_type": "code",
   "execution_count": 32,
   "id": "507c19bc",
   "metadata": {},
   "outputs": [
    {
     "data": {
      "text/plain": [
       "<AxesSubplot:xlabel='surface_total_in_m2', ylabel='price'>"
      ]
     },
     "execution_count": 32,
     "metadata": {},
     "output_type": "execute_result"
    },
    {
     "data": {
      "image/png": "[encoded data removed]",
      "text/plain": [
       "<Figure size 432x288 with 1 Axes>"
      ]
     },
     "metadata": {
      "needs_background": "light"
     },
     "output_type": "display_data"
    }
   ],
   "source": [
    "sns.scatterplot(x=data['surface_total_in_m2'], y=data['price'])"
   ]
  },
  {
   "cell_type": "code",
   "execution_count": 33,
   "id": "bb761738",
   "metadata": {},
   "outputs": [
    {
     "data": {
      "text/plain": [
       "(69192, 23)"
      ]
     },
     "execution_count": 33,
     "metadata": {},
     "output_type": "execute_result"
    }
   ],
   "source": [
    "data.shape"
   ]
  },
  {
   "cell_type": "code",
   "execution_count": 34,
   "id": "5b1f5e6c",
   "metadata": {},
   "outputs": [
    {
     "data": {
      "text/plain": [
       "Unnamed: 0                     0\n",
       "operation                      0\n",
       "property_type                  0\n",
       "place_name                    20\n",
       "place_with_parent_names        0\n",
       "country_name                   0\n",
       "state_name                     0\n",
       "geonames_id                14360\n",
       "lat-lon                    27556\n",
       "lat                        27556\n",
       "lon                        27556\n",
       "price                          0\n",
       "surface_total_in_m2        19794\n",
       "surface_covered_in_m2       7175\n",
       "price_usd_per_m2           19939\n",
       "price_per_m2                7177\n",
       "floor                      64137\n",
       "rooms                      40031\n",
       "expenses                   58239\n",
       "properati_url                  0\n",
       "description                    1\n",
       "title                          0\n",
       "image_thumbnail             1104\n",
       "dtype: int64"
      ]
     },
     "execution_count": 34,
     "metadata": {},
     "output_type": "execute_result"
    }
   ],
   "source": [
    "data.isnull().sum()"
   ]
  },
  {
   "cell_type": "code",
   "execution_count": 35,
   "id": "9702e83e",
   "metadata": {},
   "outputs": [],
   "source": [
    "# vuelvo a generar las máscaras booleanas\n",
    "mask1 = data['state_name'] == 'Capital Federal'\n",
    "mask2 = data['state_name'] == 'Bs.As. G.B.A. Zona Norte'\n",
    "mask3 = data['state_name'] == 'Bs.As. G.B.A. Zona Sur'\n",
    "mask4 = data['state_name'] == 'Buenos Aires Costa Atlántica'\n",
    "mask5 = data['state_name'] == 'Bs.As. G.B.A. Zona Oeste'\n",
    "\n",
    "mask_type1 = data['property_type'] == 'apartment'\n",
    "mask_type2 = data['property_type'] == 'house'"
   ]
  },
  {
   "cell_type": "markdown",
   "id": "9ec7d2fb",
   "metadata": {},
   "source": [
    "---"
   ]
  },
  {
   "cell_type": "code",
   "execution_count": 36,
   "id": "8cda3597",
   "metadata": {},
   "outputs": [
    {
     "data": {
      "text/plain": [
       "<AxesSubplot:xlabel='price', ylabel='Count'>"
      ]
     },
     "execution_count": 36,
     "metadata": {},
     "output_type": "execute_result"
    },
    {
     "data": {
      "image/png": "[encoded data removed]",
      "text/plain": [
       "<Figure size 432x288 with 1 Axes>"
      ]
     },
     "metadata": {
      "needs_background": "light"
     },
     "output_type": "display_data"
    }
   ],
   "source": [
    "sns.histplot(data=data[mask1 & mask_type1], x='price')"
   ]
  },
  {
   "cell_type": "code",
   "execution_count": 37,
   "id": "25accda6",
   "metadata": {},
   "outputs": [
    {
     "data": {
      "text/html": [
       "<div>\n",
       "<style scoped>\n",
       "    .dataframe tbody tr th:only-of-type {\n",
       "        vertical-align: middle;\n",
       "    }\n",
       "\n",
       "    .dataframe tbody tr th {\n",
       "        vertical-align: top;\n",
       "    }\n",
       "\n",
       "    .dataframe thead th {\n",
       "        text-align: right;\n",
       "    }\n",
       "</style>\n",
       "<table border=\"1\" class=\"dataframe\">\n",
       "  <thead>\n",
       "    <tr style=\"text-align: right;\">\n",
       "      <th></th>\n",
       "      <th>price</th>\n",
       "      <th>surface_total_in_m2</th>\n",
       "    </tr>\n",
       "  </thead>\n",
       "  <tbody>\n",
       "    <tr>\n",
       "      <th>price</th>\n",
       "      <td>1.00000</td>\n",
       "      <td>0.49069</td>\n",
       "    </tr>\n",
       "    <tr>\n",
       "      <th>surface_total_in_m2</th>\n",
       "      <td>0.49069</td>\n",
       "      <td>1.00000</td>\n",
       "    </tr>\n",
       "  </tbody>\n",
       "</table>\n",
       "</div>"
      ],
      "text/plain": [
       "                       price  surface_total_in_m2\n",
       "price                1.00000              0.49069\n",
       "surface_total_in_m2  0.49069              1.00000"
      ]
     },
     "execution_count": 37,
     "metadata": {},
     "output_type": "execute_result"
    }
   ],
   "source": [
    "data[mask1 & mask_type1][['price', 'surface_total_in_m2']].corr()"
   ]
  },
  {
   "cell_type": "code",
   "execution_count": 38,
   "id": "c4592519",
   "metadata": {},
   "outputs": [
    {
     "data": {
      "text/plain": [
       "<AxesSubplot:xlabel='price', ylabel='Count'>"
      ]
     },
     "execution_count": 38,
     "metadata": {},
     "output_type": "execute_result"
    },
    {
     "data": {
      "image/png": "[encoded data removed]",
      "text/plain": [
       "<Figure size 432x288 with 1 Axes>"
      ]
     },
     "metadata": {
      "needs_background": "light"
     },
     "output_type": "display_data"
    }
   ],
   "source": [
    "sns.histplot(data=data[mask1 & mask_type2], x='price')"
   ]
  },
  {
   "cell_type": "code",
   "execution_count": 39,
   "id": "2661f620",
   "metadata": {},
   "outputs": [
    {
     "data": {
      "text/html": [
       "<div>\n",
       "<style scoped>\n",
       "    .dataframe tbody tr th:only-of-type {\n",
       "        vertical-align: middle;\n",
       "    }\n",
       "\n",
       "    .dataframe tbody tr th {\n",
       "        vertical-align: top;\n",
       "    }\n",
       "\n",
       "    .dataframe thead th {\n",
       "        text-align: right;\n",
       "    }\n",
       "</style>\n",
       "<table border=\"1\" class=\"dataframe\">\n",
       "  <thead>\n",
       "    <tr style=\"text-align: right;\">\n",
       "      <th></th>\n",
       "      <th>price</th>\n",
       "      <th>surface_total_in_m2</th>\n",
       "    </tr>\n",
       "  </thead>\n",
       "  <tbody>\n",
       "    <tr>\n",
       "      <th>price</th>\n",
       "      <td>1.000000</td>\n",
       "      <td>0.613256</td>\n",
       "    </tr>\n",
       "    <tr>\n",
       "      <th>surface_total_in_m2</th>\n",
       "      <td>0.613256</td>\n",
       "      <td>1.000000</td>\n",
       "    </tr>\n",
       "  </tbody>\n",
       "</table>\n",
       "</div>"
      ],
      "text/plain": [
       "                        price  surface_total_in_m2\n",
       "price                1.000000             0.613256\n",
       "surface_total_in_m2  0.613256             1.000000"
      ]
     },
     "execution_count": 39,
     "metadata": {},
     "output_type": "execute_result"
    }
   ],
   "source": [
    "data[mask1 & mask_type2][['price', 'surface_total_in_m2']].corr()"
   ]
  },
  {
   "cell_type": "markdown",
   "id": "05d47c17",
   "metadata": {},
   "source": [
    "---"
   ]
  },
  {
   "cell_type": "code",
   "execution_count": 40,
   "id": "b306e0fd",
   "metadata": {},
   "outputs": [
    {
     "data": {
      "text/plain": [
       "<AxesSubplot:xlabel='price', ylabel='Count'>"
      ]
     },
     "execution_count": 40,
     "metadata": {},
     "output_type": "execute_result"
    },
    {
     "data": {
      "image/png": "[encoded data removed]",
      "text/plain": [
       "<Figure size 432x288 with 1 Axes>"
      ]
     },
     "metadata": {
      "needs_background": "light"
     },
     "output_type": "display_data"
    }
   ],
   "source": [
    "sns.histplot(data=data[mask2 & mask_type1], x='price')"
   ]
  },
  {
   "cell_type": "code",
   "execution_count": 41,
   "id": "fd504788",
   "metadata": {},
   "outputs": [
    {
     "data": {
      "text/html": [
       "<div>\n",
       "<style scoped>\n",
       "    .dataframe tbody tr th:only-of-type {\n",
       "        vertical-align: middle;\n",
       "    }\n",
       "\n",
       "    .dataframe tbody tr th {\n",
       "        vertical-align: top;\n",
       "    }\n",
       "\n",
       "    .dataframe thead th {\n",
       "        text-align: right;\n",
       "    }\n",
       "</style>\n",
       "<table border=\"1\" class=\"dataframe\">\n",
       "  <thead>\n",
       "    <tr style=\"text-align: right;\">\n",
       "      <th></th>\n",
       "      <th>price</th>\n",
       "      <th>surface_total_in_m2</th>\n",
       "    </tr>\n",
       "  </thead>\n",
       "  <tbody>\n",
       "    <tr>\n",
       "      <th>price</th>\n",
       "      <td>1.000000</td>\n",
       "      <td>0.208237</td>\n",
       "    </tr>\n",
       "    <tr>\n",
       "      <th>surface_total_in_m2</th>\n",
       "      <td>0.208237</td>\n",
       "      <td>1.000000</td>\n",
       "    </tr>\n",
       "  </tbody>\n",
       "</table>\n",
       "</div>"
      ],
      "text/plain": [
       "                        price  surface_total_in_m2\n",
       "price                1.000000             0.208237\n",
       "surface_total_in_m2  0.208237             1.000000"
      ]
     },
     "execution_count": 41,
     "metadata": {},
     "output_type": "execute_result"
    }
   ],
   "source": [
    "data[mask2 & mask_type1][['price', 'surface_total_in_m2']].corr()"
   ]
  },
  {
   "cell_type": "code",
   "execution_count": 42,
   "id": "179efd8f",
   "metadata": {},
   "outputs": [
    {
     "data": {
      "text/plain": [
       "<AxesSubplot:xlabel='price', ylabel='Count'>"
      ]
     },
     "execution_count": 42,
     "metadata": {},
     "output_type": "execute_result"
    },
    {
     "data": {
      "image/png": "[encoded data removed]",
      "text/plain": [
       "<Figure size 432x288 with 1 Axes>"
      ]
     },
     "metadata": {
      "needs_background": "light"
     },
     "output_type": "display_data"
    }
   ],
   "source": [
    "sns.histplot(data=data[mask2 & mask_type2], x='price')"
   ]
  },
  {
   "cell_type": "code",
   "execution_count": 43,
   "id": "4fa8c5ce",
   "metadata": {},
   "outputs": [
    {
     "data": {
      "text/html": [
       "<div>\n",
       "<style scoped>\n",
       "    .dataframe tbody tr th:only-of-type {\n",
       "        vertical-align: middle;\n",
       "    }\n",
       "\n",
       "    .dataframe tbody tr th {\n",
       "        vertical-align: top;\n",
       "    }\n",
       "\n",
       "    .dataframe thead th {\n",
       "        text-align: right;\n",
       "    }\n",
       "</style>\n",
       "<table border=\"1\" class=\"dataframe\">\n",
       "  <thead>\n",
       "    <tr style=\"text-align: right;\">\n",
       "      <th></th>\n",
       "      <th>price</th>\n",
       "      <th>surface_total_in_m2</th>\n",
       "    </tr>\n",
       "  </thead>\n",
       "  <tbody>\n",
       "    <tr>\n",
       "      <th>price</th>\n",
       "      <td>1.000000</td>\n",
       "      <td>0.089715</td>\n",
       "    </tr>\n",
       "    <tr>\n",
       "      <th>surface_total_in_m2</th>\n",
       "      <td>0.089715</td>\n",
       "      <td>1.000000</td>\n",
       "    </tr>\n",
       "  </tbody>\n",
       "</table>\n",
       "</div>"
      ],
      "text/plain": [
       "                        price  surface_total_in_m2\n",
       "price                1.000000             0.089715\n",
       "surface_total_in_m2  0.089715             1.000000"
      ]
     },
     "execution_count": 43,
     "metadata": {},
     "output_type": "execute_result"
    }
   ],
   "source": [
    "data[mask2 & mask_type2][['price', 'surface_total_in_m2']].corr()"
   ]
  },
  {
   "cell_type": "markdown",
   "id": "091bb350",
   "metadata": {},
   "source": [
    "---"
   ]
  },
  {
   "cell_type": "code",
   "execution_count": 44,
   "id": "fbc51698",
   "metadata": {},
   "outputs": [
    {
     "data": {
      "text/plain": [
       "<AxesSubplot:xlabel='price', ylabel='Count'>"
      ]
     },
     "execution_count": 44,
     "metadata": {},
     "output_type": "execute_result"
    },
    {
     "data": {
      "image/png": "[encoded data removed]",
      "text/plain": [
       "<Figure size 432x288 with 1 Axes>"
      ]
     },
     "metadata": {
      "needs_background": "light"
     },
     "output_type": "display_data"
    }
   ],
   "source": [
    "sns.histplot(data=data[mask3 & mask_type1], x='price')"
   ]
  },
  {
   "cell_type": "code",
   "execution_count": 45,
   "id": "1b3754b5",
   "metadata": {},
   "outputs": [
    {
     "data": {
      "text/html": [
       "<div>\n",
       "<style scoped>\n",
       "    .dataframe tbody tr th:only-of-type {\n",
       "        vertical-align: middle;\n",
       "    }\n",
       "\n",
       "    .dataframe tbody tr th {\n",
       "        vertical-align: top;\n",
       "    }\n",
       "\n",
       "    .dataframe thead th {\n",
       "        text-align: right;\n",
       "    }\n",
       "</style>\n",
       "<table border=\"1\" class=\"dataframe\">\n",
       "  <thead>\n",
       "    <tr style=\"text-align: right;\">\n",
       "      <th></th>\n",
       "      <th>price</th>\n",
       "      <th>surface_total_in_m2</th>\n",
       "    </tr>\n",
       "  </thead>\n",
       "  <tbody>\n",
       "    <tr>\n",
       "      <th>price</th>\n",
       "      <td>1.000000</td>\n",
       "      <td>0.566818</td>\n",
       "    </tr>\n",
       "    <tr>\n",
       "      <th>surface_total_in_m2</th>\n",
       "      <td>0.566818</td>\n",
       "      <td>1.000000</td>\n",
       "    </tr>\n",
       "  </tbody>\n",
       "</table>\n",
       "</div>"
      ],
      "text/plain": [
       "                        price  surface_total_in_m2\n",
       "price                1.000000             0.566818\n",
       "surface_total_in_m2  0.566818             1.000000"
      ]
     },
     "execution_count": 45,
     "metadata": {},
     "output_type": "execute_result"
    }
   ],
   "source": [
    "data[mask3 & mask_type1][['price', 'surface_total_in_m2']].corr()"
   ]
  },
  {
   "cell_type": "code",
   "execution_count": 46,
   "id": "d849dd1c",
   "metadata": {},
   "outputs": [
    {
     "data": {
      "text/plain": [
       "<AxesSubplot:xlabel='price', ylabel='Count'>"
      ]
     },
     "execution_count": 46,
     "metadata": {},
     "output_type": "execute_result"
    },
    {
     "data": {
      "image/png": "[encoded data removed]",
      "text/plain": [
       "<Figure size 432x288 with 1 Axes>"
      ]
     },
     "metadata": {
      "needs_background": "light"
     },
     "output_type": "display_data"
    }
   ],
   "source": [
    "sns.histplot(data=data[mask3 & mask_type2], x='price')"
   ]
  },
  {
   "cell_type": "code",
   "execution_count": 47,
   "id": "6d4d36fe",
   "metadata": {},
   "outputs": [
    {
     "data": {
      "text/html": [
       "<div>\n",
       "<style scoped>\n",
       "    .dataframe tbody tr th:only-of-type {\n",
       "        vertical-align: middle;\n",
       "    }\n",
       "\n",
       "    .dataframe tbody tr th {\n",
       "        vertical-align: top;\n",
       "    }\n",
       "\n",
       "    .dataframe thead th {\n",
       "        text-align: right;\n",
       "    }\n",
       "</style>\n",
       "<table border=\"1\" class=\"dataframe\">\n",
       "  <thead>\n",
       "    <tr style=\"text-align: right;\">\n",
       "      <th></th>\n",
       "      <th>price</th>\n",
       "      <th>surface_total_in_m2</th>\n",
       "    </tr>\n",
       "  </thead>\n",
       "  <tbody>\n",
       "    <tr>\n",
       "      <th>price</th>\n",
       "      <td>1.000000</td>\n",
       "      <td>0.198978</td>\n",
       "    </tr>\n",
       "    <tr>\n",
       "      <th>surface_total_in_m2</th>\n",
       "      <td>0.198978</td>\n",
       "      <td>1.000000</td>\n",
       "    </tr>\n",
       "  </tbody>\n",
       "</table>\n",
       "</div>"
      ],
      "text/plain": [
       "                        price  surface_total_in_m2\n",
       "price                1.000000             0.198978\n",
       "surface_total_in_m2  0.198978             1.000000"
      ]
     },
     "execution_count": 47,
     "metadata": {},
     "output_type": "execute_result"
    }
   ],
   "source": [
    "data[mask3 & mask_type2][['price', 'surface_total_in_m2']].corr()"
   ]
  },
  {
   "cell_type": "markdown",
   "id": "9212c3fb",
   "metadata": {},
   "source": [
    "---"
   ]
  },
  {
   "cell_type": "code",
   "execution_count": 48,
   "id": "4bb4f5f7",
   "metadata": {},
   "outputs": [
    {
     "data": {
      "text/plain": [
       "<AxesSubplot:xlabel='price', ylabel='Count'>"
      ]
     },
     "execution_count": 48,
     "metadata": {},
     "output_type": "execute_result"
    },
    {
     "data": {
      "image/png": "[encoded data removed]",
      "text/plain": [
       "<Figure size 432x288 with 1 Axes>"
      ]
     },
     "metadata": {
      "needs_background": "light"
     },
     "output_type": "display_data"
    }
   ],
   "source": [
    "sns.histplot(data=data[mask4 & mask_type1], x='price')"
   ]
  },
  {
   "cell_type": "code",
   "execution_count": 49,
   "id": "58e76c41",
   "metadata": {},
   "outputs": [
    {
     "data": {
      "text/html": [
       "<div>\n",
       "<style scoped>\n",
       "    .dataframe tbody tr th:only-of-type {\n",
       "        vertical-align: middle;\n",
       "    }\n",
       "\n",
       "    .dataframe tbody tr th {\n",
       "        vertical-align: top;\n",
       "    }\n",
       "\n",
       "    .dataframe thead th {\n",
       "        text-align: right;\n",
       "    }\n",
       "</style>\n",
       "<table border=\"1\" class=\"dataframe\">\n",
       "  <thead>\n",
       "    <tr style=\"text-align: right;\">\n",
       "      <th></th>\n",
       "      <th>price</th>\n",
       "      <th>surface_total_in_m2</th>\n",
       "    </tr>\n",
       "  </thead>\n",
       "  <tbody>\n",
       "    <tr>\n",
       "      <th>price</th>\n",
       "      <td>1.000000</td>\n",
       "      <td>0.022373</td>\n",
       "    </tr>\n",
       "    <tr>\n",
       "      <th>surface_total_in_m2</th>\n",
       "      <td>0.022373</td>\n",
       "      <td>1.000000</td>\n",
       "    </tr>\n",
       "  </tbody>\n",
       "</table>\n",
       "</div>"
      ],
      "text/plain": [
       "                        price  surface_total_in_m2\n",
       "price                1.000000             0.022373\n",
       "surface_total_in_m2  0.022373             1.000000"
      ]
     },
     "execution_count": 49,
     "metadata": {},
     "output_type": "execute_result"
    }
   ],
   "source": [
    "data[mask4 & mask_type1][['price', 'surface_total_in_m2']].corr()"
   ]
  },
  {
   "cell_type": "code",
   "execution_count": 50,
   "id": "4641acad",
   "metadata": {},
   "outputs": [
    {
     "data": {
      "text/plain": [
       "<AxesSubplot:xlabel='price', ylabel='Count'>"
      ]
     },
     "execution_count": 50,
     "metadata": {},
     "output_type": "execute_result"
    },
    {
     "data": {
      "image/png": "[encoded data removed]",
      "text/plain": [
       "<Figure size 432x288 with 1 Axes>"
      ]
     },
     "metadata": {
      "needs_background": "light"
     },
     "output_type": "display_data"
    }
   ],
   "source": [
    "sns.histplot(data=data[mask4 & mask_type2], x='price')"
   ]
  },
  {
   "cell_type": "code",
   "execution_count": 51,
   "id": "49f16704",
   "metadata": {},
   "outputs": [
    {
     "data": {
      "text/html": [
       "<div>\n",
       "<style scoped>\n",
       "    .dataframe tbody tr th:only-of-type {\n",
       "        vertical-align: middle;\n",
       "    }\n",
       "\n",
       "    .dataframe tbody tr th {\n",
       "        vertical-align: top;\n",
       "    }\n",
       "\n",
       "    .dataframe thead th {\n",
       "        text-align: right;\n",
       "    }\n",
       "</style>\n",
       "<table border=\"1\" class=\"dataframe\">\n",
       "  <thead>\n",
       "    <tr style=\"text-align: right;\">\n",
       "      <th></th>\n",
       "      <th>price</th>\n",
       "      <th>surface_total_in_m2</th>\n",
       "    </tr>\n",
       "  </thead>\n",
       "  <tbody>\n",
       "    <tr>\n",
       "      <th>price</th>\n",
       "      <td>1.000000</td>\n",
       "      <td>0.082762</td>\n",
       "    </tr>\n",
       "    <tr>\n",
       "      <th>surface_total_in_m2</th>\n",
       "      <td>0.082762</td>\n",
       "      <td>1.000000</td>\n",
       "    </tr>\n",
       "  </tbody>\n",
       "</table>\n",
       "</div>"
      ],
      "text/plain": [
       "                        price  surface_total_in_m2\n",
       "price                1.000000             0.082762\n",
       "surface_total_in_m2  0.082762             1.000000"
      ]
     },
     "execution_count": 51,
     "metadata": {},
     "output_type": "execute_result"
    }
   ],
   "source": [
    "data[mask4 & mask_type2][['price', 'surface_total_in_m2']].corr()"
   ]
  },
  {
   "cell_type": "markdown",
   "id": "f535a842",
   "metadata": {},
   "source": [
    "---"
   ]
  },
  {
   "cell_type": "code",
   "execution_count": 52,
   "id": "791021d8",
   "metadata": {},
   "outputs": [
    {
     "data": {
      "text/plain": [
       "<AxesSubplot:xlabel='price', ylabel='Count'>"
      ]
     },
     "execution_count": 52,
     "metadata": {},
     "output_type": "execute_result"
    },
    {
     "data": {
      "image/png": "[encoded data removed]",
      "text/plain": [
       "<Figure size 432x288 with 1 Axes>"
      ]
     },
     "metadata": {
      "needs_background": "light"
     },
     "output_type": "display_data"
    }
   ],
   "source": [
    "sns.histplot(data=data[mask5 & mask_type1], x='price')"
   ]
  },
  {
   "cell_type": "code",
   "execution_count": 53,
   "id": "265ed592",
   "metadata": {},
   "outputs": [
    {
     "data": {
      "text/html": [
       "<div>\n",
       "<style scoped>\n",
       "    .dataframe tbody tr th:only-of-type {\n",
       "        vertical-align: middle;\n",
       "    }\n",
       "\n",
       "    .dataframe tbody tr th {\n",
       "        vertical-align: top;\n",
       "    }\n",
       "\n",
       "    .dataframe thead th {\n",
       "        text-align: right;\n",
       "    }\n",
       "</style>\n",
       "<table border=\"1\" class=\"dataframe\">\n",
       "  <thead>\n",
       "    <tr style=\"text-align: right;\">\n",
       "      <th></th>\n",
       "      <th>price</th>\n",
       "      <th>surface_total_in_m2</th>\n",
       "    </tr>\n",
       "  </thead>\n",
       "  <tbody>\n",
       "    <tr>\n",
       "      <th>price</th>\n",
       "      <td>1.000000</td>\n",
       "      <td>0.196421</td>\n",
       "    </tr>\n",
       "    <tr>\n",
       "      <th>surface_total_in_m2</th>\n",
       "      <td>0.196421</td>\n",
       "      <td>1.000000</td>\n",
       "    </tr>\n",
       "  </tbody>\n",
       "</table>\n",
       "</div>"
      ],
      "text/plain": [
       "                        price  surface_total_in_m2\n",
       "price                1.000000             0.196421\n",
       "surface_total_in_m2  0.196421             1.000000"
      ]
     },
     "execution_count": 53,
     "metadata": {},
     "output_type": "execute_result"
    }
   ],
   "source": [
    "data[mask5 & mask_type1][['price', 'surface_total_in_m2']].corr()"
   ]
  },
  {
   "cell_type": "code",
   "execution_count": 54,
   "id": "2affb224",
   "metadata": {},
   "outputs": [
    {
     "data": {
      "text/plain": [
       "<AxesSubplot:xlabel='price', ylabel='Count'>"
      ]
     },
     "execution_count": 54,
     "metadata": {},
     "output_type": "execute_result"
    },
    {
     "data": {
      "image/png": "[encoded data removed]",
      "text/plain": [
       "<Figure size 432x288 with 1 Axes>"
      ]
     },
     "metadata": {
      "needs_background": "light"
     },
     "output_type": "display_data"
    }
   ],
   "source": [
    "sns.histplot(data=data[mask5 & mask_type2], x='price')"
   ]
  },
  {
   "cell_type": "code",
   "execution_count": 55,
   "id": "96be24ed",
   "metadata": {},
   "outputs": [
    {
     "data": {
      "text/html": [
       "<div>\n",
       "<style scoped>\n",
       "    .dataframe tbody tr th:only-of-type {\n",
       "        vertical-align: middle;\n",
       "    }\n",
       "\n",
       "    .dataframe tbody tr th {\n",
       "        vertical-align: top;\n",
       "    }\n",
       "\n",
       "    .dataframe thead th {\n",
       "        text-align: right;\n",
       "    }\n",
       "</style>\n",
       "<table border=\"1\" class=\"dataframe\">\n",
       "  <thead>\n",
       "    <tr style=\"text-align: right;\">\n",
       "      <th></th>\n",
       "      <th>price</th>\n",
       "      <th>surface_total_in_m2</th>\n",
       "    </tr>\n",
       "  </thead>\n",
       "  <tbody>\n",
       "    <tr>\n",
       "      <th>price</th>\n",
       "      <td>1.000000</td>\n",
       "      <td>0.124979</td>\n",
       "    </tr>\n",
       "    <tr>\n",
       "      <th>surface_total_in_m2</th>\n",
       "      <td>0.124979</td>\n",
       "      <td>1.000000</td>\n",
       "    </tr>\n",
       "  </tbody>\n",
       "</table>\n",
       "</div>"
      ],
      "text/plain": [
       "                        price  surface_total_in_m2\n",
       "price                1.000000             0.124979\n",
       "surface_total_in_m2  0.124979             1.000000"
      ]
     },
     "execution_count": 55,
     "metadata": {},
     "output_type": "execute_result"
    }
   ],
   "source": [
    "data[mask5 & mask_type2][['price', 'surface_total_in_m2']].corr()"
   ]
  }
 ],
 "metadata": {
  "kernelspec": {
   "display_name": "Python 3 (ipykernel)",
   "language": "python",
   "name": "python3"
  },
  "language_info": {
   "codemirror_mode": {
    "name": "ipython",
    "version": 3
   },
   "file_extension": ".py",
   "mimetype": "text/x-python",
   "name": "python",
   "nbconvert_exporter": "python",
   "pygments_lexer": "ipython3",
   "version": "3.8.12"
  }
 },
 "nbformat": 4,
 "nbformat_minor": 5
}
