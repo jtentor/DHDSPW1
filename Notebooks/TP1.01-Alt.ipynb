{
 "cells": [
  {
   "cell_type": "markdown",
   "id": "c11426af",
   "metadata": {},
   "source": [
    "Hace falta algo que indique con qué entorno vamos a trabajar"
   ]
  },
  {
   "cell_type": "markdown",
   "id": "29904c42",
   "metadata": {},
   "source": [
    "Importar lo que hace falta"
   ]
  },
  {
   "cell_type": "code",
   "execution_count": 1,
   "id": "7f9b6db9",
   "metadata": {},
   "outputs": [],
   "source": [
    "import pandas as pd"
   ]
  },
  {
   "cell_type": "code",
   "execution_count": 2,
   "id": "98b1cb04",
   "metadata": {},
   "outputs": [],
   "source": [
    "data_url = \"../Data/properatti.csv\""
   ]
  },
  {
   "cell_type": "code",
   "execution_count": 3,
   "id": "9009431c",
   "metadata": {},
   "outputs": [],
   "source": [
    "data = pd.read_csv(data_url, encoding=\"utf-8\")"
   ]
  },
  {
   "cell_type": "code",
   "execution_count": 4,
   "id": "49734bc1",
   "metadata": {},
   "outputs": [
    {
     "data": {
      "text/plain": [
       "(121220, 26)"
      ]
     },
     "execution_count": 4,
     "metadata": {},
     "output_type": "execute_result"
    }
   ],
   "source": [
    "data.shape"
   ]
  },
  {
   "cell_type": "code",
   "execution_count": 5,
   "id": "5cdc1c7d",
   "metadata": {},
   "outputs": [
    {
     "data": {
      "text/plain": [
       "Unnamed: 0                         0\n",
       "operation                          0\n",
       "property_type                      0\n",
       "place_name                        23\n",
       "place_with_parent_names            0\n",
       "country_name                       0\n",
       "state_name                         0\n",
       "geonames_id                    18717\n",
       "lat-lon                        51550\n",
       "lat                            51550\n",
       "lon                            51550\n",
       "price                          20410\n",
       "currency                       20411\n",
       "price_aprox_local_currency     20410\n",
       "price_aprox_usd                20410\n",
       "surface_total_in_m2            39328\n",
       "surface_covered_in_m2          19907\n",
       "price_usd_per_m2               52603\n",
       "price_per_m2                   33562\n",
       "floor                         113321\n",
       "rooms                          73830\n",
       "expenses                      106958\n",
       "properati_url                      0\n",
       "description                        2\n",
       "title                              0\n",
       "image_thumbnail                 3112\n",
       "dtype: int64"
      ]
     },
     "execution_count": 5,
     "metadata": {},
     "output_type": "execute_result"
    }
   ],
   "source": [
    "data.isnull().sum()"
   ]
  },
  {
   "cell_type": "markdown",
   "id": "a0bb5cd9",
   "metadata": {},
   "source": [
    "Confirmar los valores de la serie 'currency'"
   ]
  },
  {
   "cell_type": "markdown",
   "id": "50c20fe8",
   "metadata": {},
   "source": [
    "La serie price_aprox_usd tiene 20410 null, se eliminan esas observaciones "
   ]
  },
  {
   "cell_type": "code",
   "execution_count": 6,
   "id": "701a3cc5",
   "metadata": {},
   "outputs": [],
   "source": [
    "data = data[data['price_aprox_usd'].notnull()]"
   ]
  },
  {
   "cell_type": "code",
   "execution_count": 7,
   "id": "02514b95",
   "metadata": {},
   "outputs": [
    {
     "data": {
      "text/plain": [
       "(100810, 26)"
      ]
     },
     "execution_count": 7,
     "metadata": {},
     "output_type": "execute_result"
    }
   ],
   "source": [
    "data.shape"
   ]
  },
  {
   "cell_type": "code",
   "execution_count": 8,
   "id": "8d6675a6",
   "metadata": {},
   "outputs": [
    {
     "data": {
      "text/plain": [
       "Unnamed: 0                        0\n",
       "operation                         0\n",
       "property_type                     0\n",
       "place_name                       23\n",
       "place_with_parent_names           0\n",
       "country_name                      0\n",
       "state_name                        0\n",
       "geonames_id                   16952\n",
       "lat-lon                       42262\n",
       "lat                           42262\n",
       "lon                           42262\n",
       "price                             0\n",
       "currency                          1\n",
       "price_aprox_local_currency        0\n",
       "price_aprox_usd                   0\n",
       "surface_total_in_m2           31944\n",
       "surface_covered_in_m2         13150\n",
       "price_usd_per_m2              32193\n",
       "price_per_m2                  13152\n",
       "floor                         93894\n",
       "rooms                         61231\n",
       "expenses                      87564\n",
       "properati_url                     0\n",
       "description                       2\n",
       "title                             0\n",
       "image_thumbnail                2250\n",
       "dtype: int64"
      ]
     },
     "execution_count": 8,
     "metadata": {},
     "output_type": "execute_result"
    }
   ],
   "source": [
    "data.isnull().sum()"
   ]
  },
  {
   "cell_type": "markdown",
   "id": "6cbfdc42",
   "metadata": {},
   "source": [
    "**El objetivo son los valores en la serie 'price_aprox_usd'**"
   ]
  },
  {
   "cell_type": "code",
   "execution_count": 11,
   "id": "09f6873a",
   "metadata": {},
   "outputs": [],
   "source": [
    "data = data.drop(['currency', 'price', 'price_aprox_local_currency'], axis='columns')"
   ]
  },
  {
   "cell_type": "code",
   "execution_count": 12,
   "id": "c5edbaaf",
   "metadata": {},
   "outputs": [
    {
     "data": {
      "text/plain": [
       "(100810, 23)"
      ]
     },
     "execution_count": 12,
     "metadata": {},
     "output_type": "execute_result"
    }
   ],
   "source": [
    "data.shape"
   ]
  },
  {
   "cell_type": "code",
   "execution_count": 13,
   "id": "0775ac2e",
   "metadata": {},
   "outputs": [
    {
     "data": {
      "text/plain": [
       "Unnamed: 0                     0\n",
       "operation                      0\n",
       "property_type                  0\n",
       "place_name                    23\n",
       "place_with_parent_names        0\n",
       "country_name                   0\n",
       "state_name                     0\n",
       "geonames_id                16952\n",
       "lat-lon                    42262\n",
       "lat                        42262\n",
       "lon                        42262\n",
       "price_aprox_usd                0\n",
       "surface_total_in_m2        31944\n",
       "surface_covered_in_m2      13150\n",
       "price_usd_per_m2           32193\n",
       "price_per_m2               13152\n",
       "floor                      93894\n",
       "rooms                      61231\n",
       "expenses                   87564\n",
       "properati_url                  0\n",
       "description                    2\n",
       "title                          0\n",
       "image_thumbnail             2250\n",
       "dtype: int64"
      ]
     },
     "execution_count": 13,
     "metadata": {},
     "output_type": "execute_result"
    }
   ],
   "source": [
    "data.isnull().sum()"
   ]
  }
 ],
 "metadata": {
  "kernelspec": {
   "display_name": "Python 3 (ipykernel)",
   "language": "python",
   "name": "python3"
  },
  "language_info": {
   "codemirror_mode": {
    "name": "ipython",
    "version": 3
   },
   "file_extension": ".py",
   "mimetype": "text/x-python",
   "name": "python",
   "nbconvert_exporter": "python",
   "pygments_lexer": "ipython3",
   "version": "3.8.12"
  }
 },
 "nbformat": 4,
 "nbformat_minor": 5
}
