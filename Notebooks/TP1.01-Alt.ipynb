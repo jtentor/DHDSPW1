{
 "cells": [
  {
   "cell_type": "markdown",
   "id": "0d437310",
   "metadata": {},
   "source": [
    "Hace falta algo que indique con qué entorno vamos a trabajar"
   ]
  },
  {
   "cell_type": "markdown",
   "id": "77b86e27",
   "metadata": {},
   "source": [
    "Importar lo que hace falta"
   ]
  },
  {
   "cell_type": "code",
   "execution_count": 1,
   "id": "b7ec192e",
   "metadata": {},
   "outputs": [],
   "source": [
    "import pandas as pd"
   ]
  },
  {
   "cell_type": "code",
   "execution_count": 2,
   "id": "06a09bb6",
   "metadata": {},
   "outputs": [],
   "source": [
    "data_url = \"../Data/properatti.csv\""
   ]
  },
  {
   "cell_type": "code",
   "execution_count": 3,
   "id": "1ae17db2",
   "metadata": {},
   "outputs": [],
   "source": [
    "data = pd.read_csv(data_url, encoding=\"utf-8\")"
   ]
  },
  {
   "cell_type": "code",
   "execution_count": 4,
   "id": "b3bfe2e4",
   "metadata": {},
   "outputs": [
    {
     "data": {
      "text/plain": [
       "(121220, 26)"
      ]
     },
     "execution_count": 4,
     "metadata": {},
     "output_type": "execute_result"
    }
   ],
   "source": [
    "data.shape"
   ]
  },
  {
   "cell_type": "code",
   "execution_count": 5,
   "id": "a8c534f4",
   "metadata": {},
   "outputs": [
    {
     "data": {
      "text/plain": [
       "Unnamed: 0                         0\n",
       "operation                          0\n",
       "property_type                      0\n",
       "place_name                        23\n",
       "place_with_parent_names            0\n",
       "country_name                       0\n",
       "state_name                         0\n",
       "geonames_id                    18717\n",
       "lat-lon                        51550\n",
       "lat                            51550\n",
       "lon                            51550\n",
       "price                          20410\n",
       "currency                       20411\n",
       "price_aprox_local_currency     20410\n",
       "price_aprox_usd                20410\n",
       "surface_total_in_m2            39328\n",
       "surface_covered_in_m2          19907\n",
       "price_usd_per_m2               52603\n",
       "price_per_m2                   33562\n",
       "floor                         113321\n",
       "rooms                          73830\n",
       "expenses                      106958\n",
       "properati_url                      0\n",
       "description                        2\n",
       "title                              0\n",
       "image_thumbnail                 3112\n",
       "dtype: int64"
      ]
     },
     "execution_count": 5,
     "metadata": {},
     "output_type": "execute_result"
    }
   ],
   "source": [
    "data.isnull().sum()"
   ]
  },
  {
   "cell_type": "markdown",
   "id": "8a1540ac",
   "metadata": {},
   "source": [
    "Confirmar los valores de la serie 'currency'"
   ]
  },
  {
   "cell_type": "markdown",
   "id": "003f8ebe",
   "metadata": {},
   "source": [
    "La serie price_aprox_usd tiene 20410 null, se eliminan esas observaciones "
   ]
  },
  {
   "cell_type": "code",
   "execution_count": 6,
   "id": "f005f621",
   "metadata": {},
   "outputs": [],
   "source": [
    "data = data[data['price_aprox_usd'].notnull()]"
   ]
  },
  {
   "cell_type": "code",
   "execution_count": 7,
   "id": "29ca5b7e",
   "metadata": {},
   "outputs": [
    {
     "data": {
      "text/plain": [
       "(100810, 26)"
      ]
     },
     "execution_count": 7,
     "metadata": {},
     "output_type": "execute_result"
    }
   ],
   "source": [
    "data.shape"
   ]
  },
  {
   "cell_type": "code",
   "execution_count": 8,
   "id": "9e1987d1",
   "metadata": {},
   "outputs": [
    {
     "data": {
      "text/plain": [
       "Unnamed: 0                        0\n",
       "operation                         0\n",
       "property_type                     0\n",
       "place_name                       23\n",
       "place_with_parent_names           0\n",
       "country_name                      0\n",
       "state_name                        0\n",
       "geonames_id                   16952\n",
       "lat-lon                       42262\n",
       "lat                           42262\n",
       "lon                           42262\n",
       "price                             0\n",
       "currency                          1\n",
       "price_aprox_local_currency        0\n",
       "price_aprox_usd                   0\n",
       "surface_total_in_m2           31944\n",
       "surface_covered_in_m2         13150\n",
       "price_usd_per_m2              32193\n",
       "price_per_m2                  13152\n",
       "floor                         93894\n",
       "rooms                         61231\n",
       "expenses                      87564\n",
       "properati_url                     0\n",
       "description                       2\n",
       "title                             0\n",
       "image_thumbnail                2250\n",
       "dtype: int64"
      ]
     },
     "execution_count": 8,
     "metadata": {},
     "output_type": "execute_result"
    }
   ],
   "source": [
    "data.isnull().sum()"
   ]
  },
  {
   "cell_type": "code",
   "execution_count": 9,
   "id": "90b5d4fc",
   "metadata": {},
   "outputs": [
    {
     "data": {
      "text/plain": [
       "USD    87587\n",
       "ARS    13219\n",
       "PEN        2\n",
       "UYU        1\n",
       "Name: currency, dtype: int64"
      ]
     },
     "execution_count": 9,
     "metadata": {},
     "output_type": "execute_result"
    }
   ],
   "source": [
    "data['currency'].value_counts()"
   ]
  },
  {
   "cell_type": "markdown",
   "id": "13d2224a",
   "metadata": {},
   "source": [
    "**Seguimos teniendo observaciones que no son en dólares**\n",
    "\n",
    "Retenemos sólo las observaciones que correspondan a 'USD'"
   ]
  },
  {
   "cell_type": "code",
   "execution_count": 10,
   "id": "017f4db4",
   "metadata": {},
   "outputs": [],
   "source": [
    "data = data[data['currency'] == 'USD']"
   ]
  },
  {
   "cell_type": "code",
   "execution_count": 11,
   "id": "82c1f977",
   "metadata": {},
   "outputs": [
    {
     "data": {
      "text/plain": [
       "(87587, 26)"
      ]
     },
     "execution_count": 11,
     "metadata": {},
     "output_type": "execute_result"
    }
   ],
   "source": [
    "data.shape"
   ]
  },
  {
   "cell_type": "markdown",
   "id": "84c97df0",
   "metadata": {},
   "source": [
    "Determinar si la serie 'price' es igual que 'price_aprox_usd'\n",
    "La suma de valores True debe ser igual a la cantidad de observaciones"
   ]
  },
  {
   "cell_type": "code",
   "execution_count": 12,
   "id": "4709b873",
   "metadata": {},
   "outputs": [
    {
     "data": {
      "text/plain": [
       "87587"
      ]
     },
     "execution_count": 12,
     "metadata": {},
     "output_type": "execute_result"
    }
   ],
   "source": [
    "sum(data['price'] == data['price_aprox_usd'])"
   ]
  },
  {
   "cell_type": "markdown",
   "id": "1954cb26",
   "metadata": {},
   "source": [
    "No hacen falta las series currency, price_aprox_local_currency y price_aprox_usd"
   ]
  },
  {
   "cell_type": "code",
   "execution_count": 13,
   "id": "cc164a1d",
   "metadata": {},
   "outputs": [],
   "source": [
    "data = data.drop(['currency', 'price_aprox_local_currency', 'price_aprox_usd'], axis='columns')"
   ]
  },
  {
   "cell_type": "code",
   "execution_count": 14,
   "id": "c71611a3",
   "metadata": {},
   "outputs": [
    {
     "data": {
      "text/plain": [
       "(87587, 23)"
      ]
     },
     "execution_count": 14,
     "metadata": {},
     "output_type": "execute_result"
    }
   ],
   "source": [
    "data.shape"
   ]
  },
  {
   "cell_type": "code",
   "execution_count": 15,
   "id": "3a38cfd1",
   "metadata": {},
   "outputs": [
    {
     "data": {
      "text/plain": [
       "Unnamed: 0                     0\n",
       "operation                      0\n",
       "property_type                  0\n",
       "place_name                    23\n",
       "place_with_parent_names        0\n",
       "country_name                   0\n",
       "state_name                     0\n",
       "geonames_id                16141\n",
       "lat-lon                    35051\n",
       "lat                        35051\n",
       "lon                        35051\n",
       "price                          0\n",
       "surface_total_in_m2        27267\n",
       "surface_covered_in_m2      10355\n",
       "price_usd_per_m2           27454\n",
       "price_per_m2               10357\n",
       "floor                      81278\n",
       "rooms                      51573\n",
       "expenses                   74935\n",
       "properati_url                  0\n",
       "description                    1\n",
       "title                          0\n",
       "image_thumbnail             1542\n",
       "dtype: int64"
      ]
     },
     "execution_count": 15,
     "metadata": {},
     "output_type": "execute_result"
    }
   ],
   "source": [
    "data.isnull().sum()"
   ]
  },
  {
   "cell_type": "markdown",
   "id": "19f17255",
   "metadata": {},
   "source": [
    "Determinar que ocurre con price y surface"
   ]
  }
 ],
 "metadata": {
  "kernelspec": {
   "display_name": "Python 3 (ipykernel)",
   "language": "python",
   "name": "python3"
  },
  "language_info": {
   "codemirror_mode": {
    "name": "ipython",
    "version": 3
   },
   "file_extension": ".py",
   "mimetype": "text/x-python",
   "name": "python",
   "nbconvert_exporter": "python",
   "pygments_lexer": "ipython3",
   "version": "3.8.12"
  }
 },
 "nbformat": 4,
 "nbformat_minor": 5
}
