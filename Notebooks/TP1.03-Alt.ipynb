{
 "cells": [
  {
   "cell_type": "markdown",
   "id": "896adecc",
   "metadata": {},
   "source": [
    "Hace falta algo que indique con qué entorno vamos a trabajar\n",
    "\n",
    "**por ahora lo mejor es activar el entonrno que utilizamos en clases**\n"
   ]
  },
  {
   "cell_type": "markdown",
   "id": "c01801ad",
   "metadata": {},
   "source": [
    "Importar lo que hace falta"
   ]
  },
  {
   "cell_type": "code",
   "execution_count": 1,
   "id": "ea2a4f67",
   "metadata": {},
   "outputs": [],
   "source": [
    "import pandas as pd\n",
    "import numpy as np\n",
    "import seaborn as sns"
   ]
  },
  {
   "cell_type": "code",
   "execution_count": 2,
   "id": "288dd63b",
   "metadata": {},
   "outputs": [],
   "source": [
    "data_url = \"../Data/properatti.csv\""
   ]
  },
  {
   "cell_type": "code",
   "execution_count": 3,
   "id": "6bd5309b",
   "metadata": {},
   "outputs": [],
   "source": [
    "data = pd.read_csv(data_url, encoding=\"utf-8\")"
   ]
  },
  {
   "cell_type": "code",
   "execution_count": 4,
   "id": "ada69025",
   "metadata": {},
   "outputs": [
    {
     "data": {
      "text/plain": [
       "(121220, 26)"
      ]
     },
     "execution_count": 4,
     "metadata": {},
     "output_type": "execute_result"
    }
   ],
   "source": [
    "data.shape"
   ]
  },
  {
   "cell_type": "markdown",
   "id": "100bf59f",
   "metadata": {},
   "source": [
    "Confirmar los valores de la serie 'currency'"
   ]
  },
  {
   "cell_type": "code",
   "execution_count": 5,
   "id": "f1b96d69",
   "metadata": {},
   "outputs": [
    {
     "data": {
      "text/plain": [
       "USD    87587\n",
       "ARS    13219\n",
       "PEN        2\n",
       "UYU        1\n",
       "Name: currency, dtype: int64"
      ]
     },
     "execution_count": 5,
     "metadata": {},
     "output_type": "execute_result"
    }
   ],
   "source": [
    "data['currency'].value_counts()"
   ]
  },
  {
   "cell_type": "markdown",
   "id": "ad7b3fe4",
   "metadata": {},
   "source": [
    "Retenemos sólo las observaciones que correspondan a 'USD'"
   ]
  },
  {
   "cell_type": "code",
   "execution_count": 6,
   "id": "d0df3076",
   "metadata": {},
   "outputs": [],
   "source": [
    "data = data[data['currency'] == 'USD']"
   ]
  },
  {
   "cell_type": "code",
   "execution_count": 7,
   "id": "ba791c62",
   "metadata": {},
   "outputs": [
    {
     "data": {
      "text/plain": [
       "(87587, 26)"
      ]
     },
     "execution_count": 7,
     "metadata": {},
     "output_type": "execute_result"
    }
   ],
   "source": [
    "data.shape"
   ]
  },
  {
   "cell_type": "markdown",
   "id": "71880d7e",
   "metadata": {},
   "source": [
    "Determinar si la serie 'price' es igual que 'price_aprox_usd'\n",
    "La suma de valores True debe ser igual a la cantidad de observaciones"
   ]
  },
  {
   "cell_type": "code",
   "execution_count": 8,
   "id": "3b8ce42f",
   "metadata": {},
   "outputs": [
    {
     "data": {
      "text/plain": [
       "87587"
      ]
     },
     "execution_count": 8,
     "metadata": {},
     "output_type": "execute_result"
    }
   ],
   "source": [
    "sum(data['price'] == data['price_aprox_usd'])"
   ]
  },
  {
   "cell_type": "markdown",
   "id": "989e86ee",
   "metadata": {},
   "source": [
    "No hacen falta las series currency, price_aprox_local_currency y price_aprox_usd"
   ]
  },
  {
   "cell_type": "code",
   "execution_count": 9,
   "id": "14d4ab78",
   "metadata": {},
   "outputs": [],
   "source": [
    "data = data.drop(['currency', 'price_aprox_local_currency', 'price_aprox_usd'], axis='columns')"
   ]
  },
  {
   "cell_type": "code",
   "execution_count": 10,
   "id": "2c25db92",
   "metadata": {},
   "outputs": [
    {
     "data": {
      "text/plain": [
       "(87587, 23)"
      ]
     },
     "execution_count": 10,
     "metadata": {},
     "output_type": "execute_result"
    }
   ],
   "source": [
    "data.shape"
   ]
  },
  {
   "cell_type": "code",
   "execution_count": 11,
   "id": "1aa2b53d",
   "metadata": {},
   "outputs": [
    {
     "data": {
      "text/plain": [
       "Unnamed: 0                     0\n",
       "operation                      0\n",
       "property_type                  0\n",
       "place_name                    23\n",
       "place_with_parent_names        0\n",
       "country_name                   0\n",
       "state_name                     0\n",
       "geonames_id                16141\n",
       "lat-lon                    35051\n",
       "lat                        35051\n",
       "lon                        35051\n",
       "price                          0\n",
       "surface_total_in_m2        27267\n",
       "surface_covered_in_m2      10355\n",
       "price_usd_per_m2           27454\n",
       "price_per_m2               10357\n",
       "floor                      81278\n",
       "rooms                      51573\n",
       "expenses                   74935\n",
       "properati_url                  0\n",
       "description                    1\n",
       "title                          0\n",
       "image_thumbnail             1542\n",
       "dtype: int64"
      ]
     },
     "execution_count": 11,
     "metadata": {},
     "output_type": "execute_result"
    }
   ],
   "source": [
    "data.isnull().sum()"
   ]
  },
  {
   "cell_type": "markdown",
   "id": "06bfec26",
   "metadata": {},
   "source": [
    "Determinar que ocurre con price y surface"
   ]
  },
  {
   "cell_type": "markdown",
   "id": "5b7f2482",
   "metadata": {
    "jp-MarkdownHeadingCollapsed": true,
    "tags": []
   },
   "source": [
    "---\n",
    "\n",
    "Hasta aquí se copia de TP1.01\n",
    "\n",
    "---"
   ]
  },
  {
   "cell_type": "markdown",
   "id": "fb01a45c",
   "metadata": {},
   "source": [
    "**Por ahora** se elimina outliers en la serie price"
   ]
  },
  {
   "cell_type": "code",
   "execution_count": 12,
   "id": "797ede87",
   "metadata": {},
   "outputs": [
    {
     "data": {
      "text/plain": [
       "count    8.758700e+04\n",
       "mean     2.603735e+05\n",
       "std      4.063580e+05\n",
       "min      5.000000e+03\n",
       "25%      1.000000e+05\n",
       "50%      1.600000e+05\n",
       "75%      2.900000e+05\n",
       "max      4.654544e+07\n",
       "Name: price, dtype: float64"
      ]
     },
     "execution_count": 12,
     "metadata": {},
     "output_type": "execute_result"
    }
   ],
   "source": [
    "data['price'].describe()"
   ]
  },
  {
   "cell_type": "markdown",
   "id": "07d6b152",
   "metadata": {},
   "source": [
    "Tenemos un mínimo en el órden de 4e+05 (4.000) USD que es bajo pero aceptable \n",
    "\n",
    "Tenemos un máximo de 4e+07 (40.000.000) USD que complica el primer análisis"
   ]
  },
  {
   "cell_type": "code",
   "execution_count": 13,
   "id": "e7cae28e",
   "metadata": {},
   "outputs": [
    {
     "data": {
      "text/plain": [
       "(12,)"
      ]
     },
     "execution_count": 13,
     "metadata": {},
     "output_type": "execute_result"
    }
   ],
   "source": [
    "data[data['price']>1e+07]['price'].shape"
   ]
  },
  {
   "cell_type": "code",
   "execution_count": 14,
   "id": "9ac1394c",
   "metadata": {},
   "outputs": [
    {
     "data": {
      "text/plain": [
       "(2379,)"
      ]
     },
     "execution_count": 14,
     "metadata": {},
     "output_type": "execute_result"
    }
   ],
   "source": [
    "data[data['price']>1e+06]['price'].shape"
   ]
  },
  {
   "cell_type": "code",
   "execution_count": 15,
   "id": "254a3c56",
   "metadata": {},
   "outputs": [
    {
     "data": {
      "text/plain": [
       "(85125,)"
      ]
     },
     "execution_count": 15,
     "metadata": {},
     "output_type": "execute_result"
    }
   ],
   "source": [
    "data[data['price']<1e+06]['price'].shape"
   ]
  },
  {
   "cell_type": "markdown",
   "id": "67d663f1",
   "metadata": {},
   "source": [
    "Para el prototipo nos quedamos con los valores menores a 1e+06 (1.000.000) USD"
   ]
  },
  {
   "cell_type": "code",
   "execution_count": 16,
   "id": "5bf48097",
   "metadata": {},
   "outputs": [
    {
     "data": {
      "text/plain": [
       "count     85125.000000\n",
       "mean     216743.304317\n",
       "std      173693.915239\n",
       "min        5000.000000\n",
       "25%       98421.000000\n",
       "50%      155000.000000\n",
       "75%      270500.000000\n",
       "max      999999.000000\n",
       "Name: price, dtype: float64"
      ]
     },
     "execution_count": 16,
     "metadata": {},
     "output_type": "execute_result"
    }
   ],
   "source": [
    "data[data['price']<1e+06]['price'].describe()"
   ]
  },
  {
   "cell_type": "code",
   "execution_count": 17,
   "id": "180ca1fd",
   "metadata": {},
   "outputs": [],
   "source": [
    "data = data[data['price']<1e+06]"
   ]
  },
  {
   "cell_type": "code",
   "execution_count": 18,
   "id": "a12c59a8",
   "metadata": {},
   "outputs": [
    {
     "data": {
      "text/plain": [
       "(85125, 23)"
      ]
     },
     "execution_count": 18,
     "metadata": {},
     "output_type": "execute_result"
    }
   ],
   "source": [
    "data.shape"
   ]
  },
  {
   "cell_type": "code",
   "execution_count": 19,
   "id": "cfce6f11",
   "metadata": {},
   "outputs": [
    {
     "data": {
      "text/plain": [
       "count     85125.000000\n",
       "mean     216743.304317\n",
       "std      173693.915239\n",
       "min        5000.000000\n",
       "25%       98421.000000\n",
       "50%      155000.000000\n",
       "75%      270500.000000\n",
       "max      999999.000000\n",
       "Name: price, dtype: float64"
      ]
     },
     "execution_count": 19,
     "metadata": {},
     "output_type": "execute_result"
    }
   ],
   "source": [
    "data['price'].describe()"
   ]
  },
  {
   "cell_type": "code",
   "execution_count": 20,
   "id": "7885ce05",
   "metadata": {},
   "outputs": [
    {
     "data": {
      "text/plain": [
       "<AxesSubplot:xlabel='price', ylabel='Count'>"
      ]
     },
     "execution_count": 20,
     "metadata": {},
     "output_type": "execute_result"
    },
    {
     "data": {
      "image/png": "[encoded data removed]",
      "text/plain": [
       "<Figure size 432x288 with 1 Axes>"
      ]
     },
     "metadata": {
      "needs_background": "light"
     },
     "output_type": "display_data"
    }
   ],
   "source": [
    "sns.histplot(data=data, x='price')"
   ]
  },
  {
   "cell_type": "code",
   "execution_count": 21,
   "id": "6a58e216",
   "metadata": {},
   "outputs": [
    {
     "data": {
      "text/plain": [
       "<AxesSubplot:xlabel='surface_covered_in_m2', ylabel='price'>"
      ]
     },
     "execution_count": 21,
     "metadata": {},
     "output_type": "execute_result"
    },
    {
     "data": {
      "image/png": "[encoded data removed]",
      "text/plain": [
       "<Figure size 432x288 with 1 Axes>"
      ]
     },
     "metadata": {
      "needs_background": "light"
     },
     "output_type": "display_data"
    }
   ],
   "source": [
    "sns.scatterplot(x=data['surface_covered_in_m2'], y=data['price'])"
   ]
  },
  {
   "cell_type": "markdown",
   "id": "18909d73",
   "metadata": {},
   "source": [
    "Para mejorar el prototipo hay que revisar los outliers en otras series"
   ]
  },
  {
   "cell_type": "code",
   "execution_count": 22,
   "id": "e4d82601",
   "metadata": {},
   "outputs": [
    {
     "data": {
      "text/plain": [
       "count     75004.000000\n",
       "mean        123.322209\n",
       "std         760.587887\n",
       "min           0.000000\n",
       "25%          46.000000\n",
       "50%          76.000000\n",
       "75%         151.000000\n",
       "max      187000.000000\n",
       "Name: surface_covered_in_m2, dtype: float64"
      ]
     },
     "execution_count": 22,
     "metadata": {},
     "output_type": "execute_result"
    }
   ],
   "source": [
    "data['surface_covered_in_m2'].describe()"
   ]
  }
 ],
 "metadata": {
  "kernelspec": {
   "display_name": "Python 3 (ipykernel)",
   "language": "python",
   "name": "python3"
  },
  "language_info": {
   "codemirror_mode": {
    "name": "ipython",
    "version": 3
   },
   "file_extension": ".py",
   "mimetype": "text/x-python",
   "name": "python",
   "nbconvert_exporter": "python",
   "pygments_lexer": "ipython3",
   "version": "3.8.12"
  }
 },
 "nbformat": 4,
 "nbformat_minor": 5
}
