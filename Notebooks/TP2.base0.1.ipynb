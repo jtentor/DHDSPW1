{
 "cells": [
  {
   "cell_type": "markdown",
   "id": "de76e371",
   "metadata": {},
   "source": [
    "# Digital House - Data Science a Distancia\n",
    "\n",
    "## Trabajo Práctico 2\n",
    "\n",
    "\n",
    "\n",
    "### Autores: Nahuel Bonfante, Daniel Borrino, Ivan Mongi, Jessica Polakoff, Julio Tentor\n",
    "\n",
    "<p style=\"text-align:right;\">Abril 2022</p>"
   ]
  },
  {
   "cell_type": "markdown",
   "id": "2b60f6cd",
   "metadata": {},
   "source": [
    "#### Aspectos técnicos\n",
    "La notebook se ejecuta correctamente en una instalación estándar de Anaconda versión 4.11.0 build  3.21.6, Python 3.9.7\n"
   ]
  },
  {
   "cell_type": "markdown",
   "id": "0ce3effb",
   "metadata": {},
   "source": [
    "#### Librerías necesarias"
   ]
  },
  {
   "cell_type": "code",
   "execution_count": 1,
   "id": "43664799",
   "metadata": {
    "scrolled": true
   },
   "outputs": [],
   "source": [
    "import pandas as pd\n",
    "import numpy as np\n",
    "import seaborn as sns\n",
    "import re\n",
    "import matplotlib.pyplot as plt"
   ]
  },
  {
   "cell_type": "code",
   "execution_count": 2,
   "id": "dd453ce1",
   "metadata": {
    "scrolled": true
   },
   "outputs": [],
   "source": [
    "data_url = \"../Data/properatti.csv\"\n",
    "data = pd.read_csv(data_url, encoding=\"utf-8\")"
   ]
  },
  {
   "cell_type": "markdown",
   "id": "16bdd10c",
   "metadata": {},
   "source": [
    "#### Eliminamos los valores nulos de la variable Target. "
   ]
  },
  {
   "cell_type": "code",
   "execution_count": 3,
   "id": "7240b928",
   "metadata": {
    "scrolled": true
   },
   "outputs": [],
   "source": [
    "#Limpiamos los NaN en el precio\n",
    "data = data.dropna(axis=0, how='any', subset=['price_aprox_usd'])\n",
    "data_clean = data"
   ]
  },
  {
   "cell_type": "markdown",
   "id": "6c0b53ad",
   "metadata": {},
   "source": [
    "#### Eliminamos Outliers para las variables que vamos a correlacionar: "
   ]
  },
  {
   "cell_type": "code",
   "execution_count": 4,
   "id": "315d9d48",
   "metadata": {
    "scrolled": true
   },
   "outputs": [],
   "source": [
    "#funcion para borrar outliers.\n",
    "def borrar_outliers(data, columnas):\n",
    "    u\"\"\"Solo recibe columnas con valores numericos. \n",
    "    Data: dataset a analizar\n",
    "    Columnas: columnas donde borrar outliers.Deben ser una tupla\"\"\"\n",
    "    cols_limpiar = columnas\n",
    "    mask=np.ones(shape=(data.shape[0]), dtype=bool)\n",
    "\n",
    "    for i in cols_limpiar:\n",
    "        \n",
    "        #calculamos cuartiles, y valores de corte\n",
    "        Q1=data[i].quantile(0.25)\n",
    "        Q3=data[i].quantile(0.75)\n",
    "        RSI=Q3-Q1\n",
    "        max_value=Q3+1.5*RSI\n",
    "        min_value=Q1-1.5*RSI\n",
    "        \n",
    "        #ajusto el min value \n",
    "            # No puede ser negativo.\n",
    "            # No puede estar fuera del boxplot para outliers\n",
    "            # Criterio experto se decide dejar desde el 5% hacia adelante en el precio.\n",
    "            # Además, no consideraremos los que tienen menos de 10m2.\n",
    "            \n",
    "        min_value=max(data[i].quantile(0.05), min_value, 10)\n",
    "        \n",
    "        #filtramos por max y min\n",
    "        mask=np.logical_and(mask, np.logical_and(data[i]>=min_value, data[i]<=max_value))\n",
    "    return data[mask]"
   ]
  },
  {
   "cell_type": "code",
   "execution_count": 5,
   "id": "ebc1c31c",
   "metadata": {
    "scrolled": true
   },
   "outputs": [],
   "source": [
    "#Hacemos las iteraciones para place y para tipo. Elegimos arbitrariamente cuanto quiero mostrar. \n",
    "#Eligimos los que tienen mas valores, y despues pasamos un index para que solo me muestre el nombre del lugar\n",
    "iterar_place=data_clean['place_name'].value_counts().head(300)\n",
    "iterar_place['otro_place']=0\n",
    "iterar_place = iterar_place.index\n",
    "\n",
    "iterar_tipo=data_clean['property_type'].value_counts().head(2)\n",
    "#Esto esta comentado para NO CONTEMPLAR los otros tipos en el calculo\n",
    "# iterar_tipo['otro_tipo']=0\n",
    "iterar_tipo = iterar_tipo.index"
   ]
  },
  {
   "cell_type": "code",
   "execution_count": 6,
   "id": "d3cb53b6",
   "metadata": {
    "scrolled": true
   },
   "outputs": [],
   "source": [
    "#todos los valores que no entren en alguna de las categorias recien planteadas, son metidas en \"OTROS\"\n",
    "#Modificamos data_clean, pero en nuevas columnas\n",
    "\n",
    "data_clean['place_name'] = [x if x in iterar_place else 'otro_place' for x in data_clean['place_name']]\n",
    "data_clean['property_type'] = [x if x in iterar_tipo else 'otro_tipo' for x in data_clean['property_type']]"
   ]
  },
  {
   "cell_type": "markdown",
   "id": "62d51dc5",
   "metadata": {},
   "source": [
    "---\n",
    "#### Creacion de nuevas variables con valor predictivo:\n",
    "\n",
    "#####  Creamos variables en funcion a la variable descripción:"
   ]
  },
  {
   "cell_type": "markdown",
   "id": "137f79c7",
   "metadata": {},
   "source": [
    "Nos proponemos encontrar amenities interesantes como Pileta, Parrilla, Cochera. Estas categorías fueron elegidas arbitrariamente, para demostrar el metodo de scrapping. Pueden replantearse en un futuro."
   ]
  },
  {
   "cell_type": "code",
   "execution_count": 7,
   "id": "f421c545",
   "metadata": {
    "scrolled": true,
    "tags": []
   },
   "outputs": [],
   "source": [
    "def regex_to_tags(col, reg, match, not_match = np.NaN) :\n",
    "    u\"\"\"Returns a series with 'match' values result of apply the regular expresion to the column\n",
    "    the 'match' value will be when the regular expression search() method found a match\n",
    "    the 'not_match' value will be when the regular expression serach() method did not found a match\n",
    "    col : column where to apply regular expresion\n",
    "    reg : regular expresion compiled\n",
    "    \"\"\"\n",
    "    \n",
    "    serie = col.apply(lambda x : x if x is np.NaN else reg.search(x))\n",
    "    serie = serie.apply(lambda x : match if x is not None else not_match)\n",
    "   \n",
    "    return serie"
   ]
  },
  {
   "cell_type": "code",
   "execution_count": 8,
   "id": "d4efba6e",
   "metadata": {
    "scrolled": true
   },
   "outputs": [],
   "source": [
    "#Buscamos cocheras\n",
    "_pattern = 'cochera|garage|auto'\n",
    "_express = re.compile(_pattern, flags = re.IGNORECASE)\n",
    "\n",
    "data_clean['cochera'] = regex_to_tags(data_clean['description'], _express, 1, 0)\n"
   ]
  },
  {
   "cell_type": "code",
   "execution_count": 9,
   "id": "b96f022b",
   "metadata": {
    "scrolled": true
   },
   "outputs": [],
   "source": [
    "#Buscamos piletas\n",
    "_pattern = 'piscina|pileta'\n",
    "_express = re.compile(_pattern, flags = re.IGNORECASE)\n",
    "\n",
    "data_clean['pileta'] = regex_to_tags(data_clean['description'], _express, 1, 0)\n"
   ]
  },
  {
   "cell_type": "code",
   "execution_count": 10,
   "id": "0b8348cf",
   "metadata": {
    "scrolled": true
   },
   "outputs": [],
   "source": [
    "#Buscamos Parrillas\n",
    "_pattern = 'parrilla'\n",
    "_express = re.compile(_pattern, flags = re.IGNORECASE)\n",
    "\n",
    "data_clean['parrilla'] = regex_to_tags(data_clean['description'], _express, 1, 0)\n"
   ]
  },
  {
   "cell_type": "code",
   "execution_count": 11,
   "id": "39c84c58-81d8-4f4a-8014-d83b624ba516",
   "metadata": {
    "scrolled": true
   },
   "outputs": [],
   "source": [
    "#Buscamos Amoblado\n",
    "_pattern = 'amoblado'\n",
    "_express = re.compile(_pattern, flags = re.IGNORECASE)\n",
    "\n",
    "data_clean['amoblado'] = regex_to_tags(data_clean['description'], _express, 1, 0)\n"
   ]
  },
  {
   "cell_type": "code",
   "execution_count": 12,
   "id": "d8817eec-bf22-4287-9eed-2dff447f1f95",
   "metadata": {
    "scrolled": true
   },
   "outputs": [],
   "source": [
    "#Buscamos Patio\n",
    "_pattern = 'patio'\n",
    "_express = re.compile(_pattern, flags = re.IGNORECASE)\n",
    "\n",
    "data_clean['patio'] = regex_to_tags(data_clean['description'], _express, 1, 0)\n"
   ]
  },
  {
   "cell_type": "code",
   "execution_count": 13,
   "id": "cb0bf5e0-8a16-425b-9052-57df0ee56b01",
   "metadata": {
    "scrolled": true
   },
   "outputs": [],
   "source": [
    "#Buscamos Terraza\n",
    "_pattern = 'terraza'\n",
    "_express = re.compile(_pattern, flags = re.IGNORECASE)\n",
    "\n",
    "data_clean['terraza'] = regex_to_tags(data_clean['description'], _express, 1, 0)\n"
   ]
  },
  {
   "cell_type": "code",
   "execution_count": 14,
   "id": "7a8c1fdf-f76c-41b8-ad86-a4d8533e5c81",
   "metadata": {
    "scrolled": true
   },
   "outputs": [],
   "source": [
    "#Buscamos Jardin\n",
    "_pattern = 'jardin'\n",
    "_express = re.compile(_pattern, flags = re.IGNORECASE)\n",
    "\n",
    "data_clean['jardin'] = regex_to_tags(data_clean['description'], _express, 1, 0)\n"
   ]
  },
  {
   "cell_type": "code",
   "execution_count": 15,
   "id": "bd2348f3",
   "metadata": {
    "scrolled": true
   },
   "outputs": [],
   "source": [
    "def regex_to_values(col, reg) :\n",
    "    u\"\"\"Returns a serie with the result of apply the regular expresion to the column\n",
    "    the serie have a float value only when regular expression search() method found a match\n",
    "    \n",
    "    col : column where to apply regular expresion\n",
    "    reg : regular expresion compiled\n",
    "    \"\"\"\n",
    "    \n",
    "    serie = col.apply(lambda x : x if x is np.NaN else reg.search(x))\n",
    "    serie = serie.apply(lambda x : np.NaN if x is np.NaN or x is None else float(x.group(1)))\n",
    "\n",
    "    return serie"
   ]
  },
  {
   "cell_type": "markdown",
   "id": "814bc2e6",
   "metadata": {},
   "source": [
    "---\n",
    "### Generación de variables a imputar: relleno de valores nulos\n",
    "#### Analisis para Cantidad de ambientes: "
   ]
  },
  {
   "cell_type": "markdown",
   "id": "76911d7a",
   "metadata": {},
   "source": [
    "##### Nos proponemos quitar de la descripción la cantidad de ambientes para llenar la variable rooms: "
   ]
  },
  {
   "cell_type": "code",
   "execution_count": 16,
   "id": "8e87e6be",
   "metadata": {
    "scrolled": true
   },
   "outputs": [],
   "source": [
    "#Buscamos cantidad de ambientes\n",
    "_pattern = '([1-2][0-9]?)(?= amb)'\n",
    "_express = re.compile(_pattern, flags = re.IGNORECASE)\n",
    "\n",
    "work = regex_to_values(data_clean['description'], _express)\n",
    "\n",
    "data_clean['ambientes'] = work\n"
   ]
  },
  {
   "cell_type": "code",
   "execution_count": 17,
   "id": "ec5da741",
   "metadata": {
    "scrolled": true
   },
   "outputs": [],
   "source": [
    "#realizamos la imputacion\n",
    "data_clean['ambientes_final'] = data_clean['rooms']\n",
    "mask = data_clean['ambientes_final'].isnull() & data_clean['ambientes'].notnull()\n",
    "data_clean.loc[mask, 'ambientes_final'] = data_clean.loc[mask, 'ambientes']"
   ]
  },
  {
   "cell_type": "markdown",
   "id": "7df0f838",
   "metadata": {},
   "source": [
    "---\n",
    "### Generación del dataset final.\n",
    "#### Vamos a levantar nuevamente el data original. Generamos un dataset final en base al análisis de datos que realizmos "
   ]
  },
  {
   "cell_type": "code",
   "execution_count": 18,
   "id": "f2de7894",
   "metadata": {
    "scrolled": true
   },
   "outputs": [],
   "source": [
    "# serie para determinar observaciones sin outliers para precio en dólares y superficie cubierta\n",
    "data_clean['tidy1'] = np.NaN\n",
    "\n",
    "for tipo in iterar_tipo:\n",
    "    for place in iterar_place:\n",
    "        # selecciono por lugar y tipo\n",
    "        mask = np.logical_and(data_clean['place_name']==place, data_clean['property_type']==tipo)\n",
    "        # calcula outliers y los suprime\n",
    "        data_ok = borrar_outliers(data_clean[mask], ('price_aprox_usd', 'surface_covered_in_m2'))\n",
    "        # determina observaciones válidas\n",
    "        data_clean.loc[data_ok.index, 'tidy1'] = True\n",
    "\n",
    "# probablemente esto se pueda hacer con algún método de pandas pero me resulta más simple pensarlo de este modo"
   ]
  },
  {
   "cell_type": "code",
   "execution_count": 19,
   "id": "8caae013",
   "metadata": {
    "scrolled": true
   },
   "outputs": [],
   "source": [
    "# suprimo las observaciones que no me sirven\n",
    "data_clean = data_clean.dropna(axis=0, how='any', subset=['tidy1'])"
   ]
  },
  {
   "cell_type": "code",
   "execution_count": 20,
   "id": "f895fe97-6766-4c6f-951f-96df2cb59ca7",
   "metadata": {},
   "outputs": [],
   "source": [
    "data_final = data_clean.drop(columns=['Unnamed: 0','operation', 'place_with_parent_names', \n",
    "                                      'country_name','geonames_id', 'lat-lon', 'lat', 'lon', 'price', 'currency',\n",
    "                                        'price_aprox_local_currency','floor', 'surface_total_in_m2', 'price_usd_per_m2', \n",
    "                                     'price_per_m2', 'rooms', 'ambientes', 'expenses', 'properati_url', 'description', 'title', 'image_thumbnail', 'tidy1'])"
   ]
  },
  {
   "cell_type": "code",
   "execution_count": 21,
   "id": "657133e9",
   "metadata": {},
   "outputs": [
    {
     "data": {
      "text/html": [
       "<div>\n",
       "<style scoped>\n",
       "    .dataframe tbody tr th:only-of-type {\n",
       "        vertical-align: middle;\n",
       "    }\n",
       "\n",
       "    .dataframe tbody tr th {\n",
       "        vertical-align: top;\n",
       "    }\n",
       "\n",
       "    .dataframe thead th {\n",
       "        text-align: right;\n",
       "    }\n",
       "</style>\n",
       "<table border=\"1\" class=\"dataframe\">\n",
       "  <thead>\n",
       "    <tr style=\"text-align: right;\">\n",
       "      <th></th>\n",
       "      <th>property_type</th>\n",
       "      <th>place_name</th>\n",
       "      <th>state_name</th>\n",
       "      <th>price_aprox_usd</th>\n",
       "      <th>surface_covered_in_m2</th>\n",
       "      <th>cochera</th>\n",
       "      <th>pileta</th>\n",
       "      <th>parrilla</th>\n",
       "      <th>amoblado</th>\n",
       "      <th>patio</th>\n",
       "      <th>terraza</th>\n",
       "      <th>jardin</th>\n",
       "      <th>ambientes_final</th>\n",
       "    </tr>\n",
       "  </thead>\n",
       "  <tbody>\n",
       "    <tr>\n",
       "      <th>2</th>\n",
       "      <td>apartment</td>\n",
       "      <td>Mataderos</td>\n",
       "      <td>Capital Federal</td>\n",
       "      <td>72000.0</td>\n",
       "      <td>55.0</td>\n",
       "      <td>0</td>\n",
       "      <td>0</td>\n",
       "      <td>0</td>\n",
       "      <td>0</td>\n",
       "      <td>0</td>\n",
       "      <td>0</td>\n",
       "      <td>0</td>\n",
       "      <td>2.0</td>\n",
       "    </tr>\n",
       "    <tr>\n",
       "      <th>4</th>\n",
       "      <td>apartment</td>\n",
       "      <td>Centro</td>\n",
       "      <td>Buenos Aires Costa Atlántica</td>\n",
       "      <td>64000.0</td>\n",
       "      <td>35.0</td>\n",
       "      <td>0</td>\n",
       "      <td>0</td>\n",
       "      <td>0</td>\n",
       "      <td>0</td>\n",
       "      <td>0</td>\n",
       "      <td>0</td>\n",
       "      <td>0</td>\n",
       "      <td>NaN</td>\n",
       "    </tr>\n",
       "    <tr>\n",
       "      <th>7</th>\n",
       "      <td>apartment</td>\n",
       "      <td>Belgrano</td>\n",
       "      <td>Capital Federal</td>\n",
       "      <td>138000.0</td>\n",
       "      <td>40.0</td>\n",
       "      <td>0</td>\n",
       "      <td>1</td>\n",
       "      <td>0</td>\n",
       "      <td>0</td>\n",
       "      <td>0</td>\n",
       "      <td>0</td>\n",
       "      <td>0</td>\n",
       "      <td>NaN</td>\n",
       "    </tr>\n",
       "    <tr>\n",
       "      <th>8</th>\n",
       "      <td>apartment</td>\n",
       "      <td>Belgrano</td>\n",
       "      <td>Capital Federal</td>\n",
       "      <td>195000.0</td>\n",
       "      <td>60.0</td>\n",
       "      <td>0</td>\n",
       "      <td>1</td>\n",
       "      <td>0</td>\n",
       "      <td>0</td>\n",
       "      <td>0</td>\n",
       "      <td>0</td>\n",
       "      <td>0</td>\n",
       "      <td>NaN</td>\n",
       "    </tr>\n",
       "    <tr>\n",
       "      <th>13</th>\n",
       "      <td>apartment</td>\n",
       "      <td>Palermo Soho</td>\n",
       "      <td>Capital Federal</td>\n",
       "      <td>111700.0</td>\n",
       "      <td>30.0</td>\n",
       "      <td>0</td>\n",
       "      <td>1</td>\n",
       "      <td>0</td>\n",
       "      <td>0</td>\n",
       "      <td>0</td>\n",
       "      <td>1</td>\n",
       "      <td>0</td>\n",
       "      <td>1.0</td>\n",
       "    </tr>\n",
       "    <tr>\n",
       "      <th>...</th>\n",
       "      <td>...</td>\n",
       "      <td>...</td>\n",
       "      <td>...</td>\n",
       "      <td>...</td>\n",
       "      <td>...</td>\n",
       "      <td>...</td>\n",
       "      <td>...</td>\n",
       "      <td>...</td>\n",
       "      <td>...</td>\n",
       "      <td>...</td>\n",
       "      <td>...</td>\n",
       "      <td>...</td>\n",
       "      <td>...</td>\n",
       "    </tr>\n",
       "    <tr>\n",
       "      <th>121158</th>\n",
       "      <td>apartment</td>\n",
       "      <td>Recoleta</td>\n",
       "      <td>Capital Federal</td>\n",
       "      <td>165000.0</td>\n",
       "      <td>39.0</td>\n",
       "      <td>0</td>\n",
       "      <td>0</td>\n",
       "      <td>1</td>\n",
       "      <td>0</td>\n",
       "      <td>0</td>\n",
       "      <td>0</td>\n",
       "      <td>0</td>\n",
       "      <td>NaN</td>\n",
       "    </tr>\n",
       "    <tr>\n",
       "      <th>121216</th>\n",
       "      <td>house</td>\n",
       "      <td>Beccar</td>\n",
       "      <td>Bs.As. G.B.A. Zona Norte</td>\n",
       "      <td>498000.0</td>\n",
       "      <td>360.0</td>\n",
       "      <td>1</td>\n",
       "      <td>1</td>\n",
       "      <td>1</td>\n",
       "      <td>0</td>\n",
       "      <td>0</td>\n",
       "      <td>0</td>\n",
       "      <td>1</td>\n",
       "      <td>NaN</td>\n",
       "    </tr>\n",
       "    <tr>\n",
       "      <th>121217</th>\n",
       "      <td>apartment</td>\n",
       "      <td>Villa Urquiza</td>\n",
       "      <td>Capital Federal</td>\n",
       "      <td>131500.0</td>\n",
       "      <td>39.0</td>\n",
       "      <td>1</td>\n",
       "      <td>0</td>\n",
       "      <td>1</td>\n",
       "      <td>0</td>\n",
       "      <td>0</td>\n",
       "      <td>1</td>\n",
       "      <td>0</td>\n",
       "      <td>NaN</td>\n",
       "    </tr>\n",
       "    <tr>\n",
       "      <th>121218</th>\n",
       "      <td>apartment</td>\n",
       "      <td>Plaza Colón</td>\n",
       "      <td>Buenos Aires Costa Atlántica</td>\n",
       "      <td>95900.0</td>\n",
       "      <td>48.0</td>\n",
       "      <td>0</td>\n",
       "      <td>0</td>\n",
       "      <td>0</td>\n",
       "      <td>0</td>\n",
       "      <td>0</td>\n",
       "      <td>0</td>\n",
       "      <td>0</td>\n",
       "      <td>2.0</td>\n",
       "    </tr>\n",
       "    <tr>\n",
       "      <th>121219</th>\n",
       "      <td>apartment</td>\n",
       "      <td>Capital Federal</td>\n",
       "      <td>Capital Federal</td>\n",
       "      <td>129000.0</td>\n",
       "      <td>77.0</td>\n",
       "      <td>0</td>\n",
       "      <td>0</td>\n",
       "      <td>0</td>\n",
       "      <td>0</td>\n",
       "      <td>0</td>\n",
       "      <td>0</td>\n",
       "      <td>0</td>\n",
       "      <td>NaN</td>\n",
       "    </tr>\n",
       "  </tbody>\n",
       "</table>\n",
       "<p>67268 rows × 13 columns</p>\n",
       "</div>"
      ],
      "text/plain": [
       "       property_type       place_name                    state_name  \\\n",
       "2          apartment        Mataderos               Capital Federal   \n",
       "4          apartment           Centro  Buenos Aires Costa Atlántica   \n",
       "7          apartment         Belgrano               Capital Federal   \n",
       "8          apartment         Belgrano               Capital Federal   \n",
       "13         apartment     Palermo Soho               Capital Federal   \n",
       "...              ...              ...                           ...   \n",
       "121158     apartment         Recoleta               Capital Federal   \n",
       "121216         house           Beccar      Bs.As. G.B.A. Zona Norte   \n",
       "121217     apartment    Villa Urquiza               Capital Federal   \n",
       "121218     apartment      Plaza Colón  Buenos Aires Costa Atlántica   \n",
       "121219     apartment  Capital Federal               Capital Federal   \n",
       "\n",
       "        price_aprox_usd  surface_covered_in_m2  cochera  pileta  parrilla  \\\n",
       "2               72000.0                   55.0        0       0         0   \n",
       "4               64000.0                   35.0        0       0         0   \n",
       "7              138000.0                   40.0        0       1         0   \n",
       "8              195000.0                   60.0        0       1         0   \n",
       "13             111700.0                   30.0        0       1         0   \n",
       "...                 ...                    ...      ...     ...       ...   \n",
       "121158         165000.0                   39.0        0       0         1   \n",
       "121216         498000.0                  360.0        1       1         1   \n",
       "121217         131500.0                   39.0        1       0         1   \n",
       "121218          95900.0                   48.0        0       0         0   \n",
       "121219         129000.0                   77.0        0       0         0   \n",
       "\n",
       "        amoblado  patio  terraza  jardin  ambientes_final  \n",
       "2              0      0        0       0              2.0  \n",
       "4              0      0        0       0              NaN  \n",
       "7              0      0        0       0              NaN  \n",
       "8              0      0        0       0              NaN  \n",
       "13             0      0        1       0              1.0  \n",
       "...          ...    ...      ...     ...              ...  \n",
       "121158         0      0        0       0              NaN  \n",
       "121216         0      0        0       1              NaN  \n",
       "121217         0      0        1       0              NaN  \n",
       "121218         0      0        0       0              2.0  \n",
       "121219         0      0        0       0              NaN  \n",
       "\n",
       "[67268 rows x 13 columns]"
      ]
     },
     "execution_count": 21,
     "metadata": {},
     "output_type": "execute_result"
    }
   ],
   "source": [
    "data_final"
   ]
  },
  {
   "cell_type": "code",
   "execution_count": 22,
   "id": "935ffa13-c597-4268-8a04-dd118ade3030",
   "metadata": {},
   "outputs": [
    {
     "data": {
      "text/plain": [
       "(67268, 13)"
      ]
     },
     "execution_count": 22,
     "metadata": {},
     "output_type": "execute_result"
    }
   ],
   "source": [
    "data_final.shape"
   ]
  },
  {
   "cell_type": "markdown",
   "id": "d0cbf29f",
   "metadata": {},
   "source": [
    "---\n",
    "#### Sanity checks"
   ]
  },
  {
   "cell_type": "code",
   "execution_count": 23,
   "id": "9e9ef273",
   "metadata": {},
   "outputs": [
    {
     "data": {
      "text/plain": [
       "property_type                0\n",
       "place_name                   0\n",
       "state_name                   0\n",
       "price_aprox_usd              0\n",
       "surface_covered_in_m2        0\n",
       "cochera                      0\n",
       "pileta                       0\n",
       "parrilla                     0\n",
       "amoblado                     0\n",
       "patio                        0\n",
       "terraza                      0\n",
       "jardin                       0\n",
       "ambientes_final          34669\n",
       "dtype: int64"
      ]
     },
     "execution_count": 23,
     "metadata": {},
     "output_type": "execute_result"
    }
   ],
   "source": [
    "data_final.isnull().sum()"
   ]
  },
  {
   "cell_type": "code",
   "execution_count": 24,
   "id": "cc675f8c",
   "metadata": {},
   "outputs": [],
   "source": [
    "# data_final = data_final.dropna(axis=0, how='any', subset=['ambientes_final'])"
   ]
  },
  {
   "cell_type": "code",
   "execution_count": 25,
   "id": "28177889",
   "metadata": {},
   "outputs": [],
   "source": [
    "# data_final.shape"
   ]
  },
  {
   "cell_type": "code",
   "execution_count": 26,
   "id": "1b0ed1ae-b231-4688-8517-8df8a280ab2d",
   "metadata": {},
   "outputs": [
    {
     "data": {
      "text/html": [
       "<div>\n",
       "<style scoped>\n",
       "    .dataframe tbody tr th:only-of-type {\n",
       "        vertical-align: middle;\n",
       "    }\n",
       "\n",
       "    .dataframe tbody tr th {\n",
       "        vertical-align: top;\n",
       "    }\n",
       "\n",
       "    .dataframe thead th {\n",
       "        text-align: right;\n",
       "    }\n",
       "</style>\n",
       "<table border=\"1\" class=\"dataframe\">\n",
       "  <thead>\n",
       "    <tr style=\"text-align: right;\">\n",
       "      <th></th>\n",
       "      <th>price_aprox_usd</th>\n",
       "      <th>surface_covered_in_m2</th>\n",
       "      <th>ambientes_final</th>\n",
       "    </tr>\n",
       "  </thead>\n",
       "  <tbody>\n",
       "    <tr>\n",
       "      <th>price_aprox_usd</th>\n",
       "      <td>1.000000</td>\n",
       "      <td>0.686467</td>\n",
       "      <td>0.310369</td>\n",
       "    </tr>\n",
       "    <tr>\n",
       "      <th>surface_covered_in_m2</th>\n",
       "      <td>0.686467</td>\n",
       "      <td>1.000000</td>\n",
       "      <td>0.671474</td>\n",
       "    </tr>\n",
       "    <tr>\n",
       "      <th>ambientes_final</th>\n",
       "      <td>0.310369</td>\n",
       "      <td>0.671474</td>\n",
       "      <td>1.000000</td>\n",
       "    </tr>\n",
       "  </tbody>\n",
       "</table>\n",
       "</div>"
      ],
      "text/plain": [
       "                       price_aprox_usd  surface_covered_in_m2  ambientes_final\n",
       "price_aprox_usd               1.000000               0.686467         0.310369\n",
       "surface_covered_in_m2         0.686467               1.000000         0.671474\n",
       "ambientes_final               0.310369               0.671474         1.000000"
      ]
     },
     "execution_count": 26,
     "metadata": {},
     "output_type": "execute_result"
    }
   ],
   "source": [
    "data_final[['price_aprox_usd', 'surface_covered_in_m2', 'ambientes_final']].corr()"
   ]
  },
  {
   "cell_type": "code",
   "execution_count": 27,
   "id": "f7e390eb-b81e-480c-8874-3b717ade2f20",
   "metadata": {},
   "outputs": [],
   "source": [
    "data_final_url = \"../Data/properatti_final2.csv\"\n",
    "data_final.to_csv(data_final_url)"
   ]
  }
 ],
 "metadata": {
  "kernelspec": {
   "display_name": "Python 3 (ipykernel)",
   "language": "python",
   "name": "python3"
  },
  "language_info": {
   "codemirror_mode": {
    "name": "ipython",
    "version": 3
   },
   "file_extension": ".py",
   "mimetype": "text/x-python",
   "name": "python",
   "nbconvert_exporter": "python",
   "pygments_lexer": "ipython3",
   "version": "3.9.7"
  }
 },
 "nbformat": 4,
 "nbformat_minor": 5
}
