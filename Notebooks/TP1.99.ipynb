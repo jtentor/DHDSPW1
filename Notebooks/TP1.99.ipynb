{
 "cells": [
  {
   "cell_type": "markdown",
   "id": "a25acba2",
   "metadata": {},
   "source": [
    "Hace falta algo que indique con qué entorno vamos a trabajar"
   ]
  },
  {
   "cell_type": "markdown",
   "id": "7b58d403",
   "metadata": {},
   "source": [
    "Importar lo que hace falta"
   ]
  },
  {
   "cell_type": "code",
   "execution_count": 1,
   "id": "1e830701",
   "metadata": {},
   "outputs": [],
   "source": [
    "import pandas as pd\n",
    "import seaborn as sns"
   ]
  },
  {
   "cell_type": "code",
   "execution_count": 2,
   "id": "06e51b95",
   "metadata": {},
   "outputs": [],
   "source": [
    "data_url = \"../Data/properatti.csv\""
   ]
  },
  {
   "cell_type": "code",
   "execution_count": 3,
   "id": "0605117d",
   "metadata": {},
   "outputs": [],
   "source": [
    "data = pd.read_csv(data_url, encoding=\"utf-8\")"
   ]
  },
  {
   "cell_type": "code",
   "execution_count": 4,
   "id": "0243ab6c",
   "metadata": {},
   "outputs": [
    {
     "data": {
      "text/plain": [
       "(121220, 26)"
      ]
     },
     "execution_count": 4,
     "metadata": {},
     "output_type": "execute_result"
    }
   ],
   "source": [
    "data.shape"
   ]
  },
  {
   "cell_type": "markdown",
   "id": "896b68af",
   "metadata": {},
   "source": [
    "Confirmar los valores de la serie 'currency'"
   ]
  },
  {
   "cell_type": "code",
   "execution_count": 5,
   "id": "25b74d64",
   "metadata": {},
   "outputs": [
    {
     "data": {
      "text/plain": [
       "USD    87587\n",
       "ARS    13219\n",
       "PEN        2\n",
       "UYU        1\n",
       "Name: currency, dtype: int64"
      ]
     },
     "execution_count": 5,
     "metadata": {},
     "output_type": "execute_result"
    }
   ],
   "source": [
    "data['currency'].value_counts()"
   ]
  },
  {
   "cell_type": "markdown",
   "id": "83dffbe9",
   "metadata": {},
   "source": [
    "Retenemos sólo las observaciones que correspondan a 'USD'"
   ]
  },
  {
   "cell_type": "code",
   "execution_count": 6,
   "id": "a7096cde",
   "metadata": {},
   "outputs": [],
   "source": [
    "data = data[data['currency'] == 'USD']"
   ]
  },
  {
   "cell_type": "code",
   "execution_count": 7,
   "id": "26ba2466",
   "metadata": {},
   "outputs": [
    {
     "data": {
      "text/plain": [
       "(87587, 26)"
      ]
     },
     "execution_count": 7,
     "metadata": {},
     "output_type": "execute_result"
    }
   ],
   "source": [
    "data.shape"
   ]
  },
  {
   "cell_type": "markdown",
   "id": "0b98ebbc",
   "metadata": {},
   "source": [
    "Determinar si la serie 'price' es igual que 'price_aprox_usd'\n",
    "La suma de valores True debe ser igual a la cantidad de observaciones"
   ]
  },
  {
   "cell_type": "code",
   "execution_count": 8,
   "id": "b8715fae",
   "metadata": {},
   "outputs": [
    {
     "data": {
      "text/plain": [
       "87587"
      ]
     },
     "execution_count": 8,
     "metadata": {},
     "output_type": "execute_result"
    }
   ],
   "source": [
    "sum(data['price'] == data['price_aprox_usd'])"
   ]
  },
  {
   "cell_type": "markdown",
   "id": "0bb302e8",
   "metadata": {},
   "source": [
    "No hacen falta las series currency, price_aprox_local_currency y price_aprox_usd"
   ]
  },
  {
   "cell_type": "code",
   "execution_count": 9,
   "id": "06c4ad22",
   "metadata": {},
   "outputs": [],
   "source": [
    "data = data.drop(['currency', 'price_aprox_local_currency', 'price_aprox_usd'], axis='columns')"
   ]
  },
  {
   "cell_type": "code",
   "execution_count": 10,
   "id": "4683240f",
   "metadata": {},
   "outputs": [
    {
     "data": {
      "text/plain": [
       "(87587, 23)"
      ]
     },
     "execution_count": 10,
     "metadata": {},
     "output_type": "execute_result"
    }
   ],
   "source": [
    "data.shape"
   ]
  },
  {
   "cell_type": "code",
   "execution_count": 11,
   "id": "c58e5195",
   "metadata": {},
   "outputs": [
    {
     "data": {
      "text/plain": [
       "Unnamed: 0                     0\n",
       "operation                      0\n",
       "property_type                  0\n",
       "place_name                    23\n",
       "place_with_parent_names        0\n",
       "country_name                   0\n",
       "state_name                     0\n",
       "geonames_id                16141\n",
       "lat-lon                    35051\n",
       "lat                        35051\n",
       "lon                        35051\n",
       "price                          0\n",
       "surface_total_in_m2        27267\n",
       "surface_covered_in_m2      10355\n",
       "price_usd_per_m2           27454\n",
       "price_per_m2               10357\n",
       "floor                      81278\n",
       "rooms                      51573\n",
       "expenses                   74935\n",
       "properati_url                  0\n",
       "description                    1\n",
       "title                          0\n",
       "image_thumbnail             1542\n",
       "dtype: int64"
      ]
     },
     "execution_count": 11,
     "metadata": {},
     "output_type": "execute_result"
    }
   ],
   "source": [
    "data.isnull().sum()"
   ]
  },
  {
   "cell_type": "markdown",
   "id": "3c21b94b",
   "metadata": {},
   "source": [
    "Determinar que ocurre con price y surface"
   ]
  },
  {
   "cell_type": "markdown",
   "id": "f5e64372",
   "metadata": {
    "jp-MarkdownHeadingCollapsed": true,
    "tags": []
   },
   "source": [
    "---\n",
    "\n",
    "Hasta aquí se copia de TP1.01\n",
    "\n",
    "---"
   ]
  },
  {
   "cell_type": "code",
   "execution_count": 12,
   "id": "d9306a30",
   "metadata": {
    "tags": []
   },
   "outputs": [],
   "source": [
    "work1 = data[data['surface_total_in_m2'].notnull() & (data['surface_total_in_m2'] > 0)]"
   ]
  },
  {
   "cell_type": "code",
   "execution_count": 13,
   "id": "cfd49606",
   "metadata": {},
   "outputs": [
    {
     "data": {
      "text/plain": [
       "(60133, 23)"
      ]
     },
     "execution_count": 13,
     "metadata": {},
     "output_type": "execute_result"
    }
   ],
   "source": [
    "work1.shape"
   ]
  },
  {
   "cell_type": "code",
   "execution_count": 14,
   "id": "e521a02c",
   "metadata": {},
   "outputs": [
    {
     "data": {
      "text/plain": [
       "0"
      ]
     },
     "execution_count": 14,
     "metadata": {},
     "output_type": "execute_result"
    }
   ],
   "source": [
    "sum(round(work1['price_usd_per_m2'],2) != round(work1['price'] / work1['surface_total_in_m2'],2))"
   ]
  },
  {
   "cell_type": "markdown",
   "id": "0ebb4d34",
   "metadata": {},
   "source": [
    "Hasta aquí determinamos que hay valores de superficie menores o iguales a cero \n",
    "\n",
    "Determinamos que el price_usd_per_m2 está calculado de los otros valores válidos\n",
    "\n",
    "Hay que hacer lo mismo con los valores para metros cubiertos ..."
   ]
  },
  {
   "cell_type": "code",
   "execution_count": 23,
   "id": "9c7775b5",
   "metadata": {},
   "outputs": [],
   "source": [
    "capfed =data[data['state_name'] == 'Capital Federal']\n",
    "capfed =capfed[capfed['property_type'] == 'house']"
   ]
  },
  {
   "cell_type": "code",
   "execution_count": 24,
   "id": "6e244fed",
   "metadata": {},
   "outputs": [
    {
     "data": {
      "text/html": [
       "<div>\n",
       "<style scoped>\n",
       "    .dataframe tbody tr th:only-of-type {\n",
       "        vertical-align: middle;\n",
       "    }\n",
       "\n",
       "    .dataframe tbody tr th {\n",
       "        vertical-align: top;\n",
       "    }\n",
       "\n",
       "    .dataframe thead th {\n",
       "        text-align: right;\n",
       "    }\n",
       "</style>\n",
       "<table border=\"1\" class=\"dataframe\">\n",
       "  <thead>\n",
       "    <tr style=\"text-align: right;\">\n",
       "      <th></th>\n",
       "      <th>price</th>\n",
       "      <th>surface_total_in_m2</th>\n",
       "    </tr>\n",
       "  </thead>\n",
       "  <tbody>\n",
       "    <tr>\n",
       "      <th>price</th>\n",
       "      <td>1.000000</td>\n",
       "      <td>0.582766</td>\n",
       "    </tr>\n",
       "    <tr>\n",
       "      <th>surface_total_in_m2</th>\n",
       "      <td>0.582766</td>\n",
       "      <td>1.000000</td>\n",
       "    </tr>\n",
       "  </tbody>\n",
       "</table>\n",
       "</div>"
      ],
      "text/plain": [
       "                        price  surface_total_in_m2\n",
       "price                1.000000             0.582766\n",
       "surface_total_in_m2  0.582766             1.000000"
      ]
     },
     "execution_count": 24,
     "metadata": {},
     "output_type": "execute_result"
    }
   ],
   "source": [
    "capfed[['price', 'surface_total_in_m2']].corr()"
   ]
  },
  {
   "cell_type": "code",
   "execution_count": 27,
   "id": "f1e0b7b4",
   "metadata": {},
   "outputs": [
    {
     "data": {
      "text/plain": [
       "<AxesSubplot:xlabel='surface_total_in_m2', ylabel='price'>"
      ]
     },
     "execution_count": 27,
     "metadata": {},
     "output_type": "execute_result"
    },
    {
     "data": {
      "image/png": "[encoded data removed]",
      "text/plain": [
       "<Figure size 432x288 with 1 Axes>"
      ]
     },
     "metadata": {
      "needs_background": "light"
     },
     "output_type": "display_data"
    }
   ],
   "source": [
    "sns.scatterplot(x=capfed['surface_total_in_m2'], y=capfed['price'])"
   ]
  },
  {
   "cell_type": "code",
   "execution_count": 28,
   "id": "6f84acb2",
   "metadata": {},
   "outputs": [
    {
     "data": {
      "text/plain": [
       "Capital Federal                 27826\n",
       "Bs.As. G.B.A. Zona Norte        22899\n",
       "Bs.As. G.B.A. Zona Sur          11718\n",
       "Buenos Aires Costa Atlántica     8702\n",
       "Bs.As. G.B.A. Zona Oeste         7117\n",
       "Córdoba                          4340\n",
       "Santa Fe                         1615\n",
       "Buenos Aires Interior            1586\n",
       "Corrientes                        466\n",
       "Mendoza                           318\n",
       "Río Negro                         312\n",
       "Chubut                            157\n",
       "Neuquén                           156\n",
       "San Luis                          154\n",
       "Entre Ríos                         55\n",
       "Misiones                           54\n",
       "Salta                              27\n",
       "Catamarca                          23\n",
       "Tucumán                            18\n",
       "Chaco                              11\n",
       "La Pampa                           10\n",
       "Tierra Del Fuego                    9\n",
       "Santa Cruz                          7\n",
       "Jujuy                               3\n",
       "Santiago Del Estero                 2\n",
       "San Juan                            1\n",
       "La Rioja                            1\n",
       "Name: state_name, dtype: int64"
      ]
     },
     "execution_count": 28,
     "metadata": {},
     "output_type": "execute_result"
    }
   ],
   "source": [
    "data['state_name'].value_counts()"
   ]
  },
  {
   "cell_type": "code",
   "execution_count": 31,
   "id": "104924f9",
   "metadata": {},
   "outputs": [
    {
     "data": {
      "text/html": [
       "<div>\n",
       "<style scoped>\n",
       "    .dataframe tbody tr th:only-of-type {\n",
       "        vertical-align: middle;\n",
       "    }\n",
       "\n",
       "    .dataframe tbody tr th {\n",
       "        vertical-align: top;\n",
       "    }\n",
       "\n",
       "    .dataframe thead th {\n",
       "        text-align: right;\n",
       "    }\n",
       "</style>\n",
       "<table border=\"1\" class=\"dataframe\">\n",
       "  <thead>\n",
       "    <tr style=\"text-align: right;\">\n",
       "      <th></th>\n",
       "      <th>price</th>\n",
       "      <th>surface_total_in_m2</th>\n",
       "    </tr>\n",
       "  </thead>\n",
       "  <tbody>\n",
       "    <tr>\n",
       "      <th>price</th>\n",
       "      <td>1.000000</td>\n",
       "      <td>0.314758</td>\n",
       "    </tr>\n",
       "    <tr>\n",
       "      <th>surface_total_in_m2</th>\n",
       "      <td>0.314758</td>\n",
       "      <td>1.000000</td>\n",
       "    </tr>\n",
       "  </tbody>\n",
       "</table>\n",
       "</div>"
      ],
      "text/plain": [
       "                        price  surface_total_in_m2\n",
       "price                1.000000             0.314758\n",
       "surface_total_in_m2  0.314758             1.000000"
      ]
     },
     "execution_count": 31,
     "metadata": {},
     "output_type": "execute_result"
    }
   ],
   "source": [
    "cordoba =data[data['state_name'] == 'Córdoba']\n",
    "cordoba[['price', 'surface_total_in_m2']].corr()"
   ]
  },
  {
   "cell_type": "code",
   "execution_count": 33,
   "id": "a4f46da2",
   "metadata": {},
   "outputs": [
    {
     "data": {
      "text/html": [
       "<div>\n",
       "<style scoped>\n",
       "    .dataframe tbody tr th:only-of-type {\n",
       "        vertical-align: middle;\n",
       "    }\n",
       "\n",
       "    .dataframe tbody tr th {\n",
       "        vertical-align: top;\n",
       "    }\n",
       "\n",
       "    .dataframe thead th {\n",
       "        text-align: right;\n",
       "    }\n",
       "</style>\n",
       "<table border=\"1\" class=\"dataframe\">\n",
       "  <thead>\n",
       "    <tr style=\"text-align: right;\">\n",
       "      <th></th>\n",
       "      <th>price</th>\n",
       "      <th>surface_total_in_m2</th>\n",
       "    </tr>\n",
       "  </thead>\n",
       "  <tbody>\n",
       "    <tr>\n",
       "      <th>price</th>\n",
       "      <td>1.0000</td>\n",
       "      <td>0.4655</td>\n",
       "    </tr>\n",
       "    <tr>\n",
       "      <th>surface_total_in_m2</th>\n",
       "      <td>0.4655</td>\n",
       "      <td>1.0000</td>\n",
       "    </tr>\n",
       "  </tbody>\n",
       "</table>\n",
       "</div>"
      ],
      "text/plain": [
       "                      price  surface_total_in_m2\n",
       "price                1.0000               0.4655\n",
       "surface_total_in_m2  0.4655               1.0000"
      ]
     },
     "execution_count": 33,
     "metadata": {},
     "output_type": "execute_result"
    }
   ],
   "source": [
    "work =data[data['state_name'] == 'Bs.As. G.B.A. Zona Sur']\n",
    "work[['price', 'surface_total_in_m2']].corr()"
   ]
  }
 ],
 "metadata": {
  "kernelspec": {
   "display_name": "Python 3 (ipykernel)",
   "language": "python",
   "name": "python3"
  },
  "language_info": {
   "codemirror_mode": {
    "name": "ipython",
    "version": 3
   },
   "file_extension": ".py",
   "mimetype": "text/x-python",
   "name": "python",
   "nbconvert_exporter": "python",
   "pygments_lexer": "ipython3",
   "version": "3.8.12"
  }
 },
 "nbformat": 4,
 "nbformat_minor": 5
}
