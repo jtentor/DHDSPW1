{
 "cells": [
  {
   "cell_type": "markdown",
   "id": "c94c9578",
   "metadata": {},
   "source": [
    "Hace falta algo que indique con qué entorno vamos a trabajar"
   ]
  },
  {
   "cell_type": "markdown",
   "id": "8a6266ac",
   "metadata": {},
   "source": [
    "Importar lo que hace falta"
   ]
  },
  {
   "cell_type": "code",
   "execution_count": 1,
   "id": "08293c51",
   "metadata": {},
   "outputs": [],
   "source": [
    "import pandas as pd\n",
    "import numpy as np\n",
    "import seaborn as sns\n",
    "import re"
   ]
  },
  {
   "cell_type": "code",
   "execution_count": 2,
   "id": "c1690c04",
   "metadata": {},
   "outputs": [],
   "source": [
    "data_url = \"../Data/properatti.csv\""
   ]
  },
  {
   "cell_type": "code",
   "execution_count": 3,
   "id": "4c85beb4",
   "metadata": {},
   "outputs": [],
   "source": [
    "data = pd.read_csv(data_url, encoding=\"utf-8\")"
   ]
  },
  {
   "cell_type": "code",
   "execution_count": 4,
   "id": "8a4a28b1",
   "metadata": {},
   "outputs": [],
   "source": [
    "#limpiamos los que tienen NaN en el precio\n",
    "data = data.dropna(axis=0, how='any', subset=['price_aprox_usd'])"
   ]
  },
  {
   "cell_type": "code",
   "execution_count": 5,
   "id": "ba90b66b",
   "metadata": {},
   "outputs": [],
   "source": [
    "def regex_to_values(col, reg) :\n",
    "    u\"\"\"Returns a serie with the result of apply the regular expresion to the column\n",
    "    the serie have a float value only when regular expression search() method found a match\n",
    "    \n",
    "    col : column where to apply regular expresion\n",
    "    reg : regular expresion compiled\n",
    "    \"\"\"\n",
    "    \n",
    "    serie = col.apply(lambda x : x if x is np.NaN else reg.search(x))\n",
    "    serie = serie.apply(lambda x : np.NaN if x is np.NaN or x is None else float(x.group(1)))\n",
    "\n",
    "    return serie"
   ]
  },
  {
   "cell_type": "code",
   "execution_count": 12,
   "id": "2675545d",
   "metadata": {},
   "outputs": [
    {
     "name": "stdout",
     "output_type": "stream",
     "text": [
      "bathrooms no nulos 8074\n"
     ]
    },
    {
     "data": {
      "text/html": [
       "<div>\n",
       "<style scoped>\n",
       "    .dataframe tbody tr th:only-of-type {\n",
       "        vertical-align: middle;\n",
       "    }\n",
       "\n",
       "    .dataframe tbody tr th {\n",
       "        vertical-align: top;\n",
       "    }\n",
       "\n",
       "    .dataframe thead th {\n",
       "        text-align: right;\n",
       "    }\n",
       "</style>\n",
       "<table border=\"1\" class=\"dataframe\">\n",
       "  <thead>\n",
       "    <tr style=\"text-align: right;\">\n",
       "      <th></th>\n",
       "      <th>bathrooms</th>\n",
       "      <th>description</th>\n",
       "    </tr>\n",
       "  </thead>\n",
       "  <tbody>\n",
       "    <tr>\n",
       "      <th>4</th>\n",
       "      <td>1.0</td>\n",
       "      <td>DEPARTAMENTO CON FANTÁSTICA ILUMINACIÓN NATURAL,  AL CONTRAFRENTE, EDIFICIO DE POCAS UNIDADES Y MUY BIEN CONSERVADO. EN ESTADO ORIGINAL.-POSEE: 1 DORMITORIOS,  1 BAÑO COMPLETO, LIVING COMEDOR Y COCINA SEPARADA.-EN ESTADO ORIGINAL.- Aviso publicado por Pixel Inmobiliario (Servicio de Páginas Web para Inmobiliarias).</td>\n",
       "    </tr>\n",
       "    <tr>\n",
       "      <th>16</th>\n",
       "      <td>1.0</td>\n",
       "      <td>Ventas Mataderos al frente Duplex 4 amb.- Planta Baja: Entrada de auto-Living Comedor- toilete, Cocina Comedor-diario- parque (4m x 10m) con parrilla. Planta Alta: 3 dormitorios-placard- 1 baño completo- Dormitorio principal en suite y vestidor. Todo luz y sol en excelente estado a metros de Av. J. B. Alberdi y Larrazabal .\"Listo para vivir ya!!!Las medidas son aproximadas y al sólo efecto orientativo. Las medidas reales surgirán del título de propiedad.</td>\n",
       "    </tr>\n",
       "    <tr>\n",
       "      <th>22</th>\n",
       "      <td>2.0</td>\n",
       "      <td>Edificada en 2 plantas. PB. amplio living con salida al parque, cocina con salida a la galería, todos los ambientes de pb con pisos de porcelanato.  Toilet de recepción,  lavadero,  galería con parrilla. Amplio jardín de 1000 m2.PA: 3 dormitorios con pisos  de porcelanato, uno de los cuales es en suite con vestidor, 2 baños completos. Hermosa vista abierta desde toda la planta alta. Muy luminosa! hermoso hogar a leña en el living. Cálida y acogedora.calefaccion por radeadores.la casa se  encuentra en construcción, entrega  terminada y pintada.  No incluye mobiliario de cocinaEl barrio cuenta con una completa infraestructura de servicios y propuestas deportivas y la posibilidad de vivir en un entorno seguro y rodeado de espacios verdes.Las 365 hectáreas que lo conforman están desarrolladas en 906 lotes de 1350m2 en promedio, lo que ofrece un privilegiado entorno natural y un particula...</td>\n",
       "    </tr>\n",
       "    <tr>\n",
       "      <th>23</th>\n",
       "      <td>1.0</td>\n",
       "      <td>Hermoso departamento, ubicado en la calle Almirante Brown, a metros de colectora Panamericana  km 52, en la entrada a Pilar. Ademas de tener una  excelente ubicacion, este departamento esta ubicado en planta baja y tiene un lindo jardin, posee living comedor y cocina  integrada, 1 dormitorio, 1 baño , cuenta con todos los servicios . Bajas Expensas.Ademas el complejo posee una hermosa pileta, y tambien cuenta con una cochera. En cumplimiento de la Ley 2340 CUCICBA, Ley 10.973 de la Prov.Bs.As., Ley Nacional 25.028, Ley 22.802 de Lealtad Comercial, Ley 24.240 de Defensa al Consumidor, las normas del Código Civil y Comercial de la Nación y Constitucionales, los agentes NO ejercen el corretaje inmobiliario. Todas las operaciones inmobiliarias son objeto de intermediación y conclusión por parte de los martilleros y corredores colegiados, cuyos datos se exhiben debajo del nombre de la inm...</td>\n",
       "    </tr>\n",
       "    <tr>\n",
       "      <th>30</th>\n",
       "      <td>2.0</td>\n",
       "      <td>Muy linda casa , toda en planta baja, doble pared de 30, ladrillo a la vista por dentro y fuera, pisos de ceramica blancos, techos de madera,esta en perfecto estado.Posee 3 dormitorios, 2 baños, cocina, living comedor, galeria techada con parrilla y ventilador de techo, cochera. Calefactores de gas natural en todos los cuartos, aire frio en toda la casa, pileta de 4m x 10m ,muy lindo parque arbolado.Planos aprobados.En cumplimiento de la Ley 2340 CUCICBA, Ley 10.973 de la Prov.Bs.As., Ley Nacional 25.028, Ley 22.802 de Lealtad Comercial, Ley 24.240 de Defensa al Consumidor, las normas del Código Civil y Comercial de la Nación y Constitucionales, los agentes NO ejercen el corretaje inmobiliario. Todas las operaciones inmobiliarias son objeto de intermediación y conclusión por parte de los martilleros y corredores colegiados, cuyos datos se exhiben debajo del nombre de la inmobiliaria.</td>\n",
       "    </tr>\n",
       "    <tr>\n",
       "      <th>...</th>\n",
       "      <td>...</td>\n",
       "      <td>...</td>\n",
       "    </tr>\n",
       "    <tr>\n",
       "      <th>120981</th>\n",
       "      <td>1.0</td>\n",
       "      <td>Muy linda casa en lote propio, totalmente refaccionada a nuevo.Living comedor, cocina comedor diario.  Gran jardín.2 dormitorios, 1 baño completo. CARLOS A. BEZRUK Mat. 3275 CMSICUCICBA  Mat. 5952 Carlos Bezruk InmueblesAv. Fleming 2800 Martinez y rotativas</td>\n",
       "    </tr>\n",
       "    <tr>\n",
       "      <th>121091</th>\n",
       "      <td>2.0</td>\n",
       "      <td>Duplex, 3 dormitorios (uno de ellos con placard), 2 baños (uno en cada planta)Galeria con parrillero. Cochera para un vehiculo.APTO CREDITO</td>\n",
       "    </tr>\n",
       "    <tr>\n",
       "      <th>121106</th>\n",
       "      <td>2.0</td>\n",
       "      <td>Semipiso al Frente de 3 ambientes, 2 baños, cochera!En impecable estado!Excelente ubicación.Living con pisos de porcelanato, cocina independiente con lavadero independiente.2 baños completos!Balcón aterrazado con parrilla!Coordine su visita!</td>\n",
       "    </tr>\n",
       "    <tr>\n",
       "      <th>121122</th>\n",
       "      <td>2.0</td>\n",
       "      <td>2 DormitoriosBalcones en ambas plantasAsadorEstar-comedorCocina2 baños en PASuperficie: 118.54Sin cochera Us$145.000Aviso: Sujeto a disponibilidad \"La información contenida en este mensaje es meramente referencial. Los datos incorporados en el mismo no constituyen oferta alguna,la cual se encuentra sujeta a la confirmacion del propietario, por lo que sus términos no resultarán vinculantes debiendo los interesados concurrir a las direcciones especificadas en el presente a los efectos de procurarse toda información que pudiera resultar de relevancia a los efectos de la adquisición de una unidad.\"Consultenos!        Aviso: Sujeto a disponibilidad \"La información contenida en este mensaje es meramente referencial. Los datos incorporados en el mismo no constituyen oferta alguna,la cual se encuentra sujeta a la confirmacion del propietario, por lo que sus términos no resultarán vinculantes...</td>\n",
       "    </tr>\n",
       "    <tr>\n",
       "      <th>121131</th>\n",
       "      <td>2.0</td>\n",
       "      <td>Excelente semipiso al frente de 4 ambientes. Edificio de estilo Racionalista.Lleno de luz y sol. 2 Dormitorios amplios y escritorio (posibilidad 3er dormitorio) con pisos de pinotea, principal en suite. Living comedor con pisos de roble. 2 baños completos y toillette de recepcion. Cocina office con lavadero incorporado.Aire acondicionado frio/calor en todos los ambientes.Totalmente reciclado a nuevo.SUPER LUMINOSO!!CUCICBA Mat. 1544Cel. Sucursal Recoleta 1536902763</td>\n",
       "    </tr>\n",
       "  </tbody>\n",
       "</table>\n",
       "<p>8074 rows × 2 columns</p>\n",
       "</div>"
      ],
      "text/plain": [
       "        bathrooms  \\\n",
       "4             1.0   \n",
       "16            1.0   \n",
       "22            2.0   \n",
       "23            1.0   \n",
       "30            2.0   \n",
       "...           ...   \n",
       "120981        1.0   \n",
       "121091        2.0   \n",
       "121106        2.0   \n",
       "121122        2.0   \n",
       "121131        2.0   \n",
       "\n",
       "                                                                                                                                                                                                                                                                                                                                                                                                                                                                                                                                                                                                                                                                                                                                                                                                                                                                                                                                description  \n",
       "4                                                                                                                                                                                                                                                                                                                                                                                                                                                                                                                                                                                                              DEPARTAMENTO CON FANTÁSTICA ILUMINACIÓN NATURAL,  AL CONTRAFRENTE, EDIFICIO DE POCAS UNIDADES Y MUY BIEN CONSERVADO. EN ESTADO ORIGINAL.-POSEE: 1 DORMITORIOS,  1 BAÑO COMPLETO, LIVING COMEDOR Y COCINA SEPARADA.-EN ESTADO ORIGINAL.- Aviso publicado por Pixel Inmobiliario (Servicio de Páginas Web para Inmobiliarias).  \n",
       "16                                                                                                                                                                                                                                                                                                                                                                                                                                                              Ventas Mataderos al frente Duplex 4 amb.- Planta Baja: Entrada de auto-Living Comedor- toilete, Cocina Comedor-diario- parque (4m x 10m) con parrilla. Planta Alta: 3 dormitorios-placard- 1 baño completo- Dormitorio principal en suite y vestidor. Todo luz y sol en excelente estado a metros de Av. J. B. Alberdi y Larrazabal .\"Listo para vivir ya!!!Las medidas son aproximadas y al sólo efecto orientativo. Las medidas reales surgirán del título de propiedad.   \n",
       "22      Edificada en 2 plantas. PB. amplio living con salida al parque, cocina con salida a la galería, todos los ambientes de pb con pisos de porcelanato.  Toilet de recepción,  lavadero,  galería con parrilla. Amplio jardín de 1000 m2.PA: 3 dormitorios con pisos  de porcelanato, uno de los cuales es en suite con vestidor, 2 baños completos. Hermosa vista abierta desde toda la planta alta. Muy luminosa! hermoso hogar a leña en el living. Cálida y acogedora.calefaccion por radeadores.la casa se  encuentra en construcción, entrega  terminada y pintada.  No incluye mobiliario de cocinaEl barrio cuenta con una completa infraestructura de servicios y propuestas deportivas y la posibilidad de vivir en un entorno seguro y rodeado de espacios verdes.Las 365 hectáreas que lo conforman están desarrolladas en 906 lotes de 1350m2 en promedio, lo que ofrece un privilegiado entorno natural y un particula...  \n",
       "23      Hermoso departamento, ubicado en la calle Almirante Brown, a metros de colectora Panamericana  km 52, en la entrada a Pilar. Ademas de tener una  excelente ubicacion, este departamento esta ubicado en planta baja y tiene un lindo jardin, posee living comedor y cocina  integrada, 1 dormitorio, 1 baño , cuenta con todos los servicios . Bajas Expensas.Ademas el complejo posee una hermosa pileta, y tambien cuenta con una cochera. En cumplimiento de la Ley 2340 CUCICBA, Ley 10.973 de la Prov.Bs.As., Ley Nacional 25.028, Ley 22.802 de Lealtad Comercial, Ley 24.240 de Defensa al Consumidor, las normas del Código Civil y Comercial de la Nación y Constitucionales, los agentes NO ejercen el corretaje inmobiliario. Todas las operaciones inmobiliarias son objeto de intermediación y conclusión por parte de los martilleros y corredores colegiados, cuyos datos se exhiben debajo del nombre de la inm...  \n",
       "30         Muy linda casa , toda en planta baja, doble pared de 30, ladrillo a la vista por dentro y fuera, pisos de ceramica blancos, techos de madera,esta en perfecto estado.Posee 3 dormitorios, 2 baños, cocina, living comedor, galeria techada con parrilla y ventilador de techo, cochera. Calefactores de gas natural en todos los cuartos, aire frio en toda la casa, pileta de 4m x 10m ,muy lindo parque arbolado.Planos aprobados.En cumplimiento de la Ley 2340 CUCICBA, Ley 10.973 de la Prov.Bs.As., Ley Nacional 25.028, Ley 22.802 de Lealtad Comercial, Ley 24.240 de Defensa al Consumidor, las normas del Código Civil y Comercial de la Nación y Constitucionales, los agentes NO ejercen el corretaje inmobiliario. Todas las operaciones inmobiliarias son objeto de intermediación y conclusión por parte de los martilleros y corredores colegiados, cuyos datos se exhiben debajo del nombre de la inmobiliaria.  \n",
       "...                                                                                                                                                                                                                                                                                                                                                                                                                                                                                                                                                                                                                                                                                                                                                                                                                                                                                                                                     ...  \n",
       "120981                                                                                                                                                                                                                                                                                                                                                                                                                                                                                                                                                                                                                                                                    Muy linda casa en lote propio, totalmente refaccionada a nuevo.Living comedor, cocina comedor diario.  Gran jardín.2 dormitorios, 1 baño completo. CARLOS A. BEZRUK Mat. 3275 CMSICUCICBA  Mat. 5952 Carlos Bezruk InmueblesAv. Fleming 2800 Martinez y rotativas  \n",
       "121091                                                                                                                                                                                                                                                                                                                                                                                                                                                                                                                                                                                                                                                                                                                                                                                          Duplex, 3 dormitorios (uno de ellos con placard), 2 baños (uno en cada planta)Galeria con parrillero. Cochera para un vehiculo.APTO CREDITO  \n",
       "121106                                                                                                                                                                                                                                                                                                                                                                                                                                                                                                                                                                                                                                                                                    Semipiso al Frente de 3 ambientes, 2 baños, cochera!En impecable estado!Excelente ubicación.Living con pisos de porcelanato, cocina independiente con lavadero independiente.2 baños completos!Balcón aterrazado con parrilla!Coordine su visita!  \n",
       "121122  2 DormitoriosBalcones en ambas plantasAsadorEstar-comedorCocina2 baños en PASuperficie: 118.54Sin cochera Us$145.000Aviso: Sujeto a disponibilidad \"La información contenida en este mensaje es meramente referencial. Los datos incorporados en el mismo no constituyen oferta alguna,la cual se encuentra sujeta a la confirmacion del propietario, por lo que sus términos no resultarán vinculantes debiendo los interesados concurrir a las direcciones especificadas en el presente a los efectos de procurarse toda información que pudiera resultar de relevancia a los efectos de la adquisición de una unidad.\"Consultenos!        Aviso: Sujeto a disponibilidad \"La información contenida en este mensaje es meramente referencial. Los datos incorporados en el mismo no constituyen oferta alguna,la cual se encuentra sujeta a la confirmacion del propietario, por lo que sus términos no resultarán vinculantes...  \n",
       "121131                                                                                                                                                                                                                                                                                                                                                                                                                                                Excelente semipiso al frente de 4 ambientes. Edificio de estilo Racionalista.Lleno de luz y sol. 2 Dormitorios amplios y escritorio (posibilidad 3er dormitorio) con pisos de pinotea, principal en suite. Living comedor con pisos de roble. 2 baños completos y toillette de recepcion. Cocina office con lavadero incorporado.Aire acondicionado frio/calor en todos los ambientes.Totalmente reciclado a nuevo.SUPER LUMINOSO!!CUCICBA Mat. 1544Cel. Sucursal Recoleta 1536902763  \n",
       "\n",
       "[8074 rows x 2 columns]"
      ]
     },
     "execution_count": 12,
     "metadata": {},
     "output_type": "execute_result"
    }
   ],
   "source": [
    "_pattern = '([1-2][0-9]?)(?= baño)'\n",
    "_express = re.compile(_pattern, flags = re.IGNORECASE)\n",
    "\n",
    "work = regex_to_values(data['description'], _express)\n",
    "\n",
    "# print(work.value_counts())\n",
    "\n",
    "data['bathrooms'] = work\n",
    "\n",
    "print( \"bathrooms no nulos\", data['bathrooms'].notnull().sum() )\n",
    "\n",
    "pd.options.display.max_colwidth = 900 # que viva google ...\n",
    "data[data['bathrooms'].notnull()][['bathrooms', 'description']]"
   ]
  },
  {
   "cell_type": "code",
   "execution_count": 7,
   "id": "b89980e8",
   "metadata": {},
   "outputs": [],
   "source": [
    "#data['ambientes_final'] = data['rooms']\n",
    "#mask = data['ambientes_final'].isnull() & data['ambientes'].notnull()\n",
    "#data.loc[mask, 'ambientes_final'] = data.loc[mask, 'ambientes']\n",
    "\n",
    "#data[['price_aprox_usd', 'surface_covered_in_m2', 'rooms', 'ambientes', 'ambientes_final']].corr()\n"
   ]
  }
 ],
 "metadata": {
  "kernelspec": {
   "display_name": "Python 3 (ipykernel)",
   "language": "python",
   "name": "python3"
  },
  "language_info": {
   "codemirror_mode": {
    "name": "ipython",
    "version": 3
   },
   "file_extension": ".py",
   "mimetype": "text/x-python",
   "name": "python",
   "nbconvert_exporter": "python",
   "pygments_lexer": "ipython3",
   "version": "3.9.7"
  }
 },
 "nbformat": 4,
 "nbformat_minor": 5
}
