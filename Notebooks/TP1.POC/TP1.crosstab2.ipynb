{
 "cells": [
  {
   "cell_type": "markdown",
   "id": "3126c08b",
   "metadata": {},
   "source": [
    "Hace falta algo que indique con qué entorno vamos a trabajar"
   ]
  },
  {
   "cell_type": "markdown",
   "id": "f46f559f",
   "metadata": {},
   "source": [
    "Importar lo que hace falta"
   ]
  },
  {
   "cell_type": "code",
   "execution_count": 1,
   "id": "2a37077d",
   "metadata": {},
   "outputs": [],
   "source": [
    "import pandas as pd\n",
    "import numpy as np\n",
    "import seaborn as sns\n",
    "import re"
   ]
  },
  {
   "cell_type": "code",
   "execution_count": 2,
   "id": "16a6b9c6",
   "metadata": {},
   "outputs": [],
   "source": [
    "data_url = \"../Data/properatti.csv\""
   ]
  },
  {
   "cell_type": "code",
   "execution_count": 3,
   "id": "6083021b",
   "metadata": {},
   "outputs": [],
   "source": [
    "data = pd.read_csv(data_url, encoding=\"utf-8\")"
   ]
  },
  {
   "cell_type": "code",
   "execution_count": 4,
   "id": "48101f89",
   "metadata": {},
   "outputs": [],
   "source": [
    "#limpiamos los que tienen NaN en el precio\n",
    "data = data.dropna(axis=0, how='any', subset=['price_aprox_usd'])"
   ]
  },
  {
   "cell_type": "code",
   "execution_count": 5,
   "id": "319cbfbc",
   "metadata": {},
   "outputs": [],
   "source": [
    "#funcion para borrar outliers.\n",
    "def borrar_outliers(data, columnas):\n",
    "    \"\"\"Solo recibo columnas con valores numericos. \n",
    "    Las columns van en forma de tupla\"\"\"\n",
    "    cols_limpiar = columnas\n",
    "    mask=np.ones(shape=(data.shape[0]), dtype=bool)\n",
    "\n",
    "    for i in cols_limpiar:\n",
    "        \n",
    "        #calculamos cuartiles, y valores de corte\n",
    "        Q1=data[i].quantile(0.25)\n",
    "        Q3=data[i].quantile(0.75)\n",
    "        RSI=Q3-Q1\n",
    "        max_value=Q3+1.5*RSI\n",
    "        min_value=Q1-1.5*RSI\n",
    "        \n",
    "        #ajusto el min value a mano... no puede ser negativo.\n",
    "        min_value=max(min_value, data[i].quantile(0.05))\n",
    "        \n",
    "        #filtramos por max y min\n",
    "        mask=np.logical_and(mask, np.logical_and(data[i]>=min_value, data[i]<=max_value))\n",
    "    return data[mask]"
   ]
  },
  {
   "cell_type": "code",
   "execution_count": 6,
   "id": "3ad620e5",
   "metadata": {},
   "outputs": [],
   "source": [
    "# por ahora sacamos los outliers de precio y metros cubiertos de todo el dataset, habría que hacerlo por zona y tipo\n",
    "\n",
    "data = borrar_outliers(data, ('price_aprox_usd', 'surface_covered_in_m2'))"
   ]
  },
  {
   "cell_type": "markdown",
   "id": "684ba4f3",
   "metadata": {},
   "source": [
    "#### Categorizar precio"
   ]
  },
  {
   "cell_type": "code",
   "execution_count": 7,
   "id": "93e64a59",
   "metadata": {},
   "outputs": [],
   "source": [
    "price_desc = data['price_aprox_usd'].describe()"
   ]
  },
  {
   "cell_type": "code",
   "execution_count": 8,
   "id": "f3d13c29",
   "metadata": {},
   "outputs": [
    {
     "data": {
      "text/plain": [
       "count     71285.000000\n",
       "mean     178015.322455\n",
       "std      105479.646428\n",
       "min       53279.490000\n",
       "25%       95237.990000\n",
       "50%      145000.000000\n",
       "75%      235000.000000\n",
       "max      526957.000000\n",
       "Name: price_aprox_usd, dtype: float64"
      ]
     },
     "execution_count": 8,
     "metadata": {},
     "output_type": "execute_result"
    }
   ],
   "source": [
    "price_desc"
   ]
  },
  {
   "cell_type": "code",
   "execution_count": 9,
   "id": "25cf960e",
   "metadata": {},
   "outputs": [],
   "source": [
    "price_bins = round( (price_desc['max'] - price_desc['min']) / 50000 ) "
   ]
  },
  {
   "cell_type": "code",
   "execution_count": 10,
   "id": "4444acce",
   "metadata": {},
   "outputs": [],
   "source": [
    "data['price_cut'] = pd.cut(data['price_aprox_usd'], bins = price_bins, right = False, labels = None, retbins = False, precision = 0)"
   ]
  },
  {
   "cell_type": "markdown",
   "id": "f551c857",
   "metadata": {},
   "source": [
    "#### Categorizar superficie cubierta"
   ]
  },
  {
   "cell_type": "code",
   "execution_count": 11,
   "id": "67ed1b2a",
   "metadata": {},
   "outputs": [],
   "source": [
    "surface_desc = data['surface_covered_in_m2'].describe()"
   ]
  },
  {
   "cell_type": "code",
   "execution_count": 12,
   "id": "2138da8f",
   "metadata": {},
   "outputs": [
    {
     "data": {
      "text/plain": [
       "count    71285.000000\n",
       "mean        95.697889\n",
       "std         64.493952\n",
       "min         29.000000\n",
       "25%         47.000000\n",
       "50%         71.000000\n",
       "75%        127.000000\n",
       "max        307.000000\n",
       "Name: surface_covered_in_m2, dtype: float64"
      ]
     },
     "execution_count": 12,
     "metadata": {},
     "output_type": "execute_result"
    }
   ],
   "source": [
    "surface_desc"
   ]
  },
  {
   "cell_type": "code",
   "execution_count": 13,
   "id": "27ae7a9d",
   "metadata": {},
   "outputs": [],
   "source": [
    "surface_bins = round( (surface_desc['max'] - surface_desc['min']) / 50 ) "
   ]
  },
  {
   "cell_type": "code",
   "execution_count": 14,
   "id": "142726eb",
   "metadata": {},
   "outputs": [],
   "source": [
    "data['surface_cut'] = pd.cut(data['surface_covered_in_m2'], bins = surface_bins, right = False, retbins = False, precision = 0)"
   ]
  },
  {
   "cell_type": "markdown",
   "id": "5b3bb59c",
   "metadata": {},
   "source": [
    "## tabla de contingencia precio en dólares y superficie cubierta"
   ]
  },
  {
   "cell_type": "code",
   "execution_count": 15,
   "id": "426d93ac",
   "metadata": {},
   "outputs": [
    {
     "data": {
      "text/html": [
       "<div>\n",
       "<style scoped>\n",
       "    .dataframe tbody tr th:only-of-type {\n",
       "        vertical-align: middle;\n",
       "    }\n",
       "\n",
       "    .dataframe tbody tr th {\n",
       "        vertical-align: top;\n",
       "    }\n",
       "\n",
       "    .dataframe thead th {\n",
       "        text-align: right;\n",
       "    }\n",
       "</style>\n",
       "<table border=\"1\" class=\"dataframe\">\n",
       "  <thead>\n",
       "    <tr style=\"text-align: right;\">\n",
       "      <th>surface_cut</th>\n",
       "      <th>[29.0, 75.0)</th>\n",
       "      <th>[75.0, 122.0)</th>\n",
       "      <th>[122.0, 168.0)</th>\n",
       "      <th>[168.0, 214.0)</th>\n",
       "      <th>[214.0, 261.0)</th>\n",
       "      <th>[261.0, 307.0)</th>\n",
       "      <th>All</th>\n",
       "    </tr>\n",
       "    <tr>\n",
       "      <th>price_cut</th>\n",
       "      <th></th>\n",
       "      <th></th>\n",
       "      <th></th>\n",
       "      <th></th>\n",
       "      <th></th>\n",
       "      <th></th>\n",
       "      <th></th>\n",
       "    </tr>\n",
       "  </thead>\n",
       "  <tbody>\n",
       "    <tr>\n",
       "      <th>[53279.0, 105910.0)</th>\n",
       "      <td>0.487640</td>\n",
       "      <td>0.145705</td>\n",
       "      <td>0.071799</td>\n",
       "      <td>0.033408</td>\n",
       "      <td>0.014493</td>\n",
       "      <td>0.017484</td>\n",
       "      <td>0.302406</td>\n",
       "    </tr>\n",
       "    <tr>\n",
       "      <th>[105910.0, 158541.0)</th>\n",
       "      <td>0.317237</td>\n",
       "      <td>0.262228</td>\n",
       "      <td>0.181272</td>\n",
       "      <td>0.088342</td>\n",
       "      <td>0.041017</td>\n",
       "      <td>0.038353</td>\n",
       "      <td>0.252325</td>\n",
       "    </tr>\n",
       "    <tr>\n",
       "      <th>[158541.0, 211172.0)</th>\n",
       "      <td>0.119052</td>\n",
       "      <td>0.211383</td>\n",
       "      <td>0.234098</td>\n",
       "      <td>0.160840</td>\n",
       "      <td>0.098168</td>\n",
       "      <td>0.063170</td>\n",
       "      <td>0.150593</td>\n",
       "    </tr>\n",
       "    <tr>\n",
       "      <th>[211172.0, 263803.0)</th>\n",
       "      <td>0.045334</td>\n",
       "      <td>0.160055</td>\n",
       "      <td>0.180317</td>\n",
       "      <td>0.184949</td>\n",
       "      <td>0.135630</td>\n",
       "      <td>0.106599</td>\n",
       "      <td>0.100063</td>\n",
       "    </tr>\n",
       "    <tr>\n",
       "      <th>[263803.0, 316434.0)</th>\n",
       "      <td>0.013969</td>\n",
       "      <td>0.100034</td>\n",
       "      <td>0.127901</td>\n",
       "      <td>0.182711</td>\n",
       "      <td>0.154498</td>\n",
       "      <td>0.134236</td>\n",
       "      <td>0.067125</td>\n",
       "    </tr>\n",
       "    <tr>\n",
       "      <th>[316434.0, 369064.0)</th>\n",
       "      <td>0.008293</td>\n",
       "      <td>0.057399</td>\n",
       "      <td>0.080945</td>\n",
       "      <td>0.163423</td>\n",
       "      <td>0.188953</td>\n",
       "      <td>0.172025</td>\n",
       "      <td>0.051722</td>\n",
       "    </tr>\n",
       "    <tr>\n",
       "      <th>[369064.0, 421695.0)</th>\n",
       "      <td>0.004552</td>\n",
       "      <td>0.034012</td>\n",
       "      <td>0.057876</td>\n",
       "      <td>0.108145</td>\n",
       "      <td>0.166803</td>\n",
       "      <td>0.197406</td>\n",
       "      <td>0.037582</td>\n",
       "    </tr>\n",
       "    <tr>\n",
       "      <th>[421695.0, 474326.0)</th>\n",
       "      <td>0.002302</td>\n",
       "      <td>0.016212</td>\n",
       "      <td>0.036582</td>\n",
       "      <td>0.047701</td>\n",
       "      <td>0.124419</td>\n",
       "      <td>0.143824</td>\n",
       "      <td>0.022136</td>\n",
       "    </tr>\n",
       "    <tr>\n",
       "      <th>[474326.0, 527431.0)</th>\n",
       "      <td>0.001622</td>\n",
       "      <td>0.012970</td>\n",
       "      <td>0.029211</td>\n",
       "      <td>0.030480</td>\n",
       "      <td>0.076019</td>\n",
       "      <td>0.126904</td>\n",
       "      <td>0.016048</td>\n",
       "    </tr>\n",
       "  </tbody>\n",
       "</table>\n",
       "</div>"
      ],
      "text/plain": [
       "surface_cut           [29.0, 75.0)  [75.0, 122.0)  [122.0, 168.0)  \\\n",
       "price_cut                                                           \n",
       "[53279.0, 105910.0)       0.487640       0.145705        0.071799   \n",
       "[105910.0, 158541.0)      0.317237       0.262228        0.181272   \n",
       "[158541.0, 211172.0)      0.119052       0.211383        0.234098   \n",
       "[211172.0, 263803.0)      0.045334       0.160055        0.180317   \n",
       "[263803.0, 316434.0)      0.013969       0.100034        0.127901   \n",
       "[316434.0, 369064.0)      0.008293       0.057399        0.080945   \n",
       "[369064.0, 421695.0)      0.004552       0.034012        0.057876   \n",
       "[421695.0, 474326.0)      0.002302       0.016212        0.036582   \n",
       "[474326.0, 527431.0)      0.001622       0.012970        0.029211   \n",
       "\n",
       "surface_cut           [168.0, 214.0)  [214.0, 261.0)  [261.0, 307.0)       All  \n",
       "price_cut                                                                       \n",
       "[53279.0, 105910.0)         0.033408        0.014493        0.017484  0.302406  \n",
       "[105910.0, 158541.0)        0.088342        0.041017        0.038353  0.252325  \n",
       "[158541.0, 211172.0)        0.160840        0.098168        0.063170  0.150593  \n",
       "[211172.0, 263803.0)        0.184949        0.135630        0.106599  0.100063  \n",
       "[263803.0, 316434.0)        0.182711        0.154498        0.134236  0.067125  \n",
       "[316434.0, 369064.0)        0.163423        0.188953        0.172025  0.051722  \n",
       "[369064.0, 421695.0)        0.108145        0.166803        0.197406  0.037582  \n",
       "[421695.0, 474326.0)        0.047701        0.124419        0.143824  0.022136  \n",
       "[474326.0, 527431.0)        0.030480        0.076019        0.126904  0.016048  "
      ]
     },
     "execution_count": 15,
     "metadata": {},
     "output_type": "execute_result"
    }
   ],
   "source": [
    "pd.crosstab(index = data['price_cut'], columns = data['surface_cut'], margins = True, dropna = True, normalize = 'columns')"
   ]
  },
  {
   "cell_type": "markdown",
   "id": "3e55bbbc",
   "metadata": {},
   "source": [
    "## Existe una importate asociación entre el precio en dólares y la superficie cubierta"
   ]
  },
  {
   "cell_type": "markdown",
   "id": "ba2cacd7-007d-4972-bb96-807b27fdd0be",
   "metadata": {},
   "source": [
    "---"
   ]
  },
  {
   "cell_type": "code",
   "execution_count": 16,
   "id": "5d8037a1-b37c-4cbd-9c90-b5f314b8d1e0",
   "metadata": {
    "tags": []
   },
   "outputs": [],
   "source": [
    "def regex_to_tags(col, reg, match, not_match = np.NaN) :\n",
    "    u\"\"\"Returns a series with 'match' values result of apply the regular expresion to the column\n",
    "    the 'match' value will be when the regular expression search() method found a match\n",
    "    the 'not_match' value will be when the regular expression serach() method did not found a match\n",
    "    col : column where to apply regular expresion\n",
    "    reg : regular expresion compiled\n",
    "    \"\"\"\n",
    "    \n",
    "    serie = col.apply(lambda x : x if x is np.NaN else reg.search(x))\n",
    "    serie = serie.apply(lambda x : match if x is not None else not_match)\n",
    "   \n",
    "    return serie"
   ]
  },
  {
   "cell_type": "code",
   "execution_count": 17,
   "id": "0de29ae0-5ae6-42ea-bc6f-c7b2ac8f9f8a",
   "metadata": {},
   "outputs": [],
   "source": [
    "_pattern = 'cochera|garage|auto'\n",
    "_express = re.compile(_pattern, flags = re.IGNORECASE)\n",
    "\n",
    "data['cochera'] = regex_to_tags(data['description'], _express, 'si', 'no')\n"
   ]
  },
  {
   "cell_type": "code",
   "execution_count": 18,
   "id": "9d5cefd9-4679-49f1-839e-bfd3e1c82bc4",
   "metadata": {},
   "outputs": [],
   "source": [
    "_pattern = 'piscina|pileta'\n",
    "_express = re.compile(_pattern, flags = re.IGNORECASE)\n",
    "\n",
    "data['pileta'] = regex_to_tags(data['description'], _express, 'si', 'no')\n"
   ]
  },
  {
   "cell_type": "code",
   "execution_count": 19,
   "id": "4e480b30-8508-4e0b-be13-f7818b7a57d3",
   "metadata": {},
   "outputs": [],
   "source": [
    "_pattern = 'parrilla'\n",
    "_express = re.compile(_pattern, flags = re.IGNORECASE)\n",
    "\n",
    "data['parrilla'] = regex_to_tags(data['description'], _express, 'si', 'no')\n"
   ]
  },
  {
   "cell_type": "code",
   "execution_count": 20,
   "id": "f0fc7a2f-435e-4e97-9781-a758869e294c",
   "metadata": {},
   "outputs": [
    {
     "data": {
      "text/html": [
       "<div>\n",
       "<style scoped>\n",
       "    .dataframe tbody tr th:only-of-type {\n",
       "        vertical-align: middle;\n",
       "    }\n",
       "\n",
       "    .dataframe tbody tr th {\n",
       "        vertical-align: top;\n",
       "    }\n",
       "\n",
       "    .dataframe thead th {\n",
       "        text-align: right;\n",
       "    }\n",
       "</style>\n",
       "<table border=\"1\" class=\"dataframe\">\n",
       "  <thead>\n",
       "    <tr style=\"text-align: right;\">\n",
       "      <th>cochera</th>\n",
       "      <th>no</th>\n",
       "      <th>si</th>\n",
       "      <th>All</th>\n",
       "    </tr>\n",
       "    <tr>\n",
       "      <th>price_cut</th>\n",
       "      <th></th>\n",
       "      <th></th>\n",
       "      <th></th>\n",
       "    </tr>\n",
       "  </thead>\n",
       "  <tbody>\n",
       "    <tr>\n",
       "      <th>[53279.0, 105910.0)</th>\n",
       "      <td>0.371498</td>\n",
       "      <td>0.233106</td>\n",
       "      <td>0.302406</td>\n",
       "    </tr>\n",
       "    <tr>\n",
       "      <th>[105910.0, 158541.0)</th>\n",
       "      <td>0.251653</td>\n",
       "      <td>0.253000</td>\n",
       "      <td>0.252325</td>\n",
       "    </tr>\n",
       "    <tr>\n",
       "      <th>[158541.0, 211172.0)</th>\n",
       "      <td>0.133600</td>\n",
       "      <td>0.167636</td>\n",
       "      <td>0.150593</td>\n",
       "    </tr>\n",
       "    <tr>\n",
       "      <th>[211172.0, 263803.0)</th>\n",
       "      <td>0.082754</td>\n",
       "      <td>0.117424</td>\n",
       "      <td>0.100063</td>\n",
       "    </tr>\n",
       "    <tr>\n",
       "      <th>[263803.0, 316434.0)</th>\n",
       "      <td>0.052443</td>\n",
       "      <td>0.081851</td>\n",
       "      <td>0.067125</td>\n",
       "    </tr>\n",
       "    <tr>\n",
       "      <th>[316434.0, 369064.0)</th>\n",
       "      <td>0.045495</td>\n",
       "      <td>0.057967</td>\n",
       "      <td>0.051722</td>\n",
       "    </tr>\n",
       "    <tr>\n",
       "      <th>[369064.0, 421695.0)</th>\n",
       "      <td>0.031964</td>\n",
       "      <td>0.043216</td>\n",
       "      <td>0.037582</td>\n",
       "    </tr>\n",
       "    <tr>\n",
       "      <th>[421695.0, 474326.0)</th>\n",
       "      <td>0.018041</td>\n",
       "      <td>0.026244</td>\n",
       "      <td>0.022136</td>\n",
       "    </tr>\n",
       "    <tr>\n",
       "      <th>[474326.0, 527431.0)</th>\n",
       "      <td>0.012550</td>\n",
       "      <td>0.019557</td>\n",
       "      <td>0.016048</td>\n",
       "    </tr>\n",
       "  </tbody>\n",
       "</table>\n",
       "</div>"
      ],
      "text/plain": [
       "cochera                     no        si       All\n",
       "price_cut                                         \n",
       "[53279.0, 105910.0)   0.371498  0.233106  0.302406\n",
       "[105910.0, 158541.0)  0.251653  0.253000  0.252325\n",
       "[158541.0, 211172.0)  0.133600  0.167636  0.150593\n",
       "[211172.0, 263803.0)  0.082754  0.117424  0.100063\n",
       "[263803.0, 316434.0)  0.052443  0.081851  0.067125\n",
       "[316434.0, 369064.0)  0.045495  0.057967  0.051722\n",
       "[369064.0, 421695.0)  0.031964  0.043216  0.037582\n",
       "[421695.0, 474326.0)  0.018041  0.026244  0.022136\n",
       "[474326.0, 527431.0)  0.012550  0.019557  0.016048"
      ]
     },
     "execution_count": 20,
     "metadata": {},
     "output_type": "execute_result"
    }
   ],
   "source": [
    "pd.crosstab(index = data['price_cut'], columns = data['cochera'], margins = True, dropna = True, normalize = 'columns')"
   ]
  },
  {
   "cell_type": "markdown",
   "id": "d9bc5f34-0a2b-4e19-b0c6-345518eb03e6",
   "metadata": {},
   "source": [
    "### Existe asociación entre el precio en dólares y la oferta de cochera solo en el rango de precios 53000 a 105000 "
   ]
  },
  {
   "cell_type": "code",
   "execution_count": 21,
   "id": "a527e54b-3a6f-496c-a05e-1b6de012a825",
   "metadata": {},
   "outputs": [
    {
     "data": {
      "text/html": [
       "<div>\n",
       "<style scoped>\n",
       "    .dataframe tbody tr th:only-of-type {\n",
       "        vertical-align: middle;\n",
       "    }\n",
       "\n",
       "    .dataframe tbody tr th {\n",
       "        vertical-align: top;\n",
       "    }\n",
       "\n",
       "    .dataframe thead th {\n",
       "        text-align: right;\n",
       "    }\n",
       "</style>\n",
       "<table border=\"1\" class=\"dataframe\">\n",
       "  <thead>\n",
       "    <tr style=\"text-align: right;\">\n",
       "      <th>pileta</th>\n",
       "      <th>no</th>\n",
       "      <th>si</th>\n",
       "      <th>All</th>\n",
       "    </tr>\n",
       "    <tr>\n",
       "      <th>price_cut</th>\n",
       "      <th></th>\n",
       "      <th></th>\n",
       "      <th></th>\n",
       "    </tr>\n",
       "  </thead>\n",
       "  <tbody>\n",
       "    <tr>\n",
       "      <th>[53279.0, 105910.0)</th>\n",
       "      <td>0.354386</td>\n",
       "      <td>0.158084</td>\n",
       "      <td>0.302406</td>\n",
       "    </tr>\n",
       "    <tr>\n",
       "      <th>[105910.0, 158541.0)</th>\n",
       "      <td>0.267588</td>\n",
       "      <td>0.209949</td>\n",
       "      <td>0.252325</td>\n",
       "    </tr>\n",
       "    <tr>\n",
       "      <th>[158541.0, 211172.0)</th>\n",
       "      <td>0.147971</td>\n",
       "      <td>0.157872</td>\n",
       "      <td>0.150593</td>\n",
       "    </tr>\n",
       "    <tr>\n",
       "      <th>[211172.0, 263803.0)</th>\n",
       "      <td>0.086989</td>\n",
       "      <td>0.136364</td>\n",
       "      <td>0.100063</td>\n",
       "    </tr>\n",
       "    <tr>\n",
       "      <th>[263803.0, 316434.0)</th>\n",
       "      <td>0.055239</td>\n",
       "      <td>0.100127</td>\n",
       "      <td>0.067125</td>\n",
       "    </tr>\n",
       "    <tr>\n",
       "      <th>[316434.0, 369064.0)</th>\n",
       "      <td>0.038352</td>\n",
       "      <td>0.088843</td>\n",
       "      <td>0.051722</td>\n",
       "    </tr>\n",
       "    <tr>\n",
       "      <th>[369064.0, 421695.0)</th>\n",
       "      <td>0.025912</td>\n",
       "      <td>0.069983</td>\n",
       "      <td>0.037582</td>\n",
       "    </tr>\n",
       "    <tr>\n",
       "      <th>[421695.0, 474326.0)</th>\n",
       "      <td>0.014062</td>\n",
       "      <td>0.044554</td>\n",
       "      <td>0.022136</td>\n",
       "    </tr>\n",
       "    <tr>\n",
       "      <th>[474326.0, 527431.0)</th>\n",
       "      <td>0.009502</td>\n",
       "      <td>0.034223</td>\n",
       "      <td>0.016048</td>\n",
       "    </tr>\n",
       "  </tbody>\n",
       "</table>\n",
       "</div>"
      ],
      "text/plain": [
       "pileta                      no        si       All\n",
       "price_cut                                         \n",
       "[53279.0, 105910.0)   0.354386  0.158084  0.302406\n",
       "[105910.0, 158541.0)  0.267588  0.209949  0.252325\n",
       "[158541.0, 211172.0)  0.147971  0.157872  0.150593\n",
       "[211172.0, 263803.0)  0.086989  0.136364  0.100063\n",
       "[263803.0, 316434.0)  0.055239  0.100127  0.067125\n",
       "[316434.0, 369064.0)  0.038352  0.088843  0.051722\n",
       "[369064.0, 421695.0)  0.025912  0.069983  0.037582\n",
       "[421695.0, 474326.0)  0.014062  0.044554  0.022136\n",
       "[474326.0, 527431.0)  0.009502  0.034223  0.016048"
      ]
     },
     "execution_count": 21,
     "metadata": {},
     "output_type": "execute_result"
    }
   ],
   "source": [
    "pd.crosstab(index = data['price_cut'], columns = data['pileta'], margins = True, dropna = True, normalize = 'columns')"
   ]
  },
  {
   "cell_type": "markdown",
   "id": "de2e8be4-202a-45bc-9bb2-a2492b7b4440",
   "metadata": {},
   "source": [
    "### Existe asociación entre el precio en dólares y la oferta de piltea solo en el rango de precios 53000 a 105000\n",
    "#### En otros rangos se observa una diferencia de proporciones de hasta un 5% que podría considerarse"
   ]
  },
  {
   "cell_type": "code",
   "execution_count": 22,
   "id": "68c8f35e-7877-40f7-af36-78da35145ab1",
   "metadata": {},
   "outputs": [
    {
     "data": {
      "text/html": [
       "<div>\n",
       "<style scoped>\n",
       "    .dataframe tbody tr th:only-of-type {\n",
       "        vertical-align: middle;\n",
       "    }\n",
       "\n",
       "    .dataframe tbody tr th {\n",
       "        vertical-align: top;\n",
       "    }\n",
       "\n",
       "    .dataframe thead th {\n",
       "        text-align: right;\n",
       "    }\n",
       "</style>\n",
       "<table border=\"1\" class=\"dataframe\">\n",
       "  <thead>\n",
       "    <tr style=\"text-align: right;\">\n",
       "      <th>parrilla</th>\n",
       "      <th>no</th>\n",
       "      <th>si</th>\n",
       "      <th>All</th>\n",
       "    </tr>\n",
       "    <tr>\n",
       "      <th>price_cut</th>\n",
       "      <th></th>\n",
       "      <th></th>\n",
       "      <th></th>\n",
       "    </tr>\n",
       "  </thead>\n",
       "  <tbody>\n",
       "    <tr>\n",
       "      <th>[53279.0, 105910.0)</th>\n",
       "      <td>0.370051</td>\n",
       "      <td>0.154855</td>\n",
       "      <td>0.302406</td>\n",
       "    </tr>\n",
       "    <tr>\n",
       "      <th>[105910.0, 158541.0)</th>\n",
       "      <td>0.264562</td>\n",
       "      <td>0.225634</td>\n",
       "      <td>0.252325</td>\n",
       "    </tr>\n",
       "    <tr>\n",
       "      <th>[158541.0, 211172.0)</th>\n",
       "      <td>0.141191</td>\n",
       "      <td>0.171100</td>\n",
       "      <td>0.150593</td>\n",
       "    </tr>\n",
       "    <tr>\n",
       "      <th>[211172.0, 263803.0)</th>\n",
       "      <td>0.086257</td>\n",
       "      <td>0.130177</td>\n",
       "      <td>0.100063</td>\n",
       "    </tr>\n",
       "    <tr>\n",
       "      <th>[263803.0, 316434.0)</th>\n",
       "      <td>0.049819</td>\n",
       "      <td>0.104873</td>\n",
       "      <td>0.067125</td>\n",
       "    </tr>\n",
       "    <tr>\n",
       "      <th>[316434.0, 369064.0)</th>\n",
       "      <td>0.037359</td>\n",
       "      <td>0.083051</td>\n",
       "      <td>0.051722</td>\n",
       "    </tr>\n",
       "    <tr>\n",
       "      <th>[369064.0, 421695.0)</th>\n",
       "      <td>0.025390</td>\n",
       "      <td>0.064174</td>\n",
       "      <td>0.037582</td>\n",
       "    </tr>\n",
       "    <tr>\n",
       "      <th>[421695.0, 474326.0)</th>\n",
       "      <td>0.014547</td>\n",
       "      <td>0.038692</td>\n",
       "      <td>0.022136</td>\n",
       "    </tr>\n",
       "    <tr>\n",
       "      <th>[474326.0, 527431.0)</th>\n",
       "      <td>0.010823</td>\n",
       "      <td>0.027446</td>\n",
       "      <td>0.016048</td>\n",
       "    </tr>\n",
       "  </tbody>\n",
       "</table>\n",
       "</div>"
      ],
      "text/plain": [
       "parrilla                    no        si       All\n",
       "price_cut                                         \n",
       "[53279.0, 105910.0)   0.370051  0.154855  0.302406\n",
       "[105910.0, 158541.0)  0.264562  0.225634  0.252325\n",
       "[158541.0, 211172.0)  0.141191  0.171100  0.150593\n",
       "[211172.0, 263803.0)  0.086257  0.130177  0.100063\n",
       "[263803.0, 316434.0)  0.049819  0.104873  0.067125\n",
       "[316434.0, 369064.0)  0.037359  0.083051  0.051722\n",
       "[369064.0, 421695.0)  0.025390  0.064174  0.037582\n",
       "[421695.0, 474326.0)  0.014547  0.038692  0.022136\n",
       "[474326.0, 527431.0)  0.010823  0.027446  0.016048"
      ]
     },
     "execution_count": 22,
     "metadata": {},
     "output_type": "execute_result"
    }
   ],
   "source": [
    "pd.crosstab(index = data['price_cut'], columns = data['parrilla'], margins = True, dropna = True, normalize = 'columns')"
   ]
  },
  {
   "cell_type": "markdown",
   "id": "eace5f64-d4fd-4656-ae6e-49d6c846a9fe",
   "metadata": {},
   "source": [
    "### Existe asociación entre el precio en dólares y la oferta de parrilla solo en el rango de precios 53000 a 105000\n",
    "#### En otros rangos se observa una diferencia de proporciones de hasta un 5% que podría considerarse"
   ]
  },
  {
   "cell_type": "code",
   "execution_count": 23,
   "id": "8faca720-488c-4ce2-ae61-41c9e97af173",
   "metadata": {},
   "outputs": [
    {
     "data": {
      "text/plain": [
       "Unnamed: 0                       int64\n",
       "operation                       object\n",
       "property_type                   object\n",
       "place_name                      object\n",
       "place_with_parent_names         object\n",
       "country_name                    object\n",
       "state_name                      object\n",
       "geonames_id                    float64\n",
       "lat-lon                         object\n",
       "lat                            float64\n",
       "lon                            float64\n",
       "price                          float64\n",
       "currency                        object\n",
       "price_aprox_local_currency     float64\n",
       "price_aprox_usd                float64\n",
       "surface_total_in_m2            float64\n",
       "surface_covered_in_m2          float64\n",
       "price_usd_per_m2               float64\n",
       "price_per_m2                   float64\n",
       "floor                          float64\n",
       "rooms                          float64\n",
       "expenses                       float64\n",
       "properati_url                   object\n",
       "description                     object\n",
       "title                           object\n",
       "image_thumbnail                 object\n",
       "price_cut                     category\n",
       "surface_cut                   category\n",
       "cochera                         object\n",
       "pileta                          object\n",
       "parrilla                        object\n",
       "dtype: object"
      ]
     },
     "execution_count": 23,
     "metadata": {},
     "output_type": "execute_result"
    }
   ],
   "source": [
    "data.dtypes\n"
   ]
  },
  {
   "cell_type": "code",
   "execution_count": 24,
   "id": "b7e105ce-12e1-4f84-8ea0-9bea8ed3171e",
   "metadata": {},
   "outputs": [
    {
     "data": {
      "text/plain": [
       "<seaborn.axisgrid.FacetGrid at 0x1bc83b34280>"
      ]
     },
     "execution_count": 24,
     "metadata": {},
     "output_type": "execute_result"
    },
    {
     "data": {
      "image/png": "[encoded data removed]",
      "text/plain": [
       "<Figure size 408.375x360 with 1 Axes>"
      ]
     },
     "metadata": {
      "needs_background": "light"
     },
     "output_type": "display_data"
    }
   ],
   "source": [
    "sns.catplot(x='property_type', y = 'price_aprox_usd', hue='cochera', data = data, kind='box')"
   ]
  },
  {
   "cell_type": "code",
   "execution_count": 25,
   "id": "128eff91-2f61-48fc-bcbe-5021786f1eac",
   "metadata": {},
   "outputs": [
    {
     "data": {
      "text/plain": [
       "<seaborn.axisgrid.FacetGrid at 0x1bc83b343a0>"
      ]
     },
     "execution_count": 25,
     "metadata": {},
     "output_type": "execute_result"
    },
    {
     "data": {
      "image/png": "[encoded data removed]",
      "text/plain": [
       "<Figure size 408.375x360 with 1 Axes>"
      ]
     },
     "metadata": {
      "needs_background": "light"
     },
     "output_type": "display_data"
    }
   ],
   "source": [
    "sns.catplot(x='property_type', y = 'price_aprox_usd', hue='pileta', data = data, kind='box')"
   ]
  },
  {
   "cell_type": "code",
   "execution_count": 26,
   "id": "18d20925-524d-4d9d-840f-120566cb31a9",
   "metadata": {},
   "outputs": [
    {
     "data": {
      "text/plain": [
       "<seaborn.axisgrid.FacetGrid at 0x1bcfec55220>"
      ]
     },
     "execution_count": 26,
     "metadata": {},
     "output_type": "execute_result"
    },
    {
     "data": {
      "image/png": "[encoded data removed]",
      "text/plain": [
       "<Figure size 408.375x360 with 1 Axes>"
      ]
     },
     "metadata": {
      "needs_background": "light"
     },
     "output_type": "display_data"
    }
   ],
   "source": [
    "sns.catplot(x='property_type', y = 'price_aprox_usd', hue='parrilla', data = data, kind='box')"
   ]
  },
  {
   "cell_type": "code",
   "execution_count": 27,
   "id": "caa91790-077f-4ed1-8ed9-2e17ebb9692d",
   "metadata": {},
   "outputs": [
    {
     "data": {
      "text/plain": [
       "<seaborn.axisgrid.FacetGrid at 0x1bc8370ddf0>"
      ]
     },
     "execution_count": 27,
     "metadata": {},
     "output_type": "execute_result"
    },
    {
     "data": {
      "image/png": "[encoded data removed]",
      "text/plain": [
       "<Figure size 768.375x720 with 1 Axes>"
      ]
     },
     "metadata": {
      "needs_background": "light"
     },
     "output_type": "display_data"
    }
   ],
   "source": [
    "sns.catplot(x='surface_cut', y = 'price_aprox_usd', hue='cochera', data = data, kind='box', height = 10)"
   ]
  },
  {
   "cell_type": "code",
   "execution_count": 28,
   "id": "ed806b65-49ac-49ed-963f-5b50006e229e",
   "metadata": {},
   "outputs": [
    {
     "data": {
      "text/plain": [
       "<seaborn.axisgrid.FacetGrid at 0x1bc8370a430>"
      ]
     },
     "execution_count": 28,
     "metadata": {},
     "output_type": "execute_result"
    },
    {
     "data": {
      "image/png": "[encoded data removed]",
      "text/plain": [
       "<Figure size 768.375x720 with 1 Axes>"
      ]
     },
     "metadata": {
      "needs_background": "light"
     },
     "output_type": "display_data"
    }
   ],
   "source": [
    "sns.catplot(x='surface_cut', y = 'price_aprox_usd', hue='pileta', data = data, kind='box', height = 10)"
   ]
  },
  {
   "cell_type": "code",
   "execution_count": 29,
   "id": "0c49a539-d60d-43bb-8fba-cfd5b4c0d233",
   "metadata": {},
   "outputs": [
    {
     "data": {
      "text/plain": [
       "<seaborn.axisgrid.FacetGrid at 0x1bc87a92280>"
      ]
     },
     "execution_count": 29,
     "metadata": {},
     "output_type": "execute_result"
    },
    {
     "data": {
      "image/png": "[encoded data removed]",
      "text/plain": [
       "<Figure size 768.375x720 with 1 Axes>"
      ]
     },
     "metadata": {
      "needs_background": "light"
     },
     "output_type": "display_data"
    }
   ],
   "source": [
    "sns.catplot(x='surface_cut', y = 'price_aprox_usd', hue='parrilla', data = data, kind='box', height = 10)"
   ]
  }
 ],
 "metadata": {
  "kernelspec": {
   "display_name": "Python 3 (ipykernel)",
   "language": "python",
   "name": "python3"
  },
  "language_info": {
   "codemirror_mode": {
    "name": "ipython",
    "version": 3
   },
   "file_extension": ".py",
   "mimetype": "text/x-python",
   "name": "python",
   "nbconvert_exporter": "python",
   "pygments_lexer": "ipython3",
   "version": "3.9.7"
  }
 },
 "nbformat": 4,
 "nbformat_minor": 5
}
