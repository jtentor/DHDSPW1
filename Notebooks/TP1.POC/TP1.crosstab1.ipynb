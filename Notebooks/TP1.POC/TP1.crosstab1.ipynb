{
 "cells": [
  {
   "cell_type": "markdown",
   "id": "3126c08b",
   "metadata": {},
   "source": [
    "Hace falta algo que indique con qué entorno vamos a trabajar"
   ]
  },
  {
   "cell_type": "markdown",
   "id": "f46f559f",
   "metadata": {},
   "source": [
    "Importar lo que hace falta"
   ]
  },
  {
   "cell_type": "code",
   "execution_count": 1,
   "id": "2a37077d",
   "metadata": {},
   "outputs": [],
   "source": [
    "import pandas as pd\n",
    "import numpy as np\n",
    "import seaborn as sns\n",
    "import re"
   ]
  },
  {
   "cell_type": "code",
   "execution_count": 2,
   "id": "16a6b9c6",
   "metadata": {},
   "outputs": [],
   "source": [
    "data_url = \"../Data/properatti.csv\""
   ]
  },
  {
   "cell_type": "code",
   "execution_count": 3,
   "id": "6083021b",
   "metadata": {},
   "outputs": [],
   "source": [
    "data = pd.read_csv(data_url, encoding=\"utf-8\")"
   ]
  },
  {
   "cell_type": "code",
   "execution_count": 4,
   "id": "48101f89",
   "metadata": {},
   "outputs": [],
   "source": [
    "#limpiamos los que tienen NaN en el precio\n",
    "data = data.dropna(axis=0, how='any', subset=['price_aprox_usd'])"
   ]
  },
  {
   "cell_type": "code",
   "execution_count": 5,
   "id": "319cbfbc",
   "metadata": {},
   "outputs": [],
   "source": [
    "#funcion para borrar outliers.\n",
    "def borrar_outliers(data, columnas):\n",
    "    \"\"\"Solo recibo columnas con valores numericos. \n",
    "    Las columns van en forma de tupla\"\"\"\n",
    "    cols_limpiar = columnas\n",
    "    mask=np.ones(shape=(data.shape[0]), dtype=bool)\n",
    "\n",
    "    for i in cols_limpiar:\n",
    "        \n",
    "        #calculamos cuartiles, y valores de corte\n",
    "        Q1=data[i].quantile(0.25)\n",
    "        Q3=data[i].quantile(0.75)\n",
    "        RSI=Q3-Q1\n",
    "        max_value=Q3+1.5*RSI\n",
    "        min_value=Q1-1.5*RSI\n",
    "        \n",
    "        #ajusto el min value a mano... no puede ser negativo.\n",
    "        min_value=max(min_value, data[i].quantile(0.05))\n",
    "        \n",
    "        #filtramos por max y min\n",
    "        mask=np.logical_and(mask, np.logical_and(data[i]>=min_value, data[i]<=max_value))\n",
    "    return data[mask]"
   ]
  },
  {
   "cell_type": "code",
   "execution_count": 6,
   "id": "3ad620e5",
   "metadata": {},
   "outputs": [],
   "source": [
    "# por ahora sacamos los outliers de precio y metros cubiertos de todo el dataset, habría que hacerlo por zona y tipo\n",
    "\n",
    "data = borrar_outliers(data, ('price_aprox_usd', 'surface_covered_in_m2'))"
   ]
  },
  {
   "cell_type": "markdown",
   "id": "684ba4f3",
   "metadata": {},
   "source": [
    "## Categorizar precio"
   ]
  },
  {
   "cell_type": "code",
   "execution_count": 7,
   "id": "93e64a59",
   "metadata": {},
   "outputs": [],
   "source": [
    "price_desc = data['price_aprox_usd'].describe()"
   ]
  },
  {
   "cell_type": "code",
   "execution_count": 8,
   "id": "f3d13c29",
   "metadata": {},
   "outputs": [
    {
     "data": {
      "text/plain": [
       "count     71285.000000\n",
       "mean     178015.322455\n",
       "std      105479.646428\n",
       "min       53279.490000\n",
       "25%       95237.990000\n",
       "50%      145000.000000\n",
       "75%      235000.000000\n",
       "max      526957.000000\n",
       "Name: price_aprox_usd, dtype: float64"
      ]
     },
     "execution_count": 8,
     "metadata": {},
     "output_type": "execute_result"
    }
   ],
   "source": [
    "price_desc"
   ]
  },
  {
   "cell_type": "code",
   "execution_count": 9,
   "id": "25cf960e",
   "metadata": {},
   "outputs": [],
   "source": [
    "price_bins = round( (price_desc['max'] - price_desc['min']) / 50000 ) "
   ]
  },
  {
   "cell_type": "code",
   "execution_count": 10,
   "id": "4444acce",
   "metadata": {},
   "outputs": [],
   "source": [
    "price_cut = pd.cut(data['price_aprox_usd'], bins = price_bins, right = False, labels = None, retbins = False, precision = 0)"
   ]
  },
  {
   "cell_type": "markdown",
   "id": "f551c857",
   "metadata": {},
   "source": [
    "## Categorizar superficie cubierta"
   ]
  },
  {
   "cell_type": "code",
   "execution_count": 11,
   "id": "67ed1b2a",
   "metadata": {},
   "outputs": [],
   "source": [
    "surface_desc = data['surface_covered_in_m2'].describe()"
   ]
  },
  {
   "cell_type": "code",
   "execution_count": 12,
   "id": "2138da8f",
   "metadata": {},
   "outputs": [
    {
     "data": {
      "text/plain": [
       "count    71285.000000\n",
       "mean        95.697889\n",
       "std         64.493952\n",
       "min         29.000000\n",
       "25%         47.000000\n",
       "50%         71.000000\n",
       "75%        127.000000\n",
       "max        307.000000\n",
       "Name: surface_covered_in_m2, dtype: float64"
      ]
     },
     "execution_count": 12,
     "metadata": {},
     "output_type": "execute_result"
    }
   ],
   "source": [
    "surface_desc"
   ]
  },
  {
   "cell_type": "code",
   "execution_count": 13,
   "id": "27ae7a9d",
   "metadata": {},
   "outputs": [],
   "source": [
    "surface_bins = round( (surface_desc['max'] - surface_desc['min']) / 50 ) "
   ]
  },
  {
   "cell_type": "code",
   "execution_count": 14,
   "id": "142726eb",
   "metadata": {},
   "outputs": [],
   "source": [
    "surface_cut = pd.cut(data['surface_covered_in_m2'], bins = surface_bins, right = False, retbins = False, precision = 0)"
   ]
  },
  {
   "cell_type": "markdown",
   "id": "5b3bb59c",
   "metadata": {},
   "source": [
    "## tabla de contingencia"
   ]
  },
  {
   "cell_type": "code",
   "execution_count": 15,
   "id": "426d93ac",
   "metadata": {},
   "outputs": [
    {
     "data": {
      "text/html": [
       "<div>\n",
       "<style scoped>\n",
       "    .dataframe tbody tr th:only-of-type {\n",
       "        vertical-align: middle;\n",
       "    }\n",
       "\n",
       "    .dataframe tbody tr th {\n",
       "        vertical-align: top;\n",
       "    }\n",
       "\n",
       "    .dataframe thead th {\n",
       "        text-align: right;\n",
       "    }\n",
       "</style>\n",
       "<table border=\"1\" class=\"dataframe\">\n",
       "  <thead>\n",
       "    <tr style=\"text-align: right;\">\n",
       "      <th>surface_covered_in_m2</th>\n",
       "      <th>[29.0, 75.0)</th>\n",
       "      <th>[75.0, 122.0)</th>\n",
       "      <th>[122.0, 168.0)</th>\n",
       "      <th>[168.0, 214.0)</th>\n",
       "      <th>[214.0, 261.0)</th>\n",
       "      <th>[261.0, 307.0)</th>\n",
       "      <th>All</th>\n",
       "    </tr>\n",
       "    <tr>\n",
       "      <th>price_aprox_usd</th>\n",
       "      <th></th>\n",
       "      <th></th>\n",
       "      <th></th>\n",
       "      <th></th>\n",
       "      <th></th>\n",
       "      <th></th>\n",
       "      <th></th>\n",
       "    </tr>\n",
       "  </thead>\n",
       "  <tbody>\n",
       "    <tr>\n",
       "      <th>[53279.0, 105910.0)</th>\n",
       "      <td>0.487640</td>\n",
       "      <td>0.145705</td>\n",
       "      <td>0.071799</td>\n",
       "      <td>0.033408</td>\n",
       "      <td>0.014493</td>\n",
       "      <td>0.017484</td>\n",
       "      <td>0.302406</td>\n",
       "    </tr>\n",
       "    <tr>\n",
       "      <th>[105910.0, 158541.0)</th>\n",
       "      <td>0.317237</td>\n",
       "      <td>0.262228</td>\n",
       "      <td>0.181272</td>\n",
       "      <td>0.088342</td>\n",
       "      <td>0.041017</td>\n",
       "      <td>0.038353</td>\n",
       "      <td>0.252325</td>\n",
       "    </tr>\n",
       "    <tr>\n",
       "      <th>[158541.0, 211172.0)</th>\n",
       "      <td>0.119052</td>\n",
       "      <td>0.211383</td>\n",
       "      <td>0.234098</td>\n",
       "      <td>0.160840</td>\n",
       "      <td>0.098168</td>\n",
       "      <td>0.063170</td>\n",
       "      <td>0.150593</td>\n",
       "    </tr>\n",
       "    <tr>\n",
       "      <th>[211172.0, 263803.0)</th>\n",
       "      <td>0.045334</td>\n",
       "      <td>0.160055</td>\n",
       "      <td>0.180317</td>\n",
       "      <td>0.184949</td>\n",
       "      <td>0.135630</td>\n",
       "      <td>0.106599</td>\n",
       "      <td>0.100063</td>\n",
       "    </tr>\n",
       "    <tr>\n",
       "      <th>[263803.0, 316434.0)</th>\n",
       "      <td>0.013969</td>\n",
       "      <td>0.100034</td>\n",
       "      <td>0.127901</td>\n",
       "      <td>0.182711</td>\n",
       "      <td>0.154498</td>\n",
       "      <td>0.134236</td>\n",
       "      <td>0.067125</td>\n",
       "    </tr>\n",
       "    <tr>\n",
       "      <th>[316434.0, 369064.0)</th>\n",
       "      <td>0.008293</td>\n",
       "      <td>0.057399</td>\n",
       "      <td>0.080945</td>\n",
       "      <td>0.163423</td>\n",
       "      <td>0.188953</td>\n",
       "      <td>0.172025</td>\n",
       "      <td>0.051722</td>\n",
       "    </tr>\n",
       "    <tr>\n",
       "      <th>[369064.0, 421695.0)</th>\n",
       "      <td>0.004552</td>\n",
       "      <td>0.034012</td>\n",
       "      <td>0.057876</td>\n",
       "      <td>0.108145</td>\n",
       "      <td>0.166803</td>\n",
       "      <td>0.197406</td>\n",
       "      <td>0.037582</td>\n",
       "    </tr>\n",
       "    <tr>\n",
       "      <th>[421695.0, 474326.0)</th>\n",
       "      <td>0.002302</td>\n",
       "      <td>0.016212</td>\n",
       "      <td>0.036582</td>\n",
       "      <td>0.047701</td>\n",
       "      <td>0.124419</td>\n",
       "      <td>0.143824</td>\n",
       "      <td>0.022136</td>\n",
       "    </tr>\n",
       "    <tr>\n",
       "      <th>[474326.0, 527431.0)</th>\n",
       "      <td>0.001622</td>\n",
       "      <td>0.012970</td>\n",
       "      <td>0.029211</td>\n",
       "      <td>0.030480</td>\n",
       "      <td>0.076019</td>\n",
       "      <td>0.126904</td>\n",
       "      <td>0.016048</td>\n",
       "    </tr>\n",
       "  </tbody>\n",
       "</table>\n",
       "</div>"
      ],
      "text/plain": [
       "surface_covered_in_m2  [29.0, 75.0)  [75.0, 122.0)  [122.0, 168.0)  \\\n",
       "price_aprox_usd                                                      \n",
       "[53279.0, 105910.0)        0.487640       0.145705        0.071799   \n",
       "[105910.0, 158541.0)       0.317237       0.262228        0.181272   \n",
       "[158541.0, 211172.0)       0.119052       0.211383        0.234098   \n",
       "[211172.0, 263803.0)       0.045334       0.160055        0.180317   \n",
       "[263803.0, 316434.0)       0.013969       0.100034        0.127901   \n",
       "[316434.0, 369064.0)       0.008293       0.057399        0.080945   \n",
       "[369064.0, 421695.0)       0.004552       0.034012        0.057876   \n",
       "[421695.0, 474326.0)       0.002302       0.016212        0.036582   \n",
       "[474326.0, 527431.0)       0.001622       0.012970        0.029211   \n",
       "\n",
       "surface_covered_in_m2  [168.0, 214.0)  [214.0, 261.0)  [261.0, 307.0)  \\\n",
       "price_aprox_usd                                                         \n",
       "[53279.0, 105910.0)          0.033408        0.014493        0.017484   \n",
       "[105910.0, 158541.0)         0.088342        0.041017        0.038353   \n",
       "[158541.0, 211172.0)         0.160840        0.098168        0.063170   \n",
       "[211172.0, 263803.0)         0.184949        0.135630        0.106599   \n",
       "[263803.0, 316434.0)         0.182711        0.154498        0.134236   \n",
       "[316434.0, 369064.0)         0.163423        0.188953        0.172025   \n",
       "[369064.0, 421695.0)         0.108145        0.166803        0.197406   \n",
       "[421695.0, 474326.0)         0.047701        0.124419        0.143824   \n",
       "[474326.0, 527431.0)         0.030480        0.076019        0.126904   \n",
       "\n",
       "surface_covered_in_m2       All  \n",
       "price_aprox_usd                  \n",
       "[53279.0, 105910.0)    0.302406  \n",
       "[105910.0, 158541.0)   0.252325  \n",
       "[158541.0, 211172.0)   0.150593  \n",
       "[211172.0, 263803.0)   0.100063  \n",
       "[263803.0, 316434.0)   0.067125  \n",
       "[316434.0, 369064.0)   0.051722  \n",
       "[369064.0, 421695.0)   0.037582  \n",
       "[421695.0, 474326.0)   0.022136  \n",
       "[474326.0, 527431.0)   0.016048  "
      ]
     },
     "execution_count": 15,
     "metadata": {},
     "output_type": "execute_result"
    }
   ],
   "source": [
    "pd.crosstab(index = price_cut, columns = surface_cut, margins = True, dropna = True, normalize = 'columns')"
   ]
  },
  {
   "cell_type": "markdown",
   "id": "3e55bbbc",
   "metadata": {},
   "source": [
    "### Existe una importate asociación entre el precio en dólares y la superficie cubierta"
   ]
  },
  {
   "cell_type": "code",
   "execution_count": null,
   "id": "3e62a299",
   "metadata": {},
   "outputs": [],
   "source": []
  }
 ],
 "metadata": {
  "kernelspec": {
   "display_name": "Python 3 (ipykernel)",
   "language": "python",
   "name": "python3"
  },
  "language_info": {
   "codemirror_mode": {
    "name": "ipython",
    "version": 3
   },
   "file_extension": ".py",
   "mimetype": "text/x-python",
   "name": "python",
   "nbconvert_exporter": "python",
   "pygments_lexer": "ipython3",
   "version": "3.8.12"
  }
 },
 "nbformat": 4,
 "nbformat_minor": 5
}
