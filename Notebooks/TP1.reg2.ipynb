{
 "cells": [
  {
   "cell_type": "markdown",
   "id": "040d7880",
   "metadata": {},
   "source": [
    "Hace falta algo que indique con qué entorno vamos a trabajar"
   ]
  },
  {
   "cell_type": "markdown",
   "id": "39689966",
   "metadata": {},
   "source": [
    "Importar lo que hace falta"
   ]
  },
  {
   "cell_type": "code",
   "execution_count": 1,
   "id": "10b2b382",
   "metadata": {},
   "outputs": [],
   "source": [
    "import pandas as pd\n",
    "import numpy as np\n",
    "import seaborn as sns\n",
    "import re"
   ]
  },
  {
   "cell_type": "code",
   "execution_count": 2,
   "id": "40ce0a09",
   "metadata": {},
   "outputs": [],
   "source": [
    "data_url = \"../Data/properatti.csv\""
   ]
  },
  {
   "cell_type": "code",
   "execution_count": 3,
   "id": "5f973a41",
   "metadata": {},
   "outputs": [],
   "source": [
    "data = pd.read_csv(data_url, encoding=\"utf-8\")"
   ]
  },
  {
   "cell_type": "code",
   "execution_count": 4,
   "id": "6eb675fd",
   "metadata": {},
   "outputs": [],
   "source": [
    "#limpiamos los que NaN en el precio\n",
    "data = data.dropna(axis=0, how='any', subset=['price_aprox_usd'])"
   ]
  },
  {
   "cell_type": "code",
   "execution_count": 5,
   "id": "99d683eb",
   "metadata": {},
   "outputs": [],
   "source": [
    "#funcion para borrar outliers.\n",
    "def borrar_outliers(data, columnas):\n",
    "    \"\"\"Solo recibo columnas con valores numericos. \n",
    "    Las columns van en forma de tupla\"\"\"\n",
    "    cols_limpiar = columnas\n",
    "    mask=np.ones(shape=(data.shape[0]), dtype=bool)\n",
    "\n",
    "    for i in cols_limpiar:\n",
    "        \n",
    "        #calculamos cuartiles, y valores de corte\n",
    "        Q1=data[i].quantile(0.25)\n",
    "        Q3=data[i].quantile(0.75)\n",
    "        RSI=Q3-Q1\n",
    "        max_value=Q3+1.5*RSI\n",
    "        min_value=Q1-1.5*RSI\n",
    "        \n",
    "        #ajusto el min value a mano... no puede ser negativo.\n",
    "        min_value=10\n",
    "        \n",
    "        #filtramos por max y min\n",
    "        mask=np.logical_and(mask, np.logical_and(data[i]>=min_value, data[i]<=max_value))\n",
    "    return data[mask]"
   ]
  },
  {
   "cell_type": "code",
   "execution_count": 6,
   "id": "3e4416df",
   "metadata": {},
   "outputs": [],
   "source": [
    "def regex_to_bool(col, reg) :\n",
    "    u\"\"\"Returns a series with boolean mask result of apply the regular expresion to the column\n",
    "    col : column where to apply regular expresion\n",
    "    reg : regular expresion compiled\n",
    "    \"\"\"\n",
    "    \n",
    "    serie = col.apply(lambda x : x if x is np.NaN else reg.search(x))\n",
    "    serie = serie.apply(lambda x : x is not None)\n",
    "   \n",
    "    return serie"
   ]
  },
  {
   "cell_type": "code",
   "execution_count": 7,
   "id": "efe6a616",
   "metadata": {},
   "outputs": [],
   "source": [
    "def regex_to_ones(col, reg, fill = 0) :\n",
    "    u\"\"\"Returns a series with ones or other value result of apply the regular expresion to the column\n",
    "    the value of one will be when the regular expression search() method found a match\n",
    "    the fill value (default to 0) will be when the regular expression serach() method did not found a match\n",
    "    col : column where to apply regular expresion\n",
    "    reg : regular expresion compiled\n",
    "    \"\"\"\n",
    "    \n",
    "    serie = col.apply(lambda x : x if x is np.NaN else reg.search(x))\n",
    "    serie = serie.apply(lambda x : 1 if x is not None else fill)\n",
    "   \n",
    "    return serie"
   ]
  },
  {
   "cell_type": "code",
   "execution_count": 8,
   "id": "7146cf49",
   "metadata": {},
   "outputs": [],
   "source": [
    "_pattern = 'cochera|garage|auto'\n",
    "_express = re.compile(_pattern, flags = re.IGNORECASE)\n",
    "\n",
    "work = regex_to_ones(data['description'], _express)\n",
    "data['cochera'] = work"
   ]
  },
  {
   "cell_type": "code",
   "execution_count": 9,
   "id": "3f9e94d9",
   "metadata": {},
   "outputs": [],
   "source": [
    "_pattern = 'piscina|pileta'\n",
    "_express = re.compile(_pattern, flags = re.IGNORECASE)\n",
    "\n",
    "work = regex_to_ones(data['description'], _express)\n",
    "data['pileta'] = work"
   ]
  },
  {
   "cell_type": "code",
   "execution_count": 10,
   "id": "015c086d",
   "metadata": {},
   "outputs": [],
   "source": [
    "_pattern = 'parrilla'\n",
    "_express = re.compile(_pattern, flags = re.IGNORECASE)\n",
    "\n",
    "work = regex_to_ones(data['description'], _express)\n",
    "data['parrilla'] = work"
   ]
  },
  {
   "cell_type": "code",
   "execution_count": 11,
   "id": "22a3e9f5",
   "metadata": {},
   "outputs": [],
   "source": [
    "_pattern = 'balcon'\n",
    "_express = re.compile(_pattern, flags = re.IGNORECASE)\n",
    "\n",
    "work = regex_to_ones(data['description'], _express)\n",
    "data['balcon'] = work"
   ]
  },
  {
   "cell_type": "code",
   "execution_count": 18,
   "id": "864d9705",
   "metadata": {},
   "outputs": [],
   "source": [
    "# Crear una categoría númerica (en base 2) de acuerdo a los valores individuales (es dependiente de la posición)\n",
    "\n",
    "data['amenities'] = data['cochera']*8 + data['pileta']*4 + data['parrilla']*2 + data['balcon']"
   ]
  },
  {
   "cell_type": "code",
   "execution_count": 19,
   "id": "744c9312",
   "metadata": {},
   "outputs": [
    {
     "data": {
      "text/html": [
       "<div>\n",
       "<style scoped>\n",
       "    .dataframe tbody tr th:only-of-type {\n",
       "        vertical-align: middle;\n",
       "    }\n",
       "\n",
       "    .dataframe tbody tr th {\n",
       "        vertical-align: top;\n",
       "    }\n",
       "\n",
       "    .dataframe thead th {\n",
       "        text-align: right;\n",
       "    }\n",
       "</style>\n",
       "<table border=\"1\" class=\"dataframe\">\n",
       "  <thead>\n",
       "    <tr style=\"text-align: right;\">\n",
       "      <th></th>\n",
       "      <th>cochera</th>\n",
       "      <th>pileta</th>\n",
       "      <th>parrilla</th>\n",
       "      <th>balcon</th>\n",
       "      <th>amenities</th>\n",
       "    </tr>\n",
       "  </thead>\n",
       "  <tbody>\n",
       "    <tr>\n",
       "      <th>0</th>\n",
       "      <td>0</td>\n",
       "      <td>0</td>\n",
       "      <td>0</td>\n",
       "      <td>0</td>\n",
       "      <td>0</td>\n",
       "    </tr>\n",
       "    <tr>\n",
       "      <th>1</th>\n",
       "      <td>1</td>\n",
       "      <td>0</td>\n",
       "      <td>0</td>\n",
       "      <td>0</td>\n",
       "      <td>8</td>\n",
       "    </tr>\n",
       "    <tr>\n",
       "      <th>2</th>\n",
       "      <td>0</td>\n",
       "      <td>0</td>\n",
       "      <td>0</td>\n",
       "      <td>0</td>\n",
       "      <td>0</td>\n",
       "    </tr>\n",
       "    <tr>\n",
       "      <th>3</th>\n",
       "      <td>0</td>\n",
       "      <td>0</td>\n",
       "      <td>0</td>\n",
       "      <td>0</td>\n",
       "      <td>0</td>\n",
       "    </tr>\n",
       "    <tr>\n",
       "      <th>4</th>\n",
       "      <td>0</td>\n",
       "      <td>0</td>\n",
       "      <td>0</td>\n",
       "      <td>0</td>\n",
       "      <td>0</td>\n",
       "    </tr>\n",
       "    <tr>\n",
       "      <th>...</th>\n",
       "      <td>...</td>\n",
       "      <td>...</td>\n",
       "      <td>...</td>\n",
       "      <td>...</td>\n",
       "      <td>...</td>\n",
       "    </tr>\n",
       "    <tr>\n",
       "      <th>121215</th>\n",
       "      <td>1</td>\n",
       "      <td>1</td>\n",
       "      <td>1</td>\n",
       "      <td>0</td>\n",
       "      <td>14</td>\n",
       "    </tr>\n",
       "    <tr>\n",
       "      <th>121216</th>\n",
       "      <td>1</td>\n",
       "      <td>1</td>\n",
       "      <td>1</td>\n",
       "      <td>0</td>\n",
       "      <td>14</td>\n",
       "    </tr>\n",
       "    <tr>\n",
       "      <th>121217</th>\n",
       "      <td>1</td>\n",
       "      <td>0</td>\n",
       "      <td>1</td>\n",
       "      <td>1</td>\n",
       "      <td>11</td>\n",
       "    </tr>\n",
       "    <tr>\n",
       "      <th>121218</th>\n",
       "      <td>0</td>\n",
       "      <td>0</td>\n",
       "      <td>0</td>\n",
       "      <td>0</td>\n",
       "      <td>0</td>\n",
       "    </tr>\n",
       "    <tr>\n",
       "      <th>121219</th>\n",
       "      <td>0</td>\n",
       "      <td>0</td>\n",
       "      <td>0</td>\n",
       "      <td>0</td>\n",
       "      <td>0</td>\n",
       "    </tr>\n",
       "  </tbody>\n",
       "</table>\n",
       "<p>100810 rows × 5 columns</p>\n",
       "</div>"
      ],
      "text/plain": [
       "        cochera  pileta  parrilla  balcon  amenities\n",
       "0             0       0         0       0          0\n",
       "1             1       0         0       0          8\n",
       "2             0       0         0       0          0\n",
       "3             0       0         0       0          0\n",
       "4             0       0         0       0          0\n",
       "...         ...     ...       ...     ...        ...\n",
       "121215        1       1         1       0         14\n",
       "121216        1       1         1       0         14\n",
       "121217        1       0         1       1         11\n",
       "121218        0       0         0       0          0\n",
       "121219        0       0         0       0          0\n",
       "\n",
       "[100810 rows x 5 columns]"
      ]
     },
     "execution_count": 19,
     "metadata": {},
     "output_type": "execute_result"
    }
   ],
   "source": [
    "data[['cochera', 'pileta', 'parrilla', 'balcon', 'amenities']]"
   ]
  },
  {
   "cell_type": "code",
   "execution_count": 14,
   "id": "62ddaa7c",
   "metadata": {},
   "outputs": [
    {
     "data": {
      "text/plain": [
       "count    100810.000000\n",
       "mean          5.692749\n",
       "std           5.160266\n",
       "min           0.000000\n",
       "25%           0.000000\n",
       "50%           6.000000\n",
       "75%          10.000000\n",
       "max          15.000000\n",
       "Name: amenities, dtype: float64"
      ]
     },
     "execution_count": 14,
     "metadata": {},
     "output_type": "execute_result"
    }
   ],
   "source": [
    "data['amenities'].describe()"
   ]
  },
  {
   "cell_type": "code",
   "execution_count": 15,
   "id": "3a3ca00e",
   "metadata": {},
   "outputs": [
    {
     "data": {
      "text/plain": [
       "0     33437\n",
       "8     18248\n",
       "14     9069\n",
       "10     7092\n",
       "12     6101\n",
       "2      4777\n",
       "6      4366\n",
       "1      4239\n",
       "9      3412\n",
       "4      3354\n",
       "15     2010\n",
       "13     1464\n",
       "11     1349\n",
       "3       869\n",
       "5       549\n",
       "7       474\n",
       "Name: amenities, dtype: int64"
      ]
     },
     "execution_count": 15,
     "metadata": {},
     "output_type": "execute_result"
    }
   ],
   "source": [
    "data['amenities'].value_counts()"
   ]
  }
 ],
 "metadata": {
  "kernelspec": {
   "display_name": "Python 3 (ipykernel)",
   "language": "python",
   "name": "python3"
  },
  "language_info": {
   "codemirror_mode": {
    "name": "ipython",
    "version": 3
   },
   "file_extension": ".py",
   "mimetype": "text/x-python",
   "name": "python",
   "nbconvert_exporter": "python",
   "pygments_lexer": "ipython3",
   "version": "3.9.7"
  }
 },
 "nbformat": 4,
 "nbformat_minor": 5
}
